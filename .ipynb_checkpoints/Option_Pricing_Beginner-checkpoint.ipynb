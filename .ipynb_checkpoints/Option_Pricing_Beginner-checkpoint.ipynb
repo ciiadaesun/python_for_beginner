{
 "cells": [
  {
   "cell_type": "markdown",
   "metadata": {},
   "source": [
    " #### option pricing method"
   ]
  },
  {
   "cell_type": "code",
   "execution_count": null,
   "metadata": {},
   "outputs": [],
   "source": [
    "import numpy as np\n",
    "import pandas as pd\n",
    "import matplotlib.pyplot as plt\n",
    "import datetime as dt\n",
    "import scipy.stats as sts\n",
    "from scipy.optimize import root"
   ]
  },
  {
   "cell_type": "markdown",
   "metadata": {},
   "source": [
    " ### Variables Setting"
   ]
  },
  {
   "cell_type": "code",
   "execution_count": null,
   "metadata": {},
   "outputs": [],
   "source": [
    "S = 100\n",
    "K = 95\n",
    "T = 0.5\n",
    "div = 0\n",
    "sigma = 0.2\n",
    "r = 0.03\n",
    "N = 5 ## Binomial Tree Node Number\n",
    "Sim_num = 10000 ## Monte Carlo Simulation Number"
   ]
  },
  {
   "cell_type": "markdown",
   "metadata": {},
   "source": [
    " # Plain Vanila"
   ]
  },
  {
   "cell_type": "markdown",
   "metadata": {},
   "source": [
    " ## 1. Black Scholes Model"
   ]
  },
  {
   "cell_type": "code",
   "execution_count": null,
   "metadata": {},
   "outputs": [],
   "source": [
    "def BS_call(S, K, T, r, sigma, div = 0):\n",
    "    d1 = (np.log(S / K) + (r -div + 0.5 * sigma ** 2) * T) / (sigma * np.sqrt(T))\n",
    "    d2 = d1 - sigma * np.sqrt(T)\n",
    "    call = (S * np.exp(-div * T) * sts.norm.cdf(d1, 0.0, 1.0) - K * np.exp(-r * T) * sts.norm.cdf(d2, 0.0, 1.0))\n",
    "    return call\n",
    "\n",
    "def BS_put(S, K, T, r, sigma, div = 0):\n",
    "    d1 = (np.log(S / K) + (r -div + 0.5 * sigma ** 2) * T) / (sigma * np.sqrt(T))\n",
    "    d2 = d1 - sigma*np.sqrt(T)\n",
    "    put = (K * np.exp(-r * T) * sts.norm.cdf(-d2, 0.0, 1.0) - S * np.exp(-div * T ) *sts.norm.cdf(-d1, 0.0, 1.0))\n",
    "    return put"
   ]
  },
  {
   "cell_type": "code",
   "execution_count": null,
   "metadata": {},
   "outputs": [],
   "source": [
    "call = BS_call( S, K, T, r , sigma,div)\n",
    "call"
   ]
  },
  {
   "cell_type": "code",
   "execution_count": null,
   "metadata": {},
   "outputs": [],
   "source": [
    "put = BS_put(S,K,T,r,sigma,div)\n",
    "put"
   ]
  },
  {
   "cell_type": "markdown",
   "metadata": {},
   "source": [
    " ## 2. Monte Carlo Simulation"
   ]
  },
  {
   "cell_type": "markdown",
   "metadata": {},
   "source": [
    "$$\n",
    "\\begin{array}{c}\n",
    " S_{T} = S_{0} e^{(r-\\frac{\\sigma^2}{2})T + \\sigma \\sqrt{T} \\epsilon}\n",
    "\\end{array}\n",
    "$$\n",
    "\\\n",
    "$$\n",
    "\\begin{array}{c}\n",
    " C = e^{-rT} \\hat{E}[ \\ max(S_T - K , 0 )]\n",
    "\\end{array}\n",
    "$$"
   ]
  },
  {
   "cell_type": "code",
   "execution_count": null,
   "metadata": {},
   "outputs": [],
   "source": [
    "def MC_call(S, K, T, r, sigma , div = 0, Sim_num = 10000) :\n",
    "    e = np.random.normal(0,1,size = Sim_num)\n",
    "    simul_S = S * np.exp((r-div-0.5*sigma**2)*T + sigma * np.sqrt(T) * e)\n",
    "    Payoff = np.maximum(simul_S - K ,0)\n",
    "    Discount_Payoff = np.exp(-r * T) * Payoff\n",
    "    C = Discount_Payoff.mean()\n",
    "    return C\n",
    "\n",
    "def MC_put(S, K, T, r, sigma , div = 0, Sim_num = 10000) :\n",
    "    e = np.random.normal(0,1,size = Sim_num)\n",
    "    simul_S = S * np.exp((r-div-0.5*sigma**2)*T + sigma * np.sqrt(T) * e)\n",
    "    Payoff = np.maximum( K-simul_S ,0)\n",
    "    Discount_Payoff = np.exp(-r * T) * Payoff\n",
    "    P = Discount_Payoff.mean()\n",
    "    return P\n"
   ]
  },
  {
   "cell_type": "code",
   "execution_count": null,
   "metadata": {},
   "outputs": [],
   "source": [
    "call2 = MC_call(S , K, T, r , sigma, div, Sim_num)\n",
    "call2"
   ]
  },
  {
   "cell_type": "code",
   "execution_count": null,
   "metadata": {},
   "outputs": [],
   "source": [
    "put2 = MC_put(S , K, T, r , sigma, div, Sim_num)\n",
    "put2"
   ]
  },
  {
   "cell_type": "markdown",
   "metadata": {},
   "source": [
    " ## 3. Binomial Option Pricing"
   ]
  },
  {
   "cell_type": "markdown",
   "metadata": {},
   "source": [
    "$$\n",
    "\\begin{array}{c}\n",
    " u = e^{\\sigma \\sqrt{\\Delta t}} \\ , \\ d = \\frac{1}{u} , \\ p = \\frac{e^{(r-\\delta ) \\Delta t} - d}{u-d}\n",
    "\\end{array}\n",
    "$$\n"
   ]
  },
  {
   "cell_type": "code",
   "execution_count": null,
   "metadata": {},
   "outputs": [],
   "source": [
    "def UDP(r,div,sigma, T, N) :\n",
    "    DeltaT = T/N\n",
    "    u = np.exp(sigma * np.sqrt(DeltaT))\n",
    "    d = 1/u\n",
    "    p = (np.exp((r-div) * DeltaT) - d)/(u-d)\n",
    "    return u, d, p"
   ]
  },
  {
   "cell_type": "code",
   "execution_count": null,
   "metadata": {},
   "outputs": [],
   "source": [
    "u,  d, p = UDP(r, div, sigma, T, N)"
   ]
  },
  {
   "cell_type": "code",
   "execution_count": null,
   "metadata": {},
   "outputs": [],
   "source": [
    "def S_Tree(S, N, u, d) :\n",
    "    Temp = np.ones((N+1,N+1))\n",
    "    Temp[:,0] = 0\n",
    "    Temp1 = Temp.cumsum(1)\n",
    "    Te = Temp.copy()\n",
    "    Te[0,:] = 0\n",
    "    num_u = np.triu(Temp1 - Te.cumsum(0))\n",
    "    num_d = np.triu(Temp1 - num_u)\n",
    "    Tree = (S * np.triu(u**num_u * d ** num_d))\n",
    "    return Tree"
   ]
  },
  {
   "cell_type": "markdown",
   "metadata": {},
   "source": [
    " ### Make Underlying Tree"
   ]
  },
  {
   "cell_type": "code",
   "execution_count": null,
   "metadata": {
    "scrolled": true
   },
   "outputs": [],
   "source": [
    "pd.DataFrame(S_Tree(S,N, u, d))"
   ]
  },
  {
   "cell_type": "markdown",
   "metadata": {},
   "source": [
    " ### Make Payoff Tree"
   ]
  },
  {
   "cell_type": "code",
   "execution_count": null,
   "metadata": {},
   "outputs": [],
   "source": [
    "Payoff_Tree = np.maximum(S_Tree(S,N,u,d) - K, 0)[:,-1:]\n",
    "pd.DataFrame(Payoff_Tree, columns = ['Call_Payoff'])"
   ]
  },
  {
   "cell_type": "code",
   "execution_count": null,
   "metadata": {},
   "outputs": [],
   "source": [
    "def BN_call(S ,K ,T, r, sigma , div, N) :\n",
    "    u,  d, p = UDP(r, div, sigma, T, N)\n",
    "    Payoff_Tree = np.maximum(S_Tree(S,N,u,d) - K, 0)[:,-1:]\n",
    "    Temp = np.ones((N+1,1))\n",
    "    Temp[0] = 0\n",
    "    Number_of_u = Temp.cumsum(0).astype(np.int64)[::-1]\n",
    "    Weighted_Discount_Payoff = np.exp(-r*T) * ( Payoff_Tree * sts.binom.pmf(Number_of_u,N,p) )\n",
    "    C = Weighted_Discount_Payoff.sum()    \n",
    "    return C\n",
    "\n",
    "def BN_put(S, K, T, r, sigma, div, N) :\n",
    "    u,  d, p = UDP(r, div, sigma, T, N)\n",
    "    Payoff_Tree = np.maximum( K - S_Tree(S,N,u,d), 0)[:,-1:]\n",
    "    Temp = np.ones((N+1,1))\n",
    "    Temp[0] = 0\n",
    "    Number_of_u = Temp.cumsum(0).astype(np.int64)[::-1]\n",
    "    Weighted_Discount_Payoff = np.exp(-r*T) * ( Payoff_Tree * sts.binom.pmf(Number_of_u,N,p) )\n",
    "    P = Weighted_Discount_Payoff.sum()    \n",
    "    return P"
   ]
  },
  {
   "cell_type": "code",
   "execution_count": null,
   "metadata": {},
   "outputs": [],
   "source": [
    "call3 = BN_call(S,K,T,r,sigma,div,N)\n",
    "call3"
   ]
  },
  {
   "cell_type": "code",
   "execution_count": null,
   "metadata": {
    "scrolled": false
   },
   "outputs": [],
   "source": [
    "put3 = BN_put(S,K,T,r,sigma,div,N)\n",
    "put3"
   ]
  },
  {
   "cell_type": "markdown",
   "metadata": {},
   "source": [
    " # Implied Volatility "
   ]
  },
  {
   "cell_type": "markdown",
   "metadata": {},
   "source": [
    " ## 1. Black Scholes"
   ]
  },
  {
   "cell_type": "code",
   "execution_count": null,
   "metadata": {},
   "outputs": [],
   "source": [
    "def BS_call_IV(S,K,T,r,div,C) :\n",
    "    def fun(x , S, K , T, r, div , P) :\n",
    "        return BS_call(S,K,T,r,x,div)- P\n",
    "    x0 = 0.5\n",
    "    x = root(fun, x0, args = (S, K, T, r, div, C))\n",
    "    return x.x\n",
    "\n",
    "def BS_put_IV(S,K,T,r,div,P) :\n",
    "    def fun(x,S,K,T,r,div,Price) :\n",
    "        return BS_put(S,K,T,r,x,div) - Price\n",
    "    x0 = 0.5\n",
    "    x = root(fun, x0, args = (S, K, T, r, div, P))\n",
    "    return x.x"
   ]
  },
  {
   "cell_type": "code",
   "execution_count": null,
   "metadata": {},
   "outputs": [],
   "source": [
    "BS_call_IV(S ,K,T,r,div, C = call)"
   ]
  },
  {
   "cell_type": "code",
   "execution_count": null,
   "metadata": {
    "scrolled": true
   },
   "outputs": [],
   "source": [
    "BS_put_IV(S ,K,T,r,div, P = put)"
   ]
  },
  {
   "cell_type": "markdown",
   "metadata": {},
   "source": [
    " ## 2. Binomial"
   ]
  },
  {
   "cell_type": "code",
   "execution_count": null,
   "metadata": {},
   "outputs": [],
   "source": [
    "def BN_call_IV(S,K,T,r,div,C,N) :\n",
    "    def fun(x , S, K , T, r, div , N,P) :\n",
    "        return BN_call(S,K,T,r,x,div,N)- P\n",
    "    x0 = 0.5\n",
    "    x = root(fun, x0, args = (S, K, T, r, div,N, C))\n",
    "    return x.x\n",
    "\n",
    "def BN_put_IV(S,K,T,r,div,P,N) :\n",
    "    def fun(x,S,K,T,r,div,N,Price) :\n",
    "        return BN_put(S,K,T,r,x,div,N) - Price\n",
    "    x0 = 0.5\n",
    "    x = root(fun, x0, args = (S, K, T, r, div,N, P))\n",
    "    return x.x"
   ]
  },
  {
   "cell_type": "code",
   "execution_count": null,
   "metadata": {},
   "outputs": [],
   "source": [
    "BN_call_IV(S ,K,T,r,div, C = call3, N = N)"
   ]
  },
  {
   "cell_type": "code",
   "execution_count": null,
   "metadata": {},
   "outputs": [],
   "source": [
    "BN_put_IV(S ,K,T,r,div, P = put3, N = N)"
   ]
  },
  {
   "cell_type": "markdown",
   "metadata": {},
   "source": [
    " # 연습문제\n",
    " \n",
    " ### 문제 1-1. 만기의 주가가 K 보다 큰 경우 1을 주고 그렇지 않은 경우 0을 주는 binary 콜옵션의 Black Scholes 가격을 구하는 함수를 만드시오.\n",
    " \n",
    " ### 문제 1-2. 만기의 주가가 K 보다 작은 경우 1을 주고 그렇지 않은 경우 0을 주는 binary 풋옵션의 Black Scholes 가격을 구하는 함수를 만드시오."
   ]
  },
  {
   "cell_type": "code",
   "execution_count": null,
   "metadata": {},
   "outputs": [],
   "source": [
    "def BS_binary_call(S,K,T,r,sigma,div) :\n",
    "    #############################\n",
    "    ##풀이과정을 여기에 쓰세요 ##\n",
    "    #############################\n",
    "\n",
    "\n",
    "    #############################\n",
    "    return \n",
    "\n",
    "def BS_binary_put(S,K,T,r,sigma,div) :\n",
    "    #############################\n",
    "    ##풀이과정을 여기에 쓰세요 ##\n",
    "    #############################\n",
    "\n",
    "\n",
    "    #############################\n",
    "    return "
   ]
  },
  {
   "cell_type": "code",
   "execution_count": 25,
   "metadata": {},
   "outputs": [
    {
     "data": {
      "text/plain": [
       "0.6449574164253773"
      ]
     },
     "execution_count": 25,
     "metadata": {},
     "output_type": "execute_result"
    }
   ],
   "source": [
    "#bs_binary_c  = BS_binary_call(S,K,T,r,sigma,div) \n",
    "#bs_binary_c"
   ]
  },
  {
   "cell_type": "code",
   "execution_count": 26,
   "metadata": {},
   "outputs": [
    {
     "data": {
      "text/plain": [
       "0.3401545231776853"
      ]
     },
     "execution_count": 26,
     "metadata": {},
     "output_type": "execute_result"
    }
   ],
   "source": [
    "#bs_binary_p = BS_binary_put(S,K,T,r,sigma,div)\n",
    "#bs_binary_p"
   ]
  },
  {
   "cell_type": "markdown",
   "metadata": {},
   "source": [
    " ### 문제 2-1. 만기의 주가가 K 보다 큰 경우 1을 주고 그렇지 않은 경우 0을 주는 binary 콜옵션의 이항모형 가격을 구하는 함수를 만드시오.\n",
    " \n",
    " ### 문제 2-2. 만기의 주가가 K 보다 작은 경우 1을 주고 그렇지 않은 경우 0을 주는 binary 풋옵션의 이항모형 가격을 구하는 함수를 만드시오."
   ]
  },
  {
   "cell_type": "code",
   "execution_count": null,
   "metadata": {},
   "outputs": [],
   "source": [
    "def BN_binary_call(S,K,T,r,sigma,div) :\n",
    "    #############################\n",
    "    ##풀이과정을 여기에 쓰세요 ##\n",
    "    #############################\n",
    "\n",
    "\n",
    "    #############################\n",
    "    return \n",
    "\n",
    "def BN_binary_put(S,K,T,r,sigma,div) :\n",
    "    #############################\n",
    "    ##풀이과정을 여기에 쓰세요 ##\n",
    "    #############################\n",
    "\n",
    "\n",
    "    #############################\n",
    "    return "
   ]
  },
  {
   "cell_type": "code",
   "execution_count": 29,
   "metadata": {},
   "outputs": [
    {
     "data": {
      "text/plain": [
       "0.6416003497701392"
      ]
     },
     "execution_count": 29,
     "metadata": {},
     "output_type": "execute_result"
    }
   ],
   "source": [
    "#bn_binary_call = BN_binary_call(S,K,T,r,sigma,div,N = 200)\n",
    "#bn_binary_call"
   ]
  },
  {
   "cell_type": "code",
   "execution_count": 30,
   "metadata": {},
   "outputs": [
    {
     "data": {
      "text/plain": [
       "0.34351158983292696"
      ]
     },
     "execution_count": 30,
     "metadata": {},
     "output_type": "execute_result"
    }
   ],
   "source": [
    "#bn_binary_put = BN_binary_put(S,K,T,r,sigma,div,N = 200)\n",
    "#bn_binary_put"
   ]
  },
  {
   "cell_type": "markdown",
   "metadata": {},
   "source": [
    "  ### 문제 3. 유러피안 배리어 콜옵션(down-and-out, B> K)의 closed form 가격은 다음과 같다. 이를 계산해주는 함수를 만드시오.\n",
    "  \\\n",
    "$$\n",
    "\\begin{array}{c}\n",
    "C_{down-and-out} = S e^{-\\delta T} N(d_1 ) - K e^{-rT} N(d_2) - (\\frac{B}{S})^{1+2(r-\\delta)/\\sigma^2} - S e^{-\\delta T} N(h_1 ) + (\\frac{B}{S})^{-1+2(r-\\delta )/\\sigma^2} Ke^{-rT} N(h_2 )\n",
    "\\\\\n",
    "h_1 = \\frac{ ln(\\frac{B^2}{KS})+(r-\\delta + 0.5 \\sigma^2)T }{\\sigma \\sqrt{T} }\n",
    "\\\\\n",
    "h_2 = h_1 - \\sigma \\sqrt{T}\n",
    "\\end{array}\n",
    "$$  "
   ]
  },
  {
   "cell_type": "code",
   "execution_count": 31,
   "metadata": {},
   "outputs": [],
   "source": [
    "def BS_call_down_and_out(S,K,T,r,sigma,div,Barrier = 0.9) :\n",
    "    #############################\n",
    "    ##풀이과정을 여기에 쓰세요 ##\n",
    "    #############################\n",
    "\n",
    "\n",
    "    #############################\n",
    "    return "
   ]
  },
  {
   "cell_type": "code",
   "execution_count": 33,
   "metadata": {
    "scrolled": true
   },
   "outputs": [
    {
     "data": {
      "text/plain": [
       "3.8243083263535738"
      ]
     },
     "execution_count": 33,
     "metadata": {},
     "output_type": "execute_result"
    }
   ],
   "source": [
    "#BS_call_down_and_out(S,K,T,r,sigma,div,Barrier = 0.97)"
   ]
  },
  {
   "cell_type": "markdown",
   "metadata": {},
   "source": [
    " ### 문제 4. A 주식과 B 주식은 모두 100원에 거래되며 변동성은 각각 20%, 30% 이며, 수익률의 상관계수는 0.57이다. 만기에 다음과 같은 Payoff를 지급하는 옵션의 가치를 계산하는 함수를 만드시오. 변수는 S1, S2, K, T, r, sigma1, sigma2, corr,div1, div2, simul_num을 받으시오. \\begin{array}{c} (S_A ,\\ S_B 는 \\ 각각 \\ 만기의 \\ A주식과 \\ B주식의 \\ 가치이다.) \\end{array}\n",
    " \n",
    "$$\n",
    "\\begin{array}{c}\n",
    "Payoff = max(\\sqrt{S_A\\bullet S_B} - K , 0)\n",
    "\\end{array}\n",
    "$$  "
   ]
  },
  {
   "cell_type": "code",
   "execution_count": 34,
   "metadata": {},
   "outputs": [],
   "source": [
    "def customized_option(S1,S2,K,T,r,sigma1,sigma2,corr,div1,div2,Sim_num = 10000) :    \n",
    "    #############################\n",
    "    ##풀이과정을 여기에 쓰세요 ##\n",
    "    #############################\n",
    "\n",
    "\n",
    "    #############################    \n",
    "    return "
   ]
  },
  {
   "cell_type": "code",
   "execution_count": 36,
   "metadata": {
    "scrolled": false
   },
   "outputs": [
    {
     "data": {
      "text/plain": [
       "9.63600532124204"
      ]
     },
     "execution_count": 36,
     "metadata": {},
     "output_type": "execute_result"
    }
   ],
   "source": [
    "#customized_option(100,100,95,T,sigma1 = 0.2, sigma2 = 0.3, div1 = 0, div2 = 0, r = r , corr = 0.57)"
   ]
  },
  {
   "cell_type": "code",
   "execution_count": null,
   "metadata": {},
   "outputs": [],
   "source": []
  }
 ],
 "metadata": {
  "kernelspec": {
   "display_name": "Python 3",
   "language": "python",
   "name": "python3"
  },
  "language_info": {
   "codemirror_mode": {
    "name": "ipython",
    "version": 3
   },
   "file_extension": ".py",
   "mimetype": "text/x-python",
   "name": "python",
   "nbconvert_exporter": "python",
   "pygments_lexer": "ipython3",
   "version": "3.8.5"
  }
 },
 "nbformat": 4,
 "nbformat_minor": 4
}
