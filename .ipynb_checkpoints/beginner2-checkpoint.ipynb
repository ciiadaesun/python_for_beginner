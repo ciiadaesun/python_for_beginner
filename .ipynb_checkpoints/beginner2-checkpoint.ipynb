{
 "cells": [
  {
   "cell_type": "code",
   "execution_count": null,
   "metadata": {},
   "outputs": [],
   "source": [
    "import numpy as np"
   ]
  },
  {
   "cell_type": "code",
   "execution_count": null,
   "metadata": {},
   "outputs": [],
   "source": [
    "while True :\n",
    "    x = 1"
   ]
  },
  {
   "cell_type": "markdown",
   "metadata": {},
   "source": [
    " ## 1. loop and conditioning"
   ]
  },
  {
   "cell_type": "markdown",
   "metadata": {},
   "source": [
    "## ■■■■■■■■■■■■■■■■■■■■■■■■■■■■■■■■■■■■\n",
    "### 1-1. if"
   ]
  },
  {
   "cell_type": "markdown",
   "metadata": {},
   "source": [
    " #### Basic Format"
   ]
  },
  {
   "cell_type": "code",
   "execution_count": null,
   "metadata": {},
   "outputs": [],
   "source": [
    "x = 1\n",
    "if x > 0 :\n",
    "    print(\"positive\")\n",
    "elif x < 0 :\n",
    "    print(\"negative\")\n",
    "else : \n",
    "    print(\"zero\")"
   ]
  },
  {
   "cell_type": "markdown",
   "metadata": {},
   "source": [
    " #### reduced format"
   ]
  },
  {
   "cell_type": "code",
   "execution_count": null,
   "metadata": {},
   "outputs": [],
   "source": [
    "print(\"positive\") if x > 0 else print(\"not positive\")"
   ]
  },
  {
   "cell_type": "markdown",
   "metadata": {},
   "source": [
    "\n",
    "### 1-2. For"
   ]
  },
  {
   "cell_type": "markdown",
   "metadata": {},
   "source": [
    " #### Basic Format"
   ]
  },
  {
   "cell_type": "code",
   "execution_count": null,
   "metadata": {},
   "outputs": [],
   "source": [
    "for i in range(5) :\n",
    "    print(i)"
   ]
  },
  {
   "cell_type": "code",
   "execution_count": null,
   "metadata": {},
   "outputs": [],
   "source": [
    "for i in range(5,0,-1) :\n",
    "    print(i)"
   ]
  },
  {
   "cell_type": "markdown",
   "metadata": {},
   "source": [
    " ##### Call by element"
   ]
  },
  {
   "cell_type": "code",
   "execution_count": null,
   "metadata": {},
   "outputs": [],
   "source": [
    "words = ['pineapple','apple', 'banana', 'strawberry','blueberry']\n",
    "for i in words :\n",
    "    print(i)"
   ]
  },
  {
   "cell_type": "code",
   "execution_count": null,
   "metadata": {},
   "outputs": [],
   "source": [
    "samsung = {'name' : 'samsung', 'beta' : 1.35 , 'realized_return' : 0.09}\n",
    "lg = {'name' :'lg', 'beta' : 1.25 , 'realized_return' : 0.0825}\n",
    "kt = {'name' :'kt', 'beta' : 0.8 , 'realized_return' : 0.05}\n",
    "stock_info = [samsung, lg, kt]\n",
    "for i in stock_info :\n",
    "    print(i['beta'])"
   ]
  },
  {
   "cell_type": "markdown",
   "metadata": {},
   "source": [
    " ##### Call by index"
   ]
  },
  {
   "cell_type": "code",
   "execution_count": null,
   "metadata": {},
   "outputs": [],
   "source": [
    "for i in range(len(words)) :\n",
    "    print(words[i])"
   ]
  },
  {
   "cell_type": "markdown",
   "metadata": {},
   "source": [
    " ##### Make list"
   ]
  },
  {
   "cell_type": "code",
   "execution_count": null,
   "metadata": {},
   "outputs": [],
   "source": [
    "apple_list = []\n",
    "berry_list = []\n",
    "etc_list = []\n",
    "for i in words :\n",
    "    if 'apple' in i.lower() :\n",
    "        apple_list.append(i)\n",
    "    elif 'berry' in i.lower() :\n",
    "        berry_list.append(i)\n",
    "    else :\n",
    "        etc_list.append(i)"
   ]
  },
  {
   "cell_type": "code",
   "execution_count": null,
   "metadata": {},
   "outputs": [],
   "source": [
    "print(apple_list)\n",
    "print(berry_list) \n",
    "print(etc_list)"
   ]
  },
  {
   "cell_type": "markdown",
   "metadata": {},
   "source": [
    " ##### Make Dictionary"
   ]
  },
  {
   "cell_type": "code",
   "execution_count": null,
   "metadata": {},
   "outputs": [],
   "source": [
    "my_dict = {'apple' : 0, 'berry' : 0 , 'etc' : 0}\n",
    "for i in words :\n",
    "    if 'apple' in i.lower() :\n",
    "        my_dict['apple'] = my_dict['apple'] + 1\n",
    "    elif 'berry' in i.lower() :\n",
    "        my_dict['berry'] = my_dict['berry'] + 1\n",
    "    else :\n",
    "        my_dict['etc'] = my_dict['etc'] + 1"
   ]
  },
  {
   "cell_type": "markdown",
   "metadata": {},
   "source": [
    " #### reduced format"
   ]
  },
  {
   "cell_type": "code",
   "execution_count": null,
   "metadata": {},
   "outputs": [],
   "source": [
    "[i for i in range(10)]"
   ]
  },
  {
   "cell_type": "code",
   "execution_count": null,
   "metadata": {},
   "outputs": [],
   "source": [
    "[i**2 for i in range(10)]"
   ]
  },
  {
   "cell_type": "code",
   "execution_count": null,
   "metadata": {},
   "outputs": [],
   "source": [
    "[i for i in range(10) if i%2 == 1]"
   ]
  },
  {
   "cell_type": "markdown",
   "metadata": {},
   "source": [
    " #### enumerate and zip function"
   ]
  },
  {
   "cell_type": "code",
   "execution_count": null,
   "metadata": {},
   "outputs": [],
   "source": [
    "for n, i in enumerate(words) :\n",
    "    print(n, i)"
   ]
  },
  {
   "cell_type": "code",
   "execution_count": null,
   "metadata": {},
   "outputs": [],
   "source": [
    "name_lst = ['Samsung','LG','SKT','Apple']\n",
    "Default_Prob = [0.01,0.05,0.03,0.001]\n",
    "for a,b in zip(name_lst, Default_Prob) :\n",
    "    print('name : ',a,' /  PD :',b)"
   ]
  },
  {
   "cell_type": "markdown",
   "metadata": {},
   "source": [
    " ### 1-3. While : 조건에 해당될 때만 반복한다. \n",
    " \n",
    " (반복문을 끄고싶을 경우에는 위에 Jupyter창의 Kernel 밑에있는 ■를 누르고 그 오른쪽에  재시작 버튼을 누르면 됩니다.)"
   ]
  },
  {
   "cell_type": "code",
   "execution_count": null,
   "metadata": {},
   "outputs": [],
   "source": [
    "rndn = 0\n",
    "while rndn != 5 :\n",
    "    rndn = np.random.randint(0,8)\n",
    "    print(rndn)"
   ]
  },
  {
   "cell_type": "code",
   "execution_count": null,
   "metadata": {},
   "outputs": [],
   "source": [
    "loop_switch = True \n",
    "rndn = 0\n",
    "while loop_switch :\n",
    "    rndn = np.random.randint(0,8) \n",
    "    print(rndn)\n",
    "    if rndn == 5 :\n",
    "        break"
   ]
  },
  {
   "cell_type": "markdown",
   "metadata": {},
   "source": [
    " ### 1-4. Stock Price Simulation (중요도 높음)"
   ]
  },
  {
   "cell_type": "markdown",
   "metadata": {},
   "source": [
    "\\begin{align}\n",
    "S(T) = S_0 e^{ (r-\\frac{\\sigma^2}{2})T + \\sigma \\sqrt{T} \\epsilon} \\\\\n",
    "\\epsilon \\sim N(0,1)\n",
    "\\end{align}"
   ]
  },
  {
   "cell_type": "code",
   "execution_count": null,
   "metadata": {},
   "outputs": [],
   "source": [
    "import numpy as np\n",
    "S0 = 100\n",
    "r = 0.05\n",
    "sigma = 0.15\n",
    "T = 2\n",
    "S_path = S0 * np.exp( (r-0.5*sigma**2) *T  +  sigma *np.sqrt(T) * np.random.normal(0,1) )\n",
    "S_path"
   ]
  },
  {
   "cell_type": "code",
   "execution_count": null,
   "metadata": {},
   "outputs": [],
   "source": [
    "S_path_list = []\n",
    "for i in range(100) :\n",
    "    S_path = S0 * np.exp( (r-0.5**sigma) *T  +  sigma *np.sqrt(T) * np.random.normal(0,1) )\n",
    "    S_path_list.append(S_path)"
   ]
  },
  {
   "cell_type": "markdown",
   "metadata": {},
   "source": [
    " ### 1-5. Function Reduced Format ( 중요도 낮음.)"
   ]
  },
  {
   "cell_type": "code",
   "execution_count": null,
   "metadata": {},
   "outputs": [],
   "source": [
    "square_function = lambda x : x ** 2\n",
    "square_function(3)"
   ]
  },
  {
   "cell_type": "code",
   "execution_count": null,
   "metadata": {},
   "outputs": [],
   "source": [
    "temp_function = lambda x,y,z=1 : x+y-z\n",
    "temp_function(3,2,8)"
   ]
  },
  {
   "cell_type": "code",
   "execution_count": null,
   "metadata": {},
   "outputs": [],
   "source": [
    "temp_function(3,2)"
   ]
  },
  {
   "cell_type": "code",
   "execution_count": null,
   "metadata": {},
   "outputs": [],
   "source": [
    "lst = [i for i in range(10) if i%2 == 1]\n",
    "temp_lambda2 = lambda x : x ** 2 - 1\n",
    "list(map(temp_lambda2, lst))"
   ]
  },
  {
   "cell_type": "markdown",
   "metadata": {},
   "source": [
    "## ■■■■■■■■■■■■■■■■■■■■■■■■■■■■■■■■■■■■■ \n",
    " ## 1-1 ~ 1-5 실습\n"
   ]
  },
  {
   "cell_type": "markdown",
   "metadata": {},
   "source": [
    "### 문제 1. \n",
    "\n",
    "다음 변수를 이용하여 주식들이 CAPM 균형수익률을 감안했을 때 저평가되었는지 고평가되었는지 적정수준인지를 계산하시오.\n",
    "\n",
    "rf = 0.02, \n",
    "rm = 0.07\n",
    "\n",
    "samsung = {'name' : 'samsung', 'beta' : 1.35 , 'realized_return' : 0.09}\n",
    "\n",
    "lg = {'name' :'lg', 'beta' : 1.25 , 'realized_return' : 0.825}\n",
    "\n",
    "kt = {'name' :'kt', 'beta' : 0.8 , 'realized_return' : 0.05}\n",
    "\n",
    "stock_info = [samsung, lg, kt]"
   ]
  },
  {
   "cell_type": "code",
   "execution_count": null,
   "metadata": {},
   "outputs": [],
   "source": [
    "rf, rm = 0.02, 0.07\n",
    "samsung = {'name' : 'samsung', 'beta' : 1.35 , 'realized_return' : 0.09}\n",
    "lg = {'name' :'lg', 'beta' : 1.25 , 'realized_return' : 0.0825}\n",
    "kt = {'name' :'kt', 'beta' : 0.8 , 'realized_return' : 0.05}\n",
    "stock_info = [samsung, lg, kt]"
   ]
  },
  {
   "cell_type": "code",
   "execution_count": null,
   "metadata": {
    "scrolled": true
   },
   "outputs": [],
   "source": [
    "#############################\n",
    "##풀이과정을 여기에 쓰세요 ##\n",
    "#############################\n",
    "for i in stock_info :\n",
    "    capm_ret = rf + i['beta']*(rm-rf)\n",
    "    realized_ret = i['realized_return']\n",
    "    if capm_ret > realized_ret :\n",
    "        over_or_under = '저평가'\n",
    "    elif capm_ret < realized_ret :\n",
    "        over_or_under = '고평가'\n",
    "    else :\n",
    "        over_or_under = '적정'\n",
    "    print('균형수익률 = ' , rf + i['beta']*(rm-rf) ,'\\n실제수익률 :',i['realized_return'], over_or_under , '\\n--------------------')\n",
    "#############################"
   ]
  },
  {
   "cell_type": "markdown",
   "metadata": {},
   "source": [
    " ### 문제 2.\n",
    " while 반복문을 사용하여 주가 시뮬레이션을 시행하고 그 결과를 리스트에 담으시오. \n",
    " \n",
    " 리스트에 계속 T시점의 시뮬레이션된 주가를 담고, 만약 시뮬레이션된 주가가 0시점 주가의 150%를 넘어가는 경우가 발생하면 반복문을 중단하시오.\n",
    " \n",
    " S0 = 100, sigma = 0.2, T = 1, r = 0.02\n",
    " \n",
    " "
   ]
  },
  {
   "cell_type": "code",
   "execution_count": null,
   "metadata": {},
   "outputs": [],
   "source": [
    "S0, sigma , T , r = 100, 0.2, 1, 0.02"
   ]
  },
  {
   "cell_type": "code",
   "execution_count": null,
   "metadata": {},
   "outputs": [],
   "source": [
    "#############################\n",
    "##풀이과정을 여기에 쓰세요 ##\n",
    "#############################\n",
    "S_path_list = []\n",
    "while True : \n",
    "    S_path = S0 * np.exp( (r-0.5*sigma**2) *T  +  sigma *np.sqrt(T) * np.random.normal(0,1) )\n",
    "    S_path_list.append(S_path)\n",
    "    if S_path/S0  > 1.5 :\n",
    "        break\n",
    "\n",
    "S_path_list\n",
    "#############################"
   ]
  },
  {
   "cell_type": "markdown",
   "metadata": {},
   "source": [
    " ### 문제 3.\n",
    "T시점의 주가를 몬테카를로 시뮬레이션 1000회 시도하여 구하고, 이를 통해 콜옵션가격을 계산하시오.\n",
    "\n",
    "\\begin{align}\n",
    "S_0 = 100, \\ K = 90, \\  \\sigma = 0.2, \\  T = 1, \\ r = 0.02 \\\\\n",
    "\\\\\n",
    "S(T) = S_0 e^{ (r-\\frac{\\sigma^2}{2})T + \\sigma \\sqrt{T} \\epsilon} \\\\\n",
    "\\epsilon \\sim N(0,1)\n",
    "\\\\\n",
    "\\\\\n",
    "C_0^{path(n)} = e^{-rT} \\times  Payoff(T)\n",
    "\\\\\n",
    "\\\\\n",
    "Payoff(T) = max(S(T) - K, 0)\n",
    "\\\\\n",
    "\\\\\n",
    "C_0 = average \\ of \\ [ C_0^{path1} , C_0^{path2} , C_0^{path3},...,  C_0^{path1000}]\n",
    "\\end{align}"
   ]
  },
  {
   "cell_type": "code",
   "execution_count": null,
   "metadata": {},
   "outputs": [],
   "source": [
    "S0, K, sigma , T , r = 100, 90, 0.2, 1, 0.02"
   ]
  },
  {
   "cell_type": "code",
   "execution_count": null,
   "metadata": {},
   "outputs": [],
   "source": [
    "#############################\n",
    "##풀이과정을 여기에 쓰세요 ##\n",
    "#############################\n",
    "C0_list = []\n",
    "for i in range(1000) :\n",
    "    S_path = S0 * np.exp( (r-0.5*sigma**2)*T + sigma * np.sqrt(T) * np.random.normal(0,1) )\n",
    "    Payoff_T = max ( S_path - K , 0)\n",
    "    C0 = Payoff_T * np.exp(-r * T)\n",
    "    C0_list.append(C0)\n",
    "C = sum(C0_list)/len(C0_list)\n",
    "C\n",
    "#############################"
   ]
  },
  {
   "cell_type": "markdown",
   "metadata": {},
   "source": [
    " ### 문제 4.\n",
    "T시점의 주가를 몬테카를로 시뮬레이션 1000회 시도하여 구하고, 이를 통해 콜옵션가격을 계산하시오.\n",
    "\n",
    "블랙숄즈 모형을 통해 콜옵션의 가격을 계산하는 함수를 만드시오.(배당은 없다.)\n",
    "\n",
    "주가(S), 행사가격(K), 표준편차(sigma), 잔존만기(T), 이자율(r)을 변수로 취급하시오.\n",
    "\n",
    "또한 문제 4에서 계산한 몬테카를로 시뮬레이션 결과와 블랙숄즈 콜옵션 가격을 비교하시오.\n",
    "\n",
    "\\begin{align}\n",
    "S_0 = 100, \\ K = 90, \\  \\sigma = 0.2, \\  T = 1, \\ r = 0.02\n",
    "\\end{align}\n",
    "\n",
    "<출력화면 예시}\n",
    "\n",
    "블랙숄즈 : xx원 , 몬테카를로 : xx원"
   ]
  },
  {
   "cell_type": "code",
   "execution_count": null,
   "metadata": {},
   "outputs": [],
   "source": [
    "from scipy.stats import norm\n",
    "S0, K, sigma , T , r = 100, 90, 0.2, 1, 0.02"
   ]
  },
  {
   "cell_type": "code",
   "execution_count": null,
   "metadata": {},
   "outputs": [],
   "source": [
    "#############################\n",
    "##풀이과정을 여기에 쓰세요 ##\n",
    "#############################\n",
    "C0_list = []\n",
    "for i in range(1000) :\n",
    "    S_path = S0 * np.exp( (r-0.5*sigma**2)*T + sigma * np.sqrt(T) * np.random.normal(0,1) )\n",
    "    Payoff_T = max ( S_path - K , 0)\n",
    "    C0 = Payoff_T * np.exp(-r * T)\n",
    "    C0_list.append(C0)\n",
    "C = sum(C0_list)/len(C0_list)\n",
    "\n",
    "def Call(S,K,sigma,T,r) :\n",
    "    d1 = ( np.log(S/K) + (r + 0.5 * sigma**2)*T  ) / (sigma * np.sqrt(T))\n",
    "    d2 = d1 - sigma * np.sqrt(T)\n",
    "    Nd1 = norm.cdf(d1)\n",
    "    Nd2 = norm.cdf(d2)\n",
    "    C = S * Nd1 - K * np.exp(-r * T ) * Nd2\n",
    "    return C\n",
    "\n",
    "print( '블랙숄즈 : ', Call(S0,K,sigma,T,r) , ', 몬테카를로 : ', C)\n",
    "\n",
    "#############################"
   ]
  },
  {
   "cell_type": "markdown",
   "metadata": {},
   "source": [
    " ### 문제 5.\n",
    "T시점의 주가를 몬테카를로 시뮬레이션 1500회 시도하여 구하고, 이를 통해 Binary 콜옵션가격을 계산하시오. Binary 콜옵션은 만기 주가가 행사가격보다 높으면 1원을 주고 그렇지 않으면 0원을 준다.\n",
    "\n",
    "\\begin{align}\n",
    "S_0 = 100, \\ K = 90, \\  \\sigma = 0.2, \\  T = 1, \\ r = 0.02 \\\\\n",
    "\\\\\n",
    "S(T) = S_0 e^{ (r-\\frac{\\sigma^2}{2})T + \\sigma \\sqrt{T} \\epsilon} \\\\\n",
    "\\epsilon \\sim N(0,1)\n",
    "\\\\\n",
    "\\\\\n",
    "C_0^{path(n)} = e^{-rT} \\times  Payoff(T)\n",
    "\\\\\n",
    "\\\\\n",
    "Payoff(T) = 1 \\ \\ if \\ \\ S(T) >= K \\ ,\\ \\  else : \\ 0\n",
    "\\\\\n",
    "\\\\\n",
    "C_0 = average \\ of \\ [ C_0^{path1} , C_0^{path2} , C_0^{path3},...,  C_0^{path1000}]\n",
    "\\end{align}"
   ]
  },
  {
   "cell_type": "code",
   "execution_count": null,
   "metadata": {},
   "outputs": [],
   "source": [
    "#############################\n",
    "##풀이과정을 여기에 쓰세요 ##\n",
    "#############################\n",
    "binary_C0_list = []\n",
    "for i in range(1500) :\n",
    "    S_path = S0 * np.exp( (r-0.5*sigma**2)*T + sigma * np.sqrt(T) * np.random.normal(0,1) )\n",
    "    if S_path >= K :\n",
    "        Payoff_T = 1\n",
    "    else :\n",
    "        Payoff_T = 0\n",
    "    C0 = Payoff_T * np.exp(-r * T)\n",
    "    binary_C0_list.append(C0)\n",
    "binary_C = sum(binary_C0_list)/len(binary_C0_list)\n",
    "binary_C\n",
    "#############################"
   ]
  },
  {
   "cell_type": "markdown",
   "metadata": {},
   "source": [
    " ### 문제 6.\n",
    " 블랙숄즈의 Binary 콜옵션 가격은 다음과 같다. 문제 5의 몬테카를로 가격과 비교하시오.\n",
    " \n",
    " \\begin{align}\n",
    " C^{binary} = e^{-rT} N(d_2)\n",
    " \\end{align}"
   ]
  },
  {
   "cell_type": "code",
   "execution_count": null,
   "metadata": {
    "scrolled": true
   },
   "outputs": [],
   "source": [
    "#############################\n",
    "##풀이과정을 여기에 쓰세요 ##\n",
    "#############################\n",
    "\n",
    "def Binary_Call(S,K,sigma,T,r) :\n",
    "    d1 = ( np.log(S/K) + (r + 0.5 * sigma**2)*T  ) / (sigma * np.sqrt(T))\n",
    "    d2 = d1 - sigma * np.sqrt(T)\n",
    "    Nd2 = norm.cdf(d2)\n",
    "    C = Nd2 * np.exp(-r * T)\n",
    "    return C\n",
    "\n",
    "print(binary_C , Binary_Call(S0,K,sigma,T,r))\n",
    "\n",
    "#############################\n"
   ]
  },
  {
   "cell_type": "markdown",
   "metadata": {},
   "source": [
    " ## 2. Ramdom number generate"
   ]
  },
  {
   "cell_type": "code",
   "execution_count": null,
   "metadata": {},
   "outputs": [],
   "source": [
    "import numpy as np"
   ]
  },
  {
   "cell_type": "markdown",
   "metadata": {},
   "source": [
    " ### 2-1. basic"
   ]
  },
  {
   "cell_type": "code",
   "execution_count": null,
   "metadata": {},
   "outputs": [],
   "source": [
    "np.random.randint(1,100)"
   ]
  },
  {
   "cell_type": "code",
   "execution_count": null,
   "metadata": {},
   "outputs": [],
   "source": [
    "np.random.randint(1,100) + 100"
   ]
  },
  {
   "cell_type": "code",
   "execution_count": null,
   "metadata": {},
   "outputs": [],
   "source": [
    "np.random.uniform(1,36,size = 5)"
   ]
  },
  {
   "cell_type": "markdown",
   "metadata": {},
   "source": [
    " ### 2-2. Choice, Sample, Shuffle"
   ]
  },
  {
   "cell_type": "code",
   "execution_count": null,
   "metadata": {},
   "outputs": [],
   "source": [
    "my_lst = ['A','C',1,2,3]\n",
    "np.random.choice(my_lst)"
   ]
  },
  {
   "cell_type": "code",
   "execution_count": null,
   "metadata": {},
   "outputs": [],
   "source": [
    "np.random.choice(my_lst, size = 3, replace = True)"
   ]
  },
  {
   "cell_type": "code",
   "execution_count": null,
   "metadata": {},
   "outputs": [],
   "source": [
    "np.random.choice(my_lst, size = 2, replace = False)"
   ]
  },
  {
   "cell_type": "code",
   "execution_count": null,
   "metadata": {},
   "outputs": [],
   "source": [
    "np.random.shuffle(my_lst)\n",
    "my_lst"
   ]
  },
  {
   "cell_type": "markdown",
   "metadata": {},
   "source": [
    " ### 2-3. random normal"
   ]
  },
  {
   "cell_type": "code",
   "execution_count": null,
   "metadata": {},
   "outputs": [],
   "source": [
    "np.random.normal(0,1,size = 5) # mu = 0 , sigma = 1"
   ]
  },
  {
   "cell_type": "code",
   "execution_count": null,
   "metadata": {},
   "outputs": [],
   "source": [
    "np.random.normal(0,1,size = (2,3))"
   ]
  },
  {
   "cell_type": "markdown",
   "metadata": {},
   "source": [
    " ### 2-4. Vectorize"
   ]
  },
  {
   "cell_type": "code",
   "execution_count": null,
   "metadata": {},
   "outputs": [],
   "source": [
    "my_lamb = lambda x , y , z  = 0: x+y+z\n",
    "my_lamb = np.vectorize(my_lamb)"
   ]
  },
  {
   "cell_type": "code",
   "execution_count": null,
   "metadata": {},
   "outputs": [],
   "source": [
    "my_lamb(1,2,3), my_lamb(1,2)"
   ]
  },
  {
   "cell_type": "code",
   "execution_count": null,
   "metadata": {},
   "outputs": [],
   "source": [
    "x = np.arange(10)\n",
    "y = np.arange(10,20)"
   ]
  },
  {
   "cell_type": "code",
   "execution_count": null,
   "metadata": {},
   "outputs": [],
   "source": [
    "my_lamb(x,y)"
   ]
  },
  {
   "cell_type": "code",
   "execution_count": null,
   "metadata": {},
   "outputs": [],
   "source": [
    "xx = np.arange(10).reshape(1,-1)\n",
    "yy = np.arange(10,20).reshape(-1,1)"
   ]
  },
  {
   "cell_type": "code",
   "execution_count": null,
   "metadata": {},
   "outputs": [],
   "source": [
    "my_lamb(xx,yy)"
   ]
  },
  {
   "cell_type": "code",
   "execution_count": null,
   "metadata": {},
   "outputs": [],
   "source": [
    "xxx = xx.reshape(-1,1,1)\n",
    "yyy = yy.reshape(1,-1,1)\n",
    "zzz = np.arange(2).reshape(1,1,-1)"
   ]
  },
  {
   "cell_type": "code",
   "execution_count": null,
   "metadata": {
    "scrolled": false
   },
   "outputs": [],
   "source": [
    "my_lamb(xxx,zzz,yyy)"
   ]
  },
  {
   "cell_type": "markdown",
   "metadata": {},
   "source": [
    " ### 문제 7. 어떤 파생상품의 Payoff는 다음과 같다.\n",
    " \n",
    " \\begin{align}\n",
    " Payoff(T) = max(\\sqrt{S^1_{(T)} S^2_{(T)}} - 50 , 0)\n",
    " \\end{align}\n",
    " \n",
    " S1 = arange(40,80,10)\n",
    " \n",
    " S2 = arange(35,65,5)\n",
    " \n",
    " my_payoff = lambda x1, x2 : max(np.sqrt(x1*x2)-50,0)\n",
    " \n",
    " 일 때 만기 Payoff를 2차원으로 나타내시오. 반복문을 사용하지 마시오."
   ]
  },
  {
   "cell_type": "code",
   "execution_count": null,
   "metadata": {},
   "outputs": [],
   "source": [
    "S1 = np.arange(40,80,10)\n",
    "S2 = np.arange(35,65,5)\n",
    "my_payoff= lambda x1, x2 : max(np.sqrt(x1*x2)-50,0)"
   ]
  },
  {
   "cell_type": "code",
   "execution_count": null,
   "metadata": {},
   "outputs": [],
   "source": [
    "###########################\n",
    "## 풀이과정을 서술하시오. #\n",
    "###########################"
   ]
  },
  {
   "cell_type": "code",
   "execution_count": null,
   "metadata": {},
   "outputs": [],
   "source": []
  }
 ],
 "metadata": {
  "kernelspec": {
   "display_name": "Python 3",
   "language": "python",
   "name": "python3"
  },
  "language_info": {
   "codemirror_mode": {
    "name": "ipython",
    "version": 3
   },
   "file_extension": ".py",
   "mimetype": "text/x-python",
   "name": "python",
   "nbconvert_exporter": "python",
   "pygments_lexer": "ipython3",
   "version": "3.8.5"
  }
 },
 "nbformat": 4,
 "nbformat_minor": 4
}
