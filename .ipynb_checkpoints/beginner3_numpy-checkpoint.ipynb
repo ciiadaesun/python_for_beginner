{
 "cells": [
  {
   "cell_type": "code",
   "execution_count": 1,
   "metadata": {},
   "outputs": [],
   "source": [
    "import numpy as np"
   ]
  },
  {
   "cell_type": "markdown",
   "metadata": {},
   "source": [
    " ## 1. ndarray\n",
    " #### 1-1. 1D Array *"
   ]
  },
  {
   "cell_type": "code",
   "execution_count": null,
   "metadata": {},
   "outputs": [],
   "source": [
    "np.ones(3)"
   ]
  },
  {
   "cell_type": "code",
   "execution_count": null,
   "metadata": {},
   "outputs": [],
   "source": [
    "y = np.array([1,2,3,4,5,6])\n",
    "y.shape"
   ]
  },
  {
   "cell_type": "code",
   "execution_count": null,
   "metadata": {},
   "outputs": [],
   "source": [
    "y = np.array([1,2,3,4,5,6], dtype = np.float32)\n",
    "y"
   ]
  },
  {
   "cell_type": "code",
   "execution_count": null,
   "metadata": {},
   "outputs": [],
   "source": [
    "def fun(x) :\n",
    "    return x**2"
   ]
  },
  {
   "cell_type": "code",
   "execution_count": null,
   "metadata": {},
   "outputs": [],
   "source": [
    "fun(y)"
   ]
  },
  {
   "cell_type": "code",
   "execution_count": null,
   "metadata": {},
   "outputs": [],
   "source": [
    "y>2"
   ]
  },
  {
   "cell_type": "markdown",
   "metadata": {},
   "source": [
    " ##### statistic 통계량"
   ]
  },
  {
   "cell_type": "code",
   "execution_count": null,
   "metadata": {},
   "outputs": [],
   "source": [
    "y.mean(), y.std(), y.sum()"
   ]
  },
  {
   "cell_type": "markdown",
   "metadata": {},
   "source": [
    " ##### transcendental number"
   ]
  },
  {
   "cell_type": "code",
   "execution_count": null,
   "metadata": {},
   "outputs": [],
   "source": [
    "np.exp(y)"
   ]
  },
  {
   "cell_type": "code",
   "execution_count": null,
   "metadata": {},
   "outputs": [],
   "source": [
    "np.log(y)"
   ]
  },
  {
   "cell_type": "code",
   "execution_count": null,
   "metadata": {},
   "outputs": [],
   "source": [
    "(1/np.exp(y)).sum()"
   ]
  },
  {
   "cell_type": "markdown",
   "metadata": {},
   "source": [
    " ### 문제 1. 다음 함수 Zero_Bond(r,T,FV)를 가지고 \n",
    " \n",
    " #### 액면 100, 쿠폰이율 5%, 만기수익률 2%, 만기 3년인 쿠폰채의 가격을 계산하는 함수를 만드시오. (for 이나 while 반복문을 사용하지 마시오.)\n",
    " \n",
    " 힌트 : np.arange(1,4)를 이용하시오."
   ]
  },
  {
   "cell_type": "code",
   "execution_count": null,
   "metadata": {},
   "outputs": [],
   "source": [
    "FV ,r , T, c= 100, 0.02, 3, 0.05 \n",
    "\n",
    "def Zero_Bond(r, T, FV = 100) :\n",
    "    return FV/(1+r)**T\n",
    "\n",
    "def Coupon_Bond(r,T,FV) :    \n",
    "    ################\n",
    "    ### 풀이과정 ###\n",
    "    ################\n",
    "    return PV_of_CPN + PV_of_FV"
   ]
  },
  {
   "cell_type": "code",
   "execution_count": null,
   "metadata": {},
   "outputs": [],
   "source": [
    "Coupon_Bond(r,T,FV)"
   ]
  },
  {
   "cell_type": "markdown",
   "metadata": {},
   "source": [
    " ##### operator"
   ]
  },
  {
   "cell_type": "code",
   "execution_count": null,
   "metadata": {},
   "outputs": [],
   "source": [
    "y.sum()"
   ]
  },
  {
   "cell_type": "code",
   "execution_count": null,
   "metadata": {},
   "outputs": [],
   "source": [
    "(y>2).sum()"
   ]
  },
  {
   "cell_type": "code",
   "execution_count": null,
   "metadata": {
    "scrolled": true
   },
   "outputs": [],
   "source": [
    "y.cumsum()"
   ]
  },
  {
   "cell_type": "code",
   "execution_count": null,
   "metadata": {},
   "outputs": [],
   "source": [
    "y.prod()"
   ]
  },
  {
   "cell_type": "code",
   "execution_count": null,
   "metadata": {},
   "outputs": [],
   "source": [
    "y.cumprod()"
   ]
  },
  {
   "cell_type": "code",
   "execution_count": null,
   "metadata": {},
   "outputs": [],
   "source": [
    "z = np.random.randint(0,10,size = len(y))\n",
    "z"
   ]
  },
  {
   "cell_type": "code",
   "execution_count": null,
   "metadata": {},
   "outputs": [],
   "source": [
    "np.maximum(y,z)"
   ]
  },
  {
   "cell_type": "code",
   "execution_count": null,
   "metadata": {},
   "outputs": [],
   "source": [
    "y-z"
   ]
  },
  {
   "cell_type": "code",
   "execution_count": null,
   "metadata": {},
   "outputs": [],
   "source": [
    "y*z"
   ]
  },
  {
   "cell_type": "markdown",
   "metadata": {},
   "source": [
    " #### 1-2. 2D array"
   ]
  },
  {
   "cell_type": "code",
   "execution_count": null,
   "metadata": {},
   "outputs": [],
   "source": [
    "a =  np.ones((3,2))\n",
    "b = np.ones((3,1))\n",
    "c = np.array(range(1,7))\n",
    "d = np.random.randint(1,5,size = (2,3))"
   ]
  },
  {
   "cell_type": "code",
   "execution_count": null,
   "metadata": {},
   "outputs": [],
   "source": [
    "a.shape, b.shape, c.shape"
   ]
  },
  {
   "cell_type": "code",
   "execution_count": null,
   "metadata": {},
   "outputs": [],
   "source": [
    "a"
   ]
  },
  {
   "cell_type": "code",
   "execution_count": null,
   "metadata": {
    "scrolled": true
   },
   "outputs": [],
   "source": [
    "b"
   ]
  },
  {
   "cell_type": "code",
   "execution_count": null,
   "metadata": {},
   "outputs": [],
   "source": [
    "1/np.exp(d)"
   ]
  },
  {
   "cell_type": "markdown",
   "metadata": {},
   "source": [
    " ##### Indexing"
   ]
  },
  {
   "cell_type": "code",
   "execution_count": null,
   "metadata": {},
   "outputs": [],
   "source": [
    "M = np.array([[1, 2, 3, 4],  # ----> x-axis\n",
    "              [5, 6, 7, 8],  # |\n",
    "              [9,10,11,12]]) # v\n",
    "                             #   y-axis"
   ]
  },
  {
   "cell_type": "code",
   "execution_count": null,
   "metadata": {},
   "outputs": [],
   "source": [
    "M[0, :]"
   ]
  },
  {
   "cell_type": "code",
   "execution_count": null,
   "metadata": {},
   "outputs": [],
   "source": [
    "M[0, :].shape"
   ]
  },
  {
   "cell_type": "markdown",
   "metadata": {},
   "source": [
    " #### 인덱싱에 따라서 Dimension이 달라짐"
   ]
  },
  {
   "cell_type": "code",
   "execution_count": null,
   "metadata": {},
   "outputs": [],
   "source": [
    "M[0:1, :]"
   ]
  },
  {
   "cell_type": "code",
   "execution_count": null,
   "metadata": {},
   "outputs": [],
   "source": [
    "M[0:1, :].shape"
   ]
  },
  {
   "cell_type": "code",
   "execution_count": null,
   "metadata": {},
   "outputs": [],
   "source": [
    "M[:,0]"
   ]
  },
  {
   "cell_type": "code",
   "execution_count": null,
   "metadata": {},
   "outputs": [],
   "source": [
    "M[:,0:1]"
   ]
  },
  {
   "cell_type": "code",
   "execution_count": null,
   "metadata": {},
   "outputs": [],
   "source": [
    "M[:2, 1:3]"
   ]
  },
  {
   "cell_type": "markdown",
   "metadata": {},
   "source": [
    " ##### Reshape"
   ]
  },
  {
   "cell_type": "code",
   "execution_count": null,
   "metadata": {
    "scrolled": true
   },
   "outputs": [],
   "source": [
    "a.reshape(6)"
   ]
  },
  {
   "cell_type": "code",
   "execution_count": null,
   "metadata": {},
   "outputs": [],
   "source": [
    "c.reshape(1,6)"
   ]
  },
  {
   "cell_type": "code",
   "execution_count": null,
   "metadata": {},
   "outputs": [],
   "source": [
    "c.reshape(2,3)"
   ]
  },
  {
   "cell_type": "code",
   "execution_count": null,
   "metadata": {},
   "outputs": [],
   "source": [
    "c.reshape(-1,1)"
   ]
  },
  {
   "cell_type": "code",
   "execution_count": null,
   "metadata": {},
   "outputs": [],
   "source": [
    "K = np.array([[[1,2,10,1]]])\n",
    "K.shape"
   ]
  },
  {
   "cell_type": "code",
   "execution_count": null,
   "metadata": {},
   "outputs": [],
   "source": [
    "K.reshape(-1)"
   ]
  },
  {
   "cell_type": "markdown",
   "metadata": {},
   "source": [
    " ##### Operator"
   ]
  },
  {
   "cell_type": "code",
   "execution_count": null,
   "metadata": {},
   "outputs": [],
   "source": [
    "x = [[1,2,3],[np.nan,20,30]]\n",
    "x"
   ]
  },
  {
   "cell_type": "code",
   "execution_count": null,
   "metadata": {},
   "outputs": [],
   "source": [
    "x_arr = np.array(x)\n",
    "x_arr"
   ]
  },
  {
   "cell_type": "code",
   "execution_count": null,
   "metadata": {},
   "outputs": [],
   "source": [
    "np.array([[1,2]]).reshape(-1,1) * x_arr"
   ]
  },
  {
   "cell_type": "code",
   "execution_count": null,
   "metadata": {},
   "outputs": [],
   "source": [
    "x_arr.sum(0)"
   ]
  },
  {
   "cell_type": "code",
   "execution_count": null,
   "metadata": {},
   "outputs": [],
   "source": [
    "x_arr.sum(1)"
   ]
  },
  {
   "cell_type": "code",
   "execution_count": null,
   "metadata": {},
   "outputs": [],
   "source": [
    "x_arr.mean(0)"
   ]
  },
  {
   "cell_type": "code",
   "execution_count": null,
   "metadata": {},
   "outputs": [],
   "source": [
    "x_arr.std(1)"
   ]
  },
  {
   "cell_type": "markdown",
   "metadata": {},
   "source": [
    " ### 문제 1-2. 무이표채의 할인율 커브인 Zero Rate Curve 가 1년 0.02, 2년 0.025 , 3년 0.03으로 우상향한다.\n",
    " \n",
    " $$\n",
    " r_{(0,1)}\\ =\\ 0.02 ,\\ r_{(0,2)}\\ =\\ 0.025 ,\\ r_{(0,3)}\\ =\\ 0.03\n",
    " $$\n",
    " \n",
    " 다음 Zero_Bond 함수를 이용해서 쿠폰이자율이 2%이고 만기가 3년, 액면이 100인 쿠폰채권의 가치를 계산하는 함수를 구현하시오.\n",
    " \n",
    " 반복문을 사용하지 말고 numpy를 사용하시오."
   ]
  },
  {
   "cell_type": "code",
   "execution_count": null,
   "metadata": {},
   "outputs": [],
   "source": [
    "FV = 100\n",
    "coupon_rate = 0.02\n",
    "T = 3\n",
    "r_curve = np.array([0.02, 0.025,0.03])"
   ]
  },
  {
   "cell_type": "code",
   "execution_count": null,
   "metadata": {},
   "outputs": [],
   "source": [
    "def Zero_Bond(r, T, FV = 100) :\n",
    "    return FV/(1+r)**T\n",
    "\n",
    "def Coupon_Bond(r_curve, T, FV = 100) :\n",
    "    ##############\n",
    "    ## 풀이과정 ##\n",
    "    ##############\n",
    "    return PV_of_FV + PV_of_Coupon"
   ]
  },
  {
   "cell_type": "code",
   "execution_count": 1,
   "metadata": {},
   "outputs": [
    {
     "data": {
      "text/plain": [
       "97.20886236013325"
      ]
     },
     "execution_count": 1,
     "metadata": {},
     "output_type": "execute_result"
    }
   ],
   "source": [
    "Coupon_Bond(r_curve, T, FV = 100)"
   ]
  },
  {
   "cell_type": "markdown",
   "metadata": {},
   "source": [
    " ##### Two array operate"
   ]
  },
  {
   "cell_type": "code",
   "execution_count": null,
   "metadata": {},
   "outputs": [],
   "source": [
    "X = np.array([[1, 2],\n",
    "              [3, 4]])\n",
    "Y = np.array([[5, 6],\n",
    "              [7, 8]])\n",
    "X + Y"
   ]
  },
  {
   "cell_type": "code",
   "execution_count": null,
   "metadata": {},
   "outputs": [],
   "source": [
    "X*Y"
   ]
  },
  {
   "cell_type": "code",
   "execution_count": null,
   "metadata": {},
   "outputs": [],
   "source": [
    "X/Y"
   ]
  },
  {
   "cell_type": "code",
   "execution_count": null,
   "metadata": {},
   "outputs": [],
   "source": [
    "np.sqrt(X)"
   ]
  },
  {
   "cell_type": "markdown",
   "metadata": {},
   "source": [
    " ##### Operation of different shape"
   ]
  },
  {
   "cell_type": "code",
   "execution_count": null,
   "metadata": {},
   "outputs": [],
   "source": [
    "y_arr = np.array([[2],[np.pi]])\n",
    "z_arr = np.array([[1,2,3],[2,3,4]])\n",
    "y_arr"
   ]
  },
  {
   "cell_type": "code",
   "execution_count": null,
   "metadata": {},
   "outputs": [],
   "source": [
    "z_arr"
   ]
  },
  {
   "cell_type": "code",
   "execution_count": null,
   "metadata": {},
   "outputs": [],
   "source": [
    "z_arr.shape, y_arr.shape"
   ]
  },
  {
   "cell_type": "code",
   "execution_count": null,
   "metadata": {},
   "outputs": [],
   "source": [
    "y_arr * z_arr"
   ]
  },
  {
   "cell_type": "code",
   "execution_count": null,
   "metadata": {},
   "outputs": [],
   "source": [
    "z_arr + y_arr"
   ]
  },
  {
   "cell_type": "markdown",
   "metadata": {},
   "source": [
    " ##### Operation of different shape2"
   ]
  },
  {
   "cell_type": "code",
   "execution_count": null,
   "metadata": {},
   "outputs": [],
   "source": [
    "A = np.array([10,20,30]).reshape(1,-1)\n",
    "B = np.array([1,2,3]).reshape(-1,1)\n",
    "A"
   ]
  },
  {
   "cell_type": "code",
   "execution_count": null,
   "metadata": {},
   "outputs": [],
   "source": [
    "A.shape, B.shape"
   ]
  },
  {
   "cell_type": "code",
   "execution_count": null,
   "metadata": {},
   "outputs": [],
   "source": [
    "B"
   ]
  },
  {
   "cell_type": "code",
   "execution_count": null,
   "metadata": {},
   "outputs": [],
   "source": [
    "A*B"
   ]
  },
  {
   "cell_type": "markdown",
   "metadata": {},
   "source": [
    " ##### 1D array > 2D array , 2D array > 1D array"
   ]
  },
  {
   "cell_type": "code",
   "execution_count": null,
   "metadata": {},
   "outputs": [],
   "source": [
    "temp_arr = np.array(range(1,7))\n",
    "temp_arr"
   ]
  },
  {
   "cell_type": "code",
   "execution_count": null,
   "metadata": {},
   "outputs": [],
   "source": [
    "temp_arr2 = temp_arr.reshape(3,2)\n",
    "temp_arr2"
   ]
  },
  {
   "cell_type": "code",
   "execution_count": null,
   "metadata": {},
   "outputs": [],
   "source": [
    "np.eye(3)"
   ]
  },
  {
   "cell_type": "code",
   "execution_count": null,
   "metadata": {},
   "outputs": [],
   "source": [
    "p= np.eye(3) + np.ones((3,1))\n",
    "p"
   ]
  },
  {
   "cell_type": "markdown",
   "metadata": {},
   "source": [
    " ### 1-3. Transpose"
   ]
  },
  {
   "cell_type": "code",
   "execution_count": null,
   "metadata": {},
   "outputs": [],
   "source": [
    "A = np.array([10,20,30]).reshape(1,-1)\n",
    "A"
   ]
  },
  {
   "cell_type": "code",
   "execution_count": null,
   "metadata": {},
   "outputs": [],
   "source": [
    "A.T"
   ]
  },
  {
   "cell_type": "code",
   "execution_count": null,
   "metadata": {},
   "outputs": [],
   "source": [
    "ar = np.random.randint(1,10,size = (3,3))\n",
    "ar"
   ]
  },
  {
   "cell_type": "code",
   "execution_count": null,
   "metadata": {},
   "outputs": [],
   "source": [
    "ar.T"
   ]
  },
  {
   "cell_type": "code",
   "execution_count": null,
   "metadata": {},
   "outputs": [],
   "source": [
    "ar2 = np.random.randint(1,5, size = (4,2,3))\n",
    "ar2"
   ]
  },
  {
   "cell_type": "code",
   "execution_count": null,
   "metadata": {},
   "outputs": [],
   "source": [
    "ar2.shape"
   ]
  },
  {
   "cell_type": "code",
   "execution_count": null,
   "metadata": {},
   "outputs": [],
   "source": [
    "ar2_ = ar2.transpose(2,1,0)\n",
    "ar2_"
   ]
  },
  {
   "cell_type": "code",
   "execution_count": null,
   "metadata": {},
   "outputs": [],
   "source": [
    "ar2_.shape"
   ]
  },
  {
   "cell_type": "markdown",
   "metadata": {},
   "source": [
    " ### 1-4. Multiplication\n",
    " \n",
    "\\begin{align}\n",
    "matrix \\times matrix = matrix\\\\\n",
    "(a,b) \\ \\ \\ \\ \\ \\ \\ \\  (b,c) \\ \\ \\ \\ \\ \\ (a,c) \\ \\ \n",
    "\\end{align}"
   ]
  },
  {
   "cell_type": "code",
   "execution_count": null,
   "metadata": {
    "scrolled": true
   },
   "outputs": [],
   "source": [
    "ar.dot(temp_arr2)"
   ]
  },
  {
   "cell_type": "code",
   "execution_count": null,
   "metadata": {},
   "outputs": [],
   "source": [
    "A.T.dot(A)"
   ]
  },
  {
   "cell_type": "code",
   "execution_count": null,
   "metadata": {},
   "outputs": [],
   "source": [
    "A.dot(A.T)"
   ]
  },
  {
   "cell_type": "markdown",
   "metadata": {},
   "source": [
    " ### ★1-5. portfolio volatility example\n",
    "\\begin{align}\n",
    "\\sigma_{PF}^2 = w \\times \\sum \\times w^T \\\\\n",
    "(\\sum \\ is \\ cov \\ matrix)\n",
    "\\end{align}\n",
    "\n",
    "Covariance Matrix\n",
    "\n",
    "| cov|A|B|C|\n",
    "|------|---|---|---|\n",
    "|A|Cov(A,A)|\tCov(A,B)|\tCov(A,C)|\n",
    "|B|\tCov(B,A)|\tCov(B,B)|\tCov(B,C)|\n",
    "|C|\tCov(C,A)|\tCov(C,B)|\tCov(C,C)|"
   ]
  },
  {
   "cell_type": "code",
   "execution_count": null,
   "metadata": {},
   "outputs": [],
   "source": [
    "w = np.array([0.2, 0.3, 0.5]).reshape(1,-1)\n",
    "w"
   ]
  },
  {
   "cell_type": "code",
   "execution_count": null,
   "metadata": {},
   "outputs": [],
   "source": [
    "vol = np.array([0.2, 0.15, 0.3]).reshape(1,-1)\n",
    "corr = np.array([[1   , 0.6  , -0.2  ],                 \n",
    "                 [0.6 ,   1  , 0.0018],\n",
    "                 [-0.2,0.0018,1      ]])\n"
   ]
  },
  {
   "cell_type": "code",
   "execution_count": null,
   "metadata": {},
   "outputs": [],
   "source": [
    "vol * vol.reshape(-1,1)"
   ]
  },
  {
   "cell_type": "code",
   "execution_count": null,
   "metadata": {},
   "outputs": [],
   "source": [
    "cov = vol * vol.reshape(-1,1) * corr\n",
    "cov"
   ]
  },
  {
   "cell_type": "code",
   "execution_count": null,
   "metadata": {
    "scrolled": true
   },
   "outputs": [],
   "source": [
    "np.sqrt(w.dot(cov).dot(w.T))"
   ]
  },
  {
   "cell_type": "markdown",
   "metadata": {},
   "source": [
    "## ■■■■■■■■■■■■■■■■■■■■■■■■■■■■■■■■■■■■■ \n",
    " ## 1-1 ~ 1-5 실습\n"
   ]
  },
  {
   "cell_type": "markdown",
   "metadata": {},
   "source": [
    " ### 문제 1.\n",
    " \n",
    " 주식A의 4일동안의 일일 수익률은 2% , -1%, 1%, 3% 이다.\n",
    " \n",
    " 주식B의 4일동안의 일일 수익률은 -5%, -5%, 10% , 0% 이다.\n",
    " \n",
    " 주식C의 4일동안의 일일 수익률은 0.5%, 2%, 2.5% , 3% 이다.\n",
    " \n",
    " 4일 전의 주가는 각각 100, 55, 37이다.\n",
    " \n",
    " np.array를 통하여 각 주식의 4일동안 가격을 구하시오. \n",
    " \n",
    " 또한 각각 주식의 4일동안의 총 수익률을 계산하시오.\n",
    " \n",
    " 마지막으로 각 주식수익률의 변동성을 계산하시오."
   ]
  },
  {
   "cell_type": "code",
   "execution_count": null,
   "metadata": {},
   "outputs": [],
   "source": [
    "#############################\n",
    "##풀이과정을 여기에 쓰세요 ##\n",
    "#############################\n",
    "#############################"
   ]
  },
  {
   "cell_type": "markdown",
   "metadata": {},
   "source": [
    "### 문제 2.\n",
    "\n",
    "문제 2에서 3개의 주식의 상관계수행렬은 다음과 같다.\n",
    "\n",
    "| |A|B|C|\n",
    "|--|------|---|----|\n",
    "|A|1|0.14|0.09|\n",
    "|B|0.14|1|0.55|\n",
    "|C|0.09 |0.55  |1|\n",
    "\n",
    "만약 포트폴리오의 비율을 각각 20% 30% 50%로 구성한다면 포트폴리오 변동성은 얼마인가?"
   ]
  },
  {
   "cell_type": "code",
   "execution_count": null,
   "metadata": {
    "scrolled": true
   },
   "outputs": [],
   "source": [
    "#############################\n",
    "##풀이과정을 여기에 쓰세요 ##\n",
    "#############################\n",
    "r = np.array([[2,-1,1,3],[-5,-5,10,0],[0.5,2,2.5,3]])/100\n",
    "w = np.array([0.2,0.3,0.5]).reshape(1,-1)\n",
    "corr = '풀이과정'\n",
    "cov = '풀이과정'\n",
    "PF_vol = '풀이과정'\n",
    "#############################"
   ]
  },
  {
   "cell_type": "code",
   "execution_count": null,
   "metadata": {},
   "outputs": [],
   "source": [
    "PF_vol = np.sqrt(w.dot(cov).dot(w.T))"
   ]
  },
  {
   "cell_type": "markdown",
   "metadata": {},
   "source": [
    "## ■■■■■■■■■■■■■■■■■■■■■■■■■■■■■■■■■■■■■ "
   ]
  },
  {
   "cell_type": "markdown",
   "metadata": {},
   "source": [
    " ## 2. Random Number Generate (Advanced)"
   ]
  },
  {
   "cell_type": "markdown",
   "metadata": {},
   "source": [
    " ### 2-1. random normal, multivariate normal"
   ]
  },
  {
   "cell_type": "code",
   "execution_count": null,
   "metadata": {},
   "outputs": [],
   "source": [
    "np.random.normal(0,1,size = (10,3))"
   ]
  },
  {
   "cell_type": "code",
   "execution_count": null,
   "metadata": {},
   "outputs": [],
   "source": [
    "STD = np.array([0.015, 0.06, 0.01])\n",
    "np.random.normal([0,0,0], STD, size = (10,3))"
   ]
  },
  {
   "cell_type": "code",
   "execution_count": null,
   "metadata": {},
   "outputs": [],
   "source": [
    "corr = np.array([[1,0.14,0.09],[0.14,1,0.55],[0.09,0.55,1]])\n",
    "mvrn = np.random.multivariate_normal([0,0,0], corr, 10)\n",
    "mvrn"
   ]
  },
  {
   "cell_type": "code",
   "execution_count": null,
   "metadata": {},
   "outputs": [],
   "source": [
    "STD * mvrn # Multivariate random normal return"
   ]
  },
  {
   "cell_type": "markdown",
   "metadata": {},
   "source": [
    " ### 2-2. np.arange, np.linspace"
   ]
  },
  {
   "cell_type": "code",
   "execution_count": null,
   "metadata": {},
   "outputs": [],
   "source": [
    "np.arange(0,10,0.1)"
   ]
  },
  {
   "cell_type": "code",
   "execution_count": null,
   "metadata": {},
   "outputs": [],
   "source": [
    "np.linspace(0,10,101)"
   ]
  },
  {
   "cell_type": "markdown",
   "metadata": {},
   "source": [
    " ### 2-3. Stock Price Simulation without loop (중요도 높음)\n",
    "\n",
    "$$\n",
    "\\begin{array}{c}\n",
    " dS = r S dt + \\sigma S d\\hat{W} \\\\\n",
    " S_{1} = S_{0} e^{(r-\\frac{\\sigma^2}{2})dt + \\sigma \\sqrt{dt} \\bullet \\epsilon} \\\\\n",
    " S_{2} = S_{1} e^{(r-\\frac{\\sigma^2}{2})dt + \\sigma \\sqrt{dt} \\bullet \\epsilon} \\\\\n",
    " ... \\\\\n",
    " S_{T} = S_{T-1} e^{(r-\\frac{\\sigma^2}{2})dt + \\sigma \\sqrt{dt} \\bullet \\epsilon} \\\\\n",
    "\\end{array}\n",
    "$$\n",
    " ### Generalize\n",
    "$$\n",
    "\\begin{array}{c}\n",
    " S_{t} = S_{0} e^{(r-\\frac{\\sigma^2}{2})t + \\sigma \\sqrt{dt} \\sum_{1}^{t} \\epsilon_i}\n",
    "\\end{array}\n",
    "$$\n"
   ]
  },
  {
   "cell_type": "markdown",
   "metadata": {},
   "source": [
    " ##### 1년동안 1종목 주가시뮬레이션 1회 ( 1년 252bdays)"
   ]
  },
  {
   "cell_type": "code",
   "execution_count": null,
   "metadata": {},
   "outputs": [],
   "source": [
    "import matplotlib.pyplot as plt"
   ]
  },
  {
   "cell_type": "code",
   "execution_count": null,
   "metadata": {},
   "outputs": [],
   "source": [
    "r = 0.05\n",
    "sigma = 0.2\n",
    "t = 1\n",
    "dt = 1/252\n",
    "S0 = 1000\n",
    "trange= np.arange(dt, t+dt, dt)\n",
    "e = np.random.normal(0,1,len(trange))\n",
    "drift = (r-0.5*sigma**2) * trange\n",
    "diffusion = sigma * np.sqrt(dt) * e.cumsum()\n",
    "St = S0 * np.exp(drift + diffusion)"
   ]
  },
  {
   "cell_type": "code",
   "execution_count": null,
   "metadata": {},
   "outputs": [],
   "source": [
    "plt.plot(St)\n",
    "plt.show()"
   ]
  },
  {
   "cell_type": "markdown",
   "metadata": {},
   "source": [
    " ##### 1년동안 1종목 주가시뮬레이션 10회"
   ]
  },
  {
   "cell_type": "code",
   "execution_count": null,
   "metadata": {},
   "outputs": [],
   "source": [
    "r, sigma = 0.05, 0.2\n",
    "t = 1\n",
    "simul_num = 10\n",
    "dt = 1/252\n",
    "S0 = 1000\n",
    "trange = np.arange(dt,t+dt,dt).reshape(-1,1)\n",
    "e = np.random.normal(0,1,(trange.shape[0],simul_num))\n",
    "drift = (r-0.5 * sigma**2) * trange\n",
    "diffusion  = sigma * np.sqrt(dt) * e.cumsum(0)\n",
    "St = S0 * np.exp(drift + diffusion)"
   ]
  },
  {
   "cell_type": "code",
   "execution_count": null,
   "metadata": {},
   "outputs": [],
   "source": [
    "plt.plot(St)\n",
    "plt.show()"
   ]
  },
  {
   "cell_type": "markdown",
   "metadata": {},
   "source": [
    "## ■■■■■■■■■■■■■■■■■■■■■■■■■■■■■■■■■■■■■ \n",
    "## 2-1~2-3. 실습\n"
   ]
  },
  {
   "cell_type": "markdown",
   "metadata": {},
   "source": [
    "### 문제 2.\n",
    "T시점의 주가를 몬테카를로 시뮬레이션 1000회 시도하여 구하고, 이를 통해 콜옵션가격을 계산하시오. (반복문,for loop를 사용하지 마시오.)\n",
    "\n",
    "\\begin{align}\n",
    "S_0 = 100, \\ K = 90, \\  \\sigma = 0.2, \\  T = 1, \\ r = 0.02 \\\\\n",
    "\\\\\n",
    "S(T) = S_0 e^{ (r-\\frac{\\sigma^2}{2})T + \\sigma \\sqrt{T} \\epsilon} \\\\\n",
    "\\epsilon \\sim N(0,1)\n",
    "\\\\\n",
    "\\\\\n",
    "C_0^{path(n)} = e^{-rT} \\times  Payoff(T)\n",
    "\\\\\n",
    "\\\\\n",
    "Payoff(T) = max(S(T) - K, 0)\n",
    "\\\\\n",
    "\\\\\n",
    "C_0 = average \\ of \\ [ C_0^{path1} , C_0^{path2} , C_0^{path3},...,  C_0^{path1000}]\n",
    "\\end{align}"
   ]
  },
  {
   "cell_type": "code",
   "execution_count": null,
   "metadata": {},
   "outputs": [],
   "source": [
    "#############################\n",
    "##풀이과정을 여기에 쓰세요 ##\n",
    "#############################\n",
    "r, sigma, T  = 0.02, 0.2, 1\n",
    "S0, K= 100, 90\n",
    "simul_num = 1000\n",
    "dt = 1/252\n",
    "trange = '풀이과정'\n",
    "e = '풀이과정'\n",
    "drift = '풀이과정'\n",
    "diffusion  = '풀이과정'\n",
    "St = '풀이과정'\n",
    "C = '풀이과정'\n",
    "C\n",
    "#############################"
   ]
  },
  {
   "cell_type": "markdown",
   "metadata": {},
   "source": [
    " ### 문제 3.\n",
    "T시점의 주가를 몬테카를로 시뮬레이션 1500회 시도하여 구하고, 이를 통해 Binary 콜옵션가격을 계산하시오. Binary 콜옵션은 만기 주가가 행사가격보다 높으면 1원을 주고 그렇지 않으면 0원을 준다. (반복문,for loop를 사용하지 마시오.)\n",
    "\n",
    "\\begin{align}\n",
    "S_0 = 100, \\ K = 90, \\  \\sigma = 0.2, \\  T = 1, \\ r = 0.02 \\\\\n",
    "\\\\\n",
    "S(T) = S_0 e^{ (r-\\frac{\\sigma^2}{2})T + \\sigma \\sqrt{T} \\epsilon} \\\\\n",
    "\\epsilon \\sim N(0,1)\n",
    "\\\\\n",
    "\\\\\n",
    "C_0^{path(n)} = e^{-rT} \\times ( Payoff(T))\n",
    "\\\\\n",
    "\\\\\n",
    "Payoff(T) = 1 \\ \\ if \\ \\ S(T) >= K \\ ,\\ \\  else : \\ 0\n",
    "\\\\\n",
    "\\\\\n",
    "C_0 = average \\ of \\ [ C_0^{path1} , C_0^{path2} , C_0^{path3},...,  C_0^{path1000}]\n",
    "\\end{align}"
   ]
  },
  {
   "cell_type": "code",
   "execution_count": null,
   "metadata": {},
   "outputs": [],
   "source": [
    "#############################\n",
    "##풀이과정을 여기에 쓰세요 ##\n",
    "#############################\n",
    "r, sigma, T  = 0.02, 0.2, 1\n",
    "S0, K= 100, 90\n",
    "simul_num = 1500\n",
    "dt = 1/252\n",
    "trange = '풀이과정'\n",
    "e = '풀이과정'\n",
    "drift = '풀이과정'\n",
    "diffusion  = '풀이과정'\n",
    "St = '풀이과정'\n",
    "\n",
    "#############################"
   ]
  },
  {
   "cell_type": "markdown",
   "metadata": {},
   "source": [
    " ## 3. Ordinary Least Square\n",
    " $$\n",
    "    \\beta = (X'X)^{-1}X'y\n",
    "$$"
   ]
  },
  {
   "cell_type": "code",
   "execution_count": null,
   "metadata": {},
   "outputs": [],
   "source": [
    "X = np.array([[1, 2, 1],\n",
    "              [3, 4, 2],\n",
    "              [1, 2, 3],\n",
    "              [4, 0, 5]])\n",
    "y = np.array([2, 4, 1, 2])"
   ]
  },
  {
   "cell_type": "code",
   "execution_count": null,
   "metadata": {
    "scrolled": true
   },
   "outputs": [],
   "source": [
    "beta= np.linalg.inv(X.T.dot(X)).dot(X.T.dot(y))\n",
    "beta"
   ]
  },
  {
   "cell_type": "markdown",
   "metadata": {},
   "source": [
    " ### 문제 4. Geometric Brownian Motion and Volatility Drag\n",
    "브라운운동의 성질은 다음과 같다 $$ W_t \\sim N(0,t) $$\n",
    "$$ \\begin{array}{c} \\ W_t - W_s \\sim N(0,t-s)  \\end{array} $$\n",
    "주가가 다음과 같이 움직인다고 가정하자.\n",
    "$$\n",
    "\\begin{array}{c}\n",
    "dS = \\mu S dt + \\sigma S dW \\ \\ \\ \\  (\\mu = arithmetical\\ average\\ return ) \n",
    "\\end{array} \n",
    "$$\n",
    "확률미분방정식을 풀면 S(T)는 다음과 같이 나온다.\n",
    "$$\n",
    "\\begin{array}{c}\n",
    "    S_T = S_0 \\bullet e^{(\\mu - \\frac{\\sigma^2}{2})T+\\sigma \\sqrt{T} \\epsilon_{(T)} } \\  (\\epsilon_{(T)} \\sim N(0,T) \\ )\n",
    "    \\\\ \\\\ \n",
    "\\end{array} \n",
    "$$ \n",
    "즉, \n",
    "$$ \n",
    "\\begin{array}{c}\n",
    "     E(\\frac{1}{T}log \\frac{S_T}{S_0}) = \\mu - \\frac{\\sigma^2}{2}\n",
    "\\end{array}\n",
    "$$ \n",
    "     \n",
    "복리수익률은 산술평균수익률보다 sigma^2 /2 만큼 작다."
   ]
  },
  {
   "cell_type": "markdown",
   "metadata": {},
   "source": [
    " \n",
    " 실제로 그런지 알아보자.\n",
    " \n",
    " 주식A는 100원이고 산술평균 기대수익률이 15%이다. 변동성은 50%이다.  \n",
    " \n",
    " 주식B는 100원이고 산술평균 기대수익률이 10%이고 변동성은 10%이다.\n",
    " \n",
    " (A와 B 주식은 독립이다.)\n",
    " \n",
    " 주식A의 1년동안 주가시뮬레이션, 주식B의 1년동안 주가시뮬레이션을 30000회 하고 각각의 로그수익률을 계산해보세요.\n",
    " \n",
    " 실제로 시뮬레이션의 로그수익률이 $$ \\mu_A - \\frac{\\sigma_A^2}{2}  , \\ \\mu_B - \\frac{\\sigma_B^2}{2}$$ 와 같은지 확인해보시오."
   ]
  },
  {
   "cell_type": "code",
   "execution_count": null,
   "metadata": {},
   "outputs": [],
   "source": [
    "S_A_0 ,S_B_0= 100,100\n",
    "mu_A , mu_B = 0.15, 0.1\n",
    "sigma_A , sigma_B = 0.5, 0.1\n",
    "T = 1\n",
    "simul_num = 30000\n",
    "#####################################\n",
    "##                                 ##\n",
    "##      풀이과정을 적으시오        ##  \n",
    "##                                 ##\n",
    "#####################################\n",
    "logmu_A = np.log(S_T_A/S_A_0).mean()\n",
    "logmu_B = np.log(S_T_B/S_B_0).mean()"
   ]
  },
  {
   "cell_type": "code",
   "execution_count": null,
   "metadata": {},
   "outputs": [],
   "source": [
    "logmu_A"
   ]
  },
  {
   "cell_type": "code",
   "execution_count": null,
   "metadata": {},
   "outputs": [],
   "source": [
    "mu_A - 0.5*sigma_A**2"
   ]
  },
  {
   "cell_type": "code",
   "execution_count": null,
   "metadata": {},
   "outputs": [],
   "source": [
    "logmu_B"
   ]
  },
  {
   "cell_type": "code",
   "execution_count": null,
   "metadata": {
    "scrolled": true
   },
   "outputs": [],
   "source": [
    "mu_B - 0.5*sigma_B**2"
   ]
  },
  {
   "cell_type": "code",
   "execution_count": null,
   "metadata": {},
   "outputs": [],
   "source": []
  }
 ],
 "metadata": {
  "kernelspec": {
   "display_name": "Python 3",
   "language": "python",
   "name": "python3"
  },
  "language_info": {
   "codemirror_mode": {
    "name": "ipython",
    "version": 3
   },
   "file_extension": ".py",
   "mimetype": "text/x-python",
   "name": "python",
   "nbconvert_exporter": "python",
   "pygments_lexer": "ipython3",
   "version": "3.8.5"
  }
 },
 "nbformat": 4,
 "nbformat_minor": 4
}
