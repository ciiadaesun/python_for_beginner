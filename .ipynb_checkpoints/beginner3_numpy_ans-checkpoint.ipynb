{
 "cells": [
  {
   "cell_type": "code",
   "execution_count": 1,
   "metadata": {},
   "outputs": [],
   "source": [
    "import numpy as np"
   ]
  },
  {
   "cell_type": "markdown",
   "metadata": {},
   "source": [
    " ## 1. ndarray\n",
    " #### 1-1. 1D Array *"
   ]
  },
  {
   "cell_type": "code",
   "execution_count": 2,
   "metadata": {},
   "outputs": [
    {
     "data": {
      "text/plain": [
       "array([1., 1., 1.])"
      ]
     },
     "execution_count": 2,
     "metadata": {},
     "output_type": "execute_result"
    }
   ],
   "source": [
    "np.ones(3)"
   ]
  },
  {
   "cell_type": "code",
   "execution_count": 3,
   "metadata": {},
   "outputs": [
    {
     "data": {
      "text/plain": [
       "(6,)"
      ]
     },
     "execution_count": 3,
     "metadata": {},
     "output_type": "execute_result"
    }
   ],
   "source": [
    "y = np.array([1,2,3,4,5,6])\n",
    "y.shape"
   ]
  },
  {
   "cell_type": "code",
   "execution_count": 4,
   "metadata": {},
   "outputs": [
    {
     "data": {
      "text/plain": [
       "array([1., 2., 3., 4., 5., 6.], dtype=float32)"
      ]
     },
     "execution_count": 4,
     "metadata": {},
     "output_type": "execute_result"
    }
   ],
   "source": [
    "y = np.array([1,2,3,4,5,6], dtype = np.float32)\n",
    "y"
   ]
  },
  {
   "cell_type": "code",
   "execution_count": 5,
   "metadata": {},
   "outputs": [],
   "source": [
    "def fun(x) :\n",
    "    return x**2"
   ]
  },
  {
   "cell_type": "code",
   "execution_count": 6,
   "metadata": {},
   "outputs": [
    {
     "data": {
      "text/plain": [
       "array([ 1.,  4.,  9., 16., 25., 36.], dtype=float32)"
      ]
     },
     "execution_count": 6,
     "metadata": {},
     "output_type": "execute_result"
    }
   ],
   "source": [
    "fun(y)"
   ]
  },
  {
   "cell_type": "code",
   "execution_count": 7,
   "metadata": {},
   "outputs": [
    {
     "data": {
      "text/plain": [
       "array([False, False,  True,  True,  True,  True])"
      ]
     },
     "execution_count": 7,
     "metadata": {},
     "output_type": "execute_result"
    }
   ],
   "source": [
    "y>2"
   ]
  },
  {
   "cell_type": "markdown",
   "metadata": {},
   "source": [
    " ##### statistic 통계량"
   ]
  },
  {
   "cell_type": "code",
   "execution_count": 8,
   "metadata": {},
   "outputs": [
    {
     "data": {
      "text/plain": [
       "(3.5, 1.7078252, 21.0)"
      ]
     },
     "execution_count": 8,
     "metadata": {},
     "output_type": "execute_result"
    }
   ],
   "source": [
    "y.mean(), y.std(), y.sum()"
   ]
  },
  {
   "cell_type": "markdown",
   "metadata": {},
   "source": [
    " ##### transcendental number"
   ]
  },
  {
   "cell_type": "code",
   "execution_count": 9,
   "metadata": {},
   "outputs": [
    {
     "data": {
      "text/plain": [
       "array([  2.7182817,   7.389056 ,  20.085537 ,  54.59815  , 148.41316  ,\n",
       "       403.4288   ], dtype=float32)"
      ]
     },
     "execution_count": 9,
     "metadata": {},
     "output_type": "execute_result"
    }
   ],
   "source": [
    "np.exp(y)"
   ]
  },
  {
   "cell_type": "code",
   "execution_count": 10,
   "metadata": {},
   "outputs": [
    {
     "data": {
      "text/plain": [
       "array([0.       , 0.6931472, 1.0986123, 1.3862944, 1.609438 , 1.7917595],\n",
       "      dtype=float32)"
      ]
     },
     "execution_count": 10,
     "metadata": {},
     "output_type": "execute_result"
    }
   ],
   "source": [
    "np.log(y)"
   ]
  },
  {
   "cell_type": "code",
   "execution_count": 11,
   "metadata": {},
   "outputs": [
    {
     "data": {
      "text/plain": [
       "0.5805341"
      ]
     },
     "execution_count": 11,
     "metadata": {},
     "output_type": "execute_result"
    }
   ],
   "source": [
    "(1/np.exp(y)).sum()"
   ]
  },
  {
   "cell_type": "markdown",
   "metadata": {},
   "source": [
    " ### 문제 1. 다음 함수 Zero_Bond(r,T,FV)를 가지고 \n",
    " \n",
    " #### 액면 100, 쿠폰이율 5%, 만기수익률 2%, 만기 3년인 쿠폰채의 가격을 계산하는 함수를 만드시오. (for 이나 while 반복문을 사용하지 마시오.)\n",
    " \n",
    " 힌트 : np.arange(1,4)를 이용하시오."
   ]
  },
  {
   "cell_type": "code",
   "execution_count": 13,
   "metadata": {
    "scrolled": true
   },
   "outputs": [],
   "source": [
    "FV ,r , T, c= 100, 0.02, 3, 0.05 \n",
    "\n",
    "def Zero_Bond(r, T, FV = 100) :\n",
    "    return FV/(1+r)**T\n",
    "\n",
    "def Coupon_Bond(r,T,FV) :    \n",
    "    PV_of_CPN =  Zero_Bond(r, np.arange(1,T), FV * c).sum()\n",
    "    PV_of_FV = Zero_Bond(r, T  , FV)\n",
    "    return PV_of_CPN + PV_of_FV"
   ]
  },
  {
   "cell_type": "code",
   "execution_count": 14,
   "metadata": {},
   "outputs": [
    {
     "data": {
      "text/plain": [
       "103.94003814520809"
      ]
     },
     "execution_count": 14,
     "metadata": {},
     "output_type": "execute_result"
    }
   ],
   "source": [
    "Coupon_Bond(r,T,FV)"
   ]
  },
  {
   "cell_type": "markdown",
   "metadata": {},
   "source": [
    " ##### operator"
   ]
  },
  {
   "cell_type": "code",
   "execution_count": 15,
   "metadata": {},
   "outputs": [
    {
     "data": {
      "text/plain": [
       "21.0"
      ]
     },
     "execution_count": 15,
     "metadata": {},
     "output_type": "execute_result"
    }
   ],
   "source": [
    "y.sum()"
   ]
  },
  {
   "cell_type": "code",
   "execution_count": 16,
   "metadata": {},
   "outputs": [
    {
     "data": {
      "text/plain": [
       "4"
      ]
     },
     "execution_count": 16,
     "metadata": {},
     "output_type": "execute_result"
    }
   ],
   "source": [
    "(y>2).sum()"
   ]
  },
  {
   "cell_type": "code",
   "execution_count": 17,
   "metadata": {
    "scrolled": true
   },
   "outputs": [
    {
     "data": {
      "text/plain": [
       "array([ 1.,  3.,  6., 10., 15., 21.], dtype=float32)"
      ]
     },
     "execution_count": 17,
     "metadata": {},
     "output_type": "execute_result"
    }
   ],
   "source": [
    "y.cumsum()"
   ]
  },
  {
   "cell_type": "code",
   "execution_count": 18,
   "metadata": {},
   "outputs": [
    {
     "data": {
      "text/plain": [
       "720.0"
      ]
     },
     "execution_count": 18,
     "metadata": {},
     "output_type": "execute_result"
    }
   ],
   "source": [
    "y.prod()"
   ]
  },
  {
   "cell_type": "code",
   "execution_count": 19,
   "metadata": {},
   "outputs": [
    {
     "data": {
      "text/plain": [
       "array([  1.,   2.,   6.,  24., 120., 720.], dtype=float32)"
      ]
     },
     "execution_count": 19,
     "metadata": {},
     "output_type": "execute_result"
    }
   ],
   "source": [
    "y.cumprod()"
   ]
  },
  {
   "cell_type": "code",
   "execution_count": 20,
   "metadata": {},
   "outputs": [
    {
     "data": {
      "text/plain": [
       "array([4, 3, 0, 1, 5, 8])"
      ]
     },
     "execution_count": 20,
     "metadata": {},
     "output_type": "execute_result"
    }
   ],
   "source": [
    "z = np.random.randint(0,10,size = len(y))\n",
    "z"
   ]
  },
  {
   "cell_type": "code",
   "execution_count": 21,
   "metadata": {},
   "outputs": [
    {
     "data": {
      "text/plain": [
       "array([4., 3., 3., 4., 5., 8.])"
      ]
     },
     "execution_count": 21,
     "metadata": {},
     "output_type": "execute_result"
    }
   ],
   "source": [
    "np.maximum(y,z)"
   ]
  },
  {
   "cell_type": "code",
   "execution_count": 22,
   "metadata": {},
   "outputs": [
    {
     "data": {
      "text/plain": [
       "array([-3., -1.,  3.,  3.,  0., -2.])"
      ]
     },
     "execution_count": 22,
     "metadata": {},
     "output_type": "execute_result"
    }
   ],
   "source": [
    "y-z"
   ]
  },
  {
   "cell_type": "code",
   "execution_count": 23,
   "metadata": {},
   "outputs": [
    {
     "data": {
      "text/plain": [
       "array([ 4.,  6.,  0.,  4., 25., 48.])"
      ]
     },
     "execution_count": 23,
     "metadata": {},
     "output_type": "execute_result"
    }
   ],
   "source": [
    "y*z"
   ]
  },
  {
   "cell_type": "markdown",
   "metadata": {},
   "source": [
    " #### 1-2. 2D array"
   ]
  },
  {
   "cell_type": "code",
   "execution_count": 24,
   "metadata": {},
   "outputs": [],
   "source": [
    "a =  np.ones((3,2))\n",
    "b = np.ones((3,1))\n",
    "c = np.array(range(1,7))\n",
    "d = np.random.randint(1,5,size = (2,3))"
   ]
  },
  {
   "cell_type": "code",
   "execution_count": 25,
   "metadata": {},
   "outputs": [
    {
     "data": {
      "text/plain": [
       "((3, 2), (3, 1), (6,))"
      ]
     },
     "execution_count": 25,
     "metadata": {},
     "output_type": "execute_result"
    }
   ],
   "source": [
    "a.shape, b.shape, c.shape"
   ]
  },
  {
   "cell_type": "code",
   "execution_count": 26,
   "metadata": {},
   "outputs": [
    {
     "data": {
      "text/plain": [
       "array([[1., 1.],\n",
       "       [1., 1.],\n",
       "       [1., 1.]])"
      ]
     },
     "execution_count": 26,
     "metadata": {},
     "output_type": "execute_result"
    }
   ],
   "source": [
    "a"
   ]
  },
  {
   "cell_type": "code",
   "execution_count": 27,
   "metadata": {
    "scrolled": true
   },
   "outputs": [
    {
     "data": {
      "text/plain": [
       "array([[1.],\n",
       "       [1.],\n",
       "       [1.]])"
      ]
     },
     "execution_count": 27,
     "metadata": {},
     "output_type": "execute_result"
    }
   ],
   "source": [
    "b"
   ]
  },
  {
   "cell_type": "code",
   "execution_count": 28,
   "metadata": {},
   "outputs": [
    {
     "data": {
      "text/plain": [
       "array([[0.01831564, 0.04978707, 0.01831564],\n",
       "       [0.01831564, 0.01831564, 0.04978707]])"
      ]
     },
     "execution_count": 28,
     "metadata": {},
     "output_type": "execute_result"
    }
   ],
   "source": [
    "1/np.exp(d)"
   ]
  },
  {
   "cell_type": "markdown",
   "metadata": {},
   "source": [
    " ##### Indexing"
   ]
  },
  {
   "cell_type": "code",
   "execution_count": 29,
   "metadata": {},
   "outputs": [],
   "source": [
    "M = np.array([[1, 2, 3, 4],  # ----> x-axis\n",
    "              [5, 6, 7, 8],  # |\n",
    "              [9,10,11,12]]) # v\n",
    "                             #   y-axis"
   ]
  },
  {
   "cell_type": "code",
   "execution_count": 30,
   "metadata": {},
   "outputs": [
    {
     "data": {
      "text/plain": [
       "array([1, 2, 3, 4])"
      ]
     },
     "execution_count": 30,
     "metadata": {},
     "output_type": "execute_result"
    }
   ],
   "source": [
    "M[0, :]"
   ]
  },
  {
   "cell_type": "code",
   "execution_count": 31,
   "metadata": {},
   "outputs": [
    {
     "data": {
      "text/plain": [
       "(4,)"
      ]
     },
     "execution_count": 31,
     "metadata": {},
     "output_type": "execute_result"
    }
   ],
   "source": [
    "M[0, :].shape"
   ]
  },
  {
   "cell_type": "markdown",
   "metadata": {},
   "source": [
    " #### 인덱싱에 따라서 Dimension이 달라짐"
   ]
  },
  {
   "cell_type": "code",
   "execution_count": 32,
   "metadata": {},
   "outputs": [
    {
     "data": {
      "text/plain": [
       "array([[1, 2, 3, 4]])"
      ]
     },
     "execution_count": 32,
     "metadata": {},
     "output_type": "execute_result"
    }
   ],
   "source": [
    "M[0:1, :]"
   ]
  },
  {
   "cell_type": "code",
   "execution_count": 33,
   "metadata": {},
   "outputs": [
    {
     "data": {
      "text/plain": [
       "(1, 4)"
      ]
     },
     "execution_count": 33,
     "metadata": {},
     "output_type": "execute_result"
    }
   ],
   "source": [
    "M[0:1, :].shape"
   ]
  },
  {
   "cell_type": "code",
   "execution_count": 34,
   "metadata": {},
   "outputs": [
    {
     "data": {
      "text/plain": [
       "array([1, 5, 9])"
      ]
     },
     "execution_count": 34,
     "metadata": {},
     "output_type": "execute_result"
    }
   ],
   "source": [
    "M[:,0]"
   ]
  },
  {
   "cell_type": "code",
   "execution_count": 35,
   "metadata": {},
   "outputs": [
    {
     "data": {
      "text/plain": [
       "array([[1],\n",
       "       [5],\n",
       "       [9]])"
      ]
     },
     "execution_count": 35,
     "metadata": {},
     "output_type": "execute_result"
    }
   ],
   "source": [
    "M[:,0:1]"
   ]
  },
  {
   "cell_type": "code",
   "execution_count": 36,
   "metadata": {},
   "outputs": [
    {
     "data": {
      "text/plain": [
       "array([[2, 3],\n",
       "       [6, 7]])"
      ]
     },
     "execution_count": 36,
     "metadata": {},
     "output_type": "execute_result"
    }
   ],
   "source": [
    "M[:2, 1:3]"
   ]
  },
  {
   "cell_type": "markdown",
   "metadata": {},
   "source": [
    " ##### Reshape"
   ]
  },
  {
   "cell_type": "code",
   "execution_count": 37,
   "metadata": {
    "scrolled": true
   },
   "outputs": [
    {
     "data": {
      "text/plain": [
       "array([1., 1., 1., 1., 1., 1.])"
      ]
     },
     "execution_count": 37,
     "metadata": {},
     "output_type": "execute_result"
    }
   ],
   "source": [
    "a.reshape(6)"
   ]
  },
  {
   "cell_type": "code",
   "execution_count": 38,
   "metadata": {},
   "outputs": [
    {
     "data": {
      "text/plain": [
       "array([[1, 2, 3, 4, 5, 6]])"
      ]
     },
     "execution_count": 38,
     "metadata": {},
     "output_type": "execute_result"
    }
   ],
   "source": [
    "c.reshape(1,6)"
   ]
  },
  {
   "cell_type": "code",
   "execution_count": 39,
   "metadata": {},
   "outputs": [
    {
     "data": {
      "text/plain": [
       "array([[1, 2, 3],\n",
       "       [4, 5, 6]])"
      ]
     },
     "execution_count": 39,
     "metadata": {},
     "output_type": "execute_result"
    }
   ],
   "source": [
    "c.reshape(2,3)"
   ]
  },
  {
   "cell_type": "code",
   "execution_count": 40,
   "metadata": {},
   "outputs": [
    {
     "data": {
      "text/plain": [
       "array([[1],\n",
       "       [2],\n",
       "       [3],\n",
       "       [4],\n",
       "       [5],\n",
       "       [6]])"
      ]
     },
     "execution_count": 40,
     "metadata": {},
     "output_type": "execute_result"
    }
   ],
   "source": [
    "c.reshape(-1,1)"
   ]
  },
  {
   "cell_type": "code",
   "execution_count": 41,
   "metadata": {},
   "outputs": [
    {
     "data": {
      "text/plain": [
       "(1, 1, 4)"
      ]
     },
     "execution_count": 41,
     "metadata": {},
     "output_type": "execute_result"
    }
   ],
   "source": [
    "K = np.array([[[1,2,10,1]]])\n",
    "K.shape"
   ]
  },
  {
   "cell_type": "code",
   "execution_count": 42,
   "metadata": {},
   "outputs": [
    {
     "data": {
      "text/plain": [
       "array([ 1,  2, 10,  1])"
      ]
     },
     "execution_count": 42,
     "metadata": {},
     "output_type": "execute_result"
    }
   ],
   "source": [
    "K.reshape(-1)"
   ]
  },
  {
   "cell_type": "markdown",
   "metadata": {},
   "source": [
    " ##### Operator"
   ]
  },
  {
   "cell_type": "code",
   "execution_count": 43,
   "metadata": {},
   "outputs": [
    {
     "data": {
      "text/plain": [
       "[[1, 2, 3], [nan, 20, 30]]"
      ]
     },
     "execution_count": 43,
     "metadata": {},
     "output_type": "execute_result"
    }
   ],
   "source": [
    "x = [[1,2,3],[np.nan,20,30]]\n",
    "x"
   ]
  },
  {
   "cell_type": "code",
   "execution_count": 44,
   "metadata": {},
   "outputs": [
    {
     "data": {
      "text/plain": [
       "array([[ 1.,  2.,  3.],\n",
       "       [nan, 20., 30.]])"
      ]
     },
     "execution_count": 44,
     "metadata": {},
     "output_type": "execute_result"
    }
   ],
   "source": [
    "x_arr = np.array(x)\n",
    "x_arr"
   ]
  },
  {
   "cell_type": "code",
   "execution_count": 45,
   "metadata": {},
   "outputs": [
    {
     "data": {
      "text/plain": [
       "array([[ 1.,  2.,  3.],\n",
       "       [nan, 40., 60.]])"
      ]
     },
     "execution_count": 45,
     "metadata": {},
     "output_type": "execute_result"
    }
   ],
   "source": [
    "np.array([[1,2]]).reshape(-1,1) * x_arr"
   ]
  },
  {
   "cell_type": "code",
   "execution_count": 46,
   "metadata": {},
   "outputs": [
    {
     "data": {
      "text/plain": [
       "array([nan, 22., 33.])"
      ]
     },
     "execution_count": 46,
     "metadata": {},
     "output_type": "execute_result"
    }
   ],
   "source": [
    "x_arr.sum(0)"
   ]
  },
  {
   "cell_type": "code",
   "execution_count": 47,
   "metadata": {},
   "outputs": [
    {
     "data": {
      "text/plain": [
       "array([ 6., nan])"
      ]
     },
     "execution_count": 47,
     "metadata": {},
     "output_type": "execute_result"
    }
   ],
   "source": [
    "x_arr.sum(1)"
   ]
  },
  {
   "cell_type": "code",
   "execution_count": 48,
   "metadata": {},
   "outputs": [
    {
     "data": {
      "text/plain": [
       "array([ nan, 11. , 16.5])"
      ]
     },
     "execution_count": 48,
     "metadata": {},
     "output_type": "execute_result"
    }
   ],
   "source": [
    "x_arr.mean(0)"
   ]
  },
  {
   "cell_type": "code",
   "execution_count": 49,
   "metadata": {},
   "outputs": [
    {
     "data": {
      "text/plain": [
       "array([0.81649658,        nan])"
      ]
     },
     "execution_count": 49,
     "metadata": {},
     "output_type": "execute_result"
    }
   ],
   "source": [
    "x_arr.std(1)"
   ]
  },
  {
   "cell_type": "markdown",
   "metadata": {},
   "source": [
    " ##### Two array operate"
   ]
  },
  {
   "cell_type": "code",
   "execution_count": 50,
   "metadata": {},
   "outputs": [
    {
     "data": {
      "text/plain": [
       "array([[ 6,  8],\n",
       "       [10, 12]])"
      ]
     },
     "execution_count": 50,
     "metadata": {},
     "output_type": "execute_result"
    }
   ],
   "source": [
    "X = np.array([[1, 2],\n",
    "              [3, 4]])\n",
    "Y = np.array([[5, 6],\n",
    "              [7, 8]])\n",
    "X + Y"
   ]
  },
  {
   "cell_type": "code",
   "execution_count": 51,
   "metadata": {},
   "outputs": [
    {
     "data": {
      "text/plain": [
       "array([[ 5, 12],\n",
       "       [21, 32]])"
      ]
     },
     "execution_count": 51,
     "metadata": {},
     "output_type": "execute_result"
    }
   ],
   "source": [
    "X*Y"
   ]
  },
  {
   "cell_type": "code",
   "execution_count": 52,
   "metadata": {},
   "outputs": [
    {
     "data": {
      "text/plain": [
       "array([[0.2       , 0.33333333],\n",
       "       [0.42857143, 0.5       ]])"
      ]
     },
     "execution_count": 52,
     "metadata": {},
     "output_type": "execute_result"
    }
   ],
   "source": [
    "X/Y"
   ]
  },
  {
   "cell_type": "code",
   "execution_count": 53,
   "metadata": {},
   "outputs": [
    {
     "data": {
      "text/plain": [
       "array([[1.        , 1.41421356],\n",
       "       [1.73205081, 2.        ]])"
      ]
     },
     "execution_count": 53,
     "metadata": {},
     "output_type": "execute_result"
    }
   ],
   "source": [
    "np.sqrt(X)"
   ]
  },
  {
   "cell_type": "markdown",
   "metadata": {},
   "source": [
    " ##### Operation of different shape"
   ]
  },
  {
   "cell_type": "code",
   "execution_count": 54,
   "metadata": {},
   "outputs": [
    {
     "data": {
      "text/plain": [
       "array([[2.        ],\n",
       "       [3.14159265]])"
      ]
     },
     "execution_count": 54,
     "metadata": {},
     "output_type": "execute_result"
    }
   ],
   "source": [
    "y_arr = np.array([[2],[np.pi]])\n",
    "z_arr = np.array([[1,2,3],[2,3,4]])\n",
    "y_arr"
   ]
  },
  {
   "cell_type": "code",
   "execution_count": 55,
   "metadata": {},
   "outputs": [
    {
     "data": {
      "text/plain": [
       "array([[1, 2, 3],\n",
       "       [2, 3, 4]])"
      ]
     },
     "execution_count": 55,
     "metadata": {},
     "output_type": "execute_result"
    }
   ],
   "source": [
    "z_arr"
   ]
  },
  {
   "cell_type": "code",
   "execution_count": 56,
   "metadata": {},
   "outputs": [
    {
     "data": {
      "text/plain": [
       "((2, 3), (2, 1))"
      ]
     },
     "execution_count": 56,
     "metadata": {},
     "output_type": "execute_result"
    }
   ],
   "source": [
    "z_arr.shape, y_arr.shape"
   ]
  },
  {
   "cell_type": "code",
   "execution_count": 57,
   "metadata": {},
   "outputs": [
    {
     "data": {
      "text/plain": [
       "array([[ 2.        ,  4.        ,  6.        ],\n",
       "       [ 6.28318531,  9.42477796, 12.56637061]])"
      ]
     },
     "execution_count": 57,
     "metadata": {},
     "output_type": "execute_result"
    }
   ],
   "source": [
    "y_arr * z_arr"
   ]
  },
  {
   "cell_type": "code",
   "execution_count": 58,
   "metadata": {},
   "outputs": [
    {
     "data": {
      "text/plain": [
       "array([[3.        , 4.        , 5.        ],\n",
       "       [5.14159265, 6.14159265, 7.14159265]])"
      ]
     },
     "execution_count": 58,
     "metadata": {},
     "output_type": "execute_result"
    }
   ],
   "source": [
    "z_arr + y_arr"
   ]
  },
  {
   "cell_type": "markdown",
   "metadata": {},
   "source": [
    " ##### Operation of different shape2"
   ]
  },
  {
   "cell_type": "code",
   "execution_count": 59,
   "metadata": {},
   "outputs": [
    {
     "data": {
      "text/plain": [
       "array([[10, 20, 30]])"
      ]
     },
     "execution_count": 59,
     "metadata": {},
     "output_type": "execute_result"
    }
   ],
   "source": [
    "A = np.array([10,20,30]).reshape(1,-1)\n",
    "B = np.array([1,2,3]).reshape(-1,1)\n",
    "A"
   ]
  },
  {
   "cell_type": "code",
   "execution_count": 60,
   "metadata": {},
   "outputs": [
    {
     "data": {
      "text/plain": [
       "((1, 3), (3, 1))"
      ]
     },
     "execution_count": 60,
     "metadata": {},
     "output_type": "execute_result"
    }
   ],
   "source": [
    "A.shape, B.shape"
   ]
  },
  {
   "cell_type": "code",
   "execution_count": 61,
   "metadata": {},
   "outputs": [
    {
     "data": {
      "text/plain": [
       "array([[1],\n",
       "       [2],\n",
       "       [3]])"
      ]
     },
     "execution_count": 61,
     "metadata": {},
     "output_type": "execute_result"
    }
   ],
   "source": [
    "B"
   ]
  },
  {
   "cell_type": "code",
   "execution_count": 62,
   "metadata": {},
   "outputs": [
    {
     "data": {
      "text/plain": [
       "array([[10, 20, 30],\n",
       "       [20, 40, 60],\n",
       "       [30, 60, 90]])"
      ]
     },
     "execution_count": 62,
     "metadata": {},
     "output_type": "execute_result"
    }
   ],
   "source": [
    "A*B"
   ]
  },
  {
   "cell_type": "markdown",
   "metadata": {},
   "source": [
    " ##### 1D array > 2D array , 2D array > 1D array"
   ]
  },
  {
   "cell_type": "code",
   "execution_count": 63,
   "metadata": {},
   "outputs": [
    {
     "data": {
      "text/plain": [
       "array([1, 2, 3, 4, 5, 6])"
      ]
     },
     "execution_count": 63,
     "metadata": {},
     "output_type": "execute_result"
    }
   ],
   "source": [
    "temp_arr = np.array(range(1,7))\n",
    "temp_arr"
   ]
  },
  {
   "cell_type": "code",
   "execution_count": 64,
   "metadata": {},
   "outputs": [
    {
     "data": {
      "text/plain": [
       "array([[1, 2],\n",
       "       [3, 4],\n",
       "       [5, 6]])"
      ]
     },
     "execution_count": 64,
     "metadata": {},
     "output_type": "execute_result"
    }
   ],
   "source": [
    "temp_arr2 = temp_arr.reshape(3,2)\n",
    "temp_arr2"
   ]
  },
  {
   "cell_type": "code",
   "execution_count": 65,
   "metadata": {},
   "outputs": [
    {
     "data": {
      "text/plain": [
       "array([[1., 0., 0.],\n",
       "       [0., 1., 0.],\n",
       "       [0., 0., 1.]])"
      ]
     },
     "execution_count": 65,
     "metadata": {},
     "output_type": "execute_result"
    }
   ],
   "source": [
    "np.eye(3)"
   ]
  },
  {
   "cell_type": "code",
   "execution_count": 66,
   "metadata": {},
   "outputs": [
    {
     "data": {
      "text/plain": [
       "array([[2., 1., 1.],\n",
       "       [1., 2., 1.],\n",
       "       [1., 1., 2.]])"
      ]
     },
     "execution_count": 66,
     "metadata": {},
     "output_type": "execute_result"
    }
   ],
   "source": [
    "p= np.eye(3) + np.ones((3,1))\n",
    "p"
   ]
  },
  {
   "cell_type": "markdown",
   "metadata": {},
   "source": [
    " ### 1-3. Transpose"
   ]
  },
  {
   "cell_type": "code",
   "execution_count": 67,
   "metadata": {},
   "outputs": [
    {
     "data": {
      "text/plain": [
       "array([[10, 20, 30]])"
      ]
     },
     "execution_count": 67,
     "metadata": {},
     "output_type": "execute_result"
    }
   ],
   "source": [
    "A = np.array([10,20,30]).reshape(1,-1)\n",
    "A"
   ]
  },
  {
   "cell_type": "code",
   "execution_count": 68,
   "metadata": {},
   "outputs": [
    {
     "data": {
      "text/plain": [
       "array([[10],\n",
       "       [20],\n",
       "       [30]])"
      ]
     },
     "execution_count": 68,
     "metadata": {},
     "output_type": "execute_result"
    }
   ],
   "source": [
    "A.T"
   ]
  },
  {
   "cell_type": "code",
   "execution_count": 69,
   "metadata": {},
   "outputs": [
    {
     "data": {
      "text/plain": [
       "array([[1, 9, 9],\n",
       "       [6, 5, 2],\n",
       "       [8, 4, 5]])"
      ]
     },
     "execution_count": 69,
     "metadata": {},
     "output_type": "execute_result"
    }
   ],
   "source": [
    "ar = np.random.randint(1,10,size = (3,3))\n",
    "ar"
   ]
  },
  {
   "cell_type": "code",
   "execution_count": 70,
   "metadata": {},
   "outputs": [
    {
     "data": {
      "text/plain": [
       "array([[1, 6, 8],\n",
       "       [9, 5, 4],\n",
       "       [9, 2, 5]])"
      ]
     },
     "execution_count": 70,
     "metadata": {},
     "output_type": "execute_result"
    }
   ],
   "source": [
    "ar.T"
   ]
  },
  {
   "cell_type": "code",
   "execution_count": 71,
   "metadata": {},
   "outputs": [
    {
     "data": {
      "text/plain": [
       "array([[[1, 2, 2],\n",
       "        [4, 3, 4]],\n",
       "\n",
       "       [[4, 4, 1],\n",
       "        [2, 1, 2]],\n",
       "\n",
       "       [[3, 1, 2],\n",
       "        [1, 3, 2]],\n",
       "\n",
       "       [[1, 3, 3],\n",
       "        [3, 1, 1]]])"
      ]
     },
     "execution_count": 71,
     "metadata": {},
     "output_type": "execute_result"
    }
   ],
   "source": [
    "ar2 = np.random.randint(1,5, size = (4,2,3))\n",
    "ar2"
   ]
  },
  {
   "cell_type": "code",
   "execution_count": 72,
   "metadata": {},
   "outputs": [
    {
     "data": {
      "text/plain": [
       "(4, 2, 3)"
      ]
     },
     "execution_count": 72,
     "metadata": {},
     "output_type": "execute_result"
    }
   ],
   "source": [
    "ar2.shape"
   ]
  },
  {
   "cell_type": "code",
   "execution_count": 73,
   "metadata": {},
   "outputs": [
    {
     "data": {
      "text/plain": [
       "array([[[1, 4, 3, 1],\n",
       "        [4, 2, 1, 3]],\n",
       "\n",
       "       [[2, 4, 1, 3],\n",
       "        [3, 1, 3, 1]],\n",
       "\n",
       "       [[2, 1, 2, 3],\n",
       "        [4, 2, 2, 1]]])"
      ]
     },
     "execution_count": 73,
     "metadata": {},
     "output_type": "execute_result"
    }
   ],
   "source": [
    "ar2_ = ar2.transpose(2,1,0)\n",
    "ar2_"
   ]
  },
  {
   "cell_type": "code",
   "execution_count": 74,
   "metadata": {},
   "outputs": [
    {
     "data": {
      "text/plain": [
       "(3, 2, 4)"
      ]
     },
     "execution_count": 74,
     "metadata": {},
     "output_type": "execute_result"
    }
   ],
   "source": [
    "ar2_.shape"
   ]
  },
  {
   "cell_type": "markdown",
   "metadata": {},
   "source": [
    " ### 1-4. Multiplication\n",
    " \n",
    "\\begin{align}\n",
    "matrix \\times matrix = matrix\\\\\n",
    "(a,b) \\ \\ \\ \\ \\ \\ \\ \\  (b,c) \\ \\ \\ \\ \\ \\ (a,c) \\ \\ \n",
    "\\end{align}"
   ]
  },
  {
   "cell_type": "code",
   "execution_count": 75,
   "metadata": {
    "scrolled": true
   },
   "outputs": [
    {
     "data": {
      "text/plain": [
       "array([[73, 92],\n",
       "       [31, 44],\n",
       "       [45, 62]])"
      ]
     },
     "execution_count": 75,
     "metadata": {},
     "output_type": "execute_result"
    }
   ],
   "source": [
    "ar.dot(temp_arr2)"
   ]
  },
  {
   "cell_type": "code",
   "execution_count": 76,
   "metadata": {},
   "outputs": [
    {
     "data": {
      "text/plain": [
       "array([[100, 200, 300],\n",
       "       [200, 400, 600],\n",
       "       [300, 600, 900]])"
      ]
     },
     "execution_count": 76,
     "metadata": {},
     "output_type": "execute_result"
    }
   ],
   "source": [
    "A.T.dot(A)"
   ]
  },
  {
   "cell_type": "code",
   "execution_count": 77,
   "metadata": {},
   "outputs": [
    {
     "data": {
      "text/plain": [
       "array([[1400]])"
      ]
     },
     "execution_count": 77,
     "metadata": {},
     "output_type": "execute_result"
    }
   ],
   "source": [
    "A.dot(A.T)"
   ]
  },
  {
   "cell_type": "markdown",
   "metadata": {},
   "source": [
    " ### ★1-5. portfolio volatility example\n",
    "\\begin{align}\n",
    "\\sigma_{PF}^2 = w \\times \\sum \\times w^T \\\\\n",
    "(\\sum \\ is \\ cov \\ matrix)\n",
    "\\end{align}\n",
    "\n",
    "Covariance Matrix\n",
    "\n",
    "| cov|A|B|C|\n",
    "|------|---|---|---|\n",
    "A|Cov(A,A)|\tCov(A,B)|\tCov(A,C)|\n",
    "B|\tCov(B,A)|\tCov(B,B)|\tCov(B,C)|\n",
    "C|\tCov(C,A)|\tCov(C,B)|\tCov(C,C)|"
   ]
  },
  {
   "cell_type": "code",
   "execution_count": 78,
   "metadata": {},
   "outputs": [
    {
     "data": {
      "text/plain": [
       "array([[0.2, 0.3, 0.5]])"
      ]
     },
     "execution_count": 78,
     "metadata": {},
     "output_type": "execute_result"
    }
   ],
   "source": [
    "w = np.array([0.2, 0.3, 0.5]).reshape(1,-1)\n",
    "w"
   ]
  },
  {
   "cell_type": "code",
   "execution_count": 79,
   "metadata": {},
   "outputs": [],
   "source": [
    "vol = np.array([0.2, 0.15, 0.3]).reshape(1,-1)\n",
    "corr = np.array([[1   , 0.6  , -0.2  ],                 \n",
    "                 [0.6 ,   1  , 0.0018],\n",
    "                 [-0.2,0.0018,1      ]])\n"
   ]
  },
  {
   "cell_type": "code",
   "execution_count": 80,
   "metadata": {},
   "outputs": [
    {
     "data": {
      "text/plain": [
       "array([[0.04  , 0.03  , 0.06  ],\n",
       "       [0.03  , 0.0225, 0.045 ],\n",
       "       [0.06  , 0.045 , 0.09  ]])"
      ]
     },
     "execution_count": 80,
     "metadata": {},
     "output_type": "execute_result"
    }
   ],
   "source": [
    "vol * vol.reshape(-1,1)"
   ]
  },
  {
   "cell_type": "code",
   "execution_count": 81,
   "metadata": {},
   "outputs": [
    {
     "data": {
      "text/plain": [
       "array([[ 4.00e-02,  1.80e-02, -1.20e-02],\n",
       "       [ 1.80e-02,  2.25e-02,  8.10e-05],\n",
       "       [-1.20e-02,  8.10e-05,  9.00e-02]])"
      ]
     },
     "execution_count": 81,
     "metadata": {},
     "output_type": "execute_result"
    }
   ],
   "source": [
    "cov = vol * vol.reshape(-1,1) * corr\n",
    "cov"
   ]
  },
  {
   "cell_type": "code",
   "execution_count": 82,
   "metadata": {
    "scrolled": true
   },
   "outputs": [
    {
     "data": {
      "text/plain": [
       "array([[0.16096366]])"
      ]
     },
     "execution_count": 82,
     "metadata": {},
     "output_type": "execute_result"
    }
   ],
   "source": [
    "np.sqrt(w.dot(cov).dot(w.T))"
   ]
  },
  {
   "cell_type": "markdown",
   "metadata": {},
   "source": [
    "## ■■■■■■■■■■■■■■■■■■■■■■■■■■■■■■■■■■■■■ \n",
    " ## 1-1 ~ 1-5 실습\n"
   ]
  },
  {
   "cell_type": "markdown",
   "metadata": {},
   "source": [
    " ### 문제 1.\n",
    " \n",
    " 주식A의 4일동안의 일일 수익률은 2% , -1%, 1%, 3% 이다.\n",
    " \n",
    " 주식B의 4일동안의 일일 수익률은 -5%, -5%, 10% , 0% 이다.\n",
    " \n",
    " 주식C의 4일동안의 일일 수익률은 0.5%, 2%, 2.5% , 3% 이다.\n",
    " \n",
    " 4일 전의 주가는 각각 100, 55, 37이다.\n",
    " \n",
    " np.array를 통하여 각 주식의 4일동안 가격을 구하시오. \n",
    " \n",
    " 또한 각각 주식의 4일동안의 총 수익률을 계산하시오.\n",
    " \n",
    " 마지막으로 각 주식수익률의 변동성을 계산하시오."
   ]
  },
  {
   "cell_type": "code",
   "execution_count": 83,
   "metadata": {},
   "outputs": [],
   "source": [
    "#############################\n",
    "##풀이과정을 여기에 쓰세요 ##\n",
    "#############################\n",
    "r = np.array([[2,-1,1,3],[-5,-5,10,0],[0.5,2,2.5,3]])/100\n",
    "Stock = np.array([100,55,37]).reshape(-1,1)\n",
    "Stock_path = Stock * (1+r).cumprod(1)\n",
    "Total_Ret = Stock_path[:,-1] / Stock.reshape(-1)\n",
    "vol = r.std(1)\n",
    "#############################"
   ]
  },
  {
   "cell_type": "markdown",
   "metadata": {},
   "source": [
    "### 문제 2.\n",
    "\n",
    "문제 2에서 3개의 주식의 상관계수행렬은 다음과 같다.\n",
    "\n",
    "| |A|B|C|\n",
    "|--|------|---|----|\n",
    "|A|1|0.14|0.09|\n",
    "|B|0.14|1|0.55|\n",
    "|C|0.09 |0.55  |1|\n",
    "\n",
    "만약 포트폴리오의 비율을 각각 20% 30% 50%로 구성한다면 포트폴리오 변동성은 얼마인가?"
   ]
  },
  {
   "cell_type": "code",
   "execution_count": 84,
   "metadata": {
    "scrolled": true
   },
   "outputs": [],
   "source": [
    "#############################\n",
    "##풀이과정을 여기에 쓰세요 ##\n",
    "#############################\n",
    "r = np.array([[2,-1,1,3],[-5,-5,10,0],[0.5,2,2.5,3]])/100\n",
    "vol = r.std(1)\n",
    "\n",
    "w = np.array([0.2,0.3,0.5]).reshape(1,-1)\n",
    "corr = np.array([[1,0.14,0.09],[0.14,1,0.55],[0.09,0.55,1]])\n",
    "cov = vol.reshape(-1,1) * vol.reshape(1,-1) * corr\n",
    "PF_vol = np.sqrt(w.dot(cov).dot(w.T))\n",
    "#############################"
   ]
  },
  {
   "cell_type": "code",
   "execution_count": 85,
   "metadata": {},
   "outputs": [],
   "source": [
    "PF_vol = np.sqrt(w.dot(cov).dot(w.T))"
   ]
  },
  {
   "cell_type": "markdown",
   "metadata": {},
   "source": [
    "## ■■■■■■■■■■■■■■■■■■■■■■■■■■■■■■■■■■■■■ "
   ]
  },
  {
   "cell_type": "markdown",
   "metadata": {},
   "source": [
    " ## 2. Random Number Generate (Advanced)"
   ]
  },
  {
   "cell_type": "markdown",
   "metadata": {},
   "source": [
    " ### 2-1. random normal, multivariate normal"
   ]
  },
  {
   "cell_type": "code",
   "execution_count": 86,
   "metadata": {},
   "outputs": [
    {
     "data": {
      "text/plain": [
       "array([[ 1.21103499,  0.7317763 , -0.12254319],\n",
       "       [-1.40671012,  0.30339457,  1.40074622],\n",
       "       [ 0.47535847, -0.24366187,  0.55871982],\n",
       "       [ 0.95851891, -0.47179901,  0.90675837],\n",
       "       [-2.9141678 , -0.58284052,  1.15271933],\n",
       "       [-1.70528466, -0.95349475, -1.27065746],\n",
       "       [-0.22571081,  0.57646189,  0.36075071],\n",
       "       [ 0.45390607,  0.33734877,  0.05200452],\n",
       "       [-0.05328742,  0.25337359, -0.28081878],\n",
       "       [-0.78407025, -0.09641732, -0.82906416]])"
      ]
     },
     "execution_count": 86,
     "metadata": {},
     "output_type": "execute_result"
    }
   ],
   "source": [
    "np.random.normal(0,1,size = (10,3))"
   ]
  },
  {
   "cell_type": "code",
   "execution_count": 87,
   "metadata": {},
   "outputs": [
    {
     "data": {
      "text/plain": [
       "array([[ 0.0014877 ,  0.08918988, -0.00012213],\n",
       "       [ 0.00571097,  0.0362796 ,  0.00042085],\n",
       "       [-0.02592129, -0.03658507, -0.0022313 ],\n",
       "       [-0.00287664,  0.08684969,  0.0166269 ],\n",
       "       [-0.02483899,  0.04650246,  0.01244068],\n",
       "       [ 0.00099458,  0.05752986, -0.00622076],\n",
       "       [-0.01758694,  0.08791185, -0.00583386],\n",
       "       [-0.01314835,  0.0155032 , -0.01576392],\n",
       "       [-0.02072876, -0.07599415, -0.0044574 ],\n",
       "       [ 0.00195223,  0.04320378, -0.02480751]])"
      ]
     },
     "execution_count": 87,
     "metadata": {},
     "output_type": "execute_result"
    }
   ],
   "source": [
    "STD = np.array([0.015, 0.06, 0.01])\n",
    "np.random.normal([0,0,0], STD, size = (10,3))"
   ]
  },
  {
   "cell_type": "code",
   "execution_count": 88,
   "metadata": {},
   "outputs": [
    {
     "data": {
      "text/plain": [
       "array([[ 0.23618226, -0.57412651, -0.55682213],\n",
       "       [-0.87564611, -0.32287792, -0.59965954],\n",
       "       [ 0.59429623, -0.81499   ,  0.16004112],\n",
       "       [ 0.98177637,  1.49073747,  1.46531105],\n",
       "       [-0.05510655,  0.78771361, -0.12063325],\n",
       "       [ 1.02118015,  1.13770647,  0.31627884],\n",
       "       [-0.14629438,  1.51384314,  0.94415143],\n",
       "       [ 0.13593696,  0.42934428, -0.28208776],\n",
       "       [ 0.87851708,  1.10071545,  1.39764254],\n",
       "       [ 0.42054707,  0.07670726,  0.25665259]])"
      ]
     },
     "execution_count": 88,
     "metadata": {},
     "output_type": "execute_result"
    }
   ],
   "source": [
    "corr = np.array([[1,0.14,0.09],[0.14,1,0.55],[0.09,0.55,1]])\n",
    "mvrn = np.random.multivariate_normal([0,0,0], corr, 10)\n",
    "mvrn"
   ]
  },
  {
   "cell_type": "code",
   "execution_count": 89,
   "metadata": {},
   "outputs": [
    {
     "data": {
      "text/plain": [
       "array([[ 0.00354273, -0.03444759, -0.00556822],\n",
       "       [-0.01313469, -0.01937268, -0.0059966 ],\n",
       "       [ 0.00891444, -0.0488994 ,  0.00160041],\n",
       "       [ 0.01472665,  0.08944425,  0.01465311],\n",
       "       [-0.0008266 ,  0.04726282, -0.00120633],\n",
       "       [ 0.0153177 ,  0.06826239,  0.00316279],\n",
       "       [-0.00219442,  0.09083059,  0.00944151],\n",
       "       [ 0.00203905,  0.02576066, -0.00282088],\n",
       "       [ 0.01317776,  0.06604293,  0.01397643],\n",
       "       [ 0.00630821,  0.00460244,  0.00256653]])"
      ]
     },
     "execution_count": 89,
     "metadata": {},
     "output_type": "execute_result"
    }
   ],
   "source": [
    "STD * mvrn # Multivariate random normal return"
   ]
  },
  {
   "cell_type": "markdown",
   "metadata": {},
   "source": [
    " ### 2-2. np.arange, np.linspace"
   ]
  },
  {
   "cell_type": "code",
   "execution_count": 90,
   "metadata": {},
   "outputs": [
    {
     "data": {
      "text/plain": [
       "array([0. , 0.1, 0.2, 0.3, 0.4, 0.5, 0.6, 0.7, 0.8, 0.9, 1. , 1.1, 1.2,\n",
       "       1.3, 1.4, 1.5, 1.6, 1.7, 1.8, 1.9, 2. , 2.1, 2.2, 2.3, 2.4, 2.5,\n",
       "       2.6, 2.7, 2.8, 2.9, 3. , 3.1, 3.2, 3.3, 3.4, 3.5, 3.6, 3.7, 3.8,\n",
       "       3.9, 4. , 4.1, 4.2, 4.3, 4.4, 4.5, 4.6, 4.7, 4.8, 4.9, 5. , 5.1,\n",
       "       5.2, 5.3, 5.4, 5.5, 5.6, 5.7, 5.8, 5.9, 6. , 6.1, 6.2, 6.3, 6.4,\n",
       "       6.5, 6.6, 6.7, 6.8, 6.9, 7. , 7.1, 7.2, 7.3, 7.4, 7.5, 7.6, 7.7,\n",
       "       7.8, 7.9, 8. , 8.1, 8.2, 8.3, 8.4, 8.5, 8.6, 8.7, 8.8, 8.9, 9. ,\n",
       "       9.1, 9.2, 9.3, 9.4, 9.5, 9.6, 9.7, 9.8, 9.9])"
      ]
     },
     "execution_count": 90,
     "metadata": {},
     "output_type": "execute_result"
    }
   ],
   "source": [
    "np.arange(0,10,0.1)"
   ]
  },
  {
   "cell_type": "code",
   "execution_count": 91,
   "metadata": {},
   "outputs": [
    {
     "data": {
      "text/plain": [
       "array([ 0. ,  0.1,  0.2,  0.3,  0.4,  0.5,  0.6,  0.7,  0.8,  0.9,  1. ,\n",
       "        1.1,  1.2,  1.3,  1.4,  1.5,  1.6,  1.7,  1.8,  1.9,  2. ,  2.1,\n",
       "        2.2,  2.3,  2.4,  2.5,  2.6,  2.7,  2.8,  2.9,  3. ,  3.1,  3.2,\n",
       "        3.3,  3.4,  3.5,  3.6,  3.7,  3.8,  3.9,  4. ,  4.1,  4.2,  4.3,\n",
       "        4.4,  4.5,  4.6,  4.7,  4.8,  4.9,  5. ,  5.1,  5.2,  5.3,  5.4,\n",
       "        5.5,  5.6,  5.7,  5.8,  5.9,  6. ,  6.1,  6.2,  6.3,  6.4,  6.5,\n",
       "        6.6,  6.7,  6.8,  6.9,  7. ,  7.1,  7.2,  7.3,  7.4,  7.5,  7.6,\n",
       "        7.7,  7.8,  7.9,  8. ,  8.1,  8.2,  8.3,  8.4,  8.5,  8.6,  8.7,\n",
       "        8.8,  8.9,  9. ,  9.1,  9.2,  9.3,  9.4,  9.5,  9.6,  9.7,  9.8,\n",
       "        9.9, 10. ])"
      ]
     },
     "execution_count": 91,
     "metadata": {},
     "output_type": "execute_result"
    }
   ],
   "source": [
    "np.linspace(0,10,101)"
   ]
  },
  {
   "cell_type": "markdown",
   "metadata": {},
   "source": [
    " ### 2-3. Stock Price Simulation without loop (중요도 높음)\n",
    "\n",
    "$$\n",
    "\\begin{array}{c}\n",
    " dS = r S dt + \\sigma S d\\hat{W} \\\\\n",
    " S_{1} = S_{0} e^{(r-\\frac{\\sigma^2}{2})dt + \\sigma \\sqrt{dt} \\bullet \\epsilon} \\\\\n",
    " S_{2} = S_{1} e^{(r-\\frac{\\sigma^2}{2})dt + \\sigma \\sqrt{dt} \\bullet \\epsilon} \\\\\n",
    " ... \\\\\n",
    " S_{T} = S_{T-1} e^{(r-\\frac{\\sigma^2}{2})dt + \\sigma \\sqrt{dt} \\bullet \\epsilon} \\\\\n",
    "\\end{array}\n",
    "$$\n",
    " ### Generalize\n",
    "$$\n",
    "\\begin{array}{c}\n",
    " S_{t} = S_{0} e^{(r-\\frac{\\sigma^2}{2})t + \\sigma \\sqrt{dt} \\sum_{1}^{t} \\epsilon_i}\n",
    "\\end{array}\n",
    "$$\n"
   ]
  },
  {
   "cell_type": "markdown",
   "metadata": {},
   "source": [
    " ##### 1년동안 1종목 주가시뮬레이션 1회 ( 1년 252bdays)"
   ]
  },
  {
   "cell_type": "code",
   "execution_count": 92,
   "metadata": {},
   "outputs": [],
   "source": [
    "import matplotlib.pyplot as plt"
   ]
  },
  {
   "cell_type": "code",
   "execution_count": 93,
   "metadata": {},
   "outputs": [],
   "source": [
    "r = 0.05\n",
    "sigma = 0.2\n",
    "t = 1\n",
    "dt = 1/252\n",
    "S0 = 1000\n",
    "trange= np.arange(dt, t+dt, dt)\n",
    "e = np.random.normal(0,1,len(trange))\n",
    "drift = (r-0.5*sigma**2) * trange\n",
    "diffusion = sigma * np.sqrt(dt) * e.cumsum()\n",
    "St = S0 * np.exp(drift + diffusion)"
   ]
  },
  {
   "cell_type": "code",
   "execution_count": 94,
   "metadata": {},
   "outputs": [
    {
     "data": {
      "image/png": "[encoded data removed]",
      "text/plain": [
       "<Figure size 432x288 with 1 Axes>"
      ]
     },
     "metadata": {
      "needs_background": "light"
     },
     "output_type": "display_data"
    }
   ],
   "source": [
    "plt.plot(St)\n",
    "plt.show()"
   ]
  },
  {
   "cell_type": "markdown",
   "metadata": {},
   "source": [
    " ##### 1년동안 1종목 주가시뮬레이션 10회"
   ]
  },
  {
   "cell_type": "code",
   "execution_count": 95,
   "metadata": {},
   "outputs": [],
   "source": [
    "r, sigma = 0.05, 0.2\n",
    "t = 1\n",
    "simul_num = 10\n",
    "dt = 1/252\n",
    "S0 = 1000\n",
    "trange = np.arange(dt,t+dt,dt).reshape(-1,1)\n",
    "e = np.random.normal(0,1,(trange.shape[0],simul_num))\n",
    "drift = (r-0.5 * sigma**2) * trange\n",
    "diffusion  = sigma * np.sqrt(dt) * e.cumsum(0)\n",
    "St = S0 * np.exp(drift + diffusion)"
   ]
  },
  {
   "cell_type": "code",
   "execution_count": 96,
   "metadata": {},
   "outputs": [
    {
     "data": {
      "image/png": "[encoded data removed]",
      "text/plain": [
       "<Figure size 432x288 with 1 Axes>"
      ]
     },
     "metadata": {
      "needs_background": "light"
     },
     "output_type": "display_data"
    }
   ],
   "source": [
    "plt.plot(St)\n",
    "plt.show()"
   ]
  },
  {
   "cell_type": "markdown",
   "metadata": {},
   "source": [
    "## ■■■■■■■■■■■■■■■■■■■■■■■■■■■■■■■■■■■■■ \n",
    "## 2-1~2-3. 실습\n"
   ]
  },
  {
   "cell_type": "markdown",
   "metadata": {},
   "source": [
    "### 문제 2.\n",
    "T시점의 주가를 몬테카를로 시뮬레이션 1000회 시도하여 구하고, 이를 통해 콜옵션가격을 계산하시오. (반복문,for loop를 사용하지 마시오.)\n",
    "\n",
    "\\begin{align}\n",
    "S_0 = 100, \\ K = 90, \\  \\sigma = 0.2, \\  T = 1, \\ r = 0.02 \\\\\n",
    "\\\\\n",
    "S(T) = S_0 e^{ (r-\\frac{\\sigma^2}{2})T + \\sigma \\sqrt{T} \\epsilon} \\\\\n",
    "\\epsilon \\sim N(0,1)\n",
    "\\\\\n",
    "\\\\\n",
    "C_0^{path(n)} = e^{-rT} \\times  Payoff(T)\n",
    "\\\\\n",
    "\\\\\n",
    "Payoff(T) = max(S(T) - K, 0)\n",
    "\\\\\n",
    "\\\\\n",
    "C_0 = average \\ of \\ [ C_0^{path1} , C_0^{path2} , C_0^{path3},...,  C_0^{path1000}]\n",
    "\\end{align}"
   ]
  },
  {
   "cell_type": "code",
   "execution_count": 97,
   "metadata": {},
   "outputs": [
    {
     "data": {
      "text/plain": [
       "15.43554694714458"
      ]
     },
     "execution_count": 97,
     "metadata": {},
     "output_type": "execute_result"
    }
   ],
   "source": [
    "#############################\n",
    "##풀이과정을 여기에 쓰세요 ##\n",
    "#############################\n",
    "r, sigma, T  = 0.02, 0.2, 1\n",
    "S0, K= 100, 90\n",
    "simul_num = 1000\n",
    "dt = 1/252\n",
    "trange = np.arange(dt,T+dt,dt).reshape(-1,1)\n",
    "e = np.random.normal(0,1,(trange.shape[0],simul_num))\n",
    "drift = (r-0.5 * sigma**2) * trange\n",
    "diffusion  = sigma * np.sqrt(dt) * e.cumsum(0)\n",
    "St = S0 * np.exp(drift + diffusion)\n",
    "C = (np.exp(-r * T) * np.maximum(St[-1] - K, 0)).mean()\n",
    "C\n",
    "#############################"
   ]
  },
  {
   "cell_type": "markdown",
   "metadata": {},
   "source": [
    " ### 문제 3.\n",
    "T시점의 주가를 몬테카를로 시뮬레이션 1500회 시도하여 구하고, 이를 통해 Binary 콜옵션가격을 계산하시오. Binary 콜옵션은 만기 주가가 행사가격보다 높으면 1원을 주고 그렇지 않으면 0원을 준다. (반복문,for loop를 사용하지 마시오.)\n",
    "\n",
    "\\begin{align}\n",
    "S_0 = 100, \\ K = 90, \\  \\sigma = 0.2, \\  T = 1, \\ r = 0.02 \\\\\n",
    "\\\\\n",
    "S(T) = S_0 e^{ (r-\\frac{\\sigma^2}{2})T + \\sigma \\sqrt{T} \\epsilon} \\\\\n",
    "\\epsilon \\sim N(0,1)\n",
    "\\\\\n",
    "\\\\\n",
    "C_0^{path(n)} = e^{-rT} \\times ( Payoff(T))\n",
    "\\\\\n",
    "\\\\\n",
    "Payoff(T) = 1 \\ \\ if \\ \\ S(T) >= K \\ ,\\ \\  else : \\ 0\n",
    "\\\\\n",
    "\\\\\n",
    "C_0 = average \\ of \\ [ C_0^{path1} , C_0^{path2} , C_0^{path3},...,  C_0^{path1000}]\n",
    "\\end{align}"
   ]
  },
  {
   "cell_type": "code",
   "execution_count": 98,
   "metadata": {},
   "outputs": [
    {
     "data": {
      "text/plain": [
       "0.7018222500876367"
      ]
     },
     "execution_count": 98,
     "metadata": {},
     "output_type": "execute_result"
    }
   ],
   "source": [
    "#############################\n",
    "##풀이과정을 여기에 쓰세요 ##\n",
    "#############################\n",
    "r, sigma, T  = 0.02, 0.2, 1\n",
    "S0, K= 100, 90\n",
    "simul_num = 1500\n",
    "dt = 1/252\n",
    "trange = np.arange(dt,T+dt,dt).reshape(-1,1)\n",
    "e = np.random.normal(0,1,(trange.shape[0],simul_num))\n",
    "drift = (r-0.5 * sigma**2) * trange\n",
    "diffusion  = sigma * np.sqrt(dt) * e.cumsum(0)\n",
    "St = S0 * np.exp(drift + diffusion)\n",
    "(np.exp(-r*T)*(St[-1]>=K)).mean()\n",
    "#############################"
   ]
  },
  {
   "cell_type": "markdown",
   "metadata": {},
   "source": [
    " ## 3. Ordinary Least Square\n",
    " $$\n",
    "    \\beta = (X'X)^{-1}X'y\n",
    "$$"
   ]
  },
  {
   "cell_type": "code",
   "execution_count": 99,
   "metadata": {},
   "outputs": [],
   "source": [
    "X = np.array([[1, 2, 1],\n",
    "              [3, 4, 2],\n",
    "              [1, 2, 3],\n",
    "              [4, 0, 5]])\n",
    "y = np.array([2, 4, 1, 2])"
   ]
  },
  {
   "cell_type": "code",
   "execution_count": 100,
   "metadata": {
    "scrolled": true
   },
   "outputs": [
    {
     "data": {
      "text/plain": [
       "array([ 0.84269663,  0.54213483, -0.28089888])"
      ]
     },
     "execution_count": 100,
     "metadata": {},
     "output_type": "execute_result"
    }
   ],
   "source": [
    "beta= np.linalg.inv(X.T.dot(X)).dot(X.T.dot(y))\n",
    "beta"
   ]
  },
  {
   "cell_type": "markdown",
   "metadata": {},
   "source": [
    " ### 문제 4. Geometric Brownian Motion and Volatility Drag\n",
    "$$\n",
    "\\begin{array}{c}\n",
    "\\\\\n",
    "브라운운동 W_t \\sim N(0,t) 이고. \\ W_t - W_s \\sim N(0,t-s)  \\\\ \\\\\n",
    "주가가 \\ 다음과 \\ 같이 \\ 움직인다고 \\ 가정하자.\n",
    "\\\\ \\\\\n",
    "dS = \\mu S dt + \\sigma S dW \\ \\ \\ \\ (\\mu = 종목의 \\ 산술평균수익률이다.) , \n",
    "    \\\\ \\\\\n",
    "    확률미분방정식을 \\ 풀면 \\ S_T는 \\ 다음과 \\ 같이 \\ 나온다. \\\\\n",
    "    \\\\ S_T = S_0 \\bullet e^{(\\mu - \\frac{\\sigma^2}{2})T+\\sigma \\sqrt{T} \\epsilon_{(T)} }이다. \\  (\\epsilon_{(T)} \\sim N(0,T) \\ )\n",
    "    \\\\ \\\\ \n",
    "    즉, E(\\frac{1}{T}log \\frac{S_T}{S_0}) = \\mu - \\frac{\\sigma^2}{2} 으로 \\\\ 복리수익률\\ 평균은 \\ 산술평균수익률보다 \\frac{\\sigma^2}{2} 만큼 작다.\n",
    "    \\\\\n",
    "\\end{array}\n",
    "$$\n",
    " \n",
    " 실제로 그런지 알아보자.\n",
    " \n",
    " 주식A는 100원이고 산술평균 기대수익률이 15%이다. 변동성은 50%이다.  \n",
    " \n",
    " 주식B는 100원이고 산술평균 기대수익률이 10%이고 변동성은 10%이다.\n",
    " \n",
    " (A와 B 주식은 독립이다.)\n",
    " \n",
    " 주식A의 1년동안 주가시뮬레이션, 주식B의 1년동안 주가시뮬레이션을 30000회 하고 각각의 로그수익률을 계산해보세요.\n",
    " \n",
    " 실제로 시뮬레이션의 로그수익률이 $$ \\mu_A - \\frac{\\sigma_A^2}{2}  , \\ \\mu_B - \\frac{\\sigma_B^2}{2}$$ 와 같은지 확인해보시오."
   ]
  },
  {
   "cell_type": "code",
   "execution_count": 102,
   "metadata": {},
   "outputs": [],
   "source": [
    "S_A_0 ,S_B_0= 100,100\n",
    "mu_A , mu_B = 0.15, 0.1\n",
    "sigma_A , sigma_B = 0.5, 0.1\n",
    "T = 1\n",
    "simul_num = 30000\n",
    "epsilon_T_A = np.random.normal(size = simul_num)\n",
    "epsilon_T_B = np.random.normal(size = simul_num)\n",
    "S_T_A = S_A_0 * np.exp((mu_A-0.5*sigma_A**2)*T+sigma_A*np.sqrt(T)*epsilon_T_A)\n",
    "S_T_B = S_B_0 * np.exp((mu_B-0.5*sigma_B**2)*T+sigma_B*np.sqrt(T)*epsilon_T_B)\n",
    "logmu_A = np.log(S_T_A/S_A_0).mean()\n",
    "logmu_B = np.log(S_T_B/S_B_0).mean()"
   ]
  },
  {
   "cell_type": "code",
   "execution_count": 103,
   "metadata": {},
   "outputs": [
    {
     "data": {
      "text/plain": [
       "0.025071803337875037"
      ]
     },
     "execution_count": 103,
     "metadata": {},
     "output_type": "execute_result"
    }
   ],
   "source": [
    "logmu_A"
   ]
  },
  {
   "cell_type": "code",
   "execution_count": 104,
   "metadata": {},
   "outputs": [
    {
     "data": {
      "text/plain": [
       "0.024999999999999994"
      ]
     },
     "execution_count": 104,
     "metadata": {},
     "output_type": "execute_result"
    }
   ],
   "source": [
    "mu_A - 0.5*sigma_A**2"
   ]
  },
  {
   "cell_type": "code",
   "execution_count": 105,
   "metadata": {},
   "outputs": [
    {
     "data": {
      "text/plain": [
       "0.09520092522778806"
      ]
     },
     "execution_count": 105,
     "metadata": {},
     "output_type": "execute_result"
    }
   ],
   "source": [
    "logmu_B"
   ]
  },
  {
   "cell_type": "code",
   "execution_count": 106,
   "metadata": {
    "scrolled": true
   },
   "outputs": [
    {
     "data": {
      "text/plain": [
       "0.095"
      ]
     },
     "execution_count": 106,
     "metadata": {},
     "output_type": "execute_result"
    }
   ],
   "source": [
    "mu_B - 0.5*sigma_B**2"
   ]
  },
  {
   "cell_type": "code",
   "execution_count": null,
   "metadata": {},
   "outputs": [],
   "source": []
  }
 ],
 "metadata": {
  "kernelspec": {
   "display_name": "Python 3",
   "language": "python",
   "name": "python3"
  },
  "language_info": {
   "codemirror_mode": {
    "name": "ipython",
    "version": 3
   },
   "file_extension": ".py",
   "mimetype": "text/x-python",
   "name": "python",
   "nbconvert_exporter": "python",
   "pygments_lexer": "ipython3",
   "version": "3.8.5"
  }
 },
 "nbformat": 4,
 "nbformat_minor": 4
}
