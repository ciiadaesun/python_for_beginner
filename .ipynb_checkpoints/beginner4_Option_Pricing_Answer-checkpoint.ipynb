{
 "cells": [
  {
   "cell_type": "code",
   "execution_count": 1,
   "metadata": {},
   "outputs": [],
   "source": [
    "import numpy as np\n",
    "import pandas as pd\n",
    "import matplotlib.pyplot as plt\n",
    "import datetime as dt\n",
    "import scipy.stats as sts\n",
    "from scipy.optimize import root"
   ]
  },
  {
   "cell_type": "markdown",
   "metadata": {},
   "source": [
    " ### Variables Setting"
   ]
  },
  {
   "cell_type": "code",
   "execution_count": 2,
   "metadata": {},
   "outputs": [],
   "source": [
    "S = 100\n",
    "K = 95\n",
    "T = 0.5\n",
    "div = 0\n",
    "sigma = 0.2\n",
    "r = 0.03\n",
    "N = 5 ## Binomial Tree Node Number\n",
    "Sim_num = 10000 ## Monte Carlo Simulation Number"
   ]
  },
  {
   "cell_type": "markdown",
   "metadata": {},
   "source": [
    " # Plain Vanila"
   ]
  },
  {
   "cell_type": "markdown",
   "metadata": {},
   "source": [
    " ## 1. Black Scholes Model"
   ]
  },
  {
   "cell_type": "code",
   "execution_count": 3,
   "metadata": {},
   "outputs": [],
   "source": [
    "def BS_call(S, K, T, r, sigma, div = 0):\n",
    "    d1 = (np.log(S / K) + (r -div + 0.5 * sigma ** 2) * T) / (sigma * np.sqrt(T))\n",
    "    d2 = d1 - sigma * np.sqrt(T)\n",
    "    call = (S * np.exp(-div * T) * sts.norm.cdf(d1, 0.0, 1.0) - K * np.exp(-r * T) * sts.norm.cdf(d2, 0.0, 1.0))\n",
    "    return call\n",
    "\n",
    "def BS_put(S, K, T, r, sigma, div = 0):\n",
    "    d1 = (np.log(S / K) + (r -div + 0.5 * sigma ** 2) * T) / (sigma * np.sqrt(T))\n",
    "    d2 = d1 - sigma*np.sqrt(T)\n",
    "    put = (K * np.exp(-r * T) * sts.norm.cdf(-d2, 0.0, 1.0) - S * np.exp(-div * T ) *sts.norm.cdf(-d1, 0.0, 1.0))\n",
    "    return put"
   ]
  },
  {
   "cell_type": "code",
   "execution_count": 4,
   "metadata": {},
   "outputs": [
    {
     "data": {
      "text/plain": [
       "9.251090315022012"
      ]
     },
     "execution_count": 4,
     "metadata": {},
     "output_type": "execute_result"
    }
   ],
   "source": [
    "call = BS_call( S, K, T, r , sigma,div)\n",
    "call"
   ]
  },
  {
   "cell_type": "code",
   "execution_count": 5,
   "metadata": {},
   "outputs": [
    {
     "data": {
      "text/plain": [
       "2.836724577312957"
      ]
     },
     "execution_count": 5,
     "metadata": {},
     "output_type": "execute_result"
    }
   ],
   "source": [
    "put = BS_put(S,K,T,r,sigma,div)\n",
    "put"
   ]
  },
  {
   "cell_type": "markdown",
   "metadata": {},
   "source": [
    " ## 2. Monte Carlo Simulation"
   ]
  },
  {
   "cell_type": "markdown",
   "metadata": {},
   "source": [
    "$$\n",
    "\\begin{array}{c}\n",
    " S_{T} = S_{0} e^{(r-\\frac{\\sigma^2}{2})T + \\sigma \\sqrt{T} \\epsilon}\n",
    "\\end{array}\n",
    "$$\n",
    "\\\n",
    "$$\n",
    "\\begin{array}{c}\n",
    " C = e^{-rT} \\hat{E}[ \\ max(S_T - K , 0 )]\n",
    "\\end{array}\n",
    "$$"
   ]
  },
  {
   "cell_type": "code",
   "execution_count": 6,
   "metadata": {},
   "outputs": [],
   "source": [
    "def MC_call(S, K, T, r, sigma , div = 0, Sim_num = 10000) :\n",
    "    e = np.random.normal(0,1,size = Sim_num)\n",
    "    simul_S = S * np.exp((r-div-0.5*sigma**2)*T + sigma * np.sqrt(T) * e)\n",
    "    Payoff = np.maximum(simul_S - K ,0)\n",
    "    Discount_Payoff = np.exp(-r * T) * Payoff\n",
    "    C = Discount_Payoff.mean()\n",
    "    return C\n",
    "\n",
    "def MC_put(S, K, T, r, sigma , div = 0, Sim_num = 10000) :\n",
    "    e = np.random.normal(0,1,size = Sim_num)\n",
    "    simul_S = S * np.exp((r-div-0.5*sigma**2)*T + sigma * np.sqrt(T) * e)\n",
    "    Payoff = np.maximum( K-simul_S ,0)\n",
    "    Discount_Payoff = np.exp(-r * T) * Payoff\n",
    "    P = Discount_Payoff.mean()\n",
    "    return P\n"
   ]
  },
  {
   "cell_type": "code",
   "execution_count": 7,
   "metadata": {},
   "outputs": [
    {
     "data": {
      "text/plain": [
       "9.242148631354668"
      ]
     },
     "execution_count": 7,
     "metadata": {},
     "output_type": "execute_result"
    }
   ],
   "source": [
    "call2 = MC_call(S , K, T, r , sigma, div, Sim_num)\n",
    "call2"
   ]
  },
  {
   "cell_type": "code",
   "execution_count": 8,
   "metadata": {},
   "outputs": [
    {
     "data": {
      "text/plain": [
       "2.7575497535780995"
      ]
     },
     "execution_count": 8,
     "metadata": {},
     "output_type": "execute_result"
    }
   ],
   "source": [
    "put2 = MC_put(S , K, T, r , sigma, div, Sim_num)\n",
    "put2"
   ]
  },
  {
   "cell_type": "markdown",
   "metadata": {},
   "source": [
    " ## 3. Binomial Option Pricing"
   ]
  },
  {
   "cell_type": "markdown",
   "metadata": {},
   "source": [
    "$$\n",
    "\\begin{array}{c}\n",
    " u = e^{\\sigma \\sqrt{\\Delta t}} \\ , \\ d = \\frac{1}{u} , \\ p = \\frac{e^{(r-\\delta ) \\Delta t} - d}{u-d}\n",
    "\\end{array}\n",
    "$$\n"
   ]
  },
  {
   "cell_type": "code",
   "execution_count": 9,
   "metadata": {},
   "outputs": [],
   "source": [
    "def UDP(r,div,sigma, T, N) :\n",
    "    DeltaT = T/N\n",
    "    u = np.exp(sigma * np.sqrt(DeltaT))\n",
    "    d = 1/u\n",
    "    p = (np.exp((r-div) * DeltaT) - d)/(u-d)\n",
    "    return u, d, p"
   ]
  },
  {
   "cell_type": "code",
   "execution_count": 10,
   "metadata": {},
   "outputs": [],
   "source": [
    "u,  d, p = UDP(r, div, sigma, T, N)"
   ]
  },
  {
   "cell_type": "code",
   "execution_count": 11,
   "metadata": {},
   "outputs": [],
   "source": [
    "def S_Tree(S, N, u, d) :\n",
    "    Temp = np.ones((N+1,N+1))\n",
    "    Temp[:,0] = 0\n",
    "    Temp1 = Temp.cumsum(1)\n",
    "    Te = Temp.copy()\n",
    "    Te[0,:] = 0\n",
    "    num_u = np.triu(Temp1 - Te.cumsum(0))\n",
    "    num_d = np.triu(Temp1 - num_u)\n",
    "    Tree = (S * np.triu(u**num_u * d ** num_d))\n",
    "    return Tree"
   ]
  },
  {
   "cell_type": "markdown",
   "metadata": {},
   "source": [
    " ### Make Underlying Tree"
   ]
  },
  {
   "cell_type": "code",
   "execution_count": 12,
   "metadata": {
    "scrolled": true
   },
   "outputs": [
    {
     "data": {
      "text/html": [
       "<div>\n",
       "<style scoped>\n",
       "    .dataframe tbody tr th:only-of-type {\n",
       "        vertical-align: middle;\n",
       "    }\n",
       "\n",
       "    .dataframe tbody tr th {\n",
       "        vertical-align: top;\n",
       "    }\n",
       "\n",
       "    .dataframe thead th {\n",
       "        text-align: right;\n",
       "    }\n",
       "</style>\n",
       "<table border=\"1\" class=\"dataframe\">\n",
       "  <thead>\n",
       "    <tr style=\"text-align: right;\">\n",
       "      <th></th>\n",
       "      <th>0</th>\n",
       "      <th>1</th>\n",
       "      <th>2</th>\n",
       "      <th>3</th>\n",
       "      <th>4</th>\n",
       "      <th>5</th>\n",
       "    </tr>\n",
       "  </thead>\n",
       "  <tbody>\n",
       "    <tr>\n",
       "      <th>0</th>\n",
       "      <td>100.0</td>\n",
       "      <td>106.528839</td>\n",
       "      <td>113.483936</td>\n",
       "      <td>120.893120</td>\n",
       "      <td>128.786037</td>\n",
       "      <td>137.194270</td>\n",
       "    </tr>\n",
       "    <tr>\n",
       "      <th>1</th>\n",
       "      <td>0.0</td>\n",
       "      <td>93.871294</td>\n",
       "      <td>100.000000</td>\n",
       "      <td>106.528839</td>\n",
       "      <td>113.483936</td>\n",
       "      <td>120.893120</td>\n",
       "    </tr>\n",
       "    <tr>\n",
       "      <th>2</th>\n",
       "      <td>0.0</td>\n",
       "      <td>0.000000</td>\n",
       "      <td>88.118199</td>\n",
       "      <td>93.871294</td>\n",
       "      <td>100.000000</td>\n",
       "      <td>106.528839</td>\n",
       "    </tr>\n",
       "    <tr>\n",
       "      <th>3</th>\n",
       "      <td>0.0</td>\n",
       "      <td>0.000000</td>\n",
       "      <td>0.000000</td>\n",
       "      <td>82.717693</td>\n",
       "      <td>88.118199</td>\n",
       "      <td>93.871294</td>\n",
       "    </tr>\n",
       "    <tr>\n",
       "      <th>4</th>\n",
       "      <td>0.0</td>\n",
       "      <td>0.000000</td>\n",
       "      <td>0.000000</td>\n",
       "      <td>0.000000</td>\n",
       "      <td>77.648169</td>\n",
       "      <td>82.717693</td>\n",
       "    </tr>\n",
       "    <tr>\n",
       "      <th>5</th>\n",
       "      <td>0.0</td>\n",
       "      <td>0.000000</td>\n",
       "      <td>0.000000</td>\n",
       "      <td>0.000000</td>\n",
       "      <td>0.000000</td>\n",
       "      <td>72.889341</td>\n",
       "    </tr>\n",
       "  </tbody>\n",
       "</table>\n",
       "</div>"
      ],
      "text/plain": [
       "       0           1           2           3           4           5\n",
       "0  100.0  106.528839  113.483936  120.893120  128.786037  137.194270\n",
       "1    0.0   93.871294  100.000000  106.528839  113.483936  120.893120\n",
       "2    0.0    0.000000   88.118199   93.871294  100.000000  106.528839\n",
       "3    0.0    0.000000    0.000000   82.717693   88.118199   93.871294\n",
       "4    0.0    0.000000    0.000000    0.000000   77.648169   82.717693\n",
       "5    0.0    0.000000    0.000000    0.000000    0.000000   72.889341"
      ]
     },
     "execution_count": 12,
     "metadata": {},
     "output_type": "execute_result"
    }
   ],
   "source": [
    "pd.DataFrame(S_Tree(S,N, u, d))"
   ]
  },
  {
   "cell_type": "markdown",
   "metadata": {},
   "source": [
    " ### Make Payoff Tree"
   ]
  },
  {
   "cell_type": "code",
   "execution_count": 13,
   "metadata": {},
   "outputs": [
    {
     "data": {
      "text/html": [
       "<div>\n",
       "<style scoped>\n",
       "    .dataframe tbody tr th:only-of-type {\n",
       "        vertical-align: middle;\n",
       "    }\n",
       "\n",
       "    .dataframe tbody tr th {\n",
       "        vertical-align: top;\n",
       "    }\n",
       "\n",
       "    .dataframe thead th {\n",
       "        text-align: right;\n",
       "    }\n",
       "</style>\n",
       "<table border=\"1\" class=\"dataframe\">\n",
       "  <thead>\n",
       "    <tr style=\"text-align: right;\">\n",
       "      <th></th>\n",
       "      <th>Call_Payoff</th>\n",
       "    </tr>\n",
       "  </thead>\n",
       "  <tbody>\n",
       "    <tr>\n",
       "      <th>0</th>\n",
       "      <td>42.194270</td>\n",
       "    </tr>\n",
       "    <tr>\n",
       "      <th>1</th>\n",
       "      <td>25.893120</td>\n",
       "    </tr>\n",
       "    <tr>\n",
       "      <th>2</th>\n",
       "      <td>11.528839</td>\n",
       "    </tr>\n",
       "    <tr>\n",
       "      <th>3</th>\n",
       "      <td>0.000000</td>\n",
       "    </tr>\n",
       "    <tr>\n",
       "      <th>4</th>\n",
       "      <td>0.000000</td>\n",
       "    </tr>\n",
       "    <tr>\n",
       "      <th>5</th>\n",
       "      <td>0.000000</td>\n",
       "    </tr>\n",
       "  </tbody>\n",
       "</table>\n",
       "</div>"
      ],
      "text/plain": [
       "   Call_Payoff\n",
       "0    42.194270\n",
       "1    25.893120\n",
       "2    11.528839\n",
       "3     0.000000\n",
       "4     0.000000\n",
       "5     0.000000"
      ]
     },
     "execution_count": 13,
     "metadata": {},
     "output_type": "execute_result"
    }
   ],
   "source": [
    "Payoff_Tree = np.maximum(S_Tree(S,N,u,d) - K, 0)[:,-1:]\n",
    "pd.DataFrame(Payoff_Tree, columns = ['Call_Payoff'])"
   ]
  },
  {
   "cell_type": "code",
   "execution_count": 14,
   "metadata": {},
   "outputs": [],
   "source": [
    "def BN_call(S ,K ,T, r, sigma , div, N) :\n",
    "    u,  d, p = UDP(r, div, sigma, T, N)\n",
    "    Payoff_Tree = np.maximum(S_Tree(S,N,u,d) - K, 0)[:,-1:]\n",
    "    Temp = np.ones((N+1,1))\n",
    "    Temp[0] = 0\n",
    "    Number_of_u = Temp.cumsum(0).astype(np.int64)[::-1]\n",
    "    Weighted_Discount_Payoff = np.exp(-r*T) * ( Payoff_Tree * sts.binom.pmf(Number_of_u,N,p) )\n",
    "    C = Weighted_Discount_Payoff.sum()    \n",
    "    return C\n",
    "\n",
    "def BN_put(S, K, T, r, sigma, div, N) :\n",
    "    u,  d, p = UDP(r, div, sigma, T, N)\n",
    "    Payoff_Tree = np.maximum( K - S_Tree(S,N,u,d), 0)[:,-1:]\n",
    "    Temp = np.ones((N+1,1))\n",
    "    Temp[0] = 0\n",
    "    Number_of_u = Temp.cumsum(0).astype(np.int64)[::-1]\n",
    "    Weighted_Discount_Payoff = np.exp(-r*T) * ( Payoff_Tree * sts.binom.pmf(Number_of_u,N,p) )\n",
    "    P = Weighted_Discount_Payoff.sum()    \n",
    "    return P"
   ]
  },
  {
   "cell_type": "code",
   "execution_count": 15,
   "metadata": {},
   "outputs": [
    {
     "data": {
      "text/plain": [
       "9.186070147270566"
      ]
     },
     "execution_count": 15,
     "metadata": {},
     "output_type": "execute_result"
    }
   ],
   "source": [
    "call3 = BN_call(S,K,T,r,sigma,div,N)\n",
    "call3"
   ]
  },
  {
   "cell_type": "code",
   "execution_count": 16,
   "metadata": {
    "scrolled": false
   },
   "outputs": [
    {
     "data": {
      "text/plain": [
       "2.7717044095614995"
      ]
     },
     "execution_count": 16,
     "metadata": {},
     "output_type": "execute_result"
    }
   ],
   "source": [
    "put3 = BN_put(S,K,T,r,sigma,div,N)\n",
    "put3"
   ]
  },
  {
   "cell_type": "markdown",
   "metadata": {},
   "source": [
    " # Implied Volatility "
   ]
  },
  {
   "cell_type": "markdown",
   "metadata": {},
   "source": [
    " ## 1. Black Scholes"
   ]
  },
  {
   "cell_type": "code",
   "execution_count": 17,
   "metadata": {},
   "outputs": [],
   "source": [
    "def BS_call_IV(S,K,T,r,div,C) :\n",
    "    def fun(x , S, K , T, r, div , P) :\n",
    "        return BS_call(S,K,T,r,x,div)- P\n",
    "    x0 = 0.5\n",
    "    x = root(fun, x0, args = (S, K, T, r, div, C))\n",
    "    return x.x\n",
    "\n",
    "def BS_put_IV(S,K,T,r,div,P) :\n",
    "    def fun(x,S,K,T,r,div,Price) :\n",
    "        return BS_put(S,K,T,r,x,div) - Price\n",
    "    x0 = 0.5\n",
    "    x = root(fun, x0, args = (S, K, T, r, div, P))\n",
    "    return x.x"
   ]
  },
  {
   "cell_type": "code",
   "execution_count": 18,
   "metadata": {},
   "outputs": [
    {
     "data": {
      "text/plain": [
       "array([0.2])"
      ]
     },
     "execution_count": 18,
     "metadata": {},
     "output_type": "execute_result"
    }
   ],
   "source": [
    "BS_call_IV(S ,K,T,r,div, C = call)"
   ]
  },
  {
   "cell_type": "code",
   "execution_count": 19,
   "metadata": {
    "scrolled": true
   },
   "outputs": [
    {
     "data": {
      "text/plain": [
       "array([0.2])"
      ]
     },
     "execution_count": 19,
     "metadata": {},
     "output_type": "execute_result"
    }
   ],
   "source": [
    "BS_put_IV(S ,K,T,r,div, P = put)"
   ]
  },
  {
   "cell_type": "markdown",
   "metadata": {},
   "source": [
    " ## 2. Binomial"
   ]
  },
  {
   "cell_type": "code",
   "execution_count": 20,
   "metadata": {},
   "outputs": [],
   "source": [
    "def BN_call_IV(S,K,T,r,div,C,N) :\n",
    "    def fun(x , S, K , T, r, div , N,P) :\n",
    "        return BN_call(S,K,T,r,x,div,N)- P\n",
    "    x0 = 0.5\n",
    "    x = root(fun, x0, args = (S, K, T, r, div,N, C))\n",
    "    return x.x\n",
    "\n",
    "def BN_put_IV(S,K,T,r,div,P,N) :\n",
    "    def fun(x,S,K,T,r,div,N,Price) :\n",
    "        return BN_put(S,K,T,r,x,div,N) - Price\n",
    "    x0 = 0.5\n",
    "    x = root(fun, x0, args = (S, K, T, r, div,N, P))\n",
    "    return x.x"
   ]
  },
  {
   "cell_type": "code",
   "execution_count": 21,
   "metadata": {},
   "outputs": [
    {
     "data": {
      "text/plain": [
       "array([0.2])"
      ]
     },
     "execution_count": 21,
     "metadata": {},
     "output_type": "execute_result"
    }
   ],
   "source": [
    "BN_call_IV(S ,K,T,r,div, C = call3, N = N)"
   ]
  },
  {
   "cell_type": "code",
   "execution_count": 22,
   "metadata": {},
   "outputs": [
    {
     "data": {
      "text/plain": [
       "array([0.2])"
      ]
     },
     "execution_count": 22,
     "metadata": {},
     "output_type": "execute_result"
    }
   ],
   "source": [
    "BN_put_IV(S ,K,T,r,div, P = put3, N = N)"
   ]
  },
  {
   "cell_type": "markdown",
   "metadata": {},
   "source": [
    " # 연습문제\n",
    " \n",
    " ### 문제 1-1. 만기의 주가가 K 보다 큰 경우 1을 주고 그렇지 않은 경우 0을 주는 binary 콜옵션의 Black Scholes 가격을 구하는 함수를 만드시오.\n",
    " \n",
    " ### 문제 1-2. 만기의 주가가 K 보다 작은 경우 1을 주고 그렇지 않은 경우 0을 주는 binary 풋옵션의 Black Scholes 가격을 구하는 함수를 만드시오."
   ]
  },
  {
   "cell_type": "code",
   "execution_count": 23,
   "metadata": {},
   "outputs": [],
   "source": [
    "def BS_binary_call(S,K,T,r,sigma,div) :\n",
    "    #############################\n",
    "    ##풀이과정을 여기에 쓰세요 ##\n",
    "    #############################\n",
    "\n",
    "\n",
    "    #############################\n",
    "    return \n",
    "\n",
    "def BS_binary_put(S,K,T,r,sigma,div) :\n",
    "    #############################\n",
    "    ##풀이과정을 여기에 쓰세요 ##\n",
    "    #############################\n",
    "\n",
    "\n",
    "    #############################\n",
    "    return "
   ]
  },
  {
   "cell_type": "code",
   "execution_count": 24,
   "metadata": {},
   "outputs": [],
   "source": [
    "def BS_binary_call(S,K,T,r,sigma,div) :\n",
    "    d1 = (np.log(S / K) + (r -div + 0.5 * sigma ** 2) * T) / (sigma * np.sqrt(T))\n",
    "    d2 = d1 - sigma * np.sqrt(T)\n",
    "    c = np.exp(-r * T) * sts.norm.cdf(d2, 0.0, 1.0)\n",
    "    return c \n",
    "\n",
    "def BS_binary_put(S,K,T,r,sigma,div) :\n",
    "    d1 = (np.log(S / K) + (r -div + 0.5 * sigma ** 2) * T) / (sigma * np.sqrt(T))\n",
    "    d2 = d1 - sigma * np.sqrt(T)\n",
    "    p = np.exp(-r * T) * sts.norm.cdf(-d2, 0.0, 1.0)\n",
    "    return p\n"
   ]
  },
  {
   "cell_type": "code",
   "execution_count": 25,
   "metadata": {},
   "outputs": [
    {
     "data": {
      "text/plain": [
       "0.6449574164253773"
      ]
     },
     "execution_count": 25,
     "metadata": {},
     "output_type": "execute_result"
    }
   ],
   "source": [
    "bs_binary_c  = BS_binary_call(S,K,T,r,sigma,div) \n",
    "bs_binary_c"
   ]
  },
  {
   "cell_type": "code",
   "execution_count": 26,
   "metadata": {},
   "outputs": [
    {
     "data": {
      "text/plain": [
       "0.3401545231776853"
      ]
     },
     "execution_count": 26,
     "metadata": {},
     "output_type": "execute_result"
    }
   ],
   "source": [
    "bs_binary_p = BS_binary_put(S,K,T,r,sigma,div)\n",
    "bs_binary_p"
   ]
  },
  {
   "cell_type": "markdown",
   "metadata": {},
   "source": [
    " ### 문제 2-1. 만기의 주가가 K 보다 큰 경우 1을 주고 그렇지 않은 경우 0을 주는 binary 콜옵션의 이항모형 가격을 구하는 함수를 만드시오.\n",
    " \n",
    " ### 문제 2-2. 만기의 주가가 K 보다 작은 경우 1을 주고 그렇지 않은 경우 0을 주는 binary 풋옵션의 이항모형 가격을 구하는 함수를 만드시오."
   ]
  },
  {
   "cell_type": "code",
   "execution_count": 27,
   "metadata": {},
   "outputs": [],
   "source": [
    "def BN_binary_call(S,K,T,r,sigma,div) :\n",
    "    #############################\n",
    "    ##풀이과정을 여기에 쓰세요 ##\n",
    "    #############################\n",
    "\n",
    "\n",
    "    #############################\n",
    "    return \n",
    "\n",
    "def BN_binary_put(S,K,T,r,sigma,div) :\n",
    "    #############################\n",
    "    ##풀이과정을 여기에 쓰세요 ##\n",
    "    #############################\n",
    "\n",
    "\n",
    "    #############################\n",
    "    return "
   ]
  },
  {
   "cell_type": "code",
   "execution_count": 28,
   "metadata": {},
   "outputs": [],
   "source": [
    "def BN_binary_call(S ,K ,T, r, sigma , div, N) :\n",
    "    u,  d, p = UDP(r, div, sigma, T, N)\n",
    "    Payoff_Tree = S_Tree(S,N,u,d)[:,-1:]>=K\n",
    "    Temp = np.ones((N+1,1))\n",
    "    Temp[0] = 0\n",
    "    Number_of_u = Temp.cumsum(0).astype(np.int64)[::-1]\n",
    "    Weighted_Discount_Payoff = np.exp(-r*T) * ( Payoff_Tree * sts.binom.pmf(Number_of_u,N,p) )\n",
    "    C = Weighted_Discount_Payoff.sum()    \n",
    "    return C\n",
    "\n",
    "def BN_binary_put(S, K, T, r, sigma, div, N) :\n",
    "    u,  d, p = UDP(r, div, sigma, T, N)\n",
    "    Payoff_Tree = S_Tree(S,N,u,d)[:,-1:]<=K\n",
    "    Temp = np.ones((N+1,1))\n",
    "    Temp[0] = 0\n",
    "    Number_of_u = Temp.cumsum(0).astype(np.int64)[::-1]\n",
    "    Weighted_Discount_Payoff = np.exp(-r*T) * ( Payoff_Tree * sts.binom.pmf(Number_of_u,N,p) )\n",
    "    P = Weighted_Discount_Payoff.sum()    \n",
    "    return P"
   ]
  },
  {
   "cell_type": "code",
   "execution_count": 29,
   "metadata": {},
   "outputs": [
    {
     "data": {
      "text/plain": [
       "0.6416003497701392"
      ]
     },
     "execution_count": 29,
     "metadata": {},
     "output_type": "execute_result"
    }
   ],
   "source": [
    "bn_binary_call = BN_binary_call(S,K,T,r,sigma,div,N = 200)\n",
    "bn_binary_call"
   ]
  },
  {
   "cell_type": "code",
   "execution_count": 30,
   "metadata": {},
   "outputs": [
    {
     "data": {
      "text/plain": [
       "0.34351158983292696"
      ]
     },
     "execution_count": 30,
     "metadata": {},
     "output_type": "execute_result"
    }
   ],
   "source": [
    "bn_binary_put = BN_binary_put(S,K,T,r,sigma,div,N = 200)\n",
    "bn_binary_put"
   ]
  },
  {
   "cell_type": "markdown",
   "metadata": {},
   "source": [
    "  ### 문제 3. 유러피안 배리어 콜옵션(down-and-out, B> K)의 closed form 가격은 다음과 같다. 이를 계산해주는 함수를 만드시오.\n",
    "  \\\n",
    "$$\n",
    "\\begin{array}{c}\n",
    "C_{down-and-out} = S e^{-\\delta T} N(d_1 ) - K e^{-rT} N(d_2) - (\\frac{B}{S})^{1+2(r-\\delta)/\\sigma^2}  S e^{-\\delta T} N(h_1 ) + (\\frac{B}{S})^{-1+2(r-\\delta )/\\sigma^2} Ke^{-rT} N(h_2 )\n",
    "\\\\\n",
    "h_1 = \\frac{ ln(\\frac{B^2}{KS})+(r-\\delta + 0.5 \\sigma^2)T }{\\sigma \\sqrt{T} }\n",
    "\\\\\n",
    "h_2 = h_1 - \\sigma \\sqrt{T}\n",
    "\\end{array}\n",
    "$$  "
   ]
  },
  {
   "cell_type": "code",
   "execution_count": 31,
   "metadata": {},
   "outputs": [],
   "source": [
    "def BS_call_down_and_out(S,K,T,r,sigma,div,Barrier = 0.97) :\n",
    "    #############################\n",
    "    ##풀이과정을 여기에 쓰세요 ##\n",
    "    #############################\n",
    "\n",
    "\n",
    "    #############################\n",
    "    return "
   ]
  },
  {
   "cell_type": "code",
   "execution_count": 32,
   "metadata": {},
   "outputs": [],
   "source": [
    "def BS_call_down_and_out(S,K,T,r,sigma,div,Barrier = 0.97) :\n",
    "    B = Barrier * S\n",
    "    if B>K : \n",
    "        h1 = (np.log(B**2/(K*S)) + (r-div+0.5*sigma**2)*T)/(sigma*np.sqrt(T))\n",
    "        h2 = h1 - sigma * np.sqrt(T)\n",
    "        h1_term  = (B/S)**(1+2*(r-div)/sigma**2) * S * np.exp(-div*T) * sts.norm.cdf(h1)\n",
    "        h2_term  = (B/S)**(-1+2*(r-div)/sigma**2) * K * np.exp(-r*T) * sts.norm.cdf(h2)\n",
    "        return BS_call( S, K, T, r , sigma,div) - h1_term + h2_term    \n",
    "    else :\n",
    "        return BS_call( S, K, T, r , sigma,div)"
   ]
  },
  {
   "cell_type": "code",
   "execution_count": 33,
   "metadata": {
    "scrolled": true
   },
   "outputs": [
    {
     "data": {
      "text/plain": [
       "9.251090315022012"
      ]
     },
     "execution_count": 33,
     "metadata": {},
     "output_type": "execute_result"
    }
   ],
   "source": [
    "BS_call( S, K, T, r , sigma,div)"
   ]
  },
  {
   "cell_type": "code",
   "execution_count": 34,
   "metadata": {
    "scrolled": true
   },
   "outputs": [
    {
     "data": {
      "text/plain": [
       "3.7890911904708773"
      ]
     },
     "execution_count": 34,
     "metadata": {},
     "output_type": "execute_result"
    }
   ],
   "source": [
    "BS_call_down_and_out(S,K,T,r,sigma,div,Barrier = 0.97)"
   ]
  },
  {
   "cell_type": "markdown",
   "metadata": {},
   "source": [
    " ### 문제 4. A 주식과 B 주식은 모두 100원에 거래되며 변동성은 각각 20%, 30% 이며, 수익률의 상관계수는 0.57이다. 만기에 다음과 같은 Payoff를 지급하는 옵션의 가치를 계산하는 함수를 만드시오. 변수는 S1, S2, K, T, r, sigma1, sigma2, corr,div1, div2, simul_num을 받으시오. \\begin{array}{c} (S_A ,\\ S_B 는 \\ 각각 \\ 만기의 \\ A주식과 \\ B주식의 \\ 가치이다.) \\end{array}\n",
    " \n",
    "$$\n",
    "\\begin{array}{c}\n",
    "Payoff = max(\\sqrt{S_A\\bullet S_B} - K , 0)\n",
    "\\end{array}\n",
    "$$  "
   ]
  },
  {
   "cell_type": "code",
   "execution_count": 35,
   "metadata": {},
   "outputs": [],
   "source": [
    "def customized_option(S1,S2,K,T,r,sigma1,sigma2,corr,div1,div2,Sim_num = 10000) :    \n",
    "    #############################\n",
    "    ##풀이과정을 여기에 쓰세요 ##\n",
    "    #############################\n",
    "\n",
    "\n",
    "    #############################    \n",
    "    return "
   ]
  },
  {
   "cell_type": "code",
   "execution_count": 36,
   "metadata": {},
   "outputs": [],
   "source": [
    "def customized_option(S1,S2,K,T,r,sigma1,sigma2,corr,div1,div2,Sim_num = 10000) :    \n",
    "    e12 = np.random.multivariate_normal([0,0], np.array([[1,corr],[corr,1]]), Sim_num)\n",
    "    e1 = e12[:,0]\n",
    "    e2 = e12[:,1]\n",
    "    simul_S1 = S1 * np.exp((r-div1-0.5*sigma1**2)*T + sigma1 * np.sqrt(T) * e1)\n",
    "    simul_S2 = S2 * np.exp((r-div2-0.5*sigma2**2)*T + sigma2 * np.sqrt(T) * e2)\n",
    "    return np.exp(-r*T)*np.maximum(np.sqrt(simul_S1 * simul_S2)-K,0).mean()"
   ]
  },
  {
   "cell_type": "code",
   "execution_count": 37,
   "metadata": {
    "scrolled": false
   },
   "outputs": [
    {
     "data": {
      "text/plain": [
       "9.331009514782528"
      ]
     },
     "execution_count": 37,
     "metadata": {},
     "output_type": "execute_result"
    }
   ],
   "source": [
    "customized_option(100,100,95,T,sigma1 = 0.2, sigma2 = 0.3, div1 = 0, div2 = 0, r = r , corr = 0.57)"
   ]
  },
  {
   "cell_type": "markdown",
   "metadata": {},
   "source": [
    " ### 문제 5. 지금은 T = 0 시점이다. \n",
    " \n",
    " ### 다음 파라미터를 기준으로 1년(T=1이 될때까지)동안 주가를 일별 시뮬레이션 하고(dT = 1/250), \n",
    " \n",
    " ### 만기가 T = 2시점인 콜옵션의 가격과 델타를 매일매일 계산하시오. (오늘 당일 제외하고)\n",
    "$$ \n",
    "\\begin{array}{c}\n",
    "S_0 = 100,\\  \\sigma = 0.2,\\ r = 0.03 ,\\ div = 0 , K = 90 \n",
    "\\end{array}\n",
    "$$\n",
    "\n",
    "콜옵션의 델타는 \\begin{array}{c}\n",
    "e^{-div\\times T}N(d_1)\n",
    "\\end{array}이다.\n",
    "\n",
    "주가, 콜옵션가격, 델타를 하나의 데이터프레임으로 나타내시오.\n",
    "\n",
    "| |S|C|Delta|\n",
    "|------|---|---|---|\n",
    "| 1/250|99.911\t |14.923 |0.665 |\n",
    "| 2/250|98.676 |14.753 |0.6615 |\n",
    "| 3/250|98.814 |14.830 |0.663 |\n",
    "| 4/250|99.022 |14.955 |0.666 |"
   ]
  },
  {
   "cell_type": "code",
   "execution_count": 38,
   "metadata": {},
   "outputs": [],
   "source": [
    "#################\n",
    "### 풀이과정   ##\n",
    "#################"
   ]
  },
  {
   "cell_type": "code",
   "execution_count": 39,
   "metadata": {},
   "outputs": [],
   "source": [
    "S0 = 100\n",
    "simul_T = 1\n",
    "deltaT= 1/250\n",
    "sigma = 0.2\n",
    "r = 0.02\n",
    "cum_e = np.random.normal( size = int(1/deltaT)).cumsum()\n",
    "timeline = np.arange(deltaT , simul_T + deltaT,deltaT)\n",
    "S = (S0 *np.exp((r-0.5*sigma**2)*timeline + sigma * np.sqrt(deltaT) * cum_e)).round(3)\n",
    "maturity = 2\n",
    "tau = maturity - timeline"
   ]
  },
  {
   "cell_type": "code",
   "execution_count": 40,
   "metadata": {},
   "outputs": [],
   "source": [
    "def Black_Scholes_C(S, K, T, sigma, r , div = 0) :\n",
    "    d1 = (np.log(S/K)+(r-div+0.5*sigma**2)*T)/(sigma * np.sqrt(T))\n",
    "    d2 = d1 - sigma * np.sqrt(T)\n",
    "    Nd1 = sts.norm.cdf(d1)\n",
    "    Nd2 = sts.norm.cdf(d2)\n",
    "    ret =S*np.exp(-div*T) * Nd1 - K * np.exp(-r*T) * Nd2\n",
    "    return ret\n",
    "def C_Delta(S,K,T,sigma,r,div=0) :\n",
    "    d1 = (np.log(S/K)+(r-div+0.5*sigma**2)*T)/(sigma * np.sqrt(T))\n",
    "    Nd1 = sts.norm.cdf(d1)\n",
    "    ret = np.exp(-div*T)*Nd1\n",
    "    return ret"
   ]
  },
  {
   "cell_type": "code",
   "execution_count": 41,
   "metadata": {},
   "outputs": [],
   "source": [
    "C = Black_Scholes_C(S,K,tau,sigma,r)\n",
    "Delta = C_Delta(S,K,tau,sigma,r)"
   ]
  },
  {
   "cell_type": "markdown",
   "metadata": {},
   "source": [
    " #### 결과창"
   ]
  },
  {
   "cell_type": "code",
   "execution_count": 42,
   "metadata": {
    "scrolled": true
   },
   "outputs": [
    {
     "data": {
      "text/html": [
       "<div>\n",
       "<style scoped>\n",
       "    .dataframe tbody tr th:only-of-type {\n",
       "        vertical-align: middle;\n",
       "    }\n",
       "\n",
       "    .dataframe tbody tr th {\n",
       "        vertical-align: top;\n",
       "    }\n",
       "\n",
       "    .dataframe thead th {\n",
       "        text-align: right;\n",
       "    }\n",
       "</style>\n",
       "<table border=\"1\" class=\"dataframe\">\n",
       "  <thead>\n",
       "    <tr style=\"text-align: right;\">\n",
       "      <th></th>\n",
       "      <th>S</th>\n",
       "      <th>C</th>\n",
       "      <th>Delta</th>\n",
       "    </tr>\n",
       "  </thead>\n",
       "  <tbody>\n",
       "    <tr>\n",
       "      <th>0</th>\n",
       "      <td>100.595</td>\n",
       "      <td>16.061206</td>\n",
       "      <td>0.686192</td>\n",
       "    </tr>\n",
       "    <tr>\n",
       "      <th>1</th>\n",
       "      <td>102.574</td>\n",
       "      <td>17.428802</td>\n",
       "      <td>0.710218</td>\n",
       "    </tr>\n",
       "    <tr>\n",
       "      <th>2</th>\n",
       "      <td>101.002</td>\n",
       "      <td>16.312795</td>\n",
       "      <td>0.691196</td>\n",
       "    </tr>\n",
       "    <tr>\n",
       "      <th>3</th>\n",
       "      <td>99.979</td>\n",
       "      <td>15.597885</td>\n",
       "      <td>0.678333</td>\n",
       "    </tr>\n",
       "    <tr>\n",
       "      <th>4</th>\n",
       "      <td>100.979</td>\n",
       "      <td>16.268136</td>\n",
       "      <td>0.690866</td>\n",
       "    </tr>\n",
       "    <tr>\n",
       "      <th>...</th>\n",
       "      <td>...</td>\n",
       "      <td>...</td>\n",
       "      <td>...</td>\n",
       "    </tr>\n",
       "    <tr>\n",
       "      <th>245</th>\n",
       "      <td>134.482</td>\n",
       "      <td>41.694162</td>\n",
       "      <td>0.972924</td>\n",
       "    </tr>\n",
       "    <tr>\n",
       "      <th>246</th>\n",
       "      <td>134.125</td>\n",
       "      <td>41.336447</td>\n",
       "      <td>0.972280</td>\n",
       "    </tr>\n",
       "    <tr>\n",
       "      <th>247</th>\n",
       "      <td>133.226</td>\n",
       "      <td>40.452651</td>\n",
       "      <td>0.970280</td>\n",
       "    </tr>\n",
       "    <tr>\n",
       "      <th>248</th>\n",
       "      <td>132.217</td>\n",
       "      <td>39.464068</td>\n",
       "      <td>0.967839</td>\n",
       "    </tr>\n",
       "    <tr>\n",
       "      <th>249</th>\n",
       "      <td>132.459</td>\n",
       "      <td>39.687535</td>\n",
       "      <td>0.968697</td>\n",
       "    </tr>\n",
       "  </tbody>\n",
       "</table>\n",
       "<p>250 rows × 3 columns</p>\n",
       "</div>"
      ],
      "text/plain": [
       "           S          C     Delta\n",
       "0    100.595  16.061206  0.686192\n",
       "1    102.574  17.428802  0.710218\n",
       "2    101.002  16.312795  0.691196\n",
       "3     99.979  15.597885  0.678333\n",
       "4    100.979  16.268136  0.690866\n",
       "..       ...        ...       ...\n",
       "245  134.482  41.694162  0.972924\n",
       "246  134.125  41.336447  0.972280\n",
       "247  133.226  40.452651  0.970280\n",
       "248  132.217  39.464068  0.967839\n",
       "249  132.459  39.687535  0.968697\n",
       "\n",
       "[250 rows x 3 columns]"
      ]
     },
     "execution_count": 42,
     "metadata": {},
     "output_type": "execute_result"
    }
   ],
   "source": [
    "pd.DataFrame([S,C,Delta],index = ['S','C','Delta']).T"
   ]
  },
  {
   "cell_type": "markdown",
   "metadata": {},
   "source": [
    " ### 문제 6. 지금은 T=0으로부터 1일 지난 시점이다.  \n",
    " \n",
    " ### 현재 주식 10개 매수하고 콜옵션 매도로 델타헤지하려고 한다. T=1시점까지 델타헤징 수익을 계산하시오. \n",
    " \n",
    " ### 반복문을 사용해도 좋습니다.\n",
    " "
   ]
  },
  {
   "cell_type": "code",
   "execution_count": 43,
   "metadata": {},
   "outputs": [],
   "source": [
    "#################\n",
    "### 풀이과정   ##\n",
    "#################"
   ]
  },
  {
   "cell_type": "code",
   "execution_count": 44,
   "metadata": {},
   "outputs": [],
   "source": [
    "price_data = pd.DataFrame([S,C,Delta],index = ['S','C','Delta']).T\n",
    "number_of_stock =10\n",
    "my_Stock = price_data['S'].rename('S_Value') * number_of_stock"
   ]
  },
  {
   "cell_type": "code",
   "execution_count": 45,
   "metadata": {},
   "outputs": [],
   "source": [
    "PF = pd.DataFrame(my_Stock)\n",
    "PF['Call_Delta'] = price_data['Delta']\n",
    "PF['current_number_C'] = np.nan\n",
    "PF['required_number_C'] = np.nan\n",
    "PF['required_additional_C'] = np.nan\n",
    "PF['Call_Value'] = np.nan\n",
    "PF['Cash'] = np.nan\n",
    "PF['current_number_C'].iloc[0] = 0\n",
    "PF['required_number_C'].iloc[0] = -1/PF['Call_Delta'].iloc[0] * number_of_stock\n",
    "PF['required_additional_C'].iloc[0] = PF['required_number_C'].iloc[0] - PF['current_number_C'].iloc[0]\n",
    "PF['Call_Value'].iloc[0] = PF['required_number_C'].iloc[0] * price_data['C'].iloc[0]\n",
    "PF['Cash'].iloc[0] = np.round(-PF['S_Value'].iloc[0]-PF['Call_Value'].iloc[0],4)\n",
    "PF['Profit'] = np.nan\n",
    "for i in range(1,len(PF)) :\n",
    "    PF['current_number_C'].iloc[i] = PF['current_number_C'].iloc[i-1] + PF['required_additional_C'].iloc[i-1]\n",
    "    PF['required_number_C'].iloc[i] = -1/PF['Call_Delta'].iloc[i] * number_of_stock \n",
    "    PF['required_additional_C'].iloc[i] = PF['required_number_C'].iloc[i] - PF['current_number_C'].iloc[i]  \n",
    "    PF['Call_Value'].iloc[i] = PF['current_number_C'].iloc[i] * price_data['C'].iloc[i] + PF['required_additional_C'].iloc[i] * price_data['C'].iloc[i]\n",
    "    PF['Cash'].iloc[i] = PF['Cash'].iloc[i-1] * np.exp(-r*deltaT) - PF['required_additional_C'].iloc[i] * price_data['C'].iloc[i]\n",
    "    PF['Profit'].iloc[i] = PF['S_Value'].iloc[i] + PF['Call_Value'].iloc[i] + PF['Cash'].iloc[i]"
   ]
  },
  {
   "cell_type": "code",
   "execution_count": 46,
   "metadata": {},
   "outputs": [
    {
     "data": {
      "text/html": [
       "<div>\n",
       "<style scoped>\n",
       "    .dataframe tbody tr th:only-of-type {\n",
       "        vertical-align: middle;\n",
       "    }\n",
       "\n",
       "    .dataframe tbody tr th {\n",
       "        vertical-align: top;\n",
       "    }\n",
       "\n",
       "    .dataframe thead th {\n",
       "        text-align: right;\n",
       "    }\n",
       "</style>\n",
       "<table border=\"1\" class=\"dataframe\">\n",
       "  <thead>\n",
       "    <tr style=\"text-align: right;\">\n",
       "      <th></th>\n",
       "      <th>S_Value</th>\n",
       "      <th>Call_Delta</th>\n",
       "      <th>current_number_C</th>\n",
       "      <th>required_number_C</th>\n",
       "      <th>required_additional_C</th>\n",
       "      <th>Call_Value</th>\n",
       "      <th>Cash</th>\n",
       "      <th>Profit</th>\n",
       "    </tr>\n",
       "  </thead>\n",
       "  <tbody>\n",
       "    <tr>\n",
       "      <th>0</th>\n",
       "      <td>1005.95</td>\n",
       "      <td>0.686192</td>\n",
       "      <td>0.000000</td>\n",
       "      <td>-14.573177</td>\n",
       "      <td>-14.573177</td>\n",
       "      <td>-234.062793</td>\n",
       "      <td>-771.887200</td>\n",
       "      <td>NaN</td>\n",
       "    </tr>\n",
       "    <tr>\n",
       "      <th>1</th>\n",
       "      <td>1025.74</td>\n",
       "      <td>0.710218</td>\n",
       "      <td>-14.573177</td>\n",
       "      <td>-14.080176</td>\n",
       "      <td>0.493000</td>\n",
       "      <td>-245.400600</td>\n",
       "      <td>-780.417855</td>\n",
       "      <td>-0.078456</td>\n",
       "    </tr>\n",
       "    <tr>\n",
       "      <th>2</th>\n",
       "      <td>1010.02</td>\n",
       "      <td>0.691196</td>\n",
       "      <td>-14.080176</td>\n",
       "      <td>-14.467667</td>\n",
       "      <td>-0.387491</td>\n",
       "      <td>-236.008090</td>\n",
       "      <td>-774.034368</td>\n",
       "      <td>-0.022459</td>\n",
       "    </tr>\n",
       "    <tr>\n",
       "      <th>3</th>\n",
       "      <td>999.79</td>\n",
       "      <td>0.678333</td>\n",
       "      <td>-14.467667</td>\n",
       "      <td>-14.742021</td>\n",
       "      <td>-0.274354</td>\n",
       "      <td>-229.944349</td>\n",
       "      <td>-769.693106</td>\n",
       "      <td>0.152546</td>\n",
       "    </tr>\n",
       "    <tr>\n",
       "      <th>4</th>\n",
       "      <td>1009.79</td>\n",
       "      <td>0.690866</td>\n",
       "      <td>-14.742021</td>\n",
       "      <td>-14.474592</td>\n",
       "      <td>0.267429</td>\n",
       "      <td>-235.474635</td>\n",
       "      <td>-773.982096</td>\n",
       "      <td>0.333269</td>\n",
       "    </tr>\n",
       "    <tr>\n",
       "      <th>...</th>\n",
       "      <td>...</td>\n",
       "      <td>...</td>\n",
       "      <td>...</td>\n",
       "      <td>...</td>\n",
       "      <td>...</td>\n",
       "      <td>...</td>\n",
       "      <td>...</td>\n",
       "      <td>...</td>\n",
       "    </tr>\n",
       "    <tr>\n",
       "      <th>245</th>\n",
       "      <td>1344.82</td>\n",
       "      <td>0.972924</td>\n",
       "      <td>-10.279220</td>\n",
       "      <td>-10.278292</td>\n",
       "      <td>0.000928</td>\n",
       "      <td>-428.544767</td>\n",
       "      <td>-884.532489</td>\n",
       "      <td>31.742743</td>\n",
       "    </tr>\n",
       "    <tr>\n",
       "      <th>246</th>\n",
       "      <td>1341.25</td>\n",
       "      <td>0.972280</td>\n",
       "      <td>-10.278292</td>\n",
       "      <td>-10.285099</td>\n",
       "      <td>-0.006807</td>\n",
       "      <td>-425.149442</td>\n",
       "      <td>-884.180363</td>\n",
       "      <td>31.920195</td>\n",
       "    </tr>\n",
       "    <tr>\n",
       "      <th>247</th>\n",
       "      <td>1332.26</td>\n",
       "      <td>0.970280</td>\n",
       "      <td>-10.285099</td>\n",
       "      <td>-10.306303</td>\n",
       "      <td>-0.021204</td>\n",
       "      <td>-416.917265</td>\n",
       "      <td>-883.251871</td>\n",
       "      <td>32.090863</td>\n",
       "    </tr>\n",
       "    <tr>\n",
       "      <th>248</th>\n",
       "      <td>1322.17</td>\n",
       "      <td>0.967839</td>\n",
       "      <td>-10.306303</td>\n",
       "      <td>-10.332297</td>\n",
       "      <td>-0.025994</td>\n",
       "      <td>-407.754456</td>\n",
       "      <td>-882.155392</td>\n",
       "      <td>32.260152</td>\n",
       "    </tr>\n",
       "    <tr>\n",
       "      <th>249</th>\n",
       "      <td>1324.59</td>\n",
       "      <td>0.968697</td>\n",
       "      <td>-10.332297</td>\n",
       "      <td>-10.323144</td>\n",
       "      <td>0.009153</td>\n",
       "      <td>-409.700137</td>\n",
       "      <td>-882.448069</td>\n",
       "      <td>32.441794</td>\n",
       "    </tr>\n",
       "  </tbody>\n",
       "</table>\n",
       "<p>250 rows × 8 columns</p>\n",
       "</div>"
      ],
      "text/plain": [
       "     S_Value  Call_Delta  current_number_C  required_number_C  \\\n",
       "0    1005.95    0.686192          0.000000         -14.573177   \n",
       "1    1025.74    0.710218        -14.573177         -14.080176   \n",
       "2    1010.02    0.691196        -14.080176         -14.467667   \n",
       "3     999.79    0.678333        -14.467667         -14.742021   \n",
       "4    1009.79    0.690866        -14.742021         -14.474592   \n",
       "..       ...         ...               ...                ...   \n",
       "245  1344.82    0.972924        -10.279220         -10.278292   \n",
       "246  1341.25    0.972280        -10.278292         -10.285099   \n",
       "247  1332.26    0.970280        -10.285099         -10.306303   \n",
       "248  1322.17    0.967839        -10.306303         -10.332297   \n",
       "249  1324.59    0.968697        -10.332297         -10.323144   \n",
       "\n",
       "     required_additional_C  Call_Value        Cash     Profit  \n",
       "0               -14.573177 -234.062793 -771.887200        NaN  \n",
       "1                 0.493000 -245.400600 -780.417855  -0.078456  \n",
       "2                -0.387491 -236.008090 -774.034368  -0.022459  \n",
       "3                -0.274354 -229.944349 -769.693106   0.152546  \n",
       "4                 0.267429 -235.474635 -773.982096   0.333269  \n",
       "..                     ...         ...         ...        ...  \n",
       "245               0.000928 -428.544767 -884.532489  31.742743  \n",
       "246              -0.006807 -425.149442 -884.180363  31.920195  \n",
       "247              -0.021204 -416.917265 -883.251871  32.090863  \n",
       "248              -0.025994 -407.754456 -882.155392  32.260152  \n",
       "249               0.009153 -409.700137 -882.448069  32.441794  \n",
       "\n",
       "[250 rows x 8 columns]"
      ]
     },
     "execution_count": 46,
     "metadata": {},
     "output_type": "execute_result"
    }
   ],
   "source": [
    "PF"
   ]
  },
  {
   "cell_type": "markdown",
   "metadata": {},
   "source": [
    " ### 문제 7. 주식포트폴리오를 델타헤징하는 경우 감마포지션으로 인해 제대로 헤지할 수 없는 경우가 많다. \n",
    " \n",
    " ### 따라서 옵션의 감마헤징을 위해 매일매일의 감마를 계산해본다.\n",
    " \n",
    "$$\n",
    "\\begin{array}{c}\n",
    "Gamma = \\frac{e^{-div \\ \\bullet T}}{S_0 \\sigma \\sqrt{T}} \\bullet \\frac{1}{\\sqrt{2 \\pi}} \\bullet e^{\\frac{{-d_1}^2}{2}}\n",
    "\\end{array}\n",
    "$$"
   ]
  },
  {
   "cell_type": "code",
   "execution_count": 47,
   "metadata": {},
   "outputs": [],
   "source": [
    "#################\n",
    "### 풀이과정   ##\n",
    "#################"
   ]
  },
  {
   "cell_type": "code",
   "execution_count": 48,
   "metadata": {},
   "outputs": [],
   "source": [
    "def C_Gamma(S,K,T,sigma,r,div=0) :\n",
    "    d1 = (np.log(S/K)+(r-div+0.5*sigma**2)*T)/(sigma * np.sqrt(T))\n",
    "    Gamma = np.exp(-div * T)/(S*sigma*np.sqrt(T)) * 1/(np.sqrt(2*np.pi)) * np.exp(-d1**2/2)\n",
    "    return Gamma\n",
    "Gamma = C_Gamma(S,K,tau,sigma,r)\n",
    "price_data['Gamma'] = Gamma"
   ]
  },
  {
   "cell_type": "markdown",
   "metadata": {},
   "source": [
    " ### 문제 8. 주식포트폴리오를 델타헤징하는 경우 감마포지션으로 인해 헤지수익이 음의 값을 가지는 경우가 많다.\n",
    " \n",
    " $$\n",
    " \\begin{array}{c}\n",
    " {New \\ Delta}_t = Delta_{t} + \\frac{1}{2} {(\\Delta S)}^2 Gamma\n",
    " \\end{array}\n",
    " $$\n",
    " \n",
    " 위의 공식에 따라 새로운 델타헤징을 통해 포트폴리오를 헤징하시오."
   ]
  },
  {
   "cell_type": "code",
   "execution_count": 49,
   "metadata": {},
   "outputs": [],
   "source": [
    "price_data['dS'] = price_data['S'].diff()\n",
    "price_data['adj_Delta'] = price_data['Delta'] + 0.5 * price_data['dS']**2 * price_data['Gamma']\n",
    "price_data['adj_Delta'].iloc[0] = np.round(price_data['Delta'].iloc[0] + 0.5 * (S0 - price_data['S'].iloc[0])**2 * price_data['Gamma'].iloc[0],3)\n",
    "my_Stock = price_data['S'].rename('S_Value') * number_of_stock\n",
    "PF = pd.DataFrame(my_Stock)\n",
    "PF['Call_Delta'] = price_data['adj_Delta']\n",
    "PF['current_n_C'] = np.nan\n",
    "PF['required_number_C'] = np.nan\n",
    "PF['required_additional_C'] = np.nan\n",
    "PF['Call_Value'] = np.nan\n",
    "PF['Cash'] = np.nan\n",
    "PF['current_n_C'].iloc[0] = 0\n",
    "PF['required_number_C'].iloc[0] = -1/PF['Call_Delta'].iloc[0] * number_of_stock\n",
    "PF['required_additional_C'].iloc[0] = PF['required_number_C'].iloc[0] - PF['current_n_C'].iloc[0]\n",
    "PF['Call_Value'].iloc[0] = PF['required_number_C'].iloc[0] * price_data['C'].iloc[0]\n",
    "PF['Cash'].iloc[0] = np.round(-PF['S_Value'].iloc[0]-PF['Call_Value'].iloc[0],4)\n",
    "PF['Profit'] = np.nan\n",
    "for i in range(1,len(PF)) :\n",
    "    PF['current_n_C'].iloc[i] = PF['current_n_C'].iloc[i-1] + PF['required_additional_C'].iloc[i-1]\n",
    "    PF['required_number_C'].iloc[i] = -1/PF['Call_Delta'].iloc[i] * number_of_stock \n",
    "    PF['required_additional_C'].iloc[i] = PF['required_number_C'].iloc[i] - PF['current_n_C'].iloc[i]  \n",
    "    PF['Call_Value'].iloc[i] = PF['current_n_C'].iloc[i] * price_data['C'].iloc[i] + PF['required_additional_C'].iloc[i] * price_data['C'].iloc[i]\n",
    "    PF['Cash'].iloc[i] = PF['Cash'].iloc[i-1] * np.exp(-r*deltaT) - PF['required_additional_C'].iloc[i] * price_data['C'].iloc[i]\n",
    "    PF['Profit'].iloc[i] = PF['S_Value'].iloc[i] + PF['Call_Value'].iloc[i] + PF['Cash'].iloc[i]"
   ]
  },
  {
   "cell_type": "code",
   "execution_count": 50,
   "metadata": {
    "scrolled": true
   },
   "outputs": [
    {
     "data": {
      "text/html": [
       "<div>\n",
       "<style scoped>\n",
       "    .dataframe tbody tr th:only-of-type {\n",
       "        vertical-align: middle;\n",
       "    }\n",
       "\n",
       "    .dataframe tbody tr th {\n",
       "        vertical-align: top;\n",
       "    }\n",
       "\n",
       "    .dataframe thead th {\n",
       "        text-align: right;\n",
       "    }\n",
       "</style>\n",
       "<table border=\"1\" class=\"dataframe\">\n",
       "  <thead>\n",
       "    <tr style=\"text-align: right;\">\n",
       "      <th></th>\n",
       "      <th>S_Value</th>\n",
       "      <th>Call_Delta</th>\n",
       "      <th>current_n_C</th>\n",
       "      <th>required_number_C</th>\n",
       "      <th>required_additional_C</th>\n",
       "      <th>Call_Value</th>\n",
       "      <th>Cash</th>\n",
       "      <th>Profit</th>\n",
       "    </tr>\n",
       "  </thead>\n",
       "  <tbody>\n",
       "    <tr>\n",
       "      <th>0</th>\n",
       "      <td>1005.95</td>\n",
       "      <td>0.688000</td>\n",
       "      <td>0.000000</td>\n",
       "      <td>-14.534884</td>\n",
       "      <td>-14.534884</td>\n",
       "      <td>-233.447765</td>\n",
       "      <td>-772.502200</td>\n",
       "      <td>NaN</td>\n",
       "    </tr>\n",
       "    <tr>\n",
       "      <th>1</th>\n",
       "      <td>1025.74</td>\n",
       "      <td>0.733361</td>\n",
       "      <td>-14.534884</td>\n",
       "      <td>-13.635853</td>\n",
       "      <td>0.899030</td>\n",
       "      <td>-237.656585</td>\n",
       "      <td>-788.109424</td>\n",
       "      <td>-0.026009</td>\n",
       "    </tr>\n",
       "    <tr>\n",
       "      <th>2</th>\n",
       "      <td>1010.02</td>\n",
       "      <td>0.706475</td>\n",
       "      <td>-13.635853</td>\n",
       "      <td>-14.154774</td>\n",
       "      <td>-0.518921</td>\n",
       "      <td>-230.903935</td>\n",
       "      <td>-779.581330</td>\n",
       "      <td>-0.465264</td>\n",
       "    </tr>\n",
       "    <tr>\n",
       "      <th>3</th>\n",
       "      <td>999.79</td>\n",
       "      <td>0.684991</td>\n",
       "      <td>-14.154774</td>\n",
       "      <td>-14.598724</td>\n",
       "      <td>-0.443950</td>\n",
       "      <td>-227.709227</td>\n",
       "      <td>-772.594279</td>\n",
       "      <td>-0.513506</td>\n",
       "    </tr>\n",
       "    <tr>\n",
       "      <th>4</th>\n",
       "      <td>1009.79</td>\n",
       "      <td>0.697065</td>\n",
       "      <td>-14.598724</td>\n",
       "      <td>-14.345857</td>\n",
       "      <td>0.252868</td>\n",
       "      <td>-233.380341</td>\n",
       "      <td>-776.646164</td>\n",
       "      <td>-0.236506</td>\n",
       "    </tr>\n",
       "    <tr>\n",
       "      <th>...</th>\n",
       "      <td>...</td>\n",
       "      <td>...</td>\n",
       "      <td>...</td>\n",
       "      <td>...</td>\n",
       "      <td>...</td>\n",
       "      <td>...</td>\n",
       "      <td>...</td>\n",
       "      <td>...</td>\n",
       "    </tr>\n",
       "    <tr>\n",
       "      <th>245</th>\n",
       "      <td>1344.82</td>\n",
       "      <td>0.972926</td>\n",
       "      <td>-10.241969</td>\n",
       "      <td>-10.278269</td>\n",
       "      <td>-0.036301</td>\n",
       "      <td>-428.543829</td>\n",
       "      <td>-879.861555</td>\n",
       "      <td>36.414616</td>\n",
       "    </tr>\n",
       "    <tr>\n",
       "      <th>246</th>\n",
       "      <td>1341.25</td>\n",
       "      <td>0.972431</td>\n",
       "      <td>-10.278269</td>\n",
       "      <td>-10.283507</td>\n",
       "      <td>-0.005238</td>\n",
       "      <td>-425.083662</td>\n",
       "      <td>-879.574652</td>\n",
       "      <td>36.591685</td>\n",
       "    </tr>\n",
       "    <tr>\n",
       "      <th>247</th>\n",
       "      <td>1332.26</td>\n",
       "      <td>0.971300</td>\n",
       "      <td>-10.283507</td>\n",
       "      <td>-10.295481</td>\n",
       "      <td>-0.011974</td>\n",
       "      <td>-416.479507</td>\n",
       "      <td>-879.019914</td>\n",
       "      <td>36.760579</td>\n",
       "    </tr>\n",
       "    <tr>\n",
       "      <th>248</th>\n",
       "      <td>1322.17</td>\n",
       "      <td>0.969224</td>\n",
       "      <td>-10.295481</td>\n",
       "      <td>-10.317536</td>\n",
       "      <td>-0.022054</td>\n",
       "      <td>-407.171933</td>\n",
       "      <td>-878.079236</td>\n",
       "      <td>36.918831</td>\n",
       "    </tr>\n",
       "    <tr>\n",
       "      <th>249</th>\n",
       "      <td>1324.59</td>\n",
       "      <td>0.968775</td>\n",
       "      <td>-10.317536</td>\n",
       "      <td>-10.322314</td>\n",
       "      <td>-0.004778</td>\n",
       "      <td>-409.667191</td>\n",
       "      <td>-877.819363</td>\n",
       "      <td>37.103446</td>\n",
       "    </tr>\n",
       "  </tbody>\n",
       "</table>\n",
       "<p>250 rows × 8 columns</p>\n",
       "</div>"
      ],
      "text/plain": [
       "     S_Value  Call_Delta  current_n_C  required_number_C  \\\n",
       "0    1005.95    0.688000     0.000000         -14.534884   \n",
       "1    1025.74    0.733361   -14.534884         -13.635853   \n",
       "2    1010.02    0.706475   -13.635853         -14.154774   \n",
       "3     999.79    0.684991   -14.154774         -14.598724   \n",
       "4    1009.79    0.697065   -14.598724         -14.345857   \n",
       "..       ...         ...          ...                ...   \n",
       "245  1344.82    0.972926   -10.241969         -10.278269   \n",
       "246  1341.25    0.972431   -10.278269         -10.283507   \n",
       "247  1332.26    0.971300   -10.283507         -10.295481   \n",
       "248  1322.17    0.969224   -10.295481         -10.317536   \n",
       "249  1324.59    0.968775   -10.317536         -10.322314   \n",
       "\n",
       "     required_additional_C  Call_Value        Cash     Profit  \n",
       "0               -14.534884 -233.447765 -772.502200        NaN  \n",
       "1                 0.899030 -237.656585 -788.109424  -0.026009  \n",
       "2                -0.518921 -230.903935 -779.581330  -0.465264  \n",
       "3                -0.443950 -227.709227 -772.594279  -0.513506  \n",
       "4                 0.252868 -233.380341 -776.646164  -0.236506  \n",
       "..                     ...         ...         ...        ...  \n",
       "245              -0.036301 -428.543829 -879.861555  36.414616  \n",
       "246              -0.005238 -425.083662 -879.574652  36.591685  \n",
       "247              -0.011974 -416.479507 -879.019914  36.760579  \n",
       "248              -0.022054 -407.171933 -878.079236  36.918831  \n",
       "249              -0.004778 -409.667191 -877.819363  37.103446  \n",
       "\n",
       "[250 rows x 8 columns]"
      ]
     },
     "execution_count": 50,
     "metadata": {},
     "output_type": "execute_result"
    }
   ],
   "source": [
    "PF"
   ]
  },
  {
   "cell_type": "code",
   "execution_count": null,
   "metadata": {},
   "outputs": [],
   "source": []
  }
 ],
 "metadata": {
  "kernelspec": {
   "display_name": "Python 3",
   "language": "python",
   "name": "python3"
  },
  "language_info": {
   "codemirror_mode": {
    "name": "ipython",
    "version": 3
   },
   "file_extension": ".py",
   "mimetype": "text/x-python",
   "name": "python",
   "nbconvert_exporter": "python",
   "pygments_lexer": "ipython3",
   "version": "3.8.5"
  }
 },
 "nbformat": 4,
 "nbformat_minor": 4
}
