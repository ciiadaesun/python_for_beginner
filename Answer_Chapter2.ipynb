{
 "cells": [
  {
   "cell_type": "code",
   "execution_count": 1,
   "metadata": {},
   "outputs": [],
   "source": [
    "import numpy as np"
   ]
  },
  {
   "cell_type": "markdown",
   "metadata": {},
   "source": [
    " ## 1. loop and conditioning"
   ]
  },
  {
   "cell_type": "markdown",
   "metadata": {},
   "source": [
    "## ■■■■■■■■■■■■■■■■■■■■■■■■■■■■■■■■■■■■\n",
    "### 1-1. if"
   ]
  },
  {
   "cell_type": "markdown",
   "metadata": {},
   "source": [
    " #### Basic Format"
   ]
  },
  {
   "cell_type": "code",
   "execution_count": 2,
   "metadata": {},
   "outputs": [
    {
     "name": "stdout",
     "output_type": "stream",
     "text": [
      "positive\n"
     ]
    }
   ],
   "source": [
    "x = 1\n",
    "if x > 0 :\n",
    "    print(\"positive\")\n",
    "elif x < 0 :\n",
    "    print(\"negative\")\n",
    "else : \n",
    "    print(\"zero\")"
   ]
  },
  {
   "cell_type": "markdown",
   "metadata": {},
   "source": [
    " #### reduced format"
   ]
  },
  {
   "cell_type": "code",
   "execution_count": 3,
   "metadata": {},
   "outputs": [
    {
     "name": "stdout",
     "output_type": "stream",
     "text": [
      "positive\n"
     ]
    }
   ],
   "source": [
    "print(\"positive\") if x > 0 else print(\"not positive\")"
   ]
  },
  {
   "cell_type": "markdown",
   "metadata": {},
   "source": [
    "\n",
    "### 1-2. For"
   ]
  },
  {
   "cell_type": "markdown",
   "metadata": {},
   "source": [
    " #### Basic Format"
   ]
  },
  {
   "cell_type": "code",
   "execution_count": 4,
   "metadata": {},
   "outputs": [
    {
     "name": "stdout",
     "output_type": "stream",
     "text": [
      "0\n",
      "1\n",
      "2\n",
      "3\n",
      "4\n"
     ]
    }
   ],
   "source": [
    "for i in range(5) :\n",
    "    print(i)"
   ]
  },
  {
   "cell_type": "code",
   "execution_count": 5,
   "metadata": {},
   "outputs": [
    {
     "name": "stdout",
     "output_type": "stream",
     "text": [
      "5\n",
      "4\n",
      "3\n",
      "2\n",
      "1\n"
     ]
    }
   ],
   "source": [
    "for i in range(5,0,-1) :\n",
    "    print(i)"
   ]
  },
  {
   "cell_type": "markdown",
   "metadata": {},
   "source": [
    " ##### Call by element"
   ]
  },
  {
   "cell_type": "code",
   "execution_count": 6,
   "metadata": {},
   "outputs": [
    {
     "name": "stdout",
     "output_type": "stream",
     "text": [
      "pineapple\n",
      "apple\n",
      "banana\n",
      "strawberry\n",
      "blueberry\n"
     ]
    }
   ],
   "source": [
    "words = ['pineapple','apple', 'banana', 'strawberry','blueberry']\n",
    "for i in words :\n",
    "    print(i)"
   ]
  },
  {
   "cell_type": "code",
   "execution_count": 7,
   "metadata": {},
   "outputs": [
    {
     "name": "stdout",
     "output_type": "stream",
     "text": [
      "1.35\n",
      "1.25\n",
      "0.8\n"
     ]
    }
   ],
   "source": [
    "samsung = {'name' : 'samsung', 'beta' : 1.35 , 'realized_return' : 0.09}\n",
    "lg = {'name' :'lg', 'beta' : 1.25 , 'realized_return' : 0.0825}\n",
    "kt = {'name' :'kt', 'beta' : 0.8 , 'realized_return' : 0.05}\n",
    "stock_info = [samsung, lg, kt]\n",
    "for i in stock_info :\n",
    "    print(i['beta'])"
   ]
  },
  {
   "cell_type": "markdown",
   "metadata": {},
   "source": [
    " ##### Call by index"
   ]
  },
  {
   "cell_type": "code",
   "execution_count": 8,
   "metadata": {},
   "outputs": [
    {
     "name": "stdout",
     "output_type": "stream",
     "text": [
      "pineapple\n",
      "apple\n",
      "banana\n",
      "strawberry\n",
      "blueberry\n"
     ]
    }
   ],
   "source": [
    "for i in range(len(words)) :\n",
    "    print(words[i])"
   ]
  },
  {
   "cell_type": "markdown",
   "metadata": {},
   "source": [
    " ##### Make list"
   ]
  },
  {
   "cell_type": "code",
   "execution_count": 9,
   "metadata": {},
   "outputs": [],
   "source": [
    "apple_list = []\n",
    "berry_list = []\n",
    "etc_list = []\n",
    "for i in words :\n",
    "    if 'apple' in i.lower() :\n",
    "        apple_list.append(i)\n",
    "    elif 'berry' in i.lower() :\n",
    "        berry_list.append(i)\n",
    "    else :\n",
    "        etc_list.append(i)"
   ]
  },
  {
   "cell_type": "code",
   "execution_count": 10,
   "metadata": {},
   "outputs": [
    {
     "name": "stdout",
     "output_type": "stream",
     "text": [
      "['pineapple', 'apple']\n",
      "['strawberry', 'blueberry']\n",
      "['banana']\n"
     ]
    }
   ],
   "source": [
    "print(apple_list)\n",
    "print(berry_list) \n",
    "print(etc_list)"
   ]
  },
  {
   "cell_type": "markdown",
   "metadata": {},
   "source": [
    " ##### Make Dictionary"
   ]
  },
  {
   "cell_type": "code",
   "execution_count": 11,
   "metadata": {},
   "outputs": [],
   "source": [
    "my_dict = {'apple' : 0, 'berry' : 0 , 'etc' : 0}\n",
    "for i in words :\n",
    "    if 'apple' in i.lower() :\n",
    "        my_dict['apple'] = my_dict['apple'] + 1\n",
    "    elif 'berry' in i.lower() :\n",
    "        my_dict['berry'] = my_dict['berry'] + 1\n",
    "    else :\n",
    "        my_dict['etc'] = my_dict['etc'] + 1"
   ]
  },
  {
   "cell_type": "markdown",
   "metadata": {},
   "source": [
    " #### reduced format"
   ]
  },
  {
   "cell_type": "code",
   "execution_count": 12,
   "metadata": {},
   "outputs": [
    {
     "data": {
      "text/plain": [
       "[0, 1, 2, 3, 4, 5, 6, 7, 8, 9]"
      ]
     },
     "execution_count": 12,
     "metadata": {},
     "output_type": "execute_result"
    }
   ],
   "source": [
    "[i for i in range(10)]"
   ]
  },
  {
   "cell_type": "code",
   "execution_count": 13,
   "metadata": {},
   "outputs": [
    {
     "data": {
      "text/plain": [
       "[0, 1, 4, 9, 16, 25, 36, 49, 64, 81]"
      ]
     },
     "execution_count": 13,
     "metadata": {},
     "output_type": "execute_result"
    }
   ],
   "source": [
    "[i**2 for i in range(10)]"
   ]
  },
  {
   "cell_type": "code",
   "execution_count": 14,
   "metadata": {},
   "outputs": [
    {
     "data": {
      "text/plain": [
       "[1, 3, 5, 7, 9]"
      ]
     },
     "execution_count": 14,
     "metadata": {},
     "output_type": "execute_result"
    }
   ],
   "source": [
    "[i for i in range(10) if i%2 == 1]"
   ]
  },
  {
   "cell_type": "markdown",
   "metadata": {},
   "source": [
    " #### enumerate and zip function"
   ]
  },
  {
   "cell_type": "code",
   "execution_count": 15,
   "metadata": {},
   "outputs": [
    {
     "name": "stdout",
     "output_type": "stream",
     "text": [
      "0 pineapple\n",
      "1 apple\n",
      "2 banana\n",
      "3 strawberry\n",
      "4 blueberry\n"
     ]
    }
   ],
   "source": [
    "for n, i in enumerate(words) :\n",
    "    print(n, i)"
   ]
  },
  {
   "cell_type": "code",
   "execution_count": 16,
   "metadata": {},
   "outputs": [
    {
     "name": "stdout",
     "output_type": "stream",
     "text": [
      "name :  Samsung  /  PD : 0.01\n",
      "name :  LG  /  PD : 0.05\n",
      "name :  SKT  /  PD : 0.03\n",
      "name :  Apple  /  PD : 0.001\n"
     ]
    }
   ],
   "source": [
    "name_lst = ['Samsung','LG','SKT','Apple']\n",
    "Default_Prob = [0.01,0.05,0.03,0.001]\n",
    "for a,b in zip(name_lst, Default_Prob) :\n",
    "    print('name : ',a,' /  PD :',b)"
   ]
  },
  {
   "cell_type": "markdown",
   "metadata": {},
   "source": [
    " ### 1-3. While : 조건에 해당될 때만 반복한다. \n",
    " \n",
    " (반복문을 끄고싶을 경우에는 위에 Jupyter창의 Kernel 밑에있는 ■를 누르고 그 오른쪽에  재시작 버튼을 누르면 됩니다.)"
   ]
  },
  {
   "cell_type": "code",
   "execution_count": 17,
   "metadata": {},
   "outputs": [
    {
     "name": "stdout",
     "output_type": "stream",
     "text": [
      "2\n",
      "3\n",
      "4\n",
      "2\n",
      "4\n",
      "1\n",
      "4\n",
      "3\n",
      "5\n"
     ]
    }
   ],
   "source": [
    "rndn = 0\n",
    "while rndn != 5 :\n",
    "    rndn = np.random.randint(0,8)\n",
    "    print(rndn)"
   ]
  },
  {
   "cell_type": "code",
   "execution_count": 18,
   "metadata": {},
   "outputs": [
    {
     "name": "stdout",
     "output_type": "stream",
     "text": [
      "0\n",
      "1\n",
      "2\n",
      "4\n",
      "4\n",
      "5\n"
     ]
    }
   ],
   "source": [
    "loop_switch = True \n",
    "rndn = 0\n",
    "while loop_switch :\n",
    "    rndn = np.random.randint(0,8) \n",
    "    print(rndn)\n",
    "    if rndn == 5 :\n",
    "        break"
   ]
  },
  {
   "cell_type": "markdown",
   "metadata": {},
   "source": [
    " ### 1-4. Stock Price Simulation (중요도 높음)"
   ]
  },
  {
   "cell_type": "markdown",
   "metadata": {},
   "source": [
    "\\begin{align}\n",
    "S(T) = S_0 e^{ (r-\\frac{\\sigma^2}{2})T + \\sigma \\sqrt{T} \\epsilon} \\\\\n",
    "\\epsilon \\sim N(0,1)\n",
    "\\end{align}"
   ]
  },
  {
   "cell_type": "code",
   "execution_count": 19,
   "metadata": {},
   "outputs": [
    {
     "data": {
      "text/plain": [
       "93.50040487094522"
      ]
     },
     "execution_count": 19,
     "metadata": {},
     "output_type": "execute_result"
    }
   ],
   "source": [
    "import numpy as np\n",
    "S0 = 100\n",
    "r = 0.05\n",
    "sigma = 0.15\n",
    "T = 2\n",
    "S_path = S0 * np.exp( (r-0.5*sigma**2) *T  +  sigma *np.sqrt(T) * np.random.normal(0,1) )\n",
    "S_path"
   ]
  },
  {
   "cell_type": "code",
   "execution_count": 20,
   "metadata": {},
   "outputs": [],
   "source": [
    "S_path_list = []\n",
    "for i in range(100) :\n",
    "    S_path = S0 * np.exp( (r-0.5**sigma) *T  +  sigma *np.sqrt(T) * np.random.normal(0,1) )\n",
    "    S_path_list.append(S_path)"
   ]
  },
  {
   "cell_type": "markdown",
   "metadata": {},
   "source": [
    " ### 1-5. Function Reduced Format ( 중요도 낮음.)"
   ]
  },
  {
   "cell_type": "code",
   "execution_count": 21,
   "metadata": {},
   "outputs": [
    {
     "data": {
      "text/plain": [
       "9"
      ]
     },
     "execution_count": 21,
     "metadata": {},
     "output_type": "execute_result"
    }
   ],
   "source": [
    "square_function = lambda x : x ** 2\n",
    "square_function(3)"
   ]
  },
  {
   "cell_type": "code",
   "execution_count": 22,
   "metadata": {},
   "outputs": [
    {
     "data": {
      "text/plain": [
       "-3"
      ]
     },
     "execution_count": 22,
     "metadata": {},
     "output_type": "execute_result"
    }
   ],
   "source": [
    "temp_function = lambda x,y,z=1 : x+y-z\n",
    "temp_function(3,2,8)"
   ]
  },
  {
   "cell_type": "code",
   "execution_count": 23,
   "metadata": {},
   "outputs": [
    {
     "data": {
      "text/plain": [
       "4"
      ]
     },
     "execution_count": 23,
     "metadata": {},
     "output_type": "execute_result"
    }
   ],
   "source": [
    "temp_function(3,2)"
   ]
  },
  {
   "cell_type": "code",
   "execution_count": 24,
   "metadata": {},
   "outputs": [
    {
     "data": {
      "text/plain": [
       "[0, 8, 24, 48, 80]"
      ]
     },
     "execution_count": 24,
     "metadata": {},
     "output_type": "execute_result"
    }
   ],
   "source": [
    "lst = [i for i in range(10) if i%2 == 1]\n",
    "temp_lambda2 = lambda x : x ** 2 - 1\n",
    "list(map(temp_lambda2, lst))"
   ]
  },
  {
   "cell_type": "markdown",
   "metadata": {},
   "source": [
    "## ■■■■■■■■■■■■■■■■■■■■■■■■■■■■■■■■■■■■■ \n",
    " ## 1-1 ~ 1-5 실습\n"
   ]
  },
  {
   "cell_type": "markdown",
   "metadata": {},
   "source": [
    "### 문제 1. \n",
    "\n",
    "다음 변수를 이용하여 주식들이 CAPM 균형수익률을 감안했을 때 저평가되었는지 고평가되었는지 적정수준인지를 계산하시오.\n",
    "\n",
    "rf = 0.02, \n",
    "rm = 0.07\n",
    "\n",
    "samsung = {'name' : 'samsung', 'beta' : 1.35 , 'realized_return' : 0.09}\n",
    "\n",
    "lg = {'name' :'lg', 'beta' : 1.25 , 'realized_return' : 0.825}\n",
    "\n",
    "kt = {'name' :'kt', 'beta' : 0.8 , 'realized_return' : 0.05}\n",
    "\n",
    "stock_info = [samsung, lg, kt]"
   ]
  },
  {
   "cell_type": "code",
   "execution_count": 25,
   "metadata": {},
   "outputs": [],
   "source": [
    "rf, rm = 0.02, 0.07\n",
    "samsung = {'name' : 'samsung', 'beta' : 1.35 , 'realized_return' : 0.09}\n",
    "lg = {'name' :'lg', 'beta' : 1.25 , 'realized_return' : 0.0825}\n",
    "kt = {'name' :'kt', 'beta' : 0.8 , 'realized_return' : 0.05}\n",
    "stock_info = [samsung, lg, kt]"
   ]
  },
  {
   "cell_type": "code",
   "execution_count": 26,
   "metadata": {
    "scrolled": true
   },
   "outputs": [
    {
     "name": "stdout",
     "output_type": "stream",
     "text": [
      "균형수익률 =  0.08750000000000001 \n",
      "실제수익률 : 0.09 고평가 \n",
      "--------------------\n",
      "균형수익률 =  0.0825 \n",
      "실제수익률 : 0.0825 적정 \n",
      "--------------------\n",
      "균형수익률 =  0.06000000000000001 \n",
      "실제수익률 : 0.05 저평가 \n",
      "--------------------\n"
     ]
    }
   ],
   "source": [
    "#############################\n",
    "##풀이과정을 여기에 쓰세요 ##\n",
    "#############################\n",
    "for i in stock_info :\n",
    "    capm_ret = rf + i['beta']*(rm-rf)\n",
    "    realized_ret = i['realized_return']\n",
    "    if capm_ret > realized_ret :\n",
    "        over_or_under = '저평가'\n",
    "    elif capm_ret < realized_ret :\n",
    "        over_or_under = '고평가'\n",
    "    else :\n",
    "        over_or_under = '적정'\n",
    "    print('균형수익률 = ' , rf + i['beta']*(rm-rf) ,'\\n실제수익률 :',i['realized_return'], over_or_under , '\\n--------------------')\n",
    "#############################"
   ]
  },
  {
   "cell_type": "markdown",
   "metadata": {},
   "source": [
    " ### 문제 2.\n",
    " while 반복문을 사용하여 주가 시뮬레이션을 시행하고 그 결과를 리스트에 담으시오. \n",
    " \n",
    " 리스트에 계속 T시점의 시뮬레이션된 주가를 담고, 만약 시뮬레이션된 주가가 0시점 주가의 150%를 넘어가는 경우가 발생하면 반복문을 중단하시오.\n",
    " \n",
    " S0 = 100, sigma = 0.2, T = 1, r = 0.02\n",
    " \n",
    " "
   ]
  },
  {
   "cell_type": "code",
   "execution_count": 27,
   "metadata": {},
   "outputs": [],
   "source": [
    "S0, sigma , T , r = 100, 0.2, 1, 0.02"
   ]
  },
  {
   "cell_type": "code",
   "execution_count": 28,
   "metadata": {},
   "outputs": [
    {
     "data": {
      "text/plain": [
       "[96.06142471750826,\n",
       " 114.04125459847252,\n",
       " 100.44956254913646,\n",
       " 89.04242495804114,\n",
       " 82.1449648853132,\n",
       " 93.00614922045976,\n",
       " 71.33611408172939,\n",
       " 127.03843734530274,\n",
       " 83.26002859994811,\n",
       " 113.15413696919656,\n",
       " 77.91442583642086,\n",
       " 102.33581634478894,\n",
       " 109.00026313149691,\n",
       " 97.34594412004799,\n",
       " 76.11651667777542,\n",
       " 109.72536216853163,\n",
       " 98.80829322731546,\n",
       " 77.81632034372625,\n",
       " 127.31350232844612,\n",
       " 88.58386707719939,\n",
       " 104.762642350724,\n",
       " 91.83501329790545,\n",
       " 107.13271901803425,\n",
       " 100.51580215443319,\n",
       " 99.29395410569933,\n",
       " 99.85680691868971,\n",
       " 91.26272540638466,\n",
       " 79.85097325190664,\n",
       " 139.9313296624053,\n",
       " 84.37906802567026,\n",
       " 116.85441456425532,\n",
       " 76.11372623899223,\n",
       " 72.05579059541611,\n",
       " 143.82869417432536,\n",
       " 94.24564420611433,\n",
       " 71.95251717242914,\n",
       " 121.96746525060358,\n",
       " 111.92379842780389,\n",
       " 143.1728240384055,\n",
       " 141.4132030840501,\n",
       " 66.99469912410373,\n",
       " 106.90768299208877,\n",
       " 94.90911094503619,\n",
       " 87.41261794799539,\n",
       " 126.06067034168925,\n",
       " 130.19111532410787,\n",
       " 60.165667071440765,\n",
       " 87.89720090891608,\n",
       " 84.92622438980145,\n",
       " 91.93866663726256,\n",
       " 88.33025845125378,\n",
       " 78.7783483376519,\n",
       " 89.78057319956689,\n",
       " 74.92455118215416,\n",
       " 111.16473787104904,\n",
       " 87.90525675643012,\n",
       " 120.72593105283786,\n",
       " 83.2798215995701,\n",
       " 117.221046157852,\n",
       " 100.7131252955263,\n",
       " 90.89345511831938,\n",
       " 62.828019974319616,\n",
       " 134.37429768561,\n",
       " 79.69654772777253,\n",
       " 102.34607366600284,\n",
       " 92.3692664184777,\n",
       " 90.90692654931905,\n",
       " 128.2444082215985,\n",
       " 157.67880347176998]"
      ]
     },
     "execution_count": 28,
     "metadata": {},
     "output_type": "execute_result"
    }
   ],
   "source": [
    "#############################\n",
    "##풀이과정을 여기에 쓰세요 ##\n",
    "#############################\n",
    "S_path_list = []\n",
    "while True : \n",
    "    S_path = S0 * np.exp( (r-0.5*sigma**2) *T  +  sigma *np.sqrt(T) * np.random.normal(0,1) )\n",
    "    S_path_list.append(S_path)\n",
    "    if S_path/S0  > 1.5 :\n",
    "        break\n",
    "\n",
    "S_path_list\n",
    "#############################"
   ]
  },
  {
   "cell_type": "markdown",
   "metadata": {},
   "source": [
    " ### 문제 3.\n",
    "T시점의 주가를 몬테카를로 시뮬레이션 1000회 시도하여 구하고, 이를 통해 콜옵션가격을 계산하시오.\n",
    "\n",
    "\\begin{align}\n",
    "S_0 = 100, \\ K = 90, \\  \\sigma = 0.2, \\  T = 1, \\ r = 0.02 \\\\\n",
    "\\\\\n",
    "S(T) = S_0 e^{ (r-\\frac{\\sigma^2}{2})T + \\sigma \\sqrt{T} \\epsilon} \\\\\n",
    "\\epsilon \\sim N(0,1)\n",
    "\\\\\n",
    "\\\\\n",
    "C_0^{path(n)} = e^{-rT} \\times  Payoff(T)\n",
    "\\\\\n",
    "\\\\\n",
    "Payoff(T) = max(S(T) - K, 0)\n",
    "\\\\\n",
    "\\\\\n",
    "C_0 = average \\ of \\ [ C_0^{path1} , C_0^{path2} , C_0^{path3},...,  C_0^{path1000}]\n",
    "\\end{align}"
   ]
  },
  {
   "cell_type": "code",
   "execution_count": 29,
   "metadata": {},
   "outputs": [],
   "source": [
    "S0, K, sigma , T , r = 100, 90, 0.2, 1, 0.02"
   ]
  },
  {
   "cell_type": "code",
   "execution_count": 30,
   "metadata": {},
   "outputs": [
    {
     "data": {
      "text/plain": [
       "15.614741820292421"
      ]
     },
     "execution_count": 30,
     "metadata": {},
     "output_type": "execute_result"
    }
   ],
   "source": [
    "#############################\n",
    "##풀이과정을 여기에 쓰세요 ##\n",
    "#############################\n",
    "C0_list = []\n",
    "for i in range(1000) :\n",
    "    S_path = S0 * np.exp( (r-0.5*sigma**2)*T + sigma * np.sqrt(T) * np.random.normal(0,1) )\n",
    "    Payoff_T = max ( S_path - K , 0)\n",
    "    C0 = Payoff_T * np.exp(-r * T)\n",
    "    C0_list.append(C0)\n",
    "C = sum(C0_list)/len(C0_list)\n",
    "C\n",
    "#############################"
   ]
  },
  {
   "cell_type": "markdown",
   "metadata": {},
   "source": [
    " ### 문제 4.\n",
    "T시점의 주가를 몬테카를로 시뮬레이션 1000회 시도하여 구하고, 이를 통해 콜옵션가격을 계산하시오.\n",
    "\n",
    "블랙숄즈 모형을 통해 콜옵션의 가격을 계산하는 함수를 만드시오.(배당은 없다.)\n",
    "\n",
    "주가(S), 행사가격(K), 표준편차(sigma), 잔존만기(T), 이자율(r)을 변수로 취급하시오.\n",
    "\n",
    "또한 문제 4에서 계산한 몬테카를로 시뮬레이션 결과와 블랙숄즈 콜옵션 가격을 비교하시오.\n",
    "\n",
    "\\begin{align}\n",
    "S_0 = 100, \\ K = 90, \\  \\sigma = 0.2, \\  T = 1, \\ r = 0.02\n",
    "\\end{align}\n",
    "\n",
    "<출력화면 예시}\n",
    "\n",
    "블랙숄즈 : xx원 , 몬테카를로 : xx원"
   ]
  },
  {
   "cell_type": "code",
   "execution_count": 31,
   "metadata": {},
   "outputs": [],
   "source": [
    "from scipy.stats import norm\n",
    "S0, K, sigma , T , r = 100, 90, 0.2, 1, 0.02"
   ]
  },
  {
   "cell_type": "code",
   "execution_count": 32,
   "metadata": {},
   "outputs": [
    {
     "name": "stdout",
     "output_type": "stream",
     "text": [
      "블랙숄즈 :  14.80650701571102 , 몬테카를로 :  15.087841031523238\n"
     ]
    }
   ],
   "source": [
    "#############################\n",
    "##풀이과정을 여기에 쓰세요 ##\n",
    "#############################\n",
    "C0_list = []\n",
    "for i in range(1000) :\n",
    "    S_path = S0 * np.exp( (r-0.5*sigma**2)*T + sigma * np.sqrt(T) * np.random.normal(0,1) )\n",
    "    Payoff_T = max ( S_path - K , 0)\n",
    "    C0 = Payoff_T * np.exp(-r * T)\n",
    "    C0_list.append(C0)\n",
    "C = sum(C0_list)/len(C0_list)\n",
    "\n",
    "def Call(S,K,sigma,T,r) :\n",
    "    d1 = ( np.log(S/K) + (r + 0.5 * sigma**2)*T  ) / (sigma * np.sqrt(T))\n",
    "    d2 = d1 - sigma * np.sqrt(T)\n",
    "    Nd1 = norm.cdf(d1)\n",
    "    Nd2 = norm.cdf(d2)\n",
    "    C = S * Nd1 - K * np.exp(-r * T ) * Nd2\n",
    "    return C\n",
    "\n",
    "print( '블랙숄즈 : ', Call(S0,K,sigma,T,r) , ', 몬테카를로 : ', C)\n",
    "\n",
    "#############################"
   ]
  },
  {
   "cell_type": "markdown",
   "metadata": {},
   "source": [
    " ### 문제 5.\n",
    "T시점의 주가를 몬테카를로 시뮬레이션 1500회 시도하여 구하고, 이를 통해 Binary 콜옵션가격을 계산하시오. Binary 콜옵션은 만기 주가가 행사가격보다 높으면 1원을 주고 그렇지 않으면 0원을 준다.\n",
    "\n",
    "\\begin{align}\n",
    "S_0 = 100, \\ K = 90, \\  \\sigma = 0.2, \\  T = 1, \\ r = 0.02 \\\\\n",
    "\\\\\n",
    "S(T) = S_0 e^{ (r-\\frac{\\sigma^2}{2})T + \\sigma \\sqrt{T} \\epsilon} \\\\\n",
    "\\epsilon \\sim N(0,1)\n",
    "\\\\\n",
    "\\\\\n",
    "C_0^{path(n)} = e^{-rT} \\times  Payoff(T)\n",
    "\\\\\n",
    "\\\\\n",
    "Payoff(T) = 1 \\ \\ if \\ \\ S(T) >= K \\ ,\\ \\  else : \\ 0\n",
    "\\\\\n",
    "\\\\\n",
    "C_0 = average \\ of \\ [ C_0^{path1} , C_0^{path2} , C_0^{path3},...,  C_0^{path1000}]\n",
    "\\end{align}"
   ]
  },
  {
   "cell_type": "code",
   "execution_count": 33,
   "metadata": {},
   "outputs": [
    {
     "data": {
      "text/plain": [
       "0.6580400426799293"
      ]
     },
     "execution_count": 33,
     "metadata": {},
     "output_type": "execute_result"
    }
   ],
   "source": [
    "#############################\n",
    "##풀이과정을 여기에 쓰세요 ##\n",
    "#############################\n",
    "binary_C0_list = []\n",
    "for i in range(1500) :\n",
    "    S_path = S0 * np.exp( (r-0.5*sigma**2)*T + sigma * np.sqrt(T) * np.random.normal(0,1) )\n",
    "    if S_path >= K :\n",
    "        Payoff_T = 1\n",
    "    else :\n",
    "        Payoff_T = 0\n",
    "    C0 = Payoff_T * np.exp(-r * T)\n",
    "    binary_C0_list.append(C0)\n",
    "binary_C = sum(binary_C0_list)/len(binary_C0_list)\n",
    "binary_C\n",
    "#############################"
   ]
  },
  {
   "cell_type": "markdown",
   "metadata": {},
   "source": [
    " ### 문제 6.\n",
    " 블랙숄즈의 Binary 콜옵션 가격은 다음과 같다. 문제 5의 몬테카를로 가격과 비교하시오.\n",
    " \n",
    " \\begin{align}\n",
    " C^{binary} = e^{-rT} N(d_2)\n",
    " \\end{align}"
   ]
  },
  {
   "cell_type": "code",
   "execution_count": 34,
   "metadata": {
    "scrolled": true
   },
   "outputs": [
    {
     "name": "stdout",
     "output_type": "stream",
     "text": [
      "0.6580400426799293 0.686957197925445\n"
     ]
    }
   ],
   "source": [
    "#############################\n",
    "##풀이과정을 여기에 쓰세요 ##\n",
    "#############################\n",
    "\n",
    "def Binary_Call(S,K,sigma,T,r) :\n",
    "    d1 = ( np.log(S/K) + (r + 0.5 * sigma**2)*T  ) / (sigma * np.sqrt(T))\n",
    "    d2 = d1 - sigma * np.sqrt(T)\n",
    "    Nd2 = norm.cdf(d2)\n",
    "    C = Nd2 * np.exp(-r * T)\n",
    "    return C\n",
    "\n",
    "print(binary_C , Binary_Call(S0,K,sigma,T,r))\n",
    "\n",
    "#############################\n"
   ]
  },
  {
   "cell_type": "markdown",
   "metadata": {},
   "source": [
    " ## 2. Ramdom number generate"
   ]
  },
  {
   "cell_type": "code",
   "execution_count": 35,
   "metadata": {},
   "outputs": [],
   "source": [
    "import numpy as np"
   ]
  },
  {
   "cell_type": "markdown",
   "metadata": {},
   "source": [
    " ### 2-1. basic"
   ]
  },
  {
   "cell_type": "code",
   "execution_count": 36,
   "metadata": {},
   "outputs": [
    {
     "data": {
      "text/plain": [
       "74"
      ]
     },
     "execution_count": 36,
     "metadata": {},
     "output_type": "execute_result"
    }
   ],
   "source": [
    "np.random.randint(1,100)"
   ]
  },
  {
   "cell_type": "code",
   "execution_count": 41,
   "metadata": {},
   "outputs": [
    {
     "data": {
      "text/plain": [
       "106"
      ]
     },
     "execution_count": 41,
     "metadata": {},
     "output_type": "execute_result"
    }
   ],
   "source": [
    "np.random.randint(1,100) + 100"
   ]
  },
  {
   "cell_type": "code",
   "execution_count": 42,
   "metadata": {},
   "outputs": [
    {
     "data": {
      "text/plain": [
       "array([34.07594093,  8.52949685,  8.17947547, 31.90179573, 32.48549497])"
      ]
     },
     "execution_count": 42,
     "metadata": {},
     "output_type": "execute_result"
    }
   ],
   "source": [
    "np.random.uniform(1,36,size = 5)"
   ]
  },
  {
   "cell_type": "markdown",
   "metadata": {},
   "source": [
    " ### 2-2. Choice, Sample, Shuffle"
   ]
  },
  {
   "cell_type": "code",
   "execution_count": 44,
   "metadata": {},
   "outputs": [
    {
     "data": {
      "text/plain": [
       "'A'"
      ]
     },
     "execution_count": 44,
     "metadata": {},
     "output_type": "execute_result"
    }
   ],
   "source": [
    "my_lst = ['A','C',1,2,3]\n",
    "np.random.choice(my_lst)"
   ]
  },
  {
   "cell_type": "code",
   "execution_count": 48,
   "metadata": {},
   "outputs": [
    {
     "data": {
      "text/plain": [
       "array(['A', '3', 'A'], dtype='<U1')"
      ]
     },
     "execution_count": 48,
     "metadata": {},
     "output_type": "execute_result"
    }
   ],
   "source": [
    "np.random.choice(my_lst, size = 3, replace = True)"
   ]
  },
  {
   "cell_type": "code",
   "execution_count": 47,
   "metadata": {},
   "outputs": [
    {
     "data": {
      "text/plain": [
       "array(['2', 'A'], dtype='<U1')"
      ]
     },
     "execution_count": 47,
     "metadata": {},
     "output_type": "execute_result"
    }
   ],
   "source": [
    "np.random.choice(my_lst, size = 2, replace = False)"
   ]
  },
  {
   "cell_type": "code",
   "execution_count": 51,
   "metadata": {},
   "outputs": [
    {
     "data": {
      "text/plain": [
       "['C', 1, 'A', 2, 3]"
      ]
     },
     "execution_count": 51,
     "metadata": {},
     "output_type": "execute_result"
    }
   ],
   "source": [
    "np.random.shuffle(my_lst)\n",
    "my_lst"
   ]
  },
  {
   "cell_type": "markdown",
   "metadata": {},
   "source": [
    " ### 2-3. random normal"
   ]
  },
  {
   "cell_type": "code",
   "execution_count": 58,
   "metadata": {},
   "outputs": [
    {
     "data": {
      "text/plain": [
       "array([1.16641549, 0.1877537 , 0.32025486, 2.11510984, 1.92282514])"
      ]
     },
     "execution_count": 58,
     "metadata": {},
     "output_type": "execute_result"
    }
   ],
   "source": [
    "np.random.normal(0,1,size = 5) # mu = 0 , sigma = 1"
   ]
  },
  {
   "cell_type": "code",
   "execution_count": 57,
   "metadata": {},
   "outputs": [
    {
     "data": {
      "text/plain": [
       "array([[-0.19539939,  1.02572522,  1.51479655],\n",
       "       [ 0.4340986 , -0.01473762, -1.95321269]])"
      ]
     },
     "execution_count": 57,
     "metadata": {},
     "output_type": "execute_result"
    }
   ],
   "source": [
    "np.random.normal(0,1,size = (2,3))"
   ]
  },
  {
   "cell_type": "markdown",
   "metadata": {},
   "source": [
    " ### 2-4. Vectorize"
   ]
  },
  {
   "cell_type": "code",
   "execution_count": 15,
   "metadata": {},
   "outputs": [],
   "source": [
    "my_lamb = lambda x , y , z  = 0: x+y+z\n",
    "my_lamb = np.vectorize(my_lamb)"
   ]
  },
  {
   "cell_type": "code",
   "execution_count": 16,
   "metadata": {},
   "outputs": [
    {
     "data": {
      "text/plain": [
       "(6, 3)"
      ]
     },
     "execution_count": 16,
     "metadata": {},
     "output_type": "execute_result"
    }
   ],
   "source": [
    "my_lamb(1,2,3), my_lamb(1,2)"
   ]
  },
  {
   "cell_type": "code",
   "execution_count": 17,
   "metadata": {},
   "outputs": [],
   "source": [
    "x = np.arange(10)\n",
    "y = np.arange(10,20)"
   ]
  },
  {
   "cell_type": "code",
   "execution_count": 18,
   "metadata": {},
   "outputs": [
    {
     "data": {
      "text/plain": [
       "array([10, 12, 14, 16, 18, 20, 22, 24, 26, 28])"
      ]
     },
     "execution_count": 18,
     "metadata": {},
     "output_type": "execute_result"
    }
   ],
   "source": [
    "my_lamb(x,y)"
   ]
  },
  {
   "cell_type": "code",
   "execution_count": 19,
   "metadata": {},
   "outputs": [],
   "source": [
    "xx = np.arange(10).reshape(1,-1)\n",
    "yy = np.arange(10,20).reshape(-1,1)"
   ]
  },
  {
   "cell_type": "code",
   "execution_count": 20,
   "metadata": {},
   "outputs": [
    {
     "data": {
      "text/plain": [
       "array([[10, 11, 12, 13, 14, 15, 16, 17, 18, 19],\n",
       "       [11, 12, 13, 14, 15, 16, 17, 18, 19, 20],\n",
       "       [12, 13, 14, 15, 16, 17, 18, 19, 20, 21],\n",
       "       [13, 14, 15, 16, 17, 18, 19, 20, 21, 22],\n",
       "       [14, 15, 16, 17, 18, 19, 20, 21, 22, 23],\n",
       "       [15, 16, 17, 18, 19, 20, 21, 22, 23, 24],\n",
       "       [16, 17, 18, 19, 20, 21, 22, 23, 24, 25],\n",
       "       [17, 18, 19, 20, 21, 22, 23, 24, 25, 26],\n",
       "       [18, 19, 20, 21, 22, 23, 24, 25, 26, 27],\n",
       "       [19, 20, 21, 22, 23, 24, 25, 26, 27, 28]])"
      ]
     },
     "execution_count": 20,
     "metadata": {},
     "output_type": "execute_result"
    }
   ],
   "source": [
    "my_lamb(xx,yy)"
   ]
  },
  {
   "cell_type": "code",
   "execution_count": 30,
   "metadata": {},
   "outputs": [],
   "source": [
    "xxx = xx.reshape(-1,1,1)\n",
    "yyy = yy.reshape(1,-1,1)\n",
    "zzz = np.arange(2).reshape(1,1,-1)"
   ]
  },
  {
   "cell_type": "code",
   "execution_count": 42,
   "metadata": {
    "scrolled": true
   },
   "outputs": [
    {
     "data": {
      "text/plain": [
       "array([[[10, 11],\n",
       "        [11, 12],\n",
       "        [12, 13],\n",
       "        [13, 14],\n",
       "        [14, 15],\n",
       "        [15, 16],\n",
       "        [16, 17],\n",
       "        [17, 18],\n",
       "        [18, 19],\n",
       "        [19, 20]],\n",
       "\n",
       "       [[11, 12],\n",
       "        [12, 13],\n",
       "        [13, 14],\n",
       "        [14, 15],\n",
       "        [15, 16],\n",
       "        [16, 17],\n",
       "        [17, 18],\n",
       "        [18, 19],\n",
       "        [19, 20],\n",
       "        [20, 21]],\n",
       "\n",
       "       [[12, 13],\n",
       "        [13, 14],\n",
       "        [14, 15],\n",
       "        [15, 16],\n",
       "        [16, 17],\n",
       "        [17, 18],\n",
       "        [18, 19],\n",
       "        [19, 20],\n",
       "        [20, 21],\n",
       "        [21, 22]],\n",
       "\n",
       "       [[13, 14],\n",
       "        [14, 15],\n",
       "        [15, 16],\n",
       "        [16, 17],\n",
       "        [17, 18],\n",
       "        [18, 19],\n",
       "        [19, 20],\n",
       "        [20, 21],\n",
       "        [21, 22],\n",
       "        [22, 23]],\n",
       "\n",
       "       [[14, 15],\n",
       "        [15, 16],\n",
       "        [16, 17],\n",
       "        [17, 18],\n",
       "        [18, 19],\n",
       "        [19, 20],\n",
       "        [20, 21],\n",
       "        [21, 22],\n",
       "        [22, 23],\n",
       "        [23, 24]],\n",
       "\n",
       "       [[15, 16],\n",
       "        [16, 17],\n",
       "        [17, 18],\n",
       "        [18, 19],\n",
       "        [19, 20],\n",
       "        [20, 21],\n",
       "        [21, 22],\n",
       "        [22, 23],\n",
       "        [23, 24],\n",
       "        [24, 25]],\n",
       "\n",
       "       [[16, 17],\n",
       "        [17, 18],\n",
       "        [18, 19],\n",
       "        [19, 20],\n",
       "        [20, 21],\n",
       "        [21, 22],\n",
       "        [22, 23],\n",
       "        [23, 24],\n",
       "        [24, 25],\n",
       "        [25, 26]],\n",
       "\n",
       "       [[17, 18],\n",
       "        [18, 19],\n",
       "        [19, 20],\n",
       "        [20, 21],\n",
       "        [21, 22],\n",
       "        [22, 23],\n",
       "        [23, 24],\n",
       "        [24, 25],\n",
       "        [25, 26],\n",
       "        [26, 27]],\n",
       "\n",
       "       [[18, 19],\n",
       "        [19, 20],\n",
       "        [20, 21],\n",
       "        [21, 22],\n",
       "        [22, 23],\n",
       "        [23, 24],\n",
       "        [24, 25],\n",
       "        [25, 26],\n",
       "        [26, 27],\n",
       "        [27, 28]],\n",
       "\n",
       "       [[19, 20],\n",
       "        [20, 21],\n",
       "        [21, 22],\n",
       "        [22, 23],\n",
       "        [23, 24],\n",
       "        [24, 25],\n",
       "        [25, 26],\n",
       "        [26, 27],\n",
       "        [27, 28],\n",
       "        [28, 29]]])"
      ]
     },
     "execution_count": 42,
     "metadata": {},
     "output_type": "execute_result"
    }
   ],
   "source": [
    "my_lamb(xxx,zzz,yyy)"
   ]
  },
  {
   "cell_type": "markdown",
   "metadata": {},
   "source": [
    " ### 문제 7. 어떤 파생상품의 Payoff는 다음과 같다.\n",
    " \n",
    " \\begin{align}\n",
    " Payoff(T) = max(\\sqrt{S^1_{(T)} S^2_{(T)}} - 50 , 0)\n",
    " \\end{align}\n",
    " \n",
    " S1 = arange(40,80,10)\n",
    " \n",
    " S2 = arange(35,65,5)\n",
    " \n",
    " my_payoff = lambda x1, x2 : max(np.sqrt(x1*x2)-50,0)\n",
    " \n",
    " 일 때 만기 Payoff를 2차원으로 나타내시오. 반복문을 사용하지 마시오."
   ]
  },
  {
   "cell_type": "code",
   "execution_count": 41,
   "metadata": {},
   "outputs": [],
   "source": [
    "S1_T = np.arange(40,80,10)\n",
    "S2_T = np.arange(35,65,5)\n",
    "my_payoff= lambda x1, x2 : max(np.sqrt(x1*x2)-50,0)"
   ]
  },
  {
   "cell_type": "code",
   "execution_count": 43,
   "metadata": {},
   "outputs": [
    {
     "data": {
      "text/plain": [
       "array([[ 0,  0,  0,  0,  0,  0],\n",
       "       [ 0,  0,  0,  0,  2,  4],\n",
       "       [ 0,  0,  1,  4,  7, 10],\n",
       "       [ 0,  2,  6,  9, 12, 14]])"
      ]
     },
     "execution_count": 43,
     "metadata": {},
     "output_type": "execute_result"
    }
   ],
   "source": [
    "###########################\n",
    "## 풀이과정을 서술하시오. #\n",
    "###########################\n",
    "np.vectorize(my_payoff)(S1_T.reshape(-1,1), S2_T.reshape(1,-1))"
   ]
  },
  {
   "cell_type": "code",
   "execution_count": null,
   "metadata": {},
   "outputs": [],
   "source": []
  }
 ],
 "metadata": {
  "kernelspec": {
   "display_name": "Python 3",
   "language": "python",
   "name": "python3"
  },
  "language_info": {
   "codemirror_mode": {
    "name": "ipython",
    "version": 3
   },
   "file_extension": ".py",
   "mimetype": "text/x-python",
   "name": "python",
   "nbconvert_exporter": "python",
   "pygments_lexer": "ipython3",
   "version": "3.8.5"
  }
 },
 "nbformat": 4,
 "nbformat_minor": 4
}
