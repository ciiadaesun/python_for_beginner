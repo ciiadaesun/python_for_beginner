{
 "cells": [
  {
   "cell_type": "markdown",
   "metadata": {},
   "source": [
    " # 데이터는 Data.zip에서 다운받으세요."
   ]
  },
  {
   "cell_type": "code",
   "execution_count": 1,
   "metadata": {
    "scrolled": false
   },
   "outputs": [
    {
     "name": "stdout",
     "output_type": "stream",
     "text": [
      "C:\\Users\\USER\\퀀트전략초보\n"
     ]
    }
   ],
   "source": [
    "cd C:\\Users\\USER\\퀀트전략초보"
   ]
  },
  {
   "cell_type": "code",
   "execution_count": 2,
   "metadata": {},
   "outputs": [],
   "source": [
    "import numpy as np\n",
    "import pandas as pd\n",
    "import matplotlib.pyplot as plt\n",
    "import warnings\n",
    "from dateutil.relativedelta import relativedelta \n",
    "warnings.filterwarnings(action = 'ignore')"
   ]
  },
  {
   "cell_type": "code",
   "execution_count": 3,
   "metadata": {},
   "outputs": [],
   "source": [
    "path = '재무데이터.xlsx'\n",
    "path_price = '수정주가.csv'\n",
    "path_mkt = '시총데이터.csv'\n",
    "path_endmonth = '결산월.csv'\n",
    "path_kospiyn = '거래소데이터.csv'\n",
    "path_delist_and_stop = '상장폐지데이터.csv'"
   ]
  },
  {
   "cell_type": "code",
   "execution_count": 4,
   "metadata": {},
   "outputs": [],
   "source": [
    "def preprocessing_path(path) :\n",
    "    ############################\n",
    "    ## 재무 데이터 전처리     ##\n",
    "    ############################\n",
    "    df = pd.read_excel(path, header = [0,1], index_col = 0)\n",
    "    return df.round(4)\n",
    "\n",
    "def preprocessing_price(path_price) :\n",
    "    ############################\n",
    "    ## 가격 데이터 전처리     ##\n",
    "    ############################\n",
    "    x = pd.DataFrame([])\n",
    "    for i in pd.read_csv(path_price, chunksize = 5000, parse_dates = ['Symbol'], index_col = 0) :\n",
    "        x = pd.concat([x,i], axis = 0)\n",
    "    return x.astype(np.float64)\n",
    "\n",
    "def preprocessing_mktdata(path_mkt_data) :    \n",
    "    ############################\n",
    "    ## 시가총액 데이터 전처리 ##\n",
    "    ############################\n",
    "    mkt_data = pd.DataFrame([])\n",
    "    for i in pd.read_csv(path_mkt_data , index_col = 0, chunksize = 12000, engine = 'python') :\n",
    "        mkt_data = pd.concat([mkt_data, i], axis = 0)\n",
    "    \n",
    "    Common = mkt_data[mkt_data.columns[::2]].iloc[1:].applymap(lambda x : x.replace(',','') if type(x) == str else x).astype(np.float64)\n",
    "    Prefer = mkt_data[mkt_data.columns[1::2]].iloc[1:].applymap(lambda x : x.replace(',','') if type(x) == str else x).astype(np.float64)\n",
    "    \n",
    "    mkt_data = pd.DataFrame(np.array(Common)/100 + np.array(Prefer.fillna(0))/100, columns = Common.columns, index = Common.index)\n",
    "    mkt_data.index = pd.to_datetime(mkt_data.index)\n",
    "    return mkt_data.resample('D').last().fillna(method = 'ffill', limit = 10)\n",
    "\n",
    "def preprocessing_kospiyn(path_kospiyn, mkt='유가증권시장') :\n",
    "    ##########################################\n",
    "    ### 거래소(코스피,코스닥)데이터 전처리  ##\n",
    "    #########################################\n",
    "    data = pd.DataFrame([])\n",
    "    for i in pd.read_csv(path_kospiyn, index_col = 0 , chunksize = 6000 , engine = 'python') :\n",
    "        data = pd.concat([data,i], axis = 0)\n",
    "    data.index = pd.to_datetime(data.index)\n",
    "    if mkt == '유가증권시장' or mkt == '코스닥':\n",
    "        data = data.astype(str).applymap(lambda x : int(mkt in x)).resample('D').last()\n",
    "    elif mkt == 'both' :\n",
    "        data = data.astype(str).applymap(lambda x : int('유가증권시장' in x or '코스닥' in x)).resample('D').last()\n",
    "    data = data.fillna(method = 'ffill', limit = 30)\n",
    "    return data\n",
    "\n",
    "def preprocessing_stop_and_delist(path_delist_and_stop) :\n",
    "    #########################################\n",
    "    ## 거래정지 및 상장폐지 데이터 전처리  ##\n",
    "    #########################################    \n",
    "    data = pd.DataFrame([])\n",
    "    for i in pd.read_csv(path_delist_and_stop, index_col = 0 , chunksize = 6000, engine = 'python') :\n",
    "        data = pd.concat([data,i], axis = 0)\n",
    "    delist_data = data[[data.columns[1]]].iloc[1:]\n",
    "    delist_data = delist_data[delist_data['상장폐지일자'].isna() == False]\n",
    "    delist_data['상장폐지일자'] = delist_data['상장폐지일자'].apply(lambda x : pd.to_datetime(x))\n",
    "    small_col = list(data[data.columns[2:]].iloc[0])\n",
    "    small_col = pd.to_datetime(small_col)\n",
    "    big_col = pd.Series(data.columns[2:]).apply(lambda x : x.split('.')[0])    \n",
    "    stop_data = data[data.columns[2:]].iloc[1:]\n",
    "    stop_data.columns = [big_col,small_col]\n",
    "    stop_data = stop_data.applymap(lambda x : 1 if x in ['TRUE' , True] else 0)        \n",
    "    return  delist_data, stop_data\n",
    "\n",
    "preprocessing_period = lambda path_endmonth : pd.read_csv(path_endmonth,index_col = 0, parse_dates=['Symbol']).fillna(method = 'ffill').fillna(method = 'bfill').fillna(12)"
   ]
  },
  {
   "cell_type": "code",
   "execution_count": 5,
   "metadata": {},
   "outputs": [],
   "source": [
    "cleaned_data = preprocessing_path(path)\n",
    "cleaned_price = preprocessing_price(path_price)\n",
    "cleaned_kospiyn = preprocessing_kospiyn(path_kospiyn)\n",
    "cleaned_mkt = preprocessing_mktdata(path_mkt)\n",
    "delist_data, stop_data = preprocessing_stop_and_delist(path_delist_and_stop)\n",
    "cleaned_endmonth = preprocessing_period(path_endmonth)"
   ]
  },
  {
   "cell_type": "code",
   "execution_count": 6,
   "metadata": {},
   "outputs": [],
   "source": [
    "data_date = '2020-09-30'\n",
    "today =  '2021-01-15'"
   ]
  },
  {
   "cell_type": "markdown",
   "metadata": {},
   "source": [
    " ## Value\n",
    " \\begin{align}\n",
    "PER = \\frac{Mkt Value}{Earning} \\\\\n",
    "PBR = \\frac{Mkt Value}{Book} \\\\\n",
    "PSR = \\frac{Mkt Value}{Sales} \\\\\n",
    "PCR = \\frac{Mkt Value}{CFO} \\\\\n",
    "EVEBITDA = \\frac{EV}{EBITDA} \\\\\n",
    "\\end{align}"
   ]
  },
  {
   "cell_type": "markdown",
   "metadata": {},
   "source": [
    " ### 문제 1. 함수 Value는 PER, PBR, PSR, PCR, EVEBITDA의 순위와 평균순위를 호출해준다. \n",
    " #### \\ \\ \\ \\ (PER>0 , PBR>0, PSR>0 , PCR>0 , EVEBITDA>0 조건이 성립하게 만들고 랭크를 나열하시오. 참고로 PER 등은 낮을수록 좋은 랭크를 받을 수 있도록 설정하시오.)\n",
    " \n",
    " #### 다음 표는 Value(cleaned_data, cleaned_mkt, data_date = '2020-09-30', today = '2021-01-15', n= 50) 을 입력했을 때 결과이다.\n",
    " #### 평균순위에 대하여 오름차순으로 표시되도록 함수를 만드세요."
   ]
  },
  {
   "cell_type": "markdown",
   "metadata": {},
   "source": [
    "| |PER|PBR|PSR|PCR|EBEBITDA|Total_Rank|\n",
    "|------|---|---|---|---|---|---|\n",
    "| A004960|15 |66 |23 |8 |83 |39|\n",
    "| A001230|44 |38 |38 |33 |65 |43.6|\n",
    "| A003960|19 |121 |13 |23 |44 |44|\n",
    "| A006090|14 |NaN |65 |109 |3 |47.75|"
   ]
  },
  {
   "cell_type": "code",
   "execution_count": 7,
   "metadata": {},
   "outputs": [],
   "source": [
    "def Value(cleaned_data, cleaned_mkt, data_date, today, n = 50) :\n",
    "    ########################################\n",
    "    ### 이곳에 코드를 작성하여 풀어주세요.##\n",
    "    ########################################\n",
    "    return "
   ]
  },
  {
   "cell_type": "code",
   "execution_count": 8,
   "metadata": {},
   "outputs": [],
   "source": [
    "def Value(cleaned_data, cleaned_mkt, data_date, today, n = 50) : \n",
    "    mvalue = cleaned_mkt.loc[:pd.to_datetime(today) - relativedelta(days = 1)].iloc[-1]\n",
    "    Earning = cleaned_data['당기순이익'][data_date]\n",
    "    Earning_Plus_index = Earning[Earning>0].index\n",
    "    PER = mvalue[Earning_Plus_index]/Earning[Earning_Plus_index]\n",
    "    \n",
    "    Book = cleaned_data['총자본'][data_date] - cleaned_data['무형자산'][data_date]\n",
    "    PBR = mvalue[Book>0]/Book[Book>0]\n",
    "    \n",
    "    Sales = cleaned_data['매출액'][data_date]\n",
    "    PSR = mvalue[Sales>0] / Sales[Sales>0]\n",
    "    \n",
    "    CF = cleaned_data['영업활동으로인한현금흐름'][data_date]\n",
    "    PCR = mvalue[CF>0] /CF[CF>0] \n",
    "    \n",
    "    EV = mvalue + cleaned_data['총부채'][data_date]\n",
    "    EBITDA = cleaned_data['EBITDA'][data_date]\n",
    "    EVEBITDA = EV[EBITDA>0]/ EBITDA[EBITDA>0]\n",
    "    \n",
    "    Value_Rank = pd.concat([PER.rank(), PBR.rank(), PSR.rank(), PCR.rank(), EVEBITDA.rank()],axis = 1)\n",
    "    Value_Rank.columns = ['PER','PBR','PSR','PCR','EVEBITDA']\n",
    "    Value_Rank['Total_Rank'] = Value_Rank.mean(axis = 1, skipna = True).round(2)\n",
    "    number_nan = Value_Rank.isna().sum(1)\n",
    "    under_2_nan = number_nan[number_nan<=2].index\n",
    "    my_index = Earning_Plus_index.intersection(under_2_nan)\n",
    "    result = Value_Rank.loc[my_index]\n",
    "    return result.sort_values(by = ['Total_Rank']).iloc[:n]\n"
   ]
  },
  {
   "cell_type": "markdown",
   "metadata": {},
   "source": [
    " ### 문제 2. 2년보다 가격이 하락했고, 6개월 전보다는 가격이 상승하고, 1개월 전보다는 하락한 종목만 뽑으시오.\n",
    " \n",
    " momentum_screen(cleaned_price, today)"
   ]
  },
  {
   "cell_type": "code",
   "execution_count": 9,
   "metadata": {},
   "outputs": [],
   "source": [
    "def momentum_screen(cleaned_price, today) :\n",
    "    ########################################\n",
    "    ### 이곳에 코드를 작성하여 풀어주세요.##\n",
    "    ########################################\n",
    "    return  "
   ]
  },
  {
   "cell_type": "code",
   "execution_count": 10,
   "metadata": {},
   "outputs": [],
   "source": [
    "def momentum_screen(cleaned_price, today) :\n",
    "    before_24 = cleaned_price[:pd.to_datetime(today) - relativedelta(months = 24)].iloc[-1]\n",
    "    before_6 = cleaned_price[:pd.to_datetime(today) - relativedelta(months = 6)].iloc[-1]\n",
    "    before_1 = cleaned_price[:pd.to_datetime(today) - relativedelta(months = 1)].iloc[-1]\n",
    "    current_price = cleaned_price[:today].iloc[-1]\n",
    "    index1 = current_price[current_price<before_24].index\n",
    "    index2 = current_price[current_price>before_6].index\n",
    "    index3 = current_price[current_price<before_1].index\n",
    "    index = index1.intersection(index2).intersection(index3)\n",
    "    return cleaned_price[index]"
   ]
  },
  {
   "cell_type": "markdown",
   "metadata": {},
   "source": [
    " ### Quality(1)\n",
    "\\begin{align}\n",
    "Gross Profitability = \\frac{Gross Profit}{Sales} \\\\\n",
    "Operation Profitability = \\frac{Operation Profit}{Sales} \\\\\n",
    "ROE = \\frac{Net Profit}{Equity} \\\\\n",
    "ROA = \\frac{Net Profit}{Asset} \\\\\n",
    "\\end{align}"
   ]
  },
  {
   "cell_type": "markdown",
   "metadata": {},
   "source": [
    " ### 문제 3. 함수 Quality는 매출총이익률, 영업이익률, ROE, ROA의 순위와 평균순위를 호출해준다. \n",
    " #### (ROE, ROA, 영업이익률, 매출총이익은 높은것부터 낮은것 순으로 랭크가 매겨진다.)\n",
    " \n",
    " #### 다음 표는 Quality(cleaned_data, cleaned_mkt, data_date = '2020-09-30', today = '2021-01-15', n= 50) 을 입력했을 때 결과이다.\n",
    " #### 평균순위에 대하여 오름차순으로 표시되도록 함수를 만드세요."
   ]
  },
  {
   "cell_type": "markdown",
   "metadata": {},
   "source": [
    "| |GP|OP|ROE|ROA|Total_Rank|\n",
    "|------|---|---|---|---|---|\n",
    "| A123890|1 |11 |66 |59 |34.25 |\n",
    "| A036570|29 |46 |51 |22 |37 |\n",
    "| A192080|20 |47 |67 |20 |38.5 |\n",
    "| A034310|47 |19 |72 |54 |48 |"
   ]
  },
  {
   "cell_type": "code",
   "execution_count": 11,
   "metadata": {},
   "outputs": [],
   "source": [
    "def Quality(cleaned_data,cleaned_mkt, data_date, today , n = 50) :\n",
    "    ########################################\n",
    "    ### 이곳에 코드를 작성하여 풀어주세요.##\n",
    "    ########################################\n",
    "    return "
   ]
  },
  {
   "cell_type": "code",
   "execution_count": 12,
   "metadata": {},
   "outputs": [],
   "source": [
    "def Quality(cleaned_data,cleaned_mkt, data_date, today , n = 50) :\n",
    "    GP = cleaned_data['매출총이익'][data_date] / cleaned_data['매출액'][data_date]\n",
    "    OP = cleaned_data['영업이익'][data_date] / cleaned_data['매출액'][data_date]\n",
    "    ROE = cleaned_data['당기순이익'][data_date] / cleaned_data['총자본'][data_date]\n",
    "    ROA = cleaned_data['당기순이익'][data_date] / cleaned_data['총자산'][data_date]\n",
    "    df = pd.concat([GP.rank(ascending = False) , OP.rank(ascending = False) ,\n",
    "                    ROE.rank(ascending = False), ROA.rank(ascending = False)],axis = 1)\n",
    "    df.columns = ['GP','OP','ROE','ROA']\n",
    "    number_nan = df.isna().sum(1, skipna = True)\n",
    "    under_1_nan = number_nan[number_nan<=1].index\n",
    "    df = df.loc[under_1_nan]\n",
    "    df['Total_Rank'] = df.mean(axis = 1 , skipna = True)\n",
    "    return df.sort_values(by = ['Total_Rank']).iloc[:n]"
   ]
  },
  {
   "cell_type": "markdown",
   "metadata": {},
   "source": [
    " ### 문제 4. Value 지표 5개와 Quality 지표 4개를 가지고 순위를 만들고 평균순위 순으로 Sort하시오.\n",
    " #### Value_Quality(cleaned_data, cleaned_mkt, data_date = '2020-09-30', today = '2021-01-15', n = 50) "
   ]
  },
  {
   "cell_type": "markdown",
   "metadata": {},
   "source": [
    "| |PER|PBR|PSR|PCR|EBEBITDA|GP|OP |ROE |ROA |Total_Rank |\n",
    "|------|---|---|---|---|---|---|---|---|---|---|\n",
    "| A123890|27 |203 |554 |3 |15 |1 |83 |22 |59 |104 |\n",
    "| A272550|31 |nan |267 |83 |22 |254 |94 |41 |46 |104.75 |\n",
    "| A006090|14 |nan |65 |109 |3 |389 |169 |56 |57 |107.75 |\n",
    "| A013580|12 |151 |33 |13 |47 |441 |195 |27 |94 |112.56 |"
   ]
  },
  {
   "cell_type": "code",
   "execution_count": 13,
   "metadata": {},
   "outputs": [],
   "source": [
    "def Value_Quality(cleaned_data,cleaned_mkt, data_date, today , n = 50) :\n",
    "    ########################################\n",
    "    ### 이곳에 코드를 작성하여 풀어주세요.##\n",
    "    ########################################\n",
    "    return "
   ]
  },
  {
   "cell_type": "code",
   "execution_count": 14,
   "metadata": {},
   "outputs": [],
   "source": [
    "def Value_Quality(cleaned_data, cleaned_mkt, data_date, today, n = 50) :\n",
    "    V = Value(cleaned_data, cleaned_mkt, data_date, today, 2000)\n",
    "    Q = Quality(cleaned_data,cleaned_mkt, data_date, today , 2000)\n",
    "    data = pd.concat([V[V.columns[:-1]],Q[Q.columns[:-1]]],axis = 1)\n",
    "    number_nan = data.isna().sum(1, skipna = True)\n",
    "    under_3_nan = number_nan[number_nan<=3].index\n",
    "    Data  = data.loc[under_3_nan]\n",
    "    Data['Total_Rank'] = Data.mean(1, skipna = True).round(2)\n",
    "    return Data.sort_values(by = ['Total_Rank']).iloc[:n]"
   ]
  },
  {
   "cell_type": "markdown",
   "metadata": {},
   "source": [
    " ### Growth \n",
    "\\begin{align}\n",
    "\\Delta GP = GP_t - GP_{t-1y} \\\\\n",
    "\\Delta OP = OP_t - OP_{t-1y} \\\\\n",
    "\\Delta ROE = ROE_t - ROE_{t-1y} \\\\\n",
    "\\Delta ROA = ROA_t - ROA_{t-1y} \\\\\n",
    "\\Delta LEV = LEV_t - LEV_{t-1y} \\\\\n",
    "\\end{align}"
   ]
  },
  {
   "cell_type": "markdown",
   "metadata": {},
   "source": [
    "### 문제 5. 문제 1,3과 같이 Total Rank를 만드시오. 부채비율은 Sort(ascending = True) 나머지는 False\n",
    "Growth(cleaned_data, data_date, n = 50) \n",
    "\n",
    "| |dGP|dOP|dROE|dROA|dLEV|Total_Rank|\n",
    "|------|---|---|---|---|---|---|\n",
    "| A118000|26.5 |32.5 |12 |16 |10 |19.4|\n",
    "| A064350|17 |27.5 |27.5 |17 |11 |23.2|\n",
    "| A030790|62.5 |13.5 |13.5 |8 |13 |25.4|\n",
    "| A008500|35.5 |3 |3 |10 |72 |33.3|"
   ]
  },
  {
   "cell_type": "code",
   "execution_count": 1,
   "metadata": {},
   "outputs": [],
   "source": [
    "def Growth(cleaned_data, data_date, n = 50) :\n",
    "    Data_Date = pd.to_datetime(data_date)\n",
    "    if Data_Date >= pd.to_datetime('2001-12-31') :\n",
    "        Data_bDate = pd.to_datetime(str(Data_Date.year -1) +'-'+ str(Data_Date.month)+'-'+str(Data_Date.day))\n",
    "    else :\n",
    "        if Data_Date.month < 5 :\n",
    "            Data_bDate = pd.to_datetime(str(Data_Date.year -2) + '-12-31')\n",
    "        else :\n",
    "            Data_bDate = pd.to_datetime(str(Data_Date.year -1) +'-12-31')\n",
    "    GP = (cleaned_data['매출총이익'][Data_Date]/cleaned_data['매출액'][Data_Date]).round(2)\n",
    "    OP = (cleaned_data['영업이익'][Data_Date]/cleaned_data['매출액'][Data_Date]).round(2)\n",
    "    ROE = (cleaned_data['당기순이익'][Data_Date]/cleaned_data['총자산'][Data_Date]).round(2)\n",
    "    ROA = (cleaned_data['당기순이익'][Data_Date]/cleaned_data['총자본'][Data_Date]).round(2)\n",
    "    LEV = (cleaned_data['총부채'][Data_Date]/cleaned_data['총자본'][Data_Date]).round(2)\n",
    "    \n",
    "    bGP = (cleaned_data['매출총이익'][Data_bDate]/cleaned_data['매출액'][Data_bDate]).round(2)\n",
    "    bOP = (cleaned_data['영업이익'][Data_bDate]/cleaned_data['매출액'][Data_bDate]).round(2)\n",
    "    bROE = (cleaned_data['당기순이익'][Data_bDate]/cleaned_data['총자산'][Data_bDate]).round(2)\n",
    "    bROA = (cleaned_data['당기순이익'][Data_bDate]/cleaned_data['총자본'][Data_bDate]).round(2)\n",
    "    bLEV = (cleaned_data['총부채'][Data_bDate]/cleaned_data['총자본'][Data_bDate]).round(2)\n",
    "    \n",
    "    \n",
    "    dGP = GP - bGP\n",
    "    dOP = OP - bOP\n",
    "    dROE = ROE - bROE\n",
    "    dROA = ROA - bROA\n",
    "    dLEV = LEV - bLEV\n",
    "\n",
    "    df = pd.concat([dGP.rank(ascending = False), dOP.rank(ascending = False), \n",
    "                    dROE.rank(ascending = False), dROA.rank(ascending = False),\n",
    "                    dLEV.rank(ascending = True)], axis = 1)\n",
    "    df.columns = ['dGP','dOP','dROE','dROA','dLEV']\n",
    "    number_nan = df.isna().sum(1, skipna = True)\n",
    "    under_2_nan = number_nan[number_nan<=2].index\n",
    "    Data  = df.loc[under_2_nan]    \n",
    "    Data['Total_Rank'] = Data.mean(1,skipna = True).round(2)\n",
    "    return Data.sort_values(by = ['Total_Rank']).iloc[:n]"
   ]
  },
  {
   "cell_type": "markdown",
   "metadata": {},
   "source": [
    " ### 문제 5.\n",
    "Total_Rank = Value_Rank * 0.4 + Quality_Rank * 0.4 + Growth_Rank * 0.2\n",
    " \n",
    " Value_Quality_Growth(cleaned_data, data_date, today, n = 50) \n",
    "\n",
    "\n",
    "| |Value_Rank|Quality_Rank|Growth_Rank|Total_Rank|\n",
    "|------|---|---|---|---|\n",
    "| A006090|47.75\t |167.75 |262.9 |138.78 |\n",
    "| A013580|51.2 |189.25 |220.4 |140.26 |\n",
    "| A272550|100.75 |108.75 |307.5 |145.3 |\n",
    "| A005320|186.4 |89.75 |176.9 |145.84 |"
   ]
  },
  {
   "cell_type": "code",
   "execution_count": 16,
   "metadata": {},
   "outputs": [],
   "source": [
    "def Value_Quality_Growth(cleaned_data, cleaned_mkt, data_date, today, n = 50) :\n",
    "    ########################################\n",
    "    ### 이곳에 코드를 작성하여 풀어주세요.##\n",
    "    ########################################\n",
    "    return "
   ]
  },
  {
   "cell_type": "code",
   "execution_count": 17,
   "metadata": {},
   "outputs": [],
   "source": [
    "def Value_Quality_Growth(cleaned_data, cleaned_mkt, data_date, today, n = 50) :\n",
    "    V = Value(cleaned_data, cleaned_mkt, data_date, today, n = 2000)['Total_Rank']\n",
    "    Q = Quality(cleaned_data, cleaned_mkt, data_date, today,n = 2000)['Total_Rank']\n",
    "    G = Growth(cleaned_data, data_date,n = 2000)['Total_Rank']\n",
    "    DF = pd.concat([V,Q,G],axis = 1)\n",
    "    DF.columns = ['Value_Rank','Quality_Rank','Growth_Rank']\n",
    "    DF['Total_Rank'] = (DF['Value_Rank'] * 0.4 + DF['Quality_Rank'] * 0.4 +\n",
    "                        DF['Growth_Rank'] * 0.2)\n",
    "    return DF.sort_values(by = ['Total_Rank']).dropna().iloc[:n]"
   ]
  },
  {
   "cell_type": "markdown",
   "metadata": {},
   "source": [
    " ### 문제 6. Value_Quality_Growth 상위 N 개의 종목 중에 momentum_screen을 만족하는 종목을 추출하시오.\n",
    " \n",
    "momentum_VQG(cleaned_data, cleaned_mkt, cleaned_price, data_date, today , n = 50)\n",
    " "
   ]
  },
  {
   "cell_type": "code",
   "execution_count": 18,
   "metadata": {},
   "outputs": [],
   "source": [
    "def momentum_VQG(cleaned_data, cleaned_mkt, cleaned_price, data_date, today , n = 200 ) :\n",
    "    ########################################\n",
    "    ### 이곳에 코드를 작성하여 풀어주세요.##\n",
    "    ########################################\n",
    "    return "
   ]
  },
  {
   "cell_type": "code",
   "execution_count": 19,
   "metadata": {},
   "outputs": [],
   "source": [
    "def momentum_VQG(cleaned_data, cleaned_mkt, cleaned_price, data_date, today , n = 200 ) :\n",
    "    vqg = Value_Quality_Growth(cleaned_data, cleaned_mkt, data_date, today, n = n)\n",
    "    my_index = vqg.index.intersection(m.columns)\n",
    "    return vqg.loc[my_index]"
   ]
  },
  {
   "cell_type": "markdown",
   "metadata": {},
   "source": [
    "### 문제 7.\n",
    "\n",
    " ### F Score (update)\n",
    " #### ----수익지표----\n",
    " #### if ROE > 전체 ROE 평균 : 1점\n",
    " #### if 영업이익/총자산 > (영업이익/총자산) 전체기업평균: 1점\n",
    " #### if CFOA > 0 : 1점\n",
    " #### if Accrual > 0 : 1점\n",
    " #### -----안정성지표-----\n",
    " #### dLEV < 0 : 1점\n",
    " #### d발행주식수 <= 0 : 1점\n",
    " #### d유동비율 > 0 : 1점\n",
    " #### -----효율성지표-----\n",
    " #### d매출총이익률 > 0 : 1점\n",
    " #### d(매출액/총자산) > 0 : 1점\n",
    " "
   ]
  },
  {
   "cell_type": "code",
   "execution_count": 1,
   "metadata": {},
   "outputs": [],
   "source": [
    "def F_score(cleaned_data, data_date, today='', n = 50, cleaned_price = '', cleaned_mkt = '') :\n",
    "    Data_Date = pd.to_datetime(data_date)\n",
    "    if Data_Date >= pd.to_datetime('2001-12-31') :\n",
    "        Data_bDate = pd.to_datetime(str(Data_Date.year -1) +'-'+ str(Data_Date.month)+'-'+str(Data_Date.day))\n",
    "    else :\n",
    "        if Data_Date.month < 5 :\n",
    "            Data_bDate = pd.to_datetime(str(Data_Date.year -2) + '-12-31')\n",
    "        else :\n",
    "            Data_bDate = pd.to_datetime(str(Data_Date.year -1) +'-12-31')    \n",
    "    ROE = cleaned_data['당기순이익'][Data_Date] /cleaned_data['총자본'][Data_Date]\n",
    "    EBOA = cleaned_data['영업이익'][Data_Date]/ cleaned_data['총자산'][Data_Date]\n",
    "    CFO = cleaned_data['영업활동으로인한현금흐름'][Data_Date]\n",
    "    Accrual = CFO - cleaned_data['당기순이익'][Data_Date]\n",
    "\n",
    "    LEV = cleaned_data['총부채'][Data_Date]/cleaned_data['총자본'][Data_Date]\n",
    "    bLEV = cleaned_data['총부채'][Data_bDate]/cleaned_data['총자본'][Data_bDate]\n",
    "    dLEV = LEV - bLEV\n",
    "\n",
    "    EQoffer = cleaned_data['기말발행주식수'][Data_Date] - cleaned_data['기말발행주식수'][Data_bDate]\n",
    "    LIQ = cleaned_data['유동자산'][Data_Date]/cleaned_data['총자본'][Data_Date]\n",
    "    bLIQ = cleaned_data['유동자산'][Data_bDate]/cleaned_data['총자본'][Data_bDate]\n",
    "    dLIQ = LIQ - bLIQ\n",
    "\n",
    "    Margin = cleaned_data['매출총이익'][Data_Date]/cleaned_data['매출액'][Data_Date]\n",
    "    bMargin = cleaned_data['매출총이익'][Data_bDate]/cleaned_data['매출액'][Data_bDate]\n",
    "    dMargin = Margin - bMargin\n",
    "    Turn = cleaned_data['매출액'][Data_Date]/cleaned_data['총자산'][Data_Date]\n",
    "    bTurn = cleaned_data['매출액'][Data_bDate]/cleaned_data['총자산'][Data_bDate]\n",
    "    dTurn = Turn - bTurn\n",
    "    \n",
    "    a,b,c,d = ROE > ROE.mean(),EBOA > EBOA.mean(),CFO>0,Accrual > 0\n",
    "    Profitability = pd.concat([a,b,c,d],axis =1)\n",
    "    e ,f,g = dLEV< 0  , EQoffer<=0 , dLIQ > 0 \n",
    "    Safety = pd.concat([e,f,g],axis =1)\n",
    "    h , i = dMargin>0 , dTurn>0\n",
    "    Eff = pd.concat([h,i],axis = 1)\n",
    "    F = pd.concat([Profitability, Safety, Eff],axis = 1)\n",
    "    F.columns = ['ROE','EBOA','CFOA','Acc','dLEV','EQoffer','dLIQ','dMargin','dTurn']\n",
    "    F['F_score'] = F.sum(1)\n",
    "    return F.sort_values(by = ['F_score'], ascending = False)"
   ]
  },
  {
   "cell_type": "markdown",
   "metadata": {},
   "source": [
    " ### 지금까지 만든 함수들을 .py로 만드세요. (spyder 이용)"
   ]
  },
  {
   "cell_type": "code",
   "execution_count": null,
   "metadata": {},
   "outputs": [],
   "source": []
  }
 ],
 "metadata": {
  "kernelspec": {
   "display_name": "Python 3",
   "language": "python",
   "name": "python3"
  },
  "language_info": {
   "codemirror_mode": {
    "name": "ipython",
    "version": 3
   },
   "file_extension": ".py",
   "mimetype": "text/x-python",
   "name": "python",
   "nbconvert_exporter": "python",
   "pygments_lexer": "ipython3",
   "version": "3.8.5"
  }
 },
 "nbformat": 4,
 "nbformat_minor": 4
}
