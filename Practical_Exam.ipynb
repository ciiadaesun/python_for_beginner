{
 "cells": [
  {
   "cell_type": "code",
   "execution_count": 1,
   "metadata": {},
   "outputs": [],
   "source": [
    "import numpy as np\n",
    "import pandas as pd\n",
    "import matplotlib.pyplot as plt\n",
    "from scipy.stats import norm\n",
    "from scipy.optimize import root"
   ]
  },
  {
   "cell_type": "markdown",
   "metadata": {},
   "source": [
    " ## 문제 1."
   ]
  },
  {
   "cell_type": "markdown",
   "metadata": {},
   "source": [
    "다음 변수를 이용하여 주식들이 CAPM 균형수익률을 감안했을 때 저평가되었는지 고평가되었는지 적정수준인지를 계산하시오. (젠센의알파를 감안하시오.)\n",
    "\n",
    "rf = 0.02, \n",
    "rm = 0.07\n",
    "\n",
    "samsung = {'name' : 'samsung', 'Covariance to Market' : 0.054 , 'realized_return' : 0.09, 'sigma' : 0.2}\n",
    "\n",
    "lg = {'name' :'lg', 'Covariance to Market' : 0.078125 , 'realized_return' : 0.825, 'sigma' :0.25}\n",
    "\n",
    "kt = {'name' :'kt', 'Covariance to Market' : 0.018 , 'realized_return' : 0.05, 'sigma' : 0.15}\n",
    "\n",
    "stock_info = [samsung, lg, kt]"
   ]
  },
  {
   "cell_type": "code",
   "execution_count": 2,
   "metadata": {},
   "outputs": [],
   "source": [
    "rf, rm = 0.02, 0.07\n",
    "samsung = {'name' : 'samsung', 'Covariance to Market' : 0.054 , \n",
    "           'realized_return' : 0.09, 'sigma':0.2}\n",
    "lg = {'name' :'lg', 'Covariance to Market' : 0.078125 , \n",
    "      'realized_return' : 0.0825,'sigma':0.25}\n",
    "kt = {'name' :'kt', 'Covariance to Market' : 0.018 , \n",
    "      'realized_return' : 0.05,'sigma':0.15}\n",
    "stock_info = [samsung, lg, kt]"
   ]
  },
  {
   "cell_type": "markdown",
   "metadata": {},
   "source": [
    " ### 문제 2.\n",
    "회사의 T시점의 Asset Value는 다음과 같다.\n",
    "$$\n",
    " \\begin{align}\n",
    "A(T) = A_0 e^{ (r-\\frac{\\sigma^2}{2})T + \\sigma \\sqrt{T} \\epsilon} \\\\\n",
    "\\epsilon \\sim N(0,1)\n",
    "\\end{align}\n",
    "$$ \n",
    "\n",
    "현재 자산가치는 100이며,T시점의 회사의 가치가 부채의 Face Value 보다 낮으면 파산한다.\n",
    "\n",
    "이 회사부채의 FaceValue는 현재 전체 자산가치 대비 70%이다. 부채는 모두 제로쿠폰채라고가정하자.\n",
    "\n",
    "10000번의 시뮬레이션을 통해 회사가 몇 번 파산하는지 파산확률을 계산하시오.\n",
    "\n",
    "(반복문을 사용하지 마시오.)\n",
    "$$\n",
    " A_0 = 100,\\ \\sigma_A = 0.15,\\ T = 2,\\ r = 0.05\n",
    " $$"
   ]
  },
  {
   "cell_type": "code",
   "execution_count": 3,
   "metadata": {},
   "outputs": [],
   "source": [
    "A_0 = 100\n",
    "r = 0.05\n",
    "sigma = 0.15\n",
    "T = 2\n",
    "simul_num = 10000\n",
    "Debt_to_Asset = 0.7\n",
    "##################\n",
    "## 풀이과정   ####"
   ]
  },
  {
   "cell_type": "markdown",
   "metadata": {},
   "source": [
    " ### 문제 3.\n",
    "기초자산가격이 100원이고 변동성은 0.2 만기가 1년 이자율은 2%라고 가정하자.\n",
    "\n",
    "두 개의 콜 옵션이 있다.\n",
    "\n",
    "하나는 행사가격이 90원이고 하나는 행사가격이 110원이다.\n",
    "\n",
    "강세 콜 스프레드 전략(bull call spread strategy)을 시행하고자 한다, \n",
    "\n",
    "현재 옵션을 매수,매도하여 포지션을 취했을 때, 현금이 얼마만큼 남거나 부족한가?\n",
    "\n",
    "콜옵션 가격은 블랙숄즈 콜옵션 가격과 같다."
   ]
  },
  {
   "cell_type": "code",
   "execution_count": 5,
   "metadata": {},
   "outputs": [],
   "source": [
    "S0, K1, K2, sigma, T, r = 100, 90, 110, 0.2, 1, 0.02"
   ]
  },
  {
   "cell_type": "code",
   "execution_count": 6,
   "metadata": {},
   "outputs": [],
   "source": [
    "def Call(S,K,sigma,T,r) :\n",
    "    ##################\n",
    "    ## 풀이과정   ####\n",
    "    return C"
   ]
  },
  {
   "cell_type": "markdown",
   "metadata": {},
   "source": [
    " ## 문제 4.\n",
    " \n",
    "무이표채의 할인율 커브인 Zero Rate Curve 가 1년 0.02, 2년 0.025 , 3년 0.03으로 우상향한다.\n",
    " \n",
    " $$\n",
    " r_{(0,1)}\\ =\\ 0.02 ,\\ r_{(0,2)}\\ =\\ 0.025 ,\\ r_{(0,3)}\\ =\\ 0.03\n",
    " $$\n",
    " \n",
    " 다음 Zero_Bond 함수를 이용해서 쿠폰이자율이 2%이고 만기가 3년, 액면이 100인 쿠폰채권의 가치를 계산하는 함수를 구현하시오.\n",
    " \n",
    " 반복문을 사용하지 말고 numpy를 사용하시오."
   ]
  },
  {
   "cell_type": "code",
   "execution_count": 9,
   "metadata": {},
   "outputs": [],
   "source": [
    "FV = 100\n",
    "coupon_rate = 0.02\n",
    "T = 3\n",
    "r_curve = np.array([0.02, 0.025,0.03])"
   ]
  },
  {
   "cell_type": "code",
   "execution_count": 10,
   "metadata": {},
   "outputs": [],
   "source": [
    "def Zero_Bond(r, T, FV = 100) :\n",
    "    return FV/(1+r)**T\n",
    "\n",
    "def Coupon_Bond(r_curve, T, FV = 100) :\n",
    "    t_range = np.arange(1,T + 1)\n",
    "    ##################\n",
    "    ## 풀이과정   ####\n",
    "    return PV_of_FV + PV_of_Coupon"
   ]
  },
  {
   "cell_type": "code",
   "execution_count": 11,
   "metadata": {},
   "outputs": [
    {
     "data": {
      "text/plain": [
       "97.20886236013325"
      ]
     },
     "execution_count": 11,
     "metadata": {},
     "output_type": "execute_result"
    }
   ],
   "source": [
    "Coupon_Bond(r_curve, T, FV)"
   ]
  },
  {
   "cell_type": "markdown",
   "metadata": {},
   "source": [
    " ## 문제 5.\n",
    " \n",
    " 문제 4에서 계산한 채권가격이 97.21이라고 가정하자.\n",
    " \n",
    " 다음 함수 Coupon_Bond_with_YTM 함수를 이용하여 Yield To Maturity 수익률을 계산해보시오.\n",
    " \n",
    " root 해찾기 모듈을 쓰면 된다. x0를 0.04로 설정하시오."
   ]
  },
  {
   "cell_type": "code",
   "execution_count": 12,
   "metadata": {},
   "outputs": [],
   "source": [
    "Price = 97.21\n",
    "FV = 100\n",
    "coupon_rate = 0.02"
   ]
  },
  {
   "cell_type": "code",
   "execution_count": 13,
   "metadata": {},
   "outputs": [],
   "source": [
    "def Coupon_Bond_with_YTM(YTM, T,coupon_rate, FV = 100) :\n",
    "    t_range = np.arange(1,T + 1)\n",
    "    PV_of_Coupon = Zero_Bond(YTM, t_range, coupon_rate * FV).sum()\n",
    "    PV_of_FV = Zero_Bond(YTM, t_range[-1], FV)\n",
    "    return PV_of_FV + PV_of_Coupon"
   ]
  },
  {
   "cell_type": "code",
   "execution_count": 14,
   "metadata": {},
   "outputs": [
    {
     "data": {
      "text/plain": [
       "97.17138864510532"
      ]
     },
     "execution_count": 14,
     "metadata": {},
     "output_type": "execute_result"
    }
   ],
   "source": [
    "Coupon_Bond_with_YTM(0.03, T,coupon_rate, FV = 100)"
   ]
  },
  {
   "cell_type": "code",
   "execution_count": 15,
   "metadata": {},
   "outputs": [],
   "source": [
    "def fun('변수입력') :\n",
    "    ##################\n",
    "    ## 풀이과정   ####\n",
    "    return Coupon_Bond_with_YTM('변수입력') - Price\n",
    "x0 = 0.04\n",
    "x = root('변수입력')"
   ]
  },
  {
   "cell_type": "code",
   "execution_count": 17,
   "metadata": {
    "scrolled": true
   },
   "outputs": [
    {
     "data": {
      "text/plain": [
       "0.029860858610148474"
      ]
     },
     "execution_count": 17,
     "metadata": {},
     "output_type": "execute_result"
    }
   ],
   "source": [
    "YTM = x.x[0]\n",
    "YTM"
   ]
  },
  {
   "cell_type": "markdown",
   "metadata": {},
   "source": [
    "## 문제 6.\n",
    "\n",
    "다음은 코스피의 실제 세 종목 주가이다.\n",
    "\n",
    "세 종목의 기대수익률은 각각 8%, 15%, 11%이다.\n",
    "\n",
    "각각 투자비중을 20%, 30%, 50%로 가정할 때\n",
    "\n",
    "6-1. 포트폴리오의 변동성을 구하시오.\n",
    "\n",
    "6-2. 포트폴리오의 샤프비율을 계산하시오. (무위험이자율은 0을 가정하시오.)\n",
    "\n",
    "6-3. 각 종목의 월수익률이 7%이상이거나 -2% 이하인 경우는 각 종목당 몇번 발생했는가? \n",
    "\n",
    "(수익률의 data_frame을 ret 이라고 변수를 설정하고 pandas 한줄 코드로 나타내시오.)\n",
    "\n",
    "| Price|삼성전자|신풍제약|현대차|\n",
    "|------|---|---|---|\n",
    "|2020-02-28|\t54200|\t7360|\t115000|\n",
    "|2020-03-31|\t47750|14400|\t88700|\n",
    "|2020-04-30|\t50000|\t16700|\t93200|\n",
    "|2020-05-31|\t50700|\t21700|\t98000|\n",
    "|2020-06-30|\t52800|\t30200|\t97700|\n",
    "|2020-07-31|\t57900|\t86000|\t127500|\n",
    "|2020-08-31|\t54000|\t136500|\t176500|\n",
    "\n"
   ]
  },
  {
   "cell_type": "code",
   "execution_count": 45,
   "metadata": {},
   "outputs": [],
   "source": [
    "expected_return = np.array([0.08,0.15,0.11])\n",
    "A = [54200,47750,50000,50700,52800,57900,54000]\n",
    "B = [7360,14400,16700,21700,30200,86000,136500]\n",
    "C = [115000,88700,93200,98000,97700,127500,176500]\n",
    "my_index = pd.date_range('2020-02-28','2020-08-31',freq = 'M')\n",
    "w = np.array([0.2,0.3,0.5]).reshape(1,-1)\n",
    "##################\n",
    "## 풀이과정   ####"
   ]
  },
  {
   "cell_type": "code",
   "execution_count": 47,
   "metadata": {},
   "outputs": [
    {
     "data": {
      "text/plain": [
       "array([[0.24841455]])"
      ]
     },
     "execution_count": 47,
     "metadata": {},
     "output_type": "execute_result"
    }
   ],
   "source": [
    "np.sqrt(w.dot(Cov).dot(w.T))"
   ]
  },
  {
   "cell_type": "markdown",
   "metadata": {},
   "source": [
    " ## 문제 7.\n",
    " \n",
    " 다음과 같은 이자율의 Binomial Tree를 만드시오.\n",
    " \n",
    " 단 Node의 갯수는 6개를 가정하시오. (0~6기간까지 총 7,7개의 행렬)\n",
    " \n",
    " $$\n",
    " \\begin{array}{c}\n",
    " r_0 = 0.08 , \\sigma_r = 0.01\n",
    " \\end{array}\n",
    " $$\n",
    " 이다. \n",
    " \n",
    " | r|0|1|2|3|\n",
    "|------|---|---|---|---|\n",
    "|0|\tr0|\tr0+sigma|\tr0+2sigma|r0+3sigma|\n",
    "|1|\tNaN|r0-sigma|\tr0|r0+sigma|\n",
    "|2|\tNaN|NaN|\tr0-2sigma|r0-sigma|\n",
    "|3|\tNaN|NaN|\tNaN|r0-3sigma|\n",
    "\n",
    " "
   ]
  },
  {
   "cell_type": "code",
   "execution_count": 56,
   "metadata": {},
   "outputs": [],
   "source": [
    "N = 6\n",
    "sigma= 0.01\n",
    "r0 = 0.08"
   ]
  },
  {
   "cell_type": "markdown",
   "metadata": {},
   "source": [
    "## 문제 8.\n",
    "\n",
    "문제 8-1. 현재 시점은 2020년 5월 11일이다. 매월의 이자율을 계산하기 위해 monthly cubic interpolate하시오.\n",
    "\n",
    "문제 8-2. 매월의 이자율을 기반으로 만기가 2020년 5월 30일부터 2028년 1월 31일까지 매 월의 제로쿠폰채의 가격을 계산하시오. (매월의 Day Count는 엄밀하게 계산하며 1년은 365일로 가정하시오.)\n",
    "\n",
    "|만기|제로금리|\n",
    "|------|---|\n",
    "| '2020-05-12'|1.713 |\n",
    "| '2020-06-17'|1.673 |\n",
    "| '2020-09-16'|1.622 |\n",
    "| '2020-12-16'|1.567 |\n",
    "| '2021-03-17'|1.522 |\n",
    "| '2021-06-16'|1.481 |\n",
    "| '2021-09-15'|1.448 |\n",
    "| '2022-02-14'|1.430 |\n",
    "| '2023-02-13'|1.383 |\n",
    "| '2024-02-12'|1.376 |\n",
    "| '2025-02-12'|1.388 |\n",
    "| '2026-02-12'|1.409 |\n",
    "| '2027-02-12'|1.434 |\n",
    "| '2028-02-14'|1.46 |"
   ]
  },
  {
   "cell_type": "code",
   "execution_count": 73,
   "metadata": {},
   "outputs": [],
   "source": [
    "start_day = pd.to_datetime('2020-05-11')\n",
    "end_day = pd.to_datetime('2028-01-31')\n",
    "Zero_Rate = [1.713,1.673,1.622,1.567,1.522, 1.481,1.448,1.430,1.383,1.376,1.388,\n",
    "            1.409,1.434,1.46]\n",
    "Mat_Date = ['2020-05-12','2020-06-17','2020-09-16','2020-12-16','2021-03-17',\n",
    "           '2021-06-16','2021-09-15','2022-02-14','2023-02-13','2024-02-12',\n",
    "           '2025-02-12','2026-02-12','2027-02-12','2028-02-14']"
   ]
  },
  {
   "cell_type": "code",
   "execution_count": 85,
   "metadata": {},
   "outputs": [],
   "source": [
    "##################\n",
    "## 풀이과정   ####\n",
    "PV = np.exp(-r_M * T)"
   ]
  },
  {
   "cell_type": "markdown",
   "metadata": {},
   "source": [
    " ## 문제 9.\n",
    " \n",
    "문제 9-1. 현재 가격이 100원인 A주식과 B주식 C주식의 연 변동성은 각각 10%, 62%, 22%이고 상관계수행렬은 다음과 같다.\n",
    "\n",
    "| Price|A|B|C|\n",
    "|------|---|---|---|\n",
    "|A|\t1.000000|\t0.176099|\t0.366461|\n",
    "|B|\t0.176099|\t1.000000|\t0.284950|\n",
    "|C|\t0.366461|\t0.284950|\t1.000000|\n",
    "\n",
    "무위험 수익률 5%를 가정하고 252일(1년) 동안 위험중립 주가 시뮬레이션 1회 실시하시오. \n",
    "  A, B, C의 주가 Path를 하나의 데이터 프레임으로 나타내고 그래프를 나타내시오.\n",
    "\n",
    "문제 9-2. 500원을 가지고 A 주식에 30%, B 주식에 30%, C 주식에 40% 투자할 때 포트폴리오의 총 가치를 계산하고. 포트폴리오 총 가치 1회 시뮬레이션 결과에 있어서 252일동안 95%신뢰수준, 1day기준 Value at Risk와 Expected Shortfall을 계산하시오. "
   ]
  },
  {
   "cell_type": "code",
   "execution_count": 94,
   "metadata": {},
   "outputs": [
    {
     "data": {
      "text/plain": [
       "[]"
      ]
     },
     "execution_count": 94,
     "metadata": {},
     "output_type": "execute_result"
    },
    {
     "data": {
      "image/png": "[encoded data removed]",
      "text/plain": [
       "<Figure size 432x288 with 1 Axes>"
      ]
     },
     "metadata": {
      "needs_background": "light"
     },
     "output_type": "display_data"
    }
   ],
   "source": [
    "r , S1, S2, S3 = 0.05, 100, 100, 100\n",
    "T , deltaT = 1 , 1/252\n",
    "sig1, sig2,sig3 = 0.2, 0.62 , 0.22\n",
    "corr = np.array([[1, 0.176, 0.366],[0.176,1,0.285],[0.366, 0.285, 1]])\n",
    "##################\n",
    "## 풀이과정   ####"
   ]
  },
  {
   "cell_type": "code",
   "execution_count": 95,
   "metadata": {},
   "outputs": [
    {
     "name": "stdout",
     "output_type": "stream",
     "text": [
      "VaR(95%) =  -0.024636108804790537 \n",
      "ES(95%) =  -0.029243157791353534\n"
     ]
    }
   ],
   "source": [
    "#############################\n",
    "##풀이과정을 여기에 쓰세요 ##\n",
    "#############################\n",
    "initial_money = 500\n",
    "ABC_money = initial_money * np.array([0.3, 0.3,0.4]).reshape(1,-1)\n",
    "##################\n",
    "## 풀이과정   ####\n",
    "print('VaR(95%) = ',VaR95,'\\nES(95%) = ',ES95)\n",
    "#############################"
   ]
  },
  {
   "cell_type": "markdown",
   "metadata": {},
   "source": [
    " ##  문제 10. \n",
    " \n",
    " 다음 데이터프레임(df)에서 맨윗줄 \n",
    " \n",
    " [Random01,Random01,Random01,Random01,Random01, Random48,Random48,Random48,Random48,Random48] columns를 뽑아내시오. \n",
    " "
   ]
  },
  {
   "cell_type": "code",
   "execution_count": 2,
   "metadata": {},
   "outputs": [],
   "source": [
    "big_col = ['Random01'] * 5 + ['Random48'] * 5\n",
    "small_col = ['A','B','C','D','E']*2\n",
    "Random01 = np.random.normal(0,1,size = (5,5))\n",
    "Random48 = np.random.normal(4,8,size = (5,5))\n",
    "df1 = pd.DataFrame(Random01)\n",
    "df2 = pd.DataFrame(Random48)\n",
    "df = pd.concat([df1,df2],axis = 1)\n",
    "df.columns = [big_col , small_col]"
   ]
  },
  {
   "cell_type": "code",
   "execution_count": 3,
   "metadata": {},
   "outputs": [
    {
     "data": {
      "text/plain": [
       "Index(['A', 'B', 'C', 'D', 'E', 'A', 'B', 'C', 'D', 'E'], dtype='object')"
      ]
     },
     "execution_count": 3,
     "metadata": {},
     "output_type": "execute_result"
    }
   ],
   "source": [
    "##################\n",
    "## 풀이과정   ####"
   ]
  },
  {
   "cell_type": "markdown",
   "metadata": {},
   "source": [
    " ## 문제 11.\n",
    " \n",
    " 다음 데이터프레임(df2)은 총자본을 의미한다.\n",
    " \n",
    " df2의 값들을 float형식으로 나타내시오. 자본 값이 완전잠식으로 나타난다면 NaN으로 처리하시오.\n",
    " \n",
    " | |A|B|\n",
    "|------|---|---|\n",
    "|2020-03-31|\t'12,500'|\t'200'|\t\n",
    "|2020-06-30|\t'13,300'|'완전잠식'|\t\n",
    "|2020-09-30|\t'13,200'|\t'100|"
   ]
  },
  {
   "cell_type": "code",
   "execution_count": 4,
   "metadata": {},
   "outputs": [
    {
     "data": {
      "text/html": [
       "<div>\n",
       "<style scoped>\n",
       "    .dataframe tbody tr th:only-of-type {\n",
       "        vertical-align: middle;\n",
       "    }\n",
       "\n",
       "    .dataframe tbody tr th {\n",
       "        vertical-align: top;\n",
       "    }\n",
       "\n",
       "    .dataframe thead th {\n",
       "        text-align: right;\n",
       "    }\n",
       "</style>\n",
       "<table border=\"1\" class=\"dataframe\">\n",
       "  <thead>\n",
       "    <tr style=\"text-align: right;\">\n",
       "      <th></th>\n",
       "      <th>A</th>\n",
       "      <th>B</th>\n",
       "    </tr>\n",
       "  </thead>\n",
       "  <tbody>\n",
       "    <tr>\n",
       "      <th>2020-03-31</th>\n",
       "      <td>12,500</td>\n",
       "      <td>200</td>\n",
       "    </tr>\n",
       "    <tr>\n",
       "      <th>2020-06-30</th>\n",
       "      <td>13,300</td>\n",
       "      <td>완전잠식</td>\n",
       "    </tr>\n",
       "    <tr>\n",
       "      <th>2020-09-30</th>\n",
       "      <td>13,200</td>\n",
       "      <td>100</td>\n",
       "    </tr>\n",
       "  </tbody>\n",
       "</table>\n",
       "</div>"
      ],
      "text/plain": [
       "                 A     B\n",
       "2020-03-31  12,500   200\n",
       "2020-06-30  13,300  완전잠식\n",
       "2020-09-30  13,200   100"
      ]
     },
     "execution_count": 4,
     "metadata": {},
     "output_type": "execute_result"
    }
   ],
   "source": [
    "df2 = pd.DataFrame([['12,500','200'],['13,300','완전잠식'],['13,200','100']], \n",
    "                   index = pd.to_datetime(['2020-03-31','2020-06-30','2020-09-30']), columns = ['A','B'])\n",
    "df2"
   ]
  },
  {
   "cell_type": "code",
   "execution_count": 5,
   "metadata": {},
   "outputs": [
    {
     "data": {
      "text/html": [
       "<div>\n",
       "<style scoped>\n",
       "    .dataframe tbody tr th:only-of-type {\n",
       "        vertical-align: middle;\n",
       "    }\n",
       "\n",
       "    .dataframe tbody tr th {\n",
       "        vertical-align: top;\n",
       "    }\n",
       "\n",
       "    .dataframe thead th {\n",
       "        text-align: right;\n",
       "    }\n",
       "</style>\n",
       "<table border=\"1\" class=\"dataframe\">\n",
       "  <thead>\n",
       "    <tr style=\"text-align: right;\">\n",
       "      <th></th>\n",
       "      <th>A</th>\n",
       "      <th>B</th>\n",
       "    </tr>\n",
       "  </thead>\n",
       "  <tbody>\n",
       "    <tr>\n",
       "      <th>2020-03-31</th>\n",
       "      <td>12500</td>\n",
       "      <td>200</td>\n",
       "    </tr>\n",
       "    <tr>\n",
       "      <th>2020-06-30</th>\n",
       "      <td>13300</td>\n",
       "      <td>NaN</td>\n",
       "    </tr>\n",
       "    <tr>\n",
       "      <th>2020-09-30</th>\n",
       "      <td>13200</td>\n",
       "      <td>100</td>\n",
       "    </tr>\n",
       "  </tbody>\n",
       "</table>\n",
       "</div>"
      ],
      "text/plain": [
       "                A    B\n",
       "2020-03-31  12500  200\n",
       "2020-06-30  13300  NaN\n",
       "2020-09-30  13200  100"
      ]
     },
     "execution_count": 5,
     "metadata": {},
     "output_type": "execute_result"
    }
   ],
   "source": [
    "##################\n",
    "## 풀이과정   ####"
   ]
  },
  {
   "cell_type": "code",
   "execution_count": null,
   "metadata": {},
   "outputs": [],
   "source": []
  }
 ],
 "metadata": {
  "kernelspec": {
   "display_name": "Python 3",
   "language": "python",
   "name": "python3"
  },
  "language_info": {
   "codemirror_mode": {
    "name": "ipython",
    "version": 3
   },
   "file_extension": ".py",
   "mimetype": "text/x-python",
   "name": "python",
   "nbconvert_exporter": "python",
   "pygments_lexer": "ipython3",
   "version": "3.8.5"
  }
 },
 "nbformat": 4,
 "nbformat_minor": 4
}
