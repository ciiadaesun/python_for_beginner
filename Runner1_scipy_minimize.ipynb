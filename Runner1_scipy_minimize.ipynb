{
 "cells": [
  {
   "cell_type": "markdown",
   "metadata": {},
   "source": [
    " ### Scipy minimization"
   ]
  },
  {
   "cell_type": "code",
   "execution_count": null,
   "metadata": {},
   "outputs": [],
   "source": [
    "import numpy as np\n",
    "from scipy.optimize import minimize"
   ]
  },
  {
   "cell_type": "markdown",
   "metadata": {},
   "source": [
    "$$\\begin{array}{c} \n",
    "y = x^2 - 6x + 20 \\\\ \n",
    "minimize(y) \\ and \\ calculate\\ \\ x|_{y=min(y)}\n",
    "\\end{array}$$"
   ]
  },
  {
   "cell_type": "code",
   "execution_count": null,
   "metadata": {},
   "outputs": [],
   "source": [
    "def fun(x) :\n",
    "    return x**2 - 6*x + 20"
   ]
  },
  {
   "cell_type": "code",
   "execution_count": null,
   "metadata": {},
   "outputs": [],
   "source": [
    "x0 = (3)\n",
    "result = minimize(fun, x0 = x0, method = 'SLSQP')\n",
    "x = result.x\n",
    "x"
   ]
  },
  {
   "cell_type": "code",
   "execution_count": null,
   "metadata": {},
   "outputs": [],
   "source": [
    "fun(x)"
   ]
  },
  {
   "cell_type": "markdown",
   "metadata": {},
   "source": [
    " $$\\begin{array}{c}\n",
    " minimize [ {(x_1 -1)}^2 + {(x_2 -2)}^2] \\\\  \\\\\n",
    " s.t. -x_1 + 3x_2 \\leq 4 \\ \\ \\ \\ cons1 \\\\ \\\\\n",
    " x_1 + x_2 \\leq 14 \\ \\ \\ \\ cons2 \\\\ \\\\\n",
    " x_1 -2x_2 \\leq4 \\ \\ \\ \\ cons3 \\\\ \\\\\n",
    " 0\\leq x_1 , \\ 0 \\leq x_2 \\\\ \\\\\n",
    " x_0 = (2,0)\n",
    " \\end{array}$$"
   ]
  },
  {
   "cell_type": "code",
   "execution_count": null,
   "metadata": {},
   "outputs": [],
   "source": [
    "fun2 = lambda x : (x[0]-1)**2 + (x[1]-2)**2\n",
    "cons1 = lambda x : x[0]-3*x[1] + 4\n",
    "cons2 = lambda x : -x[0]-x[1]+14\n",
    "cons3 = lambda x : -x[0]+2*x[1]+4\n",
    "cons = ({'type':'ineq','fun':cons1},\n",
    "        {'type':'ineq','fun':cons2},\n",
    "        {'type':'ineq','fun':cons3})\n",
    "bnds = ((0,None),(0,None))\n",
    "x0 = (2,0)\n",
    "res = minimize(fun2, x0, method = 'SLSQP', bounds = bnds, constraints = cons)"
   ]
  },
  {
   "cell_type": "code",
   "execution_count": null,
   "metadata": {},
   "outputs": [],
   "source": [
    "res.x"
   ]
  },
  {
   "cell_type": "markdown",
   "metadata": {},
   "source": [
    " ### 문제 1. ★ portfolio volatility minimize\n",
    "\\begin{align}\n",
    "\\sigma_{PF}^2 = w \\times \\sum \\times w^T \\\\\n",
    "(\\sum \\ is \\ cov \\ matrix)\n",
    "\\end{align}\n",
    "\n",
    "Covariance Matrix\n",
    "\n",
    "| cov|A|B|C|\n",
    "|------|---|---|---|\n",
    "|A|Cov(A,A)|\tCov(A,B)|\tCov(A,C)|\n",
    "|B|\tCov(B,A)|\tCov(B,B)|\tCov(B,C)|\n",
    "|C|\tCov(C,A)|\tCov(C,B)|\tCov(C,C)|\n",
    "\n",
    "주식 A,B,C의 변동성은 각각 20% ,30%, 50%이다.\n",
    "\n",
    "주식 A,B,C의 상관계수행렬은 다음과 같다.\n",
    "\n",
    "| corr|A|B|C|\n",
    "|------|---|---|---|\n",
    "|A|1|\t0.6|\t-0.2|\n",
    "|B|0.6|\t1|\t0.0018|\n",
    "|C|-0.2|\t0.0018|\t1|\n",
    "\n",
    "포트폴리오 변동성을 최소화하기 위한 A,B,C의 최적 투자비중을 결정하시오.\n",
    "$$\n",
    "\\begin{align}\n",
    "minimize[\\ \\sigma_{PF}^2 = w \\times \\sum \\times w^T \\ ] \\\\\n",
    "w_a + w_b + w_c = 1 \\\\\n",
    "0\\leq w_a \\leq 1 \\\\\n",
    "0\\leq w_b \\leq 1 \\\\\n",
    "0\\leq w_c \\leq 1 \\\\\n",
    "\\end{align}\n",
    "$$\n",
    "\n",
    "방법 :\n",
    "\n",
    "def port_variance(x, cov) :\n",
    "\n",
    "    ## 이하생략 ##\n",
    "    \n",
    "    return float(variance)\n",
    "    \n",
    "cons_w = 함수 : 비율 array인 w를 넣었을 때 총합 -1\n",
    "\n",
    "cons = ({'type':'eq','fun': cons_w})\n",
    "\n",
    "bnds = 최솟값 0 , 최댓값 1 조건 3개\n",
    "\n",
    "x0 = (0.3, 0.4, 0.3)\n",
    "\n",
    "minimize(함수, x0, method = 'SLSQP', bounds = bnds , constraints = cons , arg = (cov))"
   ]
  },
  {
   "cell_type": "code",
   "execution_count": 7,
   "metadata": {},
   "outputs": [],
   "source": [
    "def port_variance(x, cov) :\n",
    "    ################\n",
    "    ## 풀이과정  ###\n",
    "    ################\n",
    "    return float(port_var)"
   ]
  },
  {
   "cell_type": "code",
   "execution_count": 8,
   "metadata": {},
   "outputs": [
    {
     "data": {
      "text/plain": [
       "0.0259093"
      ]
     },
     "execution_count": 8,
     "metadata": {},
     "output_type": "execute_result"
    }
   ],
   "source": [
    "w = '풀이과정을 적으시오'\n",
    "vol = '풀이과정을 적으시오'\n",
    "corr = '풀이과정을 적으시오'\n",
    "cov = '풀이과정을 적으시오'\n",
    "port_variance(w,cov)"
   ]
  },
  {
   "cell_type": "code",
   "execution_count": 9,
   "metadata": {},
   "outputs": [],
   "source": [
    "cons_w = '풀이과정을 적으시오'\n",
    "cons = '풀이과정을 적으시오'\n",
    "bnds = '풀이과정을 적으시오'\n",
    "x0 = '풀이과정을 적으시오'\n",
    "res = minimize('풀이과정을 적으시오')"
   ]
  },
  {
   "cell_type": "code",
   "execution_count": 10,
   "metadata": {},
   "outputs": [
    {
     "data": {
      "text/plain": [
       "array([0.23071638, 0.5543315 , 0.21495212])"
      ]
     },
     "execution_count": 10,
     "metadata": {},
     "output_type": "execute_result"
    }
   ],
   "source": [
    "res.x"
   ]
  },
  {
   "cell_type": "code",
   "execution_count": 11,
   "metadata": {},
   "outputs": [
    {
     "data": {
      "text/plain": [
       "0.016634708456504332"
      ]
     },
     "execution_count": 11,
     "metadata": {},
     "output_type": "execute_result"
    }
   ],
   "source": [
    "port_variance(res.x, cov)"
   ]
  },
  {
   "cell_type": "markdown",
   "metadata": {},
   "source": [
    " ### 문제 2. A,B,C의 가정은 이전 문제와 같다고 가정하자.\n",
    " \n",
    " A,B,C의 각각 기대수익률은 10% 6% , 7%이다. \n",
    " \n",
    " 포트폴리오의 Sharp Ratio를 Maximize하기 위한 A,B,C 투자비중을 정하시오.\n",
    " \n",
    " (힌트) 먼저 포트폴리오의 샤프비율을 계산하는 함수를 만들고, 샤프 비율의 마이너스 값을 곱한것을 계산하는 함수를 만드시오."
   ]
  },
  {
   "cell_type": "code",
   "execution_count": 12,
   "metadata": {},
   "outputs": [],
   "source": [
    "expected_return = np.array([0.1,0.06,0.07])"
   ]
  },
  {
   "cell_type": "code",
   "execution_count": 13,
   "metadata": {},
   "outputs": [],
   "source": [
    "def port_sharp(x,cov,expected_return) : \n",
    "    ################\n",
    "    ## 풀이과정  ###\n",
    "    ################\n",
    "    return port_ret/std\n",
    "def port_sharp_negative(x,cov,expected_return) :\n",
    "    return -port_sharp(x,cov,expected_return)"
   ]
  },
  {
   "cell_type": "code",
   "execution_count": 14,
   "metadata": {},
   "outputs": [
    {
     "data": {
      "text/plain": [
       "0.4535185132808075"
      ]
     },
     "execution_count": 14,
     "metadata": {},
     "output_type": "execute_result"
    }
   ],
   "source": [
    "port_sharp(w,cov,expected_return)"
   ]
  },
  {
   "cell_type": "code",
   "execution_count": 15,
   "metadata": {},
   "outputs": [
    {
     "data": {
      "text/plain": [
       "0.5534238242902657"
      ]
     },
     "execution_count": 15,
     "metadata": {},
     "output_type": "execute_result"
    }
   ],
   "source": [
    "port_sharp(res.x, cov ,expected_return)"
   ]
  },
  {
   "cell_type": "code",
   "execution_count": 16,
   "metadata": {},
   "outputs": [],
   "source": [
    "cons_w = '풀이과정을 적으시오'\n",
    "cons = '풀이과정을 적으시오'\n",
    "bnds = '풀이과정을 적으시오'\n",
    "x0 = '풀이과정을 적으시오'\n",
    "res = minimize('풀이과정을 적으시오')"
   ]
  },
  {
   "cell_type": "code",
   "execution_count": 17,
   "metadata": {},
   "outputs": [
    {
     "data": {
      "text/plain": [
       "array([0.596, 0.144, 0.261])"
      ]
     },
     "execution_count": 17,
     "metadata": {},
     "output_type": "execute_result"
    }
   ],
   "source": [
    "res.x.round(3)"
   ]
  },
  {
   "cell_type": "code",
   "execution_count": null,
   "metadata": {},
   "outputs": [],
   "source": []
  }
 ],
 "metadata": {
  "kernelspec": {
   "display_name": "Python 3",
   "language": "python",
   "name": "python3"
  },
  "language_info": {
   "codemirror_mode": {
    "name": "ipython",
    "version": 3
   },
   "file_extension": ".py",
   "mimetype": "text/x-python",
   "name": "python",
   "nbconvert_exporter": "python",
   "pygments_lexer": "ipython3",
   "version": "3.8.5"
  }
 },
 "nbformat": 4,
 "nbformat_minor": 4
}
