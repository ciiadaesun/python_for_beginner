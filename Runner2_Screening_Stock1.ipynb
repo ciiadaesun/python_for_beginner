{
 "cells": [
  {
   "cell_type": "markdown",
   "metadata": {},
   "source": [
    " ## 엑셀 데이터는 알집 파일에서 받을 수 있습니다."
   ]
  },
  {
   "cell_type": "code",
   "execution_count": 1,
   "metadata": {
    "scrolled": false
   },
   "outputs": [
    {
     "name": "stdout",
     "output_type": "stream",
     "text": [
      "C:\\Users\\USER\\퀀트전략초보\n"
     ]
    }
   ],
   "source": [
    "cd C:\\Users\\USER\\퀀트전략초보"
   ]
  },
  {
   "cell_type": "code",
   "execution_count": null,
   "metadata": {},
   "outputs": [],
   "source": [
    "import numpy as np\n",
    "import pandas as pd\n",
    "import matplotlib.pyplot as plt\n",
    "import warnings\n",
    "import dateutil.relativedelta as relativedelta \n",
    "warnings.filterwarnings(action = 'ignore')"
   ]
  },
  {
   "cell_type": "markdown",
   "metadata": {},
   "source": [
    " ### Multi Columns Concept"
   ]
  },
  {
   "cell_type": "code",
   "execution_count": null,
   "metadata": {},
   "outputs": [],
   "source": [
    "Random01 = np.random.normal(0,1,size = (5,5))\n",
    "Random48 = np.random.normal(4,8,size = (5,5))\n",
    "big_col = ['Random01'] * 5 + ['Random48'] * 5\n",
    "small_col = ['A','B','C','D','E']*2\n",
    "df1 = pd.DataFrame(Random01)\n",
    "df2 = pd.DataFrame(Random48)\n",
    "df = pd.concat([df1,df2],axis = 1)\n",
    "df.columns = [big_col , small_col]"
   ]
  },
  {
   "cell_type": "code",
   "execution_count": null,
   "metadata": {},
   "outputs": [],
   "source": [
    "df"
   ]
  },
  {
   "cell_type": "code",
   "execution_count": null,
   "metadata": {},
   "outputs": [],
   "source": [
    "df['Random01']"
   ]
  },
  {
   "cell_type": "markdown",
   "metadata": {},
   "source": [
    " ### Data Preprocessing"
   ]
  },
  {
   "cell_type": "code",
   "execution_count": null,
   "metadata": {},
   "outputs": [],
   "source": [
    "path = '재무데이터.xlsx'\n",
    "path_price = '수정주가.csv'\n",
    "path_mkt = '시총데이터.csv'\n",
    "path_endmonth = '결산월.csv'\n",
    "path_kospiyn = '거래소데이터.csv'\n",
    "path_delist_and_stop = '상장폐지데이터.csv'"
   ]
  },
  {
   "cell_type": "markdown",
   "metadata": {},
   "source": [
    " #### 재무 데이터 전처리 ####"
   ]
  },
  {
   "cell_type": "code",
   "execution_count": null,
   "metadata": {},
   "outputs": [],
   "source": [
    "df = pd.read_excel(path, header = [0,1], index_col = 0)\n",
    "cleaned_data = df.round(4)"
   ]
  },
  {
   "cell_type": "code",
   "execution_count": null,
   "metadata": {},
   "outputs": [],
   "source": [
    "cleaned_data[['당기순이익','유동자산','총자본']].head()"
   ]
  },
  {
   "cell_type": "markdown",
   "metadata": {},
   "source": [
    " #### 가격 데이터 전처리 ####"
   ]
  },
  {
   "cell_type": "code",
   "execution_count": null,
   "metadata": {},
   "outputs": [],
   "source": [
    "x = pd.DataFrame([])\n",
    "for i in pd.read_csv(path_price, chunksize = 5000, parse_dates = ['Symbol'], index_col = 0) :\n",
    "    x = pd.concat([x,i], axis = 0)\n",
    "cleaned_price = x.astype(np.float64)"
   ]
  },
  {
   "cell_type": "code",
   "execution_count": null,
   "metadata": {},
   "outputs": [],
   "source": [
    "cleaned_price.tail()"
   ]
  },
  {
   "cell_type": "markdown",
   "metadata": {},
   "source": [
    " #### 시가총액 데이터 전처리 ####"
   ]
  },
  {
   "cell_type": "code",
   "execution_count": null,
   "metadata": {},
   "outputs": [],
   "source": [
    "mkt_data = pd.DataFrame([])\n",
    "for i in pd.read_csv(path_mkt , index_col = 0, chunksize = 12000, engine = 'python') :\n",
    "    mkt_data = pd.concat([mkt_data, i], axis = 0)\n",
    "\n",
    "Common = mkt_data[mkt_data.columns[::2]].iloc[1:].applymap(lambda x : x.replace(',','') if type(x) == str else x).astype(np.float64)\n",
    "Prefer = mkt_data[mkt_data.columns[1::2]].iloc[1:].applymap(lambda x : x.replace(',','') if type(x) == str else x).astype(np.float64)\n",
    "\n",
    "mkt_data = pd.DataFrame(np.array(Common)/100 + np.array(Prefer.fillna(0))/100, columns = Common.columns, index = Common.index)\n",
    "mkt_data.index = pd.to_datetime(mkt_data.index)\n",
    "cleaned_mkt = mkt_data.resample('D').last().fillna(method = 'ffill', limit = 10) ### 중간에 공휴일도 가격을 보기 위해서 10개만 ffill"
   ]
  },
  {
   "cell_type": "code",
   "execution_count": null,
   "metadata": {},
   "outputs": [],
   "source": [
    "cleaned_mkt.tail()"
   ]
  },
  {
   "cell_type": "markdown",
   "metadata": {},
   "source": [
    "  #### 유가증권시장 or 코스닥 상장여부 전처리 ####"
   ]
  },
  {
   "cell_type": "code",
   "execution_count": null,
   "metadata": {},
   "outputs": [],
   "source": [
    "mkt='유가증권시장'"
   ]
  },
  {
   "cell_type": "code",
   "execution_count": null,
   "metadata": {},
   "outputs": [],
   "source": [
    "#########################################\n",
    "data = pd.DataFrame([])\n",
    "for i in pd.read_csv(path_kospiyn, index_col = 0 , chunksize = 6000 , engine = 'python') :\n",
    "    data = pd.concat([data,i], axis = 0)\n",
    "data.index = pd.to_datetime(data.index)\n",
    "if mkt == '유가증권시장' or mkt == '코스닥':\n",
    "    data = data.astype(str).applymap(lambda x : int(mkt in x)).resample('D').last()\n",
    "elif mkt == 'both' :\n",
    "    data = data.astype(str).applymap(lambda x : int('유가증권시장' in x or '코스닥' in x)).resample('D').last()\n",
    "cleaned_kospiyn = data.fillna(method = 'ffill', limit = 30)"
   ]
  },
  {
   "cell_type": "code",
   "execution_count": null,
   "metadata": {},
   "outputs": [],
   "source": [
    "cleaned_kospiyn.tail()"
   ]
  },
  {
   "cell_type": "markdown",
   "metadata": {},
   "source": [
    " #### 거래정지 및 상장폐지 데이터 전처리"
   ]
  },
  {
   "cell_type": "code",
   "execution_count": null,
   "metadata": {},
   "outputs": [],
   "source": [
    "data = pd.DataFrame([])\n",
    "for i in pd.read_csv(path_delist_and_stop, index_col = 0 , chunksize = 6000, engine = 'python') :\n",
    "    data = pd.concat([data,i], axis = 0)\n",
    "delist_data = data[[data.columns[1]]].iloc[1:]\n",
    "delist_data = delist_data[delist_data['상장폐지일자'].isna() == False]\n",
    "delist_data['상장폐지일자'] = delist_data['상장폐지일자'].apply(lambda x : pd.to_datetime(x))\n",
    "small_col = list(data[data.columns[2:]].iloc[0])\n",
    "small_col = pd.to_datetime(small_col)\n",
    "big_col = pd.Series(data.columns[2:]).apply(lambda x : x.split('.')[0])    \n",
    "stop_data = data[data.columns[2:]].iloc[1:]\n",
    "stop_data.columns = [big_col,small_col]\n",
    "stop_data = stop_data.applymap(lambda x : 1 if x in ['TRUE' , True] else 0)   "
   ]
  },
  {
   "cell_type": "code",
   "execution_count": null,
   "metadata": {},
   "outputs": [],
   "source": [
    "stop_data.tail()"
   ]
  },
  {
   "cell_type": "code",
   "execution_count": null,
   "metadata": {},
   "outputs": [],
   "source": [
    "delist_data.head()"
   ]
  },
  {
   "cell_type": "markdown",
   "metadata": {},
   "source": [
    " #### 결산월 전처리"
   ]
  },
  {
   "cell_type": "code",
   "execution_count": null,
   "metadata": {},
   "outputs": [],
   "source": [
    "preprocessing_endmonth = lambda path_endmonth : pd.read_csv(path_endmonth,index_col = 0, parse_dates=['Symbol']).fillna(method = 'ffill').fillna(method = 'bfill').fillna(12)"
   ]
  },
  {
   "cell_type": "code",
   "execution_count": null,
   "metadata": {},
   "outputs": [],
   "source": [
    "preprocessing_endmonth(path_endmonth).tail()"
   ]
  },
  {
   "cell_type": "markdown",
   "metadata": {},
   "source": [
    " #### 문제 : 지금까지 만든 전처리과정을 함수화하시오. (결산월 처리는 이미 위에 되어있으니 제외)"
   ]
  },
  {
   "cell_type": "code",
   "execution_count": null,
   "metadata": {},
   "outputs": [],
   "source": [
    "def preprocessing_path(path) :\n",
    "    ############################\n",
    "    ## 재무 데이터 전처리     ##\n",
    "    ############################\n",
    "\n",
    "    return\n",
    "\n",
    "def preprocessing_price(path_price) :\n",
    "    ############################\n",
    "    ## 가격 데이터 전처리     ##\n",
    "    ############################\n",
    "\n",
    "    return \n",
    "\n",
    "def preprocessing_mktdata(path_mkt_data) :    \n",
    "    ############################\n",
    "    ## 시가총액 데이터 전처리 ##\n",
    "    ############################\n",
    "    return\n",
    "    \n",
    "def preprocessing_kospiyn(path_kospiyn, mkt='유가증권시장') :\n",
    "    ##########################################\n",
    "    ### 거래소(코스피,코스닥)데이터 전처리  ##\n",
    "    #########################################\n",
    "    return \n",
    "\n",
    "def preprocessing_stop_and_delist(path_delist_and_stop) :\n",
    "    #####################################################################################################\n",
    "    ## 거래정지 및 상장폐지 데이터 전처리  결과값은 정지된 데이터와 상장폐지된 목록 두가지를 리턴하시오##\n",
    "    #####################################################################################################    \n",
    "    return  delist_data, stop_data\n",
    "\n",
    "preprocessing_period = lambda path_endmonth : pd.read_csv(path_endmonth,index_col = 0, parse_dates=['Symbol']).fillna(method = 'ffill').fillna(method = 'bfill').fillna(12)"
   ]
  },
  {
   "cell_type": "code",
   "execution_count": null,
   "metadata": {},
   "outputs": [],
   "source": []
  }
 ],
 "metadata": {
  "kernelspec": {
   "display_name": "Python 3",
   "language": "python",
   "name": "python3"
  },
  "language_info": {
   "codemirror_mode": {
    "name": "ipython",
    "version": 3
   },
   "file_extension": ".py",
   "mimetype": "text/x-python",
   "name": "python",
   "nbconvert_exporter": "python",
   "pygments_lexer": "ipython3",
   "version": "3.8.5"
  }
 },
 "nbformat": 4,
 "nbformat_minor": 4
}
