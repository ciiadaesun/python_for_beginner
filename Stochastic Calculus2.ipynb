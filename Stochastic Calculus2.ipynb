{
 "cells": [
  {
   "cell_type": "markdown",
   "metadata": {},
   "source": [
    " ## 지난 요약\n",
    " \n",
    " ## Brownian Motion\n",
    " \n",
    " $ i) \\ \\ W(0) = 0 $\n",
    "\n",
    "$ ii) \\ \\ W(t) \\sim N(0,t)  $\n",
    "\n",
    "$ iii) \\ \\ W(t) - W(s) \\sim N( 0, \\ t-s) \\ \\ \\ \\ \\ \\ \\ (t>s) $\n",
    "\n",
    " ## Quadratic Variation of Brownian Motion\n",
    " \n",
    " 1. ${(dt)}^2 = 0$ 이다. 정확히 말하면 ${(dt)}^n = 0$ [n>1]\n",
    "      \n",
    " 2. ${(dt \\bullet dW)} = 0 $\n",
    " \n",
    " 3. ${(dW)}^2 = dt$\n",
    "\n",
    "## 이토 적분\n",
    " $\n",
    " I(T) = \\int_0^T g(t) dW(t)\n",
    " $"
   ]
  },
  {
   "cell_type": "markdown",
   "metadata": {},
   "source": [
    " ## 1. 이토 적분의 성질\n",
    " \n",
    " 1. $ I(t) $ is a continous function\n",
    "\n",
    "\n",
    " 2. $ I(t) $ is an adapted process.\n",
    "\n",
    "\n",
    " 3. $E[I(t) | F(s)] = I(s)$      \n",
    " [ $ F(s) $ is information sets on s, where t>s ]\n",
    "\n",
    " 3 -> Appendix 참조\n",
    " \n",
    "\n",
    "4. $E[I(t)] = I(0) = 0$\n",
    " \n",
    " \n",
    " 5. Quadratic Variation of $I(T)$ denote by ${[I, I]}_{(T)} = \\int_0^T {(d I(t))}^2 = \\int_0^T g^2(t)dt$\n",
    "\n",
    " 즉, $d{[I,I]}_{(T)} = {(d I(t) )}^2 = g^2(t) dt$"
   ]
  },
  {
   "cell_type": "markdown",
   "metadata": {},
   "source": [
    " ## 2. 이토 프로세스\n",
    " \n",
    "#### Definition 1: 이토 프로세스는 다음과 같이 정의되는 확률과정이다.\n",
    "\n",
    "$\n",
    "X(T) = X(0) + \\int_0^T f(t) dt + \\int_0^T g(t) dW(t)\n",
    "$\n",
    "\n",
    "혹은 미분방정식 형태로 정의하기도 한다.\n",
    "\n",
    "$\n",
    "dX(t) =  f(t) dt + g(t) dW(t)\n",
    "$\n",
    "\n",
    "앞으로 편의상 (T)를 없애고 다음과 같이 정의하자. \n",
    "하지만 W가 t에 따라 바뀌는 것은 기억하자\n",
    "\n",
    "$dX =  f(t) dt + g(t) dW$\n",
    "\n",
    " ## 3. 이토 프로세스의 성질\n",
    " \n",
    " QV of Ito process\n",
    " \n",
    " $${[X,X]}_{(T)} = \\int_0^T {(dX)}^2 $$ \n",
    " \n",
    " $$= \\int_0^T{[f(t) dt]}^2 + \\int_0^T \n",
    "2[f(t)\\bullet g(t) \\bullet dt   \\bullet dW]  + \\int_0^T g^2(t) {(dW)}^2 \\\\ = \\int_0^T g^2(t) {dt}$$ \n",
    " \n",
    " 따라서 \n",
    " \n",
    " $\n",
    " {(dX)}^2 = g^2(t) {dt}\n",
    " $\n",
    " \n",
    " 1-1. 예제\n",
    " \n",
    " $\n",
    " dS = \\mu S \\bullet dt + \\sigma S \\bullet dW\n",
    " $\n",
    "\n",
    " $\n",
    " {(dS)}^2 = \\sigma^2 S^2 dt \n",
    " $\n"
   ]
  },
  {
   "cell_type": "markdown",
   "metadata": {},
   "source": [
    " ## 4. 이토 공식\n",
    " \n",
    "$f(t,X)$ 는 t, X에 따라 결정되는 함수이다. \n",
    "\n",
    "(t를 시간, X를 기초자산이라고 가정하자. X역시 t에 따라 변하지만 일단은 무시하자.) \n",
    "\n",
    "2변수함수를 테일러 급수로 표현하면 다음과 같다.\n",
    "\n",
    "$$\n",
    "f(T,X) = f(0, X(0)) + \\int_0^T f_t dt + \\int_0^T f_x dX + \\frac{1}{2} \\int_0^T f_{t t} {(dt)}^2  + \\frac{1}{2} \\int_0^T f_{XX} {(dX)}^2 + \\int_0^T f_{tX} {(dX)(dt)} \n",
    "$$\n",
    "\n",
    "여기서,\n",
    "\n",
    " ${(dt)}^2 = 0$ , ${(dt)(dW)} = 0$ , ${(dW)}^2 = dt$ 이고 $dX = f(t) dt + g(t) dW $ 이므로,\n",
    " \n",
    " \n",
    " \n",
    " $$\n",
    " f(T,X) = f(0, X(0)) + \\int_0^T f_t dt + \\int_0^T f_x dX  + 0 + \\frac{1}{2} \\int_0^T f_{XX} {(dX)}^2 + \\int_0^T f_{tX} {(f(t) dt + g(t) dW)(dt)} \n",
    " $$\n",
    " \n",
    " \n",
    " \n",
    " $$ \\\\ \n",
    "f(T,X) = f(0, X(0)) + \\int_0^T f_t dt + \\int_0^T f_x dX  + \\frac{1}{2} \\int_0^T f_{XX} {(dX)}^2   \n",
    " $$\n",
    " \n",
    " 즉, \n",
    " \n",
    " $\n",
    " df(t,X) = f_t dt + f_x dx + \\frac{1}{2} f_{xx} {(dX)}^2\n",
    " $"
   ]
  },
  {
   "cell_type": "markdown",
   "metadata": {},
   "source": [
    " ## 5. 블랙숄즈의 기초자산가격움직임\n",
    " \n",
    " 주가가 다음과 같은 프로세스를 따른다고 가정하자.\n",
    " \n",
    " $dS = r S dt + \\sigma S dW$\n",
    " \n",
    " $f(t,S) = lnS$ 이라고 가정한다면, 각각 t, S에 대해 편미분하면 다음과 같다. \n",
    " \n",
    " (S가 t의 함수인 것은 무시하고 편미분효과만 보자.)\n",
    " \n",
    " $f_S = \\frac{1}{S} $ , $ f_t = 0 $ , $f_{SS} = \\frac{-1}{S^2}$\n",
    " \n",
    " $$d(lnS) = \\frac{1}{S} dS + \\frac{1}{2} \\bullet \\frac{-1}{S^2} {(dS)}^2\n",
    " \\\\\n",
    "  = (r dt + \\sigma dW) - \\frac{1}{2}\\sigma^2 dt  = (r-\\frac{\\sigma^2}{2})dt + \\sigma dW $$\n",
    " \n",
    " $$\\int_0^T d(lnS)  = \\int_0^T (r-\\frac{\\sigma^2}{2})dt +  \\int_0^T \\sigma dW$$\n",
    " \n",
    " $$ ln S(T) - lnS(0) = (r-\\frac{\\sigma^2}{2})T + \\sigma W(T) \n",
    " \\\\\n",
    " S(T) = S(0) \\bullet e^{(r-\\frac{\\sigma^2}{2})T + \\sigma W(T)} $$"
   ]
  },
  {
   "cell_type": "markdown",
   "metadata": {},
   "source": [
    " ## Practice\n",
    " \n",
    " 실제로 $dS = r S dt + \\sigma S dW$ 과 $S(T) = S(0) \\bullet e^{(r-\\frac{\\sigma^2}{2})T + \\sigma W(T)}$ 이 같은 프로세스인지 알아보자.\n",
    " \n",
    " 시뮬레이션 1. $ \\Delta S(t) = r S(t) \\Delta t + \\sigma S(t) \\sqrt{\\Delta t}\\times e $\n",
    " \n",
    " $S(t+\\Delta t) = S(t) + \\Delta S(t) $\n",
    " \n",
    " 시뮬레이션 2. $S(T) = S(0) \\bullet e^{(r-\\frac{\\sigma^2}{2})T + \\sigma W(T)}$\n",
    " \n",
    " T = 1, dt = 1/365, r = 0.05, sigma = 0.2 , S0 = 100"
   ]
  },
  {
   "cell_type": "code",
   "execution_count": 1,
   "metadata": {},
   "outputs": [],
   "source": [
    "import numpy as np\n",
    "import matplotlib.pyplot as plt\n",
    "r = 0.05\n",
    "T = 1\n",
    "dt = 1/365\n",
    "sigma = 0.2\n",
    "simul_num = 10000"
   ]
  },
  {
   "cell_type": "code",
   "execution_count": 2,
   "metadata": {},
   "outputs": [],
   "source": [
    "def sim_method1(S0, r, dt, T, sigma, simul_num) :\n",
    "    S = np.array([S0] * simul_num)\n",
    "    Tn = T/dt\n",
    "    for i in range(int(Tn)) :\n",
    "        dS = r * S * dt + sigma * S * np.sqrt(dt) * np.random.normal(0,1,size = simul_num)\n",
    "        S = S + dS\n",
    "    return S\n",
    "\n",
    "def sim_method2(S0, r, T, sigma, simul_num) :\n",
    "    e = np.random.normal(0,1,size = simul_num)\n",
    "    S = S0 * np.exp((r-0.5*sigma**2)*T + sigma * np.sqrt(T) * e)\n",
    "    return S"
   ]
  },
  {
   "cell_type": "code",
   "execution_count": 3,
   "metadata": {},
   "outputs": [
    {
     "data": {
      "image/png": "[encoded data removed]",
      "text/plain": [
       "<Figure size 432x288 with 1 Axes>"
      ]
     },
     "metadata": {
      "needs_background": "light"
     },
     "output_type": "display_data"
    }
   ],
   "source": [
    "plt.hist(sim_method1(100, r, dt, T, sigma, simul_num), bins = 50)\n",
    "plt.show()"
   ]
  },
  {
   "cell_type": "code",
   "execution_count": 4,
   "metadata": {},
   "outputs": [
    {
     "data": {
      "image/png": "[encoded data removed]",
      "text/plain": [
       "<Figure size 432x288 with 1 Axes>"
      ]
     },
     "metadata": {
      "needs_background": "light"
     },
     "output_type": "display_data"
    }
   ],
   "source": [
    "plt.hist(sim_method2(100, r, T, sigma, simul_num), bins = 50)\n",
    "plt.show()"
   ]
  },
  {
   "cell_type": "code",
   "execution_count": null,
   "metadata": {},
   "outputs": [],
   "source": []
  }
 ],
 "metadata": {
  "kernelspec": {
   "display_name": "Python 3",
   "language": "python",
   "name": "python3"
  },
  "language_info": {
   "codemirror_mode": {
    "name": "ipython",
    "version": 3
   },
   "file_extension": ".py",
   "mimetype": "text/x-python",
   "name": "python",
   "nbconvert_exporter": "python",
   "pygments_lexer": "ipython3",
   "version": "3.8.5"
  }
 },
 "nbformat": 4,
 "nbformat_minor": 4
}
