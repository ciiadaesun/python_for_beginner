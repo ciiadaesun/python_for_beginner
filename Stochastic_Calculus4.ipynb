{
 "cells": [
  {
   "cell_type": "markdown",
   "metadata": {},
   "source": [
    " ## 블랙숄즈 콜옵션 가격공식 유도.\n",
    " \n",
    " Risk Neutral Measure에서 주가는 다음과 같은 프로세스를 따른다. \n",
    "\n",
    "(Physical Measure -> Risk Neutral Measure로의 변화는 다음챕터에서 배운다.)\n",
    "\n",
    " $$ S(T) = S(0) \\bullet e^{(r-\\frac{\\sigma^2}{2})T + \\sigma \\hat{W(T)}} $$\n",
    " \n",
    " Risk Neutral Measure에서 기댓값을 $\\hat{E}$ 라고 하자.\n",
    " \n",
    " $ C = e^{-rT}\\hat{E} [max(S_T-K,0)] $\n",
    " \n",
    " $ = e^{-rT} \\hat{E} [S_0 \\bullet e^{(r-\\frac{\\sigma^2}{2})T + \\sigma \\hat{W(T)}} - K | S_T>K] $\n",
    " \n",
    " $ = e^{-rT} \\hat{E} [S_0 \\bullet e^{(r-\\frac{\\sigma^2}{2})T + \\sigma \\sqrt{T} \\epsilon } - K | S_T>K]$\n",
    " \n",
    " $ = e^{-rT} \\int_{S_T>K} [(S_0 \\bullet e^{(r-\\frac{\\sigma^2}{2})T + \\sigma \\sqrt{T} \\epsilon } - K) \\bullet \n",
    " \\frac{e^{- \\frac{\\epsilon^2}{2}}}{{\\sqrt{2\\pi}}} ]d\\epsilon $\n",
    " \n",
    " 이유 : $E[G(X)] = \\int G(x) f(x)dx$ 이다.  $f(x)$ 는 X의 확률밀도함수이다. 간단한 예시로는 $E(X^2) = \\int_{-\\infty}^{\\infty} x^2 f(x) dx$ \n",
    " \n",
    " 여기서는 표준정규변수의 확률밀도함수를 사용했다.\n",
    " "
   ]
  },
  {
   "cell_type": "markdown",
   "metadata": {},
   "source": [
    "정리하면\n",
    "\n",
    "$$ C = e^{-rT} \\int_{S_T>K} [S_0 \\bullet e^{(r-\\frac{\\sigma^2}{2})T + \\sigma \\sqrt{T} \\epsilon } \\bullet \\frac{e^{-\\frac{\\epsilon^2}{2}}}{{\\sqrt{2\\pi}}}] d\\epsilon  - e^{-rT}  \\int_{S_T>K} [K \\bullet \n",
    " \\frac{e^{-\\frac{\\epsilon^2}{2}}}{{\\sqrt{2\\pi}}}] d\\epsilon$$\n",
    "\n",
    "이다."
   ]
  },
  {
   "cell_type": "markdown",
   "metadata": {},
   "source": [
    "여기서\n",
    "\n",
    "$S_T> K$ 라는 것은 다음과 동치이다.\n",
    "\n",
    "$ S_0 \\bullet e^{(r-\\frac{\\sigma^2}{2})T + \\sigma \\sqrt{T} \\epsilon} > K$ 와 동치"
   ]
  },
  {
   "cell_type": "markdown",
   "metadata": {},
   "source": [
    "$ \\ln(S_0 / K) + (r-\\frac{\\sigma^2}{2})T >- \\sigma \\sqrt{T} \\epsilon   $ 와 동치\n",
    "\n",
    "$ - \\frac{\\ln(S_0 / K) + (r-\\frac{\\sigma^2}{2})T}{\\sigma \\sqrt{T}} < \\epsilon$ 와 동치\n",
    "\n",
    "$ - \\frac{\\ln(S_0 / K) + (r-\\frac{\\sigma^2}{2})T}{\\sigma \\sqrt{T}} = -d_2 $ 라고 하자. 적분파트는 다음과 같이 바뀐다."
   ]
  },
  {
   "cell_type": "markdown",
   "metadata": {},
   "source": [
    "$$ C = e^{-rT} \\int_{-d_2}^{\\infty} [S_0 \\bullet e^{(r-\\frac{\\sigma^2}{2})T + \\sigma \\sqrt{T} \\epsilon } \\bullet \\frac{e^{\\frac{-\\epsilon^2}{2}}}{{\\sqrt{2\\pi}}}] d\\epsilon  - e^{-rT}  K \\int_{-d_2}^{\\infty} \n",
    " \\frac{e^{-\\frac{\\epsilon^2}{2}}}{{\\sqrt{2\\pi}}} d\\epsilon$$\n"
   ]
  },
  {
   "cell_type": "markdown",
   "metadata": {},
   "source": [
    " 정규분포는 좌우 대칭이므로 $K \\int_{-d_2}^{\\infty} \n",
    " \\frac{e^{-\\frac{\\epsilon^2}{2}}}{{\\sqrt{2\\pi}}} d\\epsilon = K \\int_{-\\infty}^{d_2} \n",
    " \\frac{e^{-\\frac{\\epsilon^2}{2}}}{{\\sqrt{2\\pi}}} d\\epsilon  = KN(d_2) $"
   ]
  },
  {
   "cell_type": "markdown",
   "metadata": {},
   "source": [
    "$ C = e^{-rT} \\int_{-d_2}^{\\infty} [S_0 \\bullet e^{(r-\\frac{\\sigma^2}{2})T + \\sigma \\sqrt{T} \\epsilon } \\bullet \\frac{e^{\\frac{-\\epsilon^2}{2}}}{{\\sqrt{2\\pi}}}] d\\epsilon  - e^{-rT}  K N(d_2) $\n",
    "\n",
    "여기서 왼쪽 Term을 보자\n",
    "\n",
    "$$ e^{-rT} \\int_{-d_2}^{\\infty} [S_0 \\bullet e^{(r-\\frac{\\sigma^2}{2})T + \\sigma \\sqrt{T} \\epsilon } \\bullet \\frac{e^{-\\frac{\\epsilon^2}{2}}}{{\\sqrt{2\\pi}}}] d\\epsilon = S_0 \\bullet e^{-\\frac{\\sigma^2}{2}T}\\int_{-d_2}^{\\infty} e^{ \\sigma \\sqrt{T} \\epsilon } \\frac{e^{-\\frac{\\epsilon^2}{2}}}{{\\sqrt{2\\pi}}}  d\\epsilon\n",
    "$$\n",
    "\n",
    "$$\n",
    "= S_0 \\bullet e^{-\\frac{\\sigma^2}{2}T}\\int_{-d_2}^{\\infty} \\frac{1}{\\sqrt{2\\pi}} exp(-\\frac{\\epsilon^2 - 2 \\sigma \\sqrt{T}\\epsilon + \\sigma^2 T -\\sigma^2 T }{2})  d\\epsilon\n",
    "$$\n",
    "\n",
    "$$\n",
    "= S_0 \\bullet e^{-\\frac{\\sigma^2}{2}T}\\int_{-d_2}^{\\infty} e^{\\frac{\\sigma^2 T}{2}} \\frac{1}{\\sqrt{2\\pi}} exp(-\\frac{{(\\epsilon - \\sigma \\sqrt{T})}^2 }{2})  d\\epsilon\n",
    "$$\n",
    "\n",
    "$$\n",
    "= S_0 \\int_{-d_2}^{\\infty} \\frac{1}{\\sqrt{2\\pi}} exp(-\\frac{{(\\epsilon - \\sigma \\sqrt{T})}^2 }{2})  d\\epsilon\n",
    "$$\n"
   ]
  },
  {
   "cell_type": "markdown",
   "metadata": {},
   "source": [
    "$\\int_{-d_2}^{\\infty} \\frac{1}{\\sqrt{2\\pi}} exp(-\\frac{{(\\epsilon - \\sigma \\sqrt{T})}^2 }{2})  d\\epsilon$는 평균이 $\\sigma\\sqrt{T}$이고 분산이 1인 정규분포함수를 $-d_2$부터 $\\infty$까지 적분한 값이다.\n",
    "\n",
    "이는 평균이 0이고 분산이 1인 정규분포함수를 $-d_2 - \\sigma\\sqrt{T}$ 부터 무한대까지 적분한 값과 동일하다.\n",
    "\n",
    "이는 또 평균이 0이고 분산이 1인 표준정규분포함수를 $-\\infty$ 부터 $d_2 + \\sigma \\sqrt{T} $ 까지 적분한 값과 같다.\n",
    "\n",
    "즉 왼쪽 term = $S_0 N(d_2 + \\sigma \\sqrt{T}) = S_0 N(d_1)$"
   ]
  },
  {
   "cell_type": "markdown",
   "metadata": {},
   "source": [
    "$$ C = S_0 N(d_1) - e^{-rT}  K N(d_2)$$"
   ]
  },
  {
   "cell_type": "markdown",
   "metadata": {},
   "source": [
    " 풋콜 패러티에 의해\n",
    " \n",
    " $$ P = Ke^{-rT} N(-d_2) - S_0 N(-d_1) $$"
   ]
  },
  {
   "cell_type": "code",
   "execution_count": null,
   "metadata": {},
   "outputs": [],
   "source": []
  }
 ],
 "metadata": {
  "kernelspec": {
   "display_name": "Python 3",
   "language": "python",
   "name": "python3"
  },
  "language_info": {
   "codemirror_mode": {
    "name": "ipython",
    "version": 3
   },
   "file_extension": ".py",
   "mimetype": "text/x-python",
   "name": "python",
   "nbconvert_exporter": "python",
   "pygments_lexer": "ipython3",
   "version": "3.8.5"
  }
 },
 "nbformat": 4,
 "nbformat_minor": 4
}
