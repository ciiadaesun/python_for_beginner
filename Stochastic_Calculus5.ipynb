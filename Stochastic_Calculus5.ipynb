{
 "cells": [
  {
   "cell_type": "markdown",
   "metadata": {},
   "source": [
    " ## 1. Change of Measure"
   ]
  },
  {
   "cell_type": "markdown",
   "metadata": {},
   "source": [
    "측도변환은 다음과 같이 정의된다.\n",
    "\n",
    "$\n",
    "\\tilde{P}(A) = \\int_A Z(\\omega) dP(\\omega)\n",
    "$\n",
    "\n",
    "$ 1) \\tilde{E}[X]= E[XZ]$\n",
    "\n",
    "$ 2) E[X] = \\tilde{E}[\\frac{X}{Z}]$\n",
    "\n",
    "$ 3) Z(\\omega) = \\frac{d\\tilde{P}}{dP}$\n",
    "\n",
    "$ 4) E(Z) = 1 $"
   ]
  },
  {
   "cell_type": "markdown",
   "metadata": {},
   "source": [
    "#### 확률과정의 경우 다음과 같이 측도변환한다. (Girsanov Theorem)\n",
    "\n",
    "$$\\tilde{W}(t) = W(t) + \\int_0^t \\theta(s) ds$$\n",
    "\n",
    "$$d\\tilde{W}(t) = dW(t) + \\theta(t) dt$$\n",
    "\n",
    "확률과정에서 Z(t)는 다음과 같이 정의된다. (외울필요없음)\n",
    "\n",
    "$$Z(t) = exp[ -\\int_0^t \\theta(u) dW(u) - \\frac{1}{2} \\int_0^t {(\\theta(u))}^2 du ]$$\n",
    "\n",
    "$Z(t)$를 위와 같이 설정하면1, 2, 4 성질을 모두 만족한다.(증명은 생략한다.)"
   ]
  },
  {
   "cell_type": "markdown",
   "metadata": {},
   "source": [
    " ## 2. Martingale\n",
    " \n",
    " $X$가 다음 성질을 만족할 때, 이를 Martingale이라고 한다.\n",
    " \n",
    " $F_{(s)}$ 는 s시점의 정보 [Information set at s] (t>s)\n",
    " \n",
    " $E[X_t | F_{(s)}] = X_s $\n",
    " \n",
    " 이를 Stochastic Process로 나타내면 \n",
    " \n",
    " $dX(t) = f(X,t) dW$\n",
    " \n",
    " 즉 확률과정에 $dt$ term이 없으면 Martingale (변화부분의 기댓값이 0이기 때문)"
   ]
  },
  {
   "cell_type": "markdown",
   "metadata": {},
   "source": [
    " ## 3. Martingale Pricing\n",
    " \n",
    " $B(t) = e^{-r \\times {(\\bar{T} - t})}$라고 하자. ($\\bar{T}$는 고정된 만기를 의미)\n",
    " \n",
    " $$B(0) = e^{-r \\times \\bar{T} } = e^{-rT}$$\n",
    " \n",
    " $$B(T) = e^{-r \\times {(\\bar{T} - T})} = e^{-r \\times 0} = 1$$\n",
    " \n",
    " #### 다음 식을 만족하는 Q Measure(임의의 확률측도)가 존재한다면 $ \\frac{S(T)}{B(T)}$의 Linear 연동 파생상품가치 또한 Martingale 이다. (증명생략)\n",
    " \n",
    " $$ E^Q[\\frac{S(T)}{B(T)} ] =E^Q[\\frac{S(t)}{B(t)} ]= \\frac{S(0)} {B(0)}$$"
   ]
  },
  {
   "cell_type": "markdown",
   "metadata": {},
   "source": [
    "예시) Q Measure가 존재하면 콜옵션도 Pricing 가능하다.\n",
    "\n",
    "$$\n",
    "C(T) = max(S(T) - K , 0) = max(\\frac{S(T)}{B(T)} - K , 0)\n",
    "$$"
   ]
  },
  {
   "cell_type": "markdown",
   "metadata": {},
   "source": [
    "$$\n",
    "E^Q[\\frac{C(T)}{B(T)}]= \\frac{C(0)}{B(0)} =E^Q[max(\\frac{S(T)}{B(T)} - K , 0)]=E^Q[max(S(T) - K , 0)]\n",
    "$$\n"
   ]
  },
  {
   "cell_type": "markdown",
   "metadata": {},
   "source": [
    "$$\n",
    "C(0) = B(0) \\bullet E^Q[max(\\frac{S(T)}{B(T)} - K , 0)] = B(0) \\bullet E^Q[max(S(T) - K , 0)]\n",
    "$$\n"
   ]
  },
  {
   "cell_type": "markdown",
   "metadata": {},
   "source": [
    "$$\n",
    "C_0 = e^{-r(\\bar{T}-t)}\\bullet E^Q[max(S(T) - K , 0)]\n",
    "$$"
   ]
  },
  {
   "cell_type": "markdown",
   "metadata": {},
   "source": [
    " ### Q Measure의 조건 유도\n",
    " \n",
    " $$ dS = \\mu S dt + \\sigma S dW $$\n",
    " \n",
    " $$d(\\frac{S(t)}{B(t)}) = d(e^{r(\\bar{T}- t)} S(t)) = e^{r\\bar{T}} d(e^{- rt} S(t))\n",
    " $$\n",
    " \n",
    " $f(t,S) = e^{-rt} S$일 때,\n",
    " \n",
    " $f_t = -re^{-rt}S$ , 그리고 $f_S = e^{-rt} $ , $f_{SS} = 0$\n",
    " \n",
    " $d(f,S) = -re^{-rt}Sdt + e^{-rt} dS$\n",
    " \n",
    " $ d(\\frac{S(t)}{B(t)}) = e^{-rt} S(t) [ (\\mu -r)dt + \\sigma dW]$\n",
    " \n",
    " $ d(\\frac{S(t)}{B(t)}) = e^{-rt} S(t) [ (\\mu -r)dt + \\sigma (d\\tilde{W} - \\theta dt)]$\n",
    " \n",
    " $ d(\\frac{S(t)}{B(t)}) = e^{-rt} S(t) [ (\\mu -r - \\sigma \\theta)dt + \\sigma d\\tilde{W}]$"
   ]
  },
  {
   "cell_type": "markdown",
   "metadata": {},
   "source": [
    "만약$\\theta$ 가 $ \\frac{\\mu - r}{\\sigma}$이라면 \n",
    "\n",
    "$\n",
    "d(\\frac{S(t)}{B(t)}) = e^{-rt}S(t) \\sigma d\\tilde{W}\n",
    "$이라서 Martingale이다.\n",
    "\n",
    "즉, $\\theta$ 가 $ \\frac{\\mu - r}{\\sigma}$ 일 때, $E[\\frac{S(t)}{B(t)}] = \\frac{S(0)}{B(0)}$이고, 콜옵션 가격을 Martingale Pricing 가능하다."
   ]
  },
  {
   "cell_type": "markdown",
   "metadata": {},
   "source": [
    "#### 원래 주가의 확률과정으로 돌아오자.\n",
    "\n",
    "$$dS = \\mu S dt + \\sigma S dW$$\n",
    "\n",
    "Physical Measure의 브라운운동 $dW$를 Martingale Pricing 가능한 Q Measure에서의 $d\\tilde{W}$의 식으로 바꿔보자, 주가는 다음과 같은 프로세스를 따른다.\n",
    "\n",
    "$$ dS = \\mu S dt + \\sigma S (d\\tilde{W} - \\theta dt) $$\n",
    "\n",
    "$$ dS = (\\mu - \\sigma\\theta ) Sdt + \\sigma d\\tilde{W}$$\n",
    "\n",
    "아까 계산한 결과 Q Measure에서 $\\theta = \\frac{\\mu - r}{\\sigma}$ 이었다.\n",
    "\n",
    "$$ dS = (\\mu - (\\mu - r))dt + \\sigma S d\\tilde{W}$$\n",
    "\n",
    "$$ dS = rSdt + \\sigma S d\\tilde{W} $$\n",
    "\n",
    "아까 계산한 콜 옵션 관계를 보자.\n",
    "\n",
    "$$\n",
    "C_0 = e^{-r(\\bar{T}-t)}\\bullet E^Q[max(S(T) - K , 0)]\n",
    "$$\n",
    "\n",
    "$$ = e^{-r(\\bar{T}-t)}\\bullet E^Q[ max(S_0 e^{ (r - \\frac{\\sigma^2}{2})T + \\sigma W(T) }-K,0)]\n",
    "$$"
   ]
  }
 ],
 "metadata": {
  "kernelspec": {
   "display_name": "Python 3",
   "language": "python",
   "name": "python3"
  },
  "language_info": {
   "codemirror_mode": {
    "name": "ipython",
    "version": 3
   },
   "file_extension": ".py",
   "mimetype": "text/x-python",
   "name": "python",
   "nbconvert_exporter": "python",
   "pygments_lexer": "ipython3",
   "version": "3.8.5"
  }
 },
 "nbformat": 4,
 "nbformat_minor": 4
}
