{
 "cells": [
  {
   "cell_type": "markdown",
   "metadata": {},
   "source": [
    "### T Forward Price\n",
    "\n",
    "K를 Forward가격이라고 하자.만기때는 주가와 Forward가격이 일치한다.\n",
    "\n",
    "$$\\tilde{E}[ B(t,\\bar{T})(S(T) - \\bar{K})|F_t]=0$$\n"
   ]
  },
  {
   "cell_type": "markdown",
   "metadata": {},
   "source": [
    "$$=\\tilde{E}[ B(t,\\bar{T})S(T)|F_t] - \\bar{K}\\tilde{E}[ B(t,\\bar{T})|F_t]$$"
   ]
  },
  {
   "cell_type": "markdown",
   "metadata": {},
   "source": [
    "$B_t$ 는 t시점 측정가능하다. ($B_t$ is t msble)"
   ]
  },
  {
   "cell_type": "markdown",
   "metadata": {},
   "source": [
    "$$ = B(t,\\bar{T})\\tilde{E}[S(T)|F_t] - \\bar{K} B(t,\\bar{T}) = 0$$"
   ]
  },
  {
   "cell_type": "markdown",
   "metadata": {},
   "source": [
    "$$ = B(t,\\bar{T})\\tilde{E}[\\frac{S(T)}{B(T,\\bar{T})}|F_t] = B(t,\\bar{T}) \\bar{K}$$"
   ]
  },
  {
   "cell_type": "markdown",
   "metadata": {},
   "source": [
    " #### In the Risk Neutral Measure \n",
    " \n",
    "\n",
    "$\\frac{S(T)}{B(T)}$ is martingale"
   ]
  },
  {
   "cell_type": "markdown",
   "metadata": {},
   "source": [
    "$$B(t, \\bar{T}) \\frac{S(t)}{B(t,\\bar{T})} - B(t,\\bar{T}) \\bar{K} = 0$$"
   ]
  },
  {
   "cell_type": "markdown",
   "metadata": {},
   "source": [
    "$$ K = S_t \\bullet e^{r(T-t)}$$"
   ]
  },
  {
   "cell_type": "markdown",
   "metadata": {},
   "source": [
    " ### Futures\n",
    " \n",
    " $Fut(t,T) = \\tilde{E}[Fut(T,T)|F(t)]$\n",
    " \n",
    " 증명 : Futures는 Daily Settle한다.\n",
    "  \n",
    "  $$\n",
    "  0 = \\tilde{E}[ B(t_k, t_{k+1}) (Fut(t_{k+1},T) - Fut(t_k , T)) |F_{t_k}]\n",
    "  $$\n",
    "  \n",
    "  \n",
    "  $$\n",
    "  Fut(t_k , \\bar{T}) = \\tilde{E} [Fut(t_{k+1},\\bar{T})|F_{t_k}]\n",
    "  $$\n",
    "  \n",
    "  $$\n",
    "  Fut(t_k , \\bar{T}) = \\tilde{E} [Fut(t_{k+2},\\bar{T})|F_{t_k}]  \n",
    "  $$\n",
    "  \n",
    "  $$\n",
    "  Fut(t_k , \\bar{T}) = \\tilde{E} [Fut(T,\\bar{T})|F_{t_k}]   = \\tilde{E} [S(T)|F_{t_k}]\n",
    "  $$"
   ]
  },
  {
   "cell_type": "markdown",
   "metadata": {},
   "source": [
    "Spread of Forward and Futures \n",
    "$$For(0,T) - Fut(0,T) = \\frac{\\tilde{E}[B_{(0,\\bar{T})} S_T]}{\\tilde{E}[B_{(0,\\bar{T})}]} - \\tilde{E}[S_T]\n",
    "$$"
   ]
  },
  {
   "cell_type": "markdown",
   "metadata": {},
   "source": [
    "$$ For(0,T) - Fut(0,T) = \\frac{1}{\\tilde{E}[B_{(0,\\bar{T})}]}(\\tilde{E}[B_{(0,\\bar{T})} S_T] - \\tilde{E}[B_{(0,\\bar{T})} ]\\tilde{E}[S_T ])\n",
    "$$\n"
   ]
  },
  {
   "cell_type": "markdown",
   "metadata": {},
   "source": [
    "$$ = \\frac{1}{\\tilde{E}[B_{(0,\\bar{T})}]} \\tilde{Cov} (B_{(0,\\bar{T})} , S_T)\n",
    "$$"
   ]
  }
 ],
 "metadata": {
  "kernelspec": {
   "display_name": "Python 3",
   "language": "python",
   "name": "python3"
  },
  "language_info": {
   "codemirror_mode": {
    "name": "ipython",
    "version": 3
   },
   "file_extension": ".py",
   "mimetype": "text/x-python",
   "name": "python",
   "nbconvert_exporter": "python",
   "pygments_lexer": "ipython3",
   "version": "3.8.5"
  }
 },
 "nbformat": 4,
 "nbformat_minor": 4
}
