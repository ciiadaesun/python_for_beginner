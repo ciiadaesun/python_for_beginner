{
 "cells": [
  {
   "cell_type": "markdown",
   "metadata": {},
   "source": [
    " ## Change of Numeraire"
   ]
  },
  {
   "cell_type": "markdown",
   "metadata": {},
   "source": [
    " ## 1. Numeraire"
   ]
  },
  {
   "cell_type": "markdown",
   "metadata": {},
   "source": [
    "어떤 Q Measure가 존재해서,그 측도에서 $\\frac{S_t}{M_t}$가 Martingale이 될 때, \n",
    "\n",
    "$$E^{Q}[\\frac{S_t}{M_t}|F_0] = \\frac{S_0}{M_0}\n",
    "$$\n",
    "\n",
    "#### $M_t$is called a Numeriare under $P^Q$\n",
    "\n",
    "$M_t$를 Q 측도의 Numeriare이라고 한다."
   ]
  },
  {
   "cell_type": "markdown",
   "metadata": {},
   "source": [
    " ## 2. Use Portfolio as a Numeraire   "
   ]
  },
  {
   "cell_type": "markdown",
   "metadata": {},
   "source": [
    "$N(t)$ 는 K개의 자산으로 이루어진 포트폴리오이다. 각 자산은 Risk Neutral measure GBM을 따른다."
   ]
  },
  {
   "cell_type": "markdown",
   "metadata": {},
   "source": [
    "$N(t) = \\sum_{i=1}^K \\Delta_i S_i(t) $ , [  where $\\sum_{i=1}^K \\Delta_i = 1$]\n",
    "\n",
    "$$\n",
    "dN(t) = N(t) [rdt + \\sum_{j=1}^K v_j(t) d\\tilde{W}_j(t)]\n",
    "$$"
   ]
  },
  {
   "cell_type": "markdown",
   "metadata": {},
   "source": [
    "$v_j$는 j번째 weight처럼 정의됨\n",
    "\n",
    "$$\n",
    "v_j(t) = \\frac{\\sum_{i=1}^K \\sigma_{ij} \\Delta_i S_i(t) }{ N(t)}\n",
    "$$\n"
   ]
  },
  {
   "cell_type": "markdown",
   "metadata": {},
   "source": [
    " $D(t) = e^{-rt}$라고 가정하자. $D(t) = \\frac{1}{e^{rt}}$"
   ]
  },
  {
   "cell_type": "markdown",
   "metadata": {},
   "source": [
    "$$d(D(t) N(t)) = D(t)N(t)\\sum_{j=1}^Kv_j(t) d\\tilde{W}_j(t)$$"
   ]
  },
  {
   "cell_type": "markdown",
   "metadata": {},
   "source": [
    "#### 여기서 성질 1. $D(t) N(t)$ is martingale\n",
    "\n",
    "$$\n",
    "\\tilde{E}[\\frac{D_t N_t}{N_0} ] = \\frac{D_0 N_0}{N_0} = 1\n",
    "$$"
   ]
  },
  {
   "cell_type": "markdown",
   "metadata": {},
   "source": [
    "$d\\ln(S_T)$ 를 이토렘마 풀듯이 $d\\ln(D(t) N(t))$를 풀면 다음과 같다.\n",
    "\n",
    "$$D(t) N(t) = D(0)N(0)e^{-\\frac{1}{2}\\int_0^t\\sum_{j=1}^K v_i^2(s)ds + \\int_0^t \\sum_{j=1}^Kv_j(t) d\\tilde{W}_j(t)}$$ "
   ]
  },
  {
   "cell_type": "markdown",
   "metadata": {},
   "source": [
    "$$= N(0)e^{-\\frac{1}{2}\\int_0^t\\sum_{j=1}^K v_i^2(s)ds + \\int_0^t \\sum_{j=1}^Kv_j(t) d\\tilde{W}_j(t)}$$ "
   ]
  },
  {
   "cell_type": "markdown",
   "metadata": {},
   "source": [
    "$$ \\frac{D(t) N(t) }{N(0)} =  e^{-\\frac{1}{2}\\int_0^t\\sum_{j=1}^K v_i^2(s)ds + \\int_0^t \\sum_{j=1}^Kv_j(t) d\\tilde{W}_j(t)}$$"
   ]
  },
  {
   "cell_type": "markdown",
   "metadata": {},
   "source": [
    " ## 3. Measure Change using Numeraire"
   ]
  },
  {
   "cell_type": "markdown",
   "metadata": {},
   "source": [
    " 우리가 기존 Q Measure를 $\\tilde{P}(A) = \\int_A ZdP$ 로 정의했듯이 \n",
    "  \n",
    " $\\frac{D(t)N(t)}{N(0)} = Z_t^{N}$를 설정하고 새로운 $\\tilde{P}^N$Measure를 정의 가능하다. ($E(Z^N) = 1$이기 때문)\n",
    " "
   ]
  },
  {
   "cell_type": "markdown",
   "metadata": {},
   "source": [
    " #### 정리1. :  $\\frac{D(t)N(t)}{N(0)} = Z_t^{N}$를  Radon-Nikodym Derivative Process로 설정하면, $\\tilde{S}_t^N = \\frac{S_t}{N_t}$ 가 Martingale인 Measure를 만들 수 있다.\n"
   ]
  },
  {
   "cell_type": "markdown",
   "metadata": {},
   "source": [
    "새로운 측도변환 (Risk Neutral Measure에서 측도를 한 번 더 변환하는 격)\n",
    "\n",
    " $$\n",
    " \\tilde{P}^{(N)}(A) = \\int_A Z_t^{N} d\\tilde{P}\n",
    " $$"
   ]
  },
  {
   "cell_type": "markdown",
   "metadata": {},
   "source": [
    "$$\\tilde{E}^N[S_T |F_t] = S_t$$"
   ]
  },
  {
   "cell_type": "markdown",
   "metadata": {},
   "source": [
    " #### Girsanov Theorem 에 의해\n",
    " \n",
    " $$\n",
    " d\\tilde{W_j}^{(N)}(t) = -v_j(t) dt + d\\tilde{W_j}(t)\n",
    " $$"
   ]
  },
  {
   "cell_type": "markdown",
   "metadata": {},
   "source": [
    " ## 4. P Measure -> Risk Neutral -> New Measure"
   ]
  },
  {
   "cell_type": "markdown",
   "metadata": {},
   "source": [
    " 어떤 자산  S가 다음과 같은 프로세스라고 가정하자.\n",
    " \n",
    " Under P measure\n",
    " \n",
    " $$\\frac{dS(t)}{S(t)} = \\mu dt + \\sum_{j=1}^K \\sigma_j d{W_j}(t)\n",
    " $$\n"
   ]
  },
  {
   "cell_type": "markdown",
   "metadata": {},
   "source": [
    " Under risk neutral measure\n",
    " \n",
    " $$\\frac{d\\tilde{S}(t)}{\\tilde{S}(t)} = r dt + \\sum_{j=1}^K \\sigma_j d\\tilde{W_j}(t)\n",
    " $$"
   ]
  },
  {
   "cell_type": "markdown",
   "metadata": {},
   "source": [
    "$N_t$ 를 Numeraire로 사용하는 New Measure에서 주가 $\\tilde{S}_t^N = \\frac{S_t}{N_t}$는 다음과 같은 프로세스를 따른다.\n",
    "\n",
    "(이유 = Appendix★)\n",
    "\n",
    "$$\n",
    "\\frac{d\\tilde{S}^N(t)}{\\tilde{S}^N(t)} =\\sum_{j=1}^K (\\sigma_j -v_j(t))\\bullet d\\tilde{W_j}^{(N)}(t)\n",
    "$$"
   ]
  },
  {
   "cell_type": "markdown",
   "metadata": {},
   "source": [
    " #### To change from Physical Measure to Risk Neutral Measure, We used :\n",
    " \n",
    " $\\theta = \\frac{\\mu - r }{\\sigma}$"
   ]
  },
  {
   "cell_type": "markdown",
   "metadata": {},
   "source": [
    " $Z(t) = e^{ -\\int_0^t \\theta dW(s) - \\frac{1}{2}\\int_0^t \\theta^2ds }$"
   ]
  },
  {
   "cell_type": "markdown",
   "metadata": {},
   "source": [
    " #### To change from Risk Neutral Measure to New Measure, We used :\n",
    " \n",
    " $Z_t^{N} = \\frac{D(t)N(t)}{N(0)}$"
   ]
  },
  {
   "cell_type": "markdown",
   "metadata": {},
   "source": [
    " ## 5. Forward Measure\n",
    " \n",
    " $B(t,\\bar{T})$를 Numeraire로 사용하는 측도를 생각해보자.\n",
    " \n",
    " $ D(t) = e^{-rt}$ , $B(t,\\bar{T})$ 는 Zero Coupon Bond Price\n",
    " \n",
    " $$\\tilde{P}^T(A) = \\int_A \\frac{D(t)B(t,\\bar{T})}{B(0,\\bar{T})} d\\tilde{P} = \\int_A \\frac{D(t)}{B(0,t)} d\\tilde{P}$$"
   ]
  },
  {
   "cell_type": "markdown",
   "metadata": {},
   "source": [
    " We call this measure $\\tilde{P}^T$ a forward measure"
   ]
  },
  {
   "cell_type": "markdown",
   "metadata": {},
   "source": [
    " #### 정리 1에 의해 $\\frac{D(t)B(t,\\bar{T})}{B(0,\\bar{T})} = Z^{T}$를 설정하면, $\\tilde{S}^T = \\frac{S_t}{B(t,\\bar{T})}$ 가 Martingale인 Measure를 만들 수 있다."
   ]
  },
  {
   "cell_type": "markdown",
   "metadata": {},
   "source": [
    "Forward Price $\\tilde{S}^T = \\frac{S_t}{B(t,\\bar{T})}$ is Martingale under $\\tilde{P}^T$"
   ]
  },
  {
   "cell_type": "markdown",
   "metadata": {},
   "source": [
    "$\\tilde{S}^T(t) = \\frac{S(t)}{B(t,T)}$ 이면 제로쿠폰채 $B_t$ 는 $d\\tilde{W}_j$의 계수($v_j$)가 0이기 때문에"
   ]
  },
  {
   "cell_type": "markdown",
   "metadata": {},
   "source": [
    "$$d\\tilde{S}^T(t) = (\\sigma - 0)\\tilde{S}^T(t)d\\tilde{W}^T(t) = \\sigma\\tilde{S}^T(t)d\\tilde{W}^T(t)\n",
    "$$"
   ]
  },
  {
   "cell_type": "markdown",
   "metadata": {},
   "source": [
    " $$\n",
    " \\tilde{S}^T (t) = \\tilde{S}^T (0) e^{-\\frac{1}{2} \\sigma^2 t + \\sigma \\tilde{W}^T(t)}\n",
    " $$"
   ]
  },
  {
   "cell_type": "markdown",
   "metadata": {},
   "source": [
    " ## Appendix\n",
    " \n",
    "  $$\n",
    " dS_t = rS_t dt + \\sum_{j=1}^K \\sigma_j S_td\\tilde{W}_j(t)\n",
    " $$\n"
   ]
  },
  {
   "cell_type": "markdown",
   "metadata": {},
   "source": [
    "\n",
    " $$\n",
    " d(\\frac{X}{Y}) = \\frac{X}{Y} (\\frac{dX}{X} - \\frac{dY}{Y} + {(\\frac{dY}{Y})}^2 - \\frac{dX dY} { XY})\n",
    " $$"
   ]
  },
  {
   "cell_type": "markdown",
   "metadata": {},
   "source": [
    "$$\n",
    "d\\tilde{S}^N(t) = d(\\frac{S_t}{N_t})\n",
    "$$"
   ]
  },
  {
   "cell_type": "markdown",
   "metadata": {},
   "source": [
    "$$\n",
    "\\frac{S_t}{N_t} [ \\frac{dS_t}{S_t} - \\frac{dN_t}{N_t} + {(\\frac{dN_t}{N_t})}^2 - \\frac{dS_t dN_t}{S_t N_t}]\n",
    "$$"
   ]
  },
  {
   "cell_type": "markdown",
   "metadata": {},
   "source": [
    " $$\n",
    " \\tilde{S}^N(t) [ \\sum_{j=1}^K \\sigma_j d\\tilde{W}_j (t) - \\sum_{j=1}^K v_j(t) d\\tilde{W}_j(t) + \\sum_{j=1}^K (v_j(t) v_j(t)  - \\sigma_j v_j (t))dt]\n",
    " $$"
   ]
  },
  {
   "cell_type": "markdown",
   "metadata": {},
   "source": [
    "$$\n",
    "\\tilde{S}^N(t) [\\sum_{j=1}^K (\\sigma_j - v_j(t))(d\\tilde{W}_j(t) - v_j(t) dt)]\n",
    "$$"
   ]
  },
  {
   "cell_type": "markdown",
   "metadata": {},
   "source": [
    "Girsanov Theorem에 의해\n",
    "\n",
    "$$\n",
    "\\tilde{S}^N(t) [\\sum_{j=1}^K (\\sigma_j - v_j(t))d\\tilde{W}^N_j(t)\n",
    "$$"
   ]
  }
 ],
 "metadata": {
  "kernelspec": {
   "display_name": "Python 3",
   "language": "python",
   "name": "python3"
  },
  "language_info": {
   "codemirror_mode": {
    "name": "ipython",
    "version": 3
   },
   "file_extension": ".py",
   "mimetype": "text/x-python",
   "name": "python",
   "nbconvert_exporter": "python",
   "pygments_lexer": "ipython3",
   "version": "3.8.5"
  }
 },
 "nbformat": 4,
 "nbformat_minor": 4
}
