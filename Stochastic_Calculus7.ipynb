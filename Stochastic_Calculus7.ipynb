{
 "cells": [
  {
   "cell_type": "markdown",
   "metadata": {},
   "source": [
    " ## Change of Numeraire"
   ]
  },
  {
   "cell_type": "markdown",
   "metadata": {},
   "source": [
    "어떤 Q Measure가 존재해서,그 측도에서 $\\frac{S_t}{M_t}$가 Martingale이 될 때, \n",
    "\n",
    "$$E^{Q}[\\frac{S_t}{M_t}|F_0] = \\frac{S_0}{M_0}\n",
    "$$\n",
    "\n",
    "#### $M_t$is called a Numariare under $P^Q$\n",
    "\n",
    "$M_t$를 Q 측도의 Numariare이라고 한다."
   ]
  },
  {
   "cell_type": "markdown",
   "metadata": {},
   "source": [
    "   "
   ]
  },
  {
   "cell_type": "markdown",
   "metadata": {},
   "source": [
    "$N(t)$ 는 K개의 자산으로 이루어진 포트폴리오이다. 각 자산은 Risk Neutral measure GBM을 따른다."
   ]
  },
  {
   "cell_type": "markdown",
   "metadata": {},
   "source": [
    "$N(t) = \\sum_{i=1}^K \\Delta_i S_i(t) $ , [  where $\\sum_{i=1}^K \\Delta_i = 1$]\n",
    "\n",
    "$$\n",
    "dN(t) = N(t) [rdt + \\sum_{j=1}^K v_j(t) d\\tilde{W}_j(t)]\n",
    "$$"
   ]
  },
  {
   "cell_type": "markdown",
   "metadata": {},
   "source": [
    "$$\n",
    "v_j(t) = \\frac{\\sum_{i=1}^K \\sigma_{ij} \\Delta_i S_i(t) }{ N(t)}\n",
    "$$\n"
   ]
  },
  {
   "cell_type": "markdown",
   "metadata": {},
   "source": [
    " $D(t) = e^{-rt}$라고 가정하자. $D(t) = \\frac{1}{e^{rt}}$"
   ]
  },
  {
   "cell_type": "markdown",
   "metadata": {},
   "source": [
    "$$d(D(t) N(t)) = D(t)N(t)\\sum_{j=1}^Kv_j(t) d\\tilde{W}_j(t)$$"
   ]
  },
  {
   "cell_type": "markdown",
   "metadata": {},
   "source": [
    "성질 1. $D(t) N(t)$ is martingale\n",
    "\n",
    "$$\n",
    "\\tilde{E}[\\frac{D_t N_t}{N_0} ] = \\frac{D_0 N_0}{N_0} = 1\n",
    "$$"
   ]
  },
  {
   "cell_type": "markdown",
   "metadata": {},
   "source": [
    "$d\\ln(S_T)$ 를 이토렘마 풀듯이 $d\\ln(D(t) N(t))$를 풀면 다음과 같다.\n",
    "\n",
    "$$D(t) N(t) = D(0)N(0)e^{-\\frac{1}{2}\\int_0^t\\sum_{j=1}^K v_i^2(s)ds + \\int_0^t \\sum_{j=1}^Kv_j(t) d\\tilde{W}_j(t)}$$ "
   ]
  },
  {
   "cell_type": "markdown",
   "metadata": {},
   "source": [
    "$$= N(0)e^{-\\frac{1}{2}\\int_0^t\\sum_{j=1}^K v_i^2(s)ds + \\int_0^t \\sum_{j=1}^Kv_j(t) d\\tilde{W}_j(t)}$$ "
   ]
  },
  {
   "cell_type": "markdown",
   "metadata": {},
   "source": [
    "$$ \\frac{D(t) N(t) }{N(0)} =  e^{-\\frac{1}{2}\\int_0^t\\sum_{j=1}^K v_i^2(s)ds + \\int_0^t \\sum_{j=1}^Kv_j(t) d\\tilde{W}_j(t)}$$"
   ]
  },
  {
   "cell_type": "markdown",
   "metadata": {},
   "source": [
    " 우리가 기존 Q Measure를 $\\tilde{P}(A) = \\int_A ZdP$ 로 정의했듯이 \n",
    " \n",
    " $\\frac{D(t)N(t)}{N(0)} = Z_t^{New}$\n",
    " "
   ]
  },
  {
   "cell_type": "markdown",
   "metadata": {},
   "source": [
    "새로운 측도변환을 정의할 수 있다.(측도를 한 번 더 변환하는 격)\n",
    "\n",
    "$$\n",
    " \\tilde{P}^{(N)}(A) = \\int_A Z_t^{New} d\\tilde{P}\n",
    " $$"
   ]
  },
  {
   "cell_type": "markdown",
   "metadata": {},
   "source": [
    " #### Girsanov Theorem 에 의해\n",
    " \n",
    " $$\n",
    " d\\tilde{W_j}^{(N)}(t) = -v_j(t) dt + d\\tilde{W_j}(t)\n",
    " $$"
   ]
  },
  {
   "cell_type": "markdown",
   "metadata": {},
   "source": [
    " 어떤 자산  S가 다음과 같은 프로세스라고 가정하자.\n",
    " \n",
    " Under P measure\n",
    " \n",
    " $$\\frac{dS(t)}{S(t)} = \\mu dt + \\sum_{j=1}^K \\sigma_j d{W_j}(t)\n",
    " $$\n"
   ]
  },
  {
   "cell_type": "markdown",
   "metadata": {},
   "source": [
    " Under risk neutral measure\n",
    " \n",
    " $$\\frac{d\\tilde{S}(t)}{\\tilde{S}(t)} = r dt + \\sum_{j=1}^K \\sigma_j d\\tilde{W_j}(t)\n",
    " $$"
   ]
  },
  {
   "cell_type": "markdown",
   "metadata": {},
   "source": [
    "Under New Measure (이유 = Appendix)\n",
    "\n",
    "$$\n",
    "\\frac{d\\tilde{S}^N(t)}{\\tilde{S}^N(t)} =\\sum_{j=1}^K (\\sigma_j v_j(t))\\bullet d\\tilde{W_j}^{(N)}(t)\n",
    "$$"
   ]
  },
  {
   "cell_type": "markdown",
   "metadata": {},
   "source": [
    " #### To change from Physical Measure to Risk Neutral Measure, We used :\n",
    " \n",
    " $\\theta = \\frac{\\mu - r }{\\sigma}$"
   ]
  },
  {
   "cell_type": "markdown",
   "metadata": {},
   "source": [
    " $Z(t) = e^{ -\\int_0^t \\theta dW(s) - \\frac{1}{2}\\int_0^t \\theta^2ds }$"
   ]
  },
  {
   "cell_type": "markdown",
   "metadata": {},
   "source": [
    " #### To change from Risk Neutral Measure to New Measure, We used :\n",
    " \n",
    " $Z_t^{New} = \\frac{D(t)N(t)}{N(0)}$"
   ]
  },
  {
   "cell_type": "markdown",
   "metadata": {},
   "source": [
    " ### Forward Measure\n",
    " \n",
    " $ D(t) = e^{-rt}$ , $B(t,\\bar{T})$ 는 Zero Coupon Bond Price\n",
    " \n",
    " $$\\tilde{P}^T(A) = \\int_A \\frac{D(t)B(t,\\bar{T})}{B(0,\\bar{T})} d\\tilde{P} = \\int_A \\frac{D(t)}{B(0,t)} d\\tilde{P}$$"
   ]
  },
  {
   "cell_type": "markdown",
   "metadata": {},
   "source": [
    " We call this measure $\\tilde{P}^T$ a forward measure"
   ]
  },
  {
   "cell_type": "markdown",
   "metadata": {},
   "source": [
    "Forward Price is like $\\frac{S(0)}{B(0,t)}$"
   ]
  },
  {
   "cell_type": "markdown",
   "metadata": {},
   "source": [
    "Forward Price is Martingale under $\\tilde{P}^T$"
   ]
  },
  {
   "cell_type": "markdown",
   "metadata": {},
   "source": [
    "Let $\\tilde{S}^T(t) = \\frac{S(t)}{B(t,T)}$"
   ]
  },
  {
   "cell_type": "markdown",
   "metadata": {},
   "source": [
    "$$d\\tilde{S}^T(t) = \\sigma\\tilde{S}^T(t)d\\tilde{W}^T(t)\n",
    "$$"
   ]
  },
  {
   "cell_type": "markdown",
   "metadata": {},
   "source": [
    " $$\n",
    " \\tilde{S}^T (t) = \\tilde{S}^T (0) e^{-\\frac{1}{2} \\sigma^2 t + \\sigma \\tilde{W}^T(t)}\n",
    " $$"
   ]
  }
 ],
 "metadata": {
  "kernelspec": {
   "display_name": "Python 3",
   "language": "python",
   "name": "python3"
  },
  "language_info": {
   "codemirror_mode": {
    "name": "ipython",
    "version": 3
   },
   "file_extension": ".py",
   "mimetype": "text/x-python",
   "name": "python",
   "nbconvert_exporter": "python",
   "pygments_lexer": "ipython3",
   "version": "3.8.5"
  }
 },
 "nbformat": 4,
 "nbformat_minor": 4
}
