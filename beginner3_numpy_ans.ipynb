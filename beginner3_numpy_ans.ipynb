{
 "cells": [
  {
   "cell_type": "code",
   "execution_count": 1,
   "metadata": {},
   "outputs": [],
   "source": [
    "import numpy as np"
   ]
  },
  {
   "cell_type": "markdown",
   "metadata": {},
   "source": [
    " ## 1. ndarray\n",
    " #### 1-1. 1D Array *"
   ]
  },
  {
   "cell_type": "code",
   "execution_count": 2,
   "metadata": {},
   "outputs": [
    {
     "data": {
      "text/plain": [
       "array([1., 1., 1.])"
      ]
     },
     "execution_count": 2,
     "metadata": {},
     "output_type": "execute_result"
    }
   ],
   "source": [
    "np.ones(3)"
   ]
  },
  {
   "cell_type": "code",
   "execution_count": 3,
   "metadata": {},
   "outputs": [
    {
     "data": {
      "text/plain": [
       "(6,)"
      ]
     },
     "execution_count": 3,
     "metadata": {},
     "output_type": "execute_result"
    }
   ],
   "source": [
    "y = np.array([1,2,3,4,5,6])\n",
    "y.shape"
   ]
  },
  {
   "cell_type": "code",
   "execution_count": 4,
   "metadata": {},
   "outputs": [
    {
     "data": {
      "text/plain": [
       "array([1., 2., 3., 4., 5., 6.], dtype=float32)"
      ]
     },
     "execution_count": 4,
     "metadata": {},
     "output_type": "execute_result"
    }
   ],
   "source": [
    "y = np.array([1,2,3,4,5,6], dtype = np.float32)\n",
    "y"
   ]
  },
  {
   "cell_type": "code",
   "execution_count": 5,
   "metadata": {},
   "outputs": [],
   "source": [
    "def fun(x) :\n",
    "    return x**2"
   ]
  },
  {
   "cell_type": "code",
   "execution_count": 6,
   "metadata": {},
   "outputs": [
    {
     "data": {
      "text/plain": [
       "array([ 1.,  4.,  9., 16., 25., 36.], dtype=float32)"
      ]
     },
     "execution_count": 6,
     "metadata": {},
     "output_type": "execute_result"
    }
   ],
   "source": [
    "fun(y)"
   ]
  },
  {
   "cell_type": "code",
   "execution_count": 7,
   "metadata": {},
   "outputs": [
    {
     "data": {
      "text/plain": [
       "array([False, False,  True,  True,  True,  True])"
      ]
     },
     "execution_count": 7,
     "metadata": {},
     "output_type": "execute_result"
    }
   ],
   "source": [
    "y>2"
   ]
  },
  {
   "cell_type": "markdown",
   "metadata": {},
   "source": [
    " ##### statistic 통계량"
   ]
  },
  {
   "cell_type": "code",
   "execution_count": 8,
   "metadata": {},
   "outputs": [
    {
     "data": {
      "text/plain": [
       "(3.5, 1.7078252, 21.0)"
      ]
     },
     "execution_count": 8,
     "metadata": {},
     "output_type": "execute_result"
    }
   ],
   "source": [
    "y.mean(), y.std(), y.sum()"
   ]
  },
  {
   "cell_type": "markdown",
   "metadata": {},
   "source": [
    " ##### transcendental number"
   ]
  },
  {
   "cell_type": "code",
   "execution_count": 9,
   "metadata": {},
   "outputs": [
    {
     "data": {
      "text/plain": [
       "array([  2.7182817,   7.389056 ,  20.085537 ,  54.59815  , 148.41316  ,\n",
       "       403.4288   ], dtype=float32)"
      ]
     },
     "execution_count": 9,
     "metadata": {},
     "output_type": "execute_result"
    }
   ],
   "source": [
    "np.exp(y)"
   ]
  },
  {
   "cell_type": "code",
   "execution_count": 10,
   "metadata": {},
   "outputs": [
    {
     "data": {
      "text/plain": [
       "array([0.       , 0.6931472, 1.0986123, 1.3862944, 1.609438 , 1.7917595],\n",
       "      dtype=float32)"
      ]
     },
     "execution_count": 10,
     "metadata": {},
     "output_type": "execute_result"
    }
   ],
   "source": [
    "np.log(y)"
   ]
  },
  {
   "cell_type": "code",
   "execution_count": 11,
   "metadata": {},
   "outputs": [
    {
     "data": {
      "text/plain": [
       "0.5805341"
      ]
     },
     "execution_count": 11,
     "metadata": {},
     "output_type": "execute_result"
    }
   ],
   "source": [
    "(1/np.exp(y)).sum()"
   ]
  },
  {
   "cell_type": "markdown",
   "metadata": {},
   "source": [
    " ### 문제 1. 다음 함수 Zero_Bond(r,T,FV)를 가지고 \n",
    " \n",
    " #### 액면 100, 쿠폰이율 5%, 만기수익률 2%, 만기 3년인 쿠폰채의 가격을 계산하는 함수를 만드시오. (for 이나 while 반복문을 사용하지 마시오.)\n",
    " \n",
    " 힌트 : np.arange(1,4)를 이용하시오."
   ]
  },
  {
   "cell_type": "code",
   "execution_count": 12,
   "metadata": {
    "scrolled": true
   },
   "outputs": [],
   "source": [
    "FV ,r , T, c= 100, 0.02, 3, 0.05 \n",
    "\n",
    "def Zero_Bond(r, T, FV = 100) :\n",
    "    return FV/(1+r)**T\n",
    "\n",
    "def Coupon_Bond(r,T,FV) :    \n",
    "    PV_of_CPN =  Zero_Bond(r, np.arange(1,T), FV * c).sum()\n",
    "    PV_of_FV = Zero_Bond(r, T  , FV)\n",
    "    return PV_of_CPN + PV_of_FV"
   ]
  },
  {
   "cell_type": "code",
   "execution_count": 13,
   "metadata": {},
   "outputs": [
    {
     "data": {
      "text/plain": [
       "103.94003814520809"
      ]
     },
     "execution_count": 13,
     "metadata": {},
     "output_type": "execute_result"
    }
   ],
   "source": [
    "Coupon_Bond(r,T,FV)"
   ]
  },
  {
   "cell_type": "markdown",
   "metadata": {},
   "source": [
    " ##### operator"
   ]
  },
  {
   "cell_type": "code",
   "execution_count": 14,
   "metadata": {},
   "outputs": [
    {
     "data": {
      "text/plain": [
       "21.0"
      ]
     },
     "execution_count": 14,
     "metadata": {},
     "output_type": "execute_result"
    }
   ],
   "source": [
    "y.sum()"
   ]
  },
  {
   "cell_type": "code",
   "execution_count": 15,
   "metadata": {},
   "outputs": [
    {
     "data": {
      "text/plain": [
       "4"
      ]
     },
     "execution_count": 15,
     "metadata": {},
     "output_type": "execute_result"
    }
   ],
   "source": [
    "(y>2).sum()"
   ]
  },
  {
   "cell_type": "code",
   "execution_count": 16,
   "metadata": {
    "scrolled": true
   },
   "outputs": [
    {
     "data": {
      "text/plain": [
       "array([ 1.,  3.,  6., 10., 15., 21.], dtype=float32)"
      ]
     },
     "execution_count": 16,
     "metadata": {},
     "output_type": "execute_result"
    }
   ],
   "source": [
    "y.cumsum()"
   ]
  },
  {
   "cell_type": "code",
   "execution_count": 17,
   "metadata": {},
   "outputs": [
    {
     "data": {
      "text/plain": [
       "720.0"
      ]
     },
     "execution_count": 17,
     "metadata": {},
     "output_type": "execute_result"
    }
   ],
   "source": [
    "y.prod()"
   ]
  },
  {
   "cell_type": "code",
   "execution_count": 18,
   "metadata": {},
   "outputs": [
    {
     "data": {
      "text/plain": [
       "array([  1.,   2.,   6.,  24., 120., 720.], dtype=float32)"
      ]
     },
     "execution_count": 18,
     "metadata": {},
     "output_type": "execute_result"
    }
   ],
   "source": [
    "y.cumprod()"
   ]
  },
  {
   "cell_type": "code",
   "execution_count": 19,
   "metadata": {},
   "outputs": [
    {
     "data": {
      "text/plain": [
       "array([7, 1, 8, 9, 2, 6])"
      ]
     },
     "execution_count": 19,
     "metadata": {},
     "output_type": "execute_result"
    }
   ],
   "source": [
    "z = np.random.randint(0,10,size = len(y))\n",
    "z"
   ]
  },
  {
   "cell_type": "code",
   "execution_count": 20,
   "metadata": {},
   "outputs": [
    {
     "data": {
      "text/plain": [
       "array([7., 2., 8., 9., 5., 6.])"
      ]
     },
     "execution_count": 20,
     "metadata": {},
     "output_type": "execute_result"
    }
   ],
   "source": [
    "np.maximum(y,z)"
   ]
  },
  {
   "cell_type": "code",
   "execution_count": 21,
   "metadata": {},
   "outputs": [
    {
     "data": {
      "text/plain": [
       "array([-6.,  1., -5., -5.,  3.,  0.])"
      ]
     },
     "execution_count": 21,
     "metadata": {},
     "output_type": "execute_result"
    }
   ],
   "source": [
    "y-z"
   ]
  },
  {
   "cell_type": "code",
   "execution_count": 22,
   "metadata": {},
   "outputs": [
    {
     "data": {
      "text/plain": [
       "array([ 7.,  2., 24., 36., 10., 36.])"
      ]
     },
     "execution_count": 22,
     "metadata": {},
     "output_type": "execute_result"
    }
   ],
   "source": [
    "y*z"
   ]
  },
  {
   "cell_type": "markdown",
   "metadata": {},
   "source": [
    " #### 1-2. 2D array"
   ]
  },
  {
   "cell_type": "code",
   "execution_count": 23,
   "metadata": {},
   "outputs": [],
   "source": [
    "a =  np.ones((3,2))\n",
    "b = np.ones((3,1))\n",
    "c = np.array(range(1,7))\n",
    "d = np.random.randint(1,5,size = (2,3))"
   ]
  },
  {
   "cell_type": "code",
   "execution_count": 24,
   "metadata": {},
   "outputs": [
    {
     "data": {
      "text/plain": [
       "((3, 2), (3, 1), (6,))"
      ]
     },
     "execution_count": 24,
     "metadata": {},
     "output_type": "execute_result"
    }
   ],
   "source": [
    "a.shape, b.shape, c.shape"
   ]
  },
  {
   "cell_type": "code",
   "execution_count": 25,
   "metadata": {},
   "outputs": [
    {
     "data": {
      "text/plain": [
       "array([[1., 1.],\n",
       "       [1., 1.],\n",
       "       [1., 1.]])"
      ]
     },
     "execution_count": 25,
     "metadata": {},
     "output_type": "execute_result"
    }
   ],
   "source": [
    "a"
   ]
  },
  {
   "cell_type": "code",
   "execution_count": 26,
   "metadata": {
    "scrolled": true
   },
   "outputs": [
    {
     "data": {
      "text/plain": [
       "array([[1.],\n",
       "       [1.],\n",
       "       [1.]])"
      ]
     },
     "execution_count": 26,
     "metadata": {},
     "output_type": "execute_result"
    }
   ],
   "source": [
    "b"
   ]
  },
  {
   "cell_type": "code",
   "execution_count": 27,
   "metadata": {},
   "outputs": [
    {
     "data": {
      "text/plain": [
       "array([[0.01831564, 0.01831564, 0.04978707],\n",
       "       [0.04978707, 0.13533528, 0.04978707]])"
      ]
     },
     "execution_count": 27,
     "metadata": {},
     "output_type": "execute_result"
    }
   ],
   "source": [
    "1/np.exp(d)"
   ]
  },
  {
   "cell_type": "markdown",
   "metadata": {},
   "source": [
    " ##### Indexing"
   ]
  },
  {
   "cell_type": "code",
   "execution_count": 28,
   "metadata": {},
   "outputs": [],
   "source": [
    "M = np.array([[1, 2, 3, 4],  # ----> x-axis\n",
    "              [5, 6, 7, 8],  # |\n",
    "              [9,10,11,12]]) # v\n",
    "                             #   y-axis"
   ]
  },
  {
   "cell_type": "code",
   "execution_count": 29,
   "metadata": {},
   "outputs": [
    {
     "data": {
      "text/plain": [
       "array([1, 2, 3, 4])"
      ]
     },
     "execution_count": 29,
     "metadata": {},
     "output_type": "execute_result"
    }
   ],
   "source": [
    "M[0, :]"
   ]
  },
  {
   "cell_type": "code",
   "execution_count": 30,
   "metadata": {},
   "outputs": [
    {
     "data": {
      "text/plain": [
       "(4,)"
      ]
     },
     "execution_count": 30,
     "metadata": {},
     "output_type": "execute_result"
    }
   ],
   "source": [
    "M[0, :].shape"
   ]
  },
  {
   "cell_type": "markdown",
   "metadata": {},
   "source": [
    " #### 인덱싱에 따라서 Dimension이 달라짐"
   ]
  },
  {
   "cell_type": "code",
   "execution_count": 31,
   "metadata": {},
   "outputs": [
    {
     "data": {
      "text/plain": [
       "array([[1, 2, 3, 4]])"
      ]
     },
     "execution_count": 31,
     "metadata": {},
     "output_type": "execute_result"
    }
   ],
   "source": [
    "M[0:1, :]"
   ]
  },
  {
   "cell_type": "code",
   "execution_count": 32,
   "metadata": {},
   "outputs": [
    {
     "data": {
      "text/plain": [
       "(1, 4)"
      ]
     },
     "execution_count": 32,
     "metadata": {},
     "output_type": "execute_result"
    }
   ],
   "source": [
    "M[0:1, :].shape"
   ]
  },
  {
   "cell_type": "code",
   "execution_count": 33,
   "metadata": {},
   "outputs": [
    {
     "data": {
      "text/plain": [
       "array([1, 5, 9])"
      ]
     },
     "execution_count": 33,
     "metadata": {},
     "output_type": "execute_result"
    }
   ],
   "source": [
    "M[:,0]"
   ]
  },
  {
   "cell_type": "code",
   "execution_count": 34,
   "metadata": {},
   "outputs": [
    {
     "data": {
      "text/plain": [
       "array([[1],\n",
       "       [5],\n",
       "       [9]])"
      ]
     },
     "execution_count": 34,
     "metadata": {},
     "output_type": "execute_result"
    }
   ],
   "source": [
    "M[:,0:1]"
   ]
  },
  {
   "cell_type": "code",
   "execution_count": 35,
   "metadata": {},
   "outputs": [
    {
     "data": {
      "text/plain": [
       "array([[2, 3],\n",
       "       [6, 7]])"
      ]
     },
     "execution_count": 35,
     "metadata": {},
     "output_type": "execute_result"
    }
   ],
   "source": [
    "M[:2, 1:3]"
   ]
  },
  {
   "cell_type": "markdown",
   "metadata": {},
   "source": [
    " ##### Reshape"
   ]
  },
  {
   "cell_type": "code",
   "execution_count": 36,
   "metadata": {
    "scrolled": true
   },
   "outputs": [
    {
     "data": {
      "text/plain": [
       "array([1., 1., 1., 1., 1., 1.])"
      ]
     },
     "execution_count": 36,
     "metadata": {},
     "output_type": "execute_result"
    }
   ],
   "source": [
    "a.reshape(6)"
   ]
  },
  {
   "cell_type": "code",
   "execution_count": 37,
   "metadata": {},
   "outputs": [
    {
     "data": {
      "text/plain": [
       "array([[1, 2, 3, 4, 5, 6]])"
      ]
     },
     "execution_count": 37,
     "metadata": {},
     "output_type": "execute_result"
    }
   ],
   "source": [
    "c.reshape(1,6)"
   ]
  },
  {
   "cell_type": "code",
   "execution_count": 38,
   "metadata": {},
   "outputs": [
    {
     "data": {
      "text/plain": [
       "array([[1, 2, 3],\n",
       "       [4, 5, 6]])"
      ]
     },
     "execution_count": 38,
     "metadata": {},
     "output_type": "execute_result"
    }
   ],
   "source": [
    "c.reshape(2,3)"
   ]
  },
  {
   "cell_type": "code",
   "execution_count": 39,
   "metadata": {},
   "outputs": [
    {
     "data": {
      "text/plain": [
       "array([[1],\n",
       "       [2],\n",
       "       [3],\n",
       "       [4],\n",
       "       [5],\n",
       "       [6]])"
      ]
     },
     "execution_count": 39,
     "metadata": {},
     "output_type": "execute_result"
    }
   ],
   "source": [
    "c.reshape(-1,1)"
   ]
  },
  {
   "cell_type": "code",
   "execution_count": 40,
   "metadata": {},
   "outputs": [
    {
     "data": {
      "text/plain": [
       "(1, 1, 4)"
      ]
     },
     "execution_count": 40,
     "metadata": {},
     "output_type": "execute_result"
    }
   ],
   "source": [
    "K = np.array([[[1,2,10,1]]])\n",
    "K.shape"
   ]
  },
  {
   "cell_type": "code",
   "execution_count": 41,
   "metadata": {},
   "outputs": [
    {
     "data": {
      "text/plain": [
       "array([ 1,  2, 10,  1])"
      ]
     },
     "execution_count": 41,
     "metadata": {},
     "output_type": "execute_result"
    }
   ],
   "source": [
    "K.reshape(-1)"
   ]
  },
  {
   "cell_type": "markdown",
   "metadata": {},
   "source": [
    " ##### Operator"
   ]
  },
  {
   "cell_type": "code",
   "execution_count": 42,
   "metadata": {},
   "outputs": [
    {
     "data": {
      "text/plain": [
       "[[1, 2, 3], [nan, 20, 30]]"
      ]
     },
     "execution_count": 42,
     "metadata": {},
     "output_type": "execute_result"
    }
   ],
   "source": [
    "x = [[1,2,3],[np.nan,20,30]]\n",
    "x"
   ]
  },
  {
   "cell_type": "code",
   "execution_count": 43,
   "metadata": {},
   "outputs": [
    {
     "data": {
      "text/plain": [
       "array([[ 1.,  2.,  3.],\n",
       "       [nan, 20., 30.]])"
      ]
     },
     "execution_count": 43,
     "metadata": {},
     "output_type": "execute_result"
    }
   ],
   "source": [
    "x_arr = np.array(x)\n",
    "x_arr"
   ]
  },
  {
   "cell_type": "code",
   "execution_count": 44,
   "metadata": {},
   "outputs": [
    {
     "data": {
      "text/plain": [
       "array([[ 1.,  2.,  3.],\n",
       "       [nan, 40., 60.]])"
      ]
     },
     "execution_count": 44,
     "metadata": {},
     "output_type": "execute_result"
    }
   ],
   "source": [
    "np.array([[1,2]]).reshape(-1,1) * x_arr"
   ]
  },
  {
   "cell_type": "code",
   "execution_count": 45,
   "metadata": {},
   "outputs": [
    {
     "data": {
      "text/plain": [
       "array([nan, 22., 33.])"
      ]
     },
     "execution_count": 45,
     "metadata": {},
     "output_type": "execute_result"
    }
   ],
   "source": [
    "x_arr.sum(0)"
   ]
  },
  {
   "cell_type": "code",
   "execution_count": 46,
   "metadata": {},
   "outputs": [
    {
     "data": {
      "text/plain": [
       "array([ 6., nan])"
      ]
     },
     "execution_count": 46,
     "metadata": {},
     "output_type": "execute_result"
    }
   ],
   "source": [
    "x_arr.sum(1)"
   ]
  },
  {
   "cell_type": "code",
   "execution_count": 47,
   "metadata": {},
   "outputs": [
    {
     "data": {
      "text/plain": [
       "array([ nan, 11. , 16.5])"
      ]
     },
     "execution_count": 47,
     "metadata": {},
     "output_type": "execute_result"
    }
   ],
   "source": [
    "x_arr.mean(0)"
   ]
  },
  {
   "cell_type": "code",
   "execution_count": 48,
   "metadata": {},
   "outputs": [
    {
     "data": {
      "text/plain": [
       "array([0.81649658,        nan])"
      ]
     },
     "execution_count": 48,
     "metadata": {},
     "output_type": "execute_result"
    }
   ],
   "source": [
    "x_arr.std(1)"
   ]
  },
  {
   "cell_type": "markdown",
   "metadata": {},
   "source": [
    " ### 문제 1-2. 무이표채의 할인율 커브인 Zero Rate Curve 가 1년 0.02, 2년 0.025 , 3년 0.03으로 우상향한다.\n",
    " \n",
    " $$\n",
    " r_{(0,1)}\\ =\\ 0.02 ,\\ r_{(0,2)}\\ =\\ 0.025 ,\\ r_{(0,3)}\\ =\\ 0.03\n",
    " $$\n",
    " \n",
    " 다음 Zero_Bond 함수를 이용해서 쿠폰이자율이 2%이고 만기가 3년, 액면이 100인 쿠폰채권의 가치를 계산하는 함수를 구현하시오.\n",
    " \n",
    " 반복문을 사용하지 말고 numpy를 사용하시오."
   ]
  },
  {
   "cell_type": "code",
   "execution_count": 125,
   "metadata": {},
   "outputs": [],
   "source": [
    "FV = 100\n",
    "coupon_rate = 0.02\n",
    "T = 3\n",
    "r_curve = np.array([0.02, 0.025,0.03])"
   ]
  },
  {
   "cell_type": "code",
   "execution_count": 126,
   "metadata": {},
   "outputs": [],
   "source": [
    "def Zero_Bond(r, T, FV = 100) :\n",
    "    return FV/(1+r)**T\n",
    "\n",
    "def Coupon_Bond(r_curve, T, FV = 100) :\n",
    "    t_range = np.arange(1,T + 1)\n",
    "    PV_of_Coupon = Zero_Bond(r_curve, t_range, coupon_rate * FV).sum()\n",
    "    PV_of_FV = Zero_Bond(r_curve[-1], t_range[-1], FV)\n",
    "    return PV_of_FV + PV_of_Coupon"
   ]
  },
  {
   "cell_type": "code",
   "execution_count": 128,
   "metadata": {},
   "outputs": [
    {
     "data": {
      "text/plain": [
       "97.20886236013325"
      ]
     },
     "execution_count": 128,
     "metadata": {},
     "output_type": "execute_result"
    }
   ],
   "source": [
    "Coupon_Bond(r_curve, T, FV)"
   ]
  },
  {
   "cell_type": "markdown",
   "metadata": {},
   "source": [
    " ##### Two array operate"
   ]
  },
  {
   "cell_type": "code",
   "execution_count": 49,
   "metadata": {},
   "outputs": [
    {
     "data": {
      "text/plain": [
       "array([[ 6,  8],\n",
       "       [10, 12]])"
      ]
     },
     "execution_count": 49,
     "metadata": {},
     "output_type": "execute_result"
    }
   ],
   "source": [
    "X = np.array([[1, 2],\n",
    "              [3, 4]])\n",
    "Y = np.array([[5, 6],\n",
    "              [7, 8]])\n",
    "X + Y"
   ]
  },
  {
   "cell_type": "code",
   "execution_count": 50,
   "metadata": {},
   "outputs": [
    {
     "data": {
      "text/plain": [
       "array([[ 5, 12],\n",
       "       [21, 32]])"
      ]
     },
     "execution_count": 50,
     "metadata": {},
     "output_type": "execute_result"
    }
   ],
   "source": [
    "X*Y"
   ]
  },
  {
   "cell_type": "code",
   "execution_count": 51,
   "metadata": {},
   "outputs": [
    {
     "data": {
      "text/plain": [
       "array([[0.2       , 0.33333333],\n",
       "       [0.42857143, 0.5       ]])"
      ]
     },
     "execution_count": 51,
     "metadata": {},
     "output_type": "execute_result"
    }
   ],
   "source": [
    "X/Y"
   ]
  },
  {
   "cell_type": "code",
   "execution_count": 52,
   "metadata": {},
   "outputs": [
    {
     "data": {
      "text/plain": [
       "array([[1.        , 1.41421356],\n",
       "       [1.73205081, 2.        ]])"
      ]
     },
     "execution_count": 52,
     "metadata": {},
     "output_type": "execute_result"
    }
   ],
   "source": [
    "np.sqrt(X)"
   ]
  },
  {
   "cell_type": "markdown",
   "metadata": {},
   "source": [
    " ##### Operation of different shape"
   ]
  },
  {
   "cell_type": "code",
   "execution_count": 53,
   "metadata": {},
   "outputs": [
    {
     "data": {
      "text/plain": [
       "array([[2.        ],\n",
       "       [3.14159265]])"
      ]
     },
     "execution_count": 53,
     "metadata": {},
     "output_type": "execute_result"
    }
   ],
   "source": [
    "y_arr = np.array([[2],[np.pi]])\n",
    "z_arr = np.array([[1,2,3],[2,3,4]])\n",
    "y_arr"
   ]
  },
  {
   "cell_type": "code",
   "execution_count": 54,
   "metadata": {},
   "outputs": [
    {
     "data": {
      "text/plain": [
       "array([[1, 2, 3],\n",
       "       [2, 3, 4]])"
      ]
     },
     "execution_count": 54,
     "metadata": {},
     "output_type": "execute_result"
    }
   ],
   "source": [
    "z_arr"
   ]
  },
  {
   "cell_type": "code",
   "execution_count": 55,
   "metadata": {},
   "outputs": [
    {
     "data": {
      "text/plain": [
       "((2, 3), (2, 1))"
      ]
     },
     "execution_count": 55,
     "metadata": {},
     "output_type": "execute_result"
    }
   ],
   "source": [
    "z_arr.shape, y_arr.shape"
   ]
  },
  {
   "cell_type": "code",
   "execution_count": 56,
   "metadata": {},
   "outputs": [
    {
     "data": {
      "text/plain": [
       "array([[ 2.        ,  4.        ,  6.        ],\n",
       "       [ 6.28318531,  9.42477796, 12.56637061]])"
      ]
     },
     "execution_count": 56,
     "metadata": {},
     "output_type": "execute_result"
    }
   ],
   "source": [
    "y_arr * z_arr"
   ]
  },
  {
   "cell_type": "code",
   "execution_count": 57,
   "metadata": {},
   "outputs": [
    {
     "data": {
      "text/plain": [
       "array([[3.        , 4.        , 5.        ],\n",
       "       [5.14159265, 6.14159265, 7.14159265]])"
      ]
     },
     "execution_count": 57,
     "metadata": {},
     "output_type": "execute_result"
    }
   ],
   "source": [
    "z_arr + y_arr"
   ]
  },
  {
   "cell_type": "markdown",
   "metadata": {},
   "source": [
    " ##### Operation of different shape2"
   ]
  },
  {
   "cell_type": "code",
   "execution_count": 58,
   "metadata": {},
   "outputs": [
    {
     "data": {
      "text/plain": [
       "array([[10, 20, 30]])"
      ]
     },
     "execution_count": 58,
     "metadata": {},
     "output_type": "execute_result"
    }
   ],
   "source": [
    "A = np.array([10,20,30]).reshape(1,-1)\n",
    "B = np.array([1,2,3]).reshape(-1,1)\n",
    "A"
   ]
  },
  {
   "cell_type": "code",
   "execution_count": 59,
   "metadata": {},
   "outputs": [
    {
     "data": {
      "text/plain": [
       "((1, 3), (3, 1))"
      ]
     },
     "execution_count": 59,
     "metadata": {},
     "output_type": "execute_result"
    }
   ],
   "source": [
    "A.shape, B.shape"
   ]
  },
  {
   "cell_type": "code",
   "execution_count": 60,
   "metadata": {},
   "outputs": [
    {
     "data": {
      "text/plain": [
       "array([[1],\n",
       "       [2],\n",
       "       [3]])"
      ]
     },
     "execution_count": 60,
     "metadata": {},
     "output_type": "execute_result"
    }
   ],
   "source": [
    "B"
   ]
  },
  {
   "cell_type": "code",
   "execution_count": 61,
   "metadata": {},
   "outputs": [
    {
     "data": {
      "text/plain": [
       "array([[10, 20, 30],\n",
       "       [20, 40, 60],\n",
       "       [30, 60, 90]])"
      ]
     },
     "execution_count": 61,
     "metadata": {},
     "output_type": "execute_result"
    }
   ],
   "source": [
    "A*B"
   ]
  },
  {
   "cell_type": "markdown",
   "metadata": {},
   "source": [
    " ##### 1D array > 2D array , 2D array > 1D array"
   ]
  },
  {
   "cell_type": "code",
   "execution_count": 62,
   "metadata": {},
   "outputs": [
    {
     "data": {
      "text/plain": [
       "array([1, 2, 3, 4, 5, 6])"
      ]
     },
     "execution_count": 62,
     "metadata": {},
     "output_type": "execute_result"
    }
   ],
   "source": [
    "temp_arr = np.array(range(1,7))\n",
    "temp_arr"
   ]
  },
  {
   "cell_type": "code",
   "execution_count": 63,
   "metadata": {},
   "outputs": [
    {
     "data": {
      "text/plain": [
       "array([[1, 2],\n",
       "       [3, 4],\n",
       "       [5, 6]])"
      ]
     },
     "execution_count": 63,
     "metadata": {},
     "output_type": "execute_result"
    }
   ],
   "source": [
    "temp_arr2 = temp_arr.reshape(3,2)\n",
    "temp_arr2"
   ]
  },
  {
   "cell_type": "code",
   "execution_count": 64,
   "metadata": {},
   "outputs": [
    {
     "data": {
      "text/plain": [
       "array([[1., 0., 0.],\n",
       "       [0., 1., 0.],\n",
       "       [0., 0., 1.]])"
      ]
     },
     "execution_count": 64,
     "metadata": {},
     "output_type": "execute_result"
    }
   ],
   "source": [
    "np.eye(3)"
   ]
  },
  {
   "cell_type": "code",
   "execution_count": 65,
   "metadata": {},
   "outputs": [
    {
     "data": {
      "text/plain": [
       "array([[2., 1., 1.],\n",
       "       [1., 2., 1.],\n",
       "       [1., 1., 2.]])"
      ]
     },
     "execution_count": 65,
     "metadata": {},
     "output_type": "execute_result"
    }
   ],
   "source": [
    "p= np.eye(3) + np.ones((3,1))\n",
    "p"
   ]
  },
  {
   "cell_type": "markdown",
   "metadata": {},
   "source": [
    " ### 1-3. Transpose"
   ]
  },
  {
   "cell_type": "code",
   "execution_count": 66,
   "metadata": {},
   "outputs": [
    {
     "data": {
      "text/plain": [
       "array([[10, 20, 30]])"
      ]
     },
     "execution_count": 66,
     "metadata": {},
     "output_type": "execute_result"
    }
   ],
   "source": [
    "A = np.array([10,20,30]).reshape(1,-1)\n",
    "A"
   ]
  },
  {
   "cell_type": "code",
   "execution_count": 67,
   "metadata": {},
   "outputs": [
    {
     "data": {
      "text/plain": [
       "array([[10],\n",
       "       [20],\n",
       "       [30]])"
      ]
     },
     "execution_count": 67,
     "metadata": {},
     "output_type": "execute_result"
    }
   ],
   "source": [
    "A.T"
   ]
  },
  {
   "cell_type": "code",
   "execution_count": 68,
   "metadata": {},
   "outputs": [
    {
     "data": {
      "text/plain": [
       "array([[4, 5, 2],\n",
       "       [9, 3, 2],\n",
       "       [8, 8, 6]])"
      ]
     },
     "execution_count": 68,
     "metadata": {},
     "output_type": "execute_result"
    }
   ],
   "source": [
    "ar = np.random.randint(1,10,size = (3,3))\n",
    "ar"
   ]
  },
  {
   "cell_type": "code",
   "execution_count": 69,
   "metadata": {},
   "outputs": [
    {
     "data": {
      "text/plain": [
       "array([[4, 9, 8],\n",
       "       [5, 3, 8],\n",
       "       [2, 2, 6]])"
      ]
     },
     "execution_count": 69,
     "metadata": {},
     "output_type": "execute_result"
    }
   ],
   "source": [
    "ar.T"
   ]
  },
  {
   "cell_type": "code",
   "execution_count": 70,
   "metadata": {},
   "outputs": [
    {
     "data": {
      "text/plain": [
       "array([[[1, 2, 1],\n",
       "        [2, 3, 3]],\n",
       "\n",
       "       [[1, 4, 4],\n",
       "        [2, 1, 2]],\n",
       "\n",
       "       [[3, 3, 3],\n",
       "        [2, 4, 2]],\n",
       "\n",
       "       [[2, 2, 1],\n",
       "        [2, 2, 3]]])"
      ]
     },
     "execution_count": 70,
     "metadata": {},
     "output_type": "execute_result"
    }
   ],
   "source": [
    "ar2 = np.random.randint(1,5, size = (4,2,3))\n",
    "ar2"
   ]
  },
  {
   "cell_type": "code",
   "execution_count": 71,
   "metadata": {},
   "outputs": [
    {
     "data": {
      "text/plain": [
       "(4, 2, 3)"
      ]
     },
     "execution_count": 71,
     "metadata": {},
     "output_type": "execute_result"
    }
   ],
   "source": [
    "ar2.shape"
   ]
  },
  {
   "cell_type": "code",
   "execution_count": 72,
   "metadata": {},
   "outputs": [
    {
     "data": {
      "text/plain": [
       "array([[[1, 1, 3, 2],\n",
       "        [2, 2, 2, 2]],\n",
       "\n",
       "       [[2, 4, 3, 2],\n",
       "        [3, 1, 4, 2]],\n",
       "\n",
       "       [[1, 4, 3, 1],\n",
       "        [3, 2, 2, 3]]])"
      ]
     },
     "execution_count": 72,
     "metadata": {},
     "output_type": "execute_result"
    }
   ],
   "source": [
    "ar2_ = ar2.transpose(2,1,0)\n",
    "ar2_"
   ]
  },
  {
   "cell_type": "code",
   "execution_count": 73,
   "metadata": {},
   "outputs": [
    {
     "data": {
      "text/plain": [
       "(3, 2, 4)"
      ]
     },
     "execution_count": 73,
     "metadata": {},
     "output_type": "execute_result"
    }
   ],
   "source": [
    "ar2_.shape"
   ]
  },
  {
   "cell_type": "markdown",
   "metadata": {},
   "source": [
    " ### 1-4. Multiplication\n",
    " \n",
    "\\begin{align}\n",
    "matrix \\times matrix = matrix\\\\\n",
    "(a,b) \\ \\ \\ \\ \\ \\ \\ \\  (b,c) \\ \\ \\ \\ \\ \\ (a,c) \\ \\ \n",
    "\\end{align}"
   ]
  },
  {
   "cell_type": "code",
   "execution_count": 74,
   "metadata": {
    "scrolled": true
   },
   "outputs": [
    {
     "data": {
      "text/plain": [
       "array([[29, 40],\n",
       "       [28, 42],\n",
       "       [62, 84]])"
      ]
     },
     "execution_count": 74,
     "metadata": {},
     "output_type": "execute_result"
    }
   ],
   "source": [
    "ar.dot(temp_arr2)"
   ]
  },
  {
   "cell_type": "code",
   "execution_count": 75,
   "metadata": {},
   "outputs": [
    {
     "data": {
      "text/plain": [
       "array([[100, 200, 300],\n",
       "       [200, 400, 600],\n",
       "       [300, 600, 900]])"
      ]
     },
     "execution_count": 75,
     "metadata": {},
     "output_type": "execute_result"
    }
   ],
   "source": [
    "A.T.dot(A)"
   ]
  },
  {
   "cell_type": "code",
   "execution_count": 76,
   "metadata": {},
   "outputs": [
    {
     "data": {
      "text/plain": [
       "array([[1400]])"
      ]
     },
     "execution_count": 76,
     "metadata": {},
     "output_type": "execute_result"
    }
   ],
   "source": [
    "A.dot(A.T)"
   ]
  },
  {
   "cell_type": "markdown",
   "metadata": {},
   "source": [
    " ### ★1-5. portfolio volatility example\n",
    "\\begin{align}\n",
    "\\sigma_{PF}^2 = w \\times \\sum \\times w^T \\\\\n",
    "(\\sum \\ is \\ cov \\ matrix)\n",
    "\\end{align}\n",
    "\n",
    "Covariance Matrix\n",
    "\n",
    "| cov|A|B|C|\n",
    "|------|---|---|---|\n",
    "|A|Cov(A,A)|\tCov(A,B)|\tCov(A,C)|\n",
    "|B|\tCov(B,A)|\tCov(B,B)|\tCov(B,C)|\n",
    "|C|\tCov(C,A)|\tCov(C,B)|\tCov(C,C)|"
   ]
  },
  {
   "cell_type": "code",
   "execution_count": 77,
   "metadata": {},
   "outputs": [
    {
     "data": {
      "text/plain": [
       "array([[0.2, 0.3, 0.5]])"
      ]
     },
     "execution_count": 77,
     "metadata": {},
     "output_type": "execute_result"
    }
   ],
   "source": [
    "w = np.array([0.2, 0.3, 0.5]).reshape(1,-1)\n",
    "w"
   ]
  },
  {
   "cell_type": "code",
   "execution_count": 78,
   "metadata": {},
   "outputs": [],
   "source": [
    "vol = np.array([0.2, 0.15, 0.3]).reshape(1,-1)\n",
    "corr = np.array([[1   , 0.6  , -0.2  ],                 \n",
    "                 [0.6 ,   1  , 0.0018],\n",
    "                 [-0.2,0.0018,1      ]])\n"
   ]
  },
  {
   "cell_type": "code",
   "execution_count": 79,
   "metadata": {},
   "outputs": [
    {
     "data": {
      "text/plain": [
       "array([[0.04  , 0.03  , 0.06  ],\n",
       "       [0.03  , 0.0225, 0.045 ],\n",
       "       [0.06  , 0.045 , 0.09  ]])"
      ]
     },
     "execution_count": 79,
     "metadata": {},
     "output_type": "execute_result"
    }
   ],
   "source": [
    "vol * vol.reshape(-1,1)"
   ]
  },
  {
   "cell_type": "code",
   "execution_count": 80,
   "metadata": {},
   "outputs": [
    {
     "data": {
      "text/plain": [
       "array([[ 4.00e-02,  1.80e-02, -1.20e-02],\n",
       "       [ 1.80e-02,  2.25e-02,  8.10e-05],\n",
       "       [-1.20e-02,  8.10e-05,  9.00e-02]])"
      ]
     },
     "execution_count": 80,
     "metadata": {},
     "output_type": "execute_result"
    }
   ],
   "source": [
    "cov = vol * vol.reshape(-1,1) * corr\n",
    "cov"
   ]
  },
  {
   "cell_type": "code",
   "execution_count": 81,
   "metadata": {
    "scrolled": true
   },
   "outputs": [
    {
     "data": {
      "text/plain": [
       "array([[0.16096366]])"
      ]
     },
     "execution_count": 81,
     "metadata": {},
     "output_type": "execute_result"
    }
   ],
   "source": [
    "np.sqrt(w.dot(cov).dot(w.T))"
   ]
  },
  {
   "cell_type": "markdown",
   "metadata": {},
   "source": [
    "## ■■■■■■■■■■■■■■■■■■■■■■■■■■■■■■■■■■■■■ \n",
    " ## 1-1 ~ 1-5 실습\n"
   ]
  },
  {
   "cell_type": "markdown",
   "metadata": {},
   "source": [
    " ### 문제 1.\n",
    " \n",
    " 주식A의 4일동안의 일일 수익률은 2% , -1%, 1%, 3% 이다.\n",
    " \n",
    " 주식B의 4일동안의 일일 수익률은 -5%, -5%, 10% , 0% 이다.\n",
    " \n",
    " 주식C의 4일동안의 일일 수익률은 0.5%, 2%, 2.5% , 3% 이다.\n",
    " \n",
    " 4일 전의 주가는 각각 100, 55, 37이다.\n",
    " \n",
    " np.array를 통하여 각 주식의 4일동안 가격을 구하시오. \n",
    " \n",
    " 또한 각각 주식의 4일동안의 총 수익률을 계산하시오.\n",
    " \n",
    " 마지막으로 각 주식수익률의 변동성을 계산하시오."
   ]
  },
  {
   "cell_type": "code",
   "execution_count": 82,
   "metadata": {},
   "outputs": [],
   "source": [
    "#############################\n",
    "##풀이과정을 여기에 쓰세요 ##\n",
    "#############################\n",
    "r = np.array([[2,-1,1,3],[-5,-5,10,0],[0.5,2,2.5,3]])/100\n",
    "Stock = np.array([100,55,37]).reshape(-1,1)\n",
    "Stock_path = Stock * (1+r).cumprod(1)\n",
    "Total_Ret = Stock_path[:,-1] / Stock.reshape(-1)\n",
    "vol = r.std(1)\n",
    "#############################"
   ]
  },
  {
   "cell_type": "markdown",
   "metadata": {},
   "source": [
    "### 문제 2.\n",
    "\n",
    "문제 2에서 3개의 주식의 상관계수행렬은 다음과 같다.\n",
    "\n",
    "| |A|B|C|\n",
    "|--|------|---|----|\n",
    "|A|1|0.14|0.09|\n",
    "|B|0.14|1|0.55|\n",
    "|C|0.09 |0.55  |1|\n",
    "\n",
    "만약 포트폴리오의 비율을 각각 20% 30% 50%로 구성한다면 포트폴리오 변동성은 얼마인가?"
   ]
  },
  {
   "cell_type": "code",
   "execution_count": 83,
   "metadata": {
    "scrolled": true
   },
   "outputs": [],
   "source": [
    "#############################\n",
    "##풀이과정을 여기에 쓰세요 ##\n",
    "#############################\n",
    "r = np.array([[2,-1,1,3],[-5,-5,10,0],[0.5,2,2.5,3]])/100\n",
    "vol = r.std(1)\n",
    "\n",
    "w = np.array([0.2,0.3,0.5]).reshape(1,-1)\n",
    "corr = np.array([[1,0.14,0.09],[0.14,1,0.55],[0.09,0.55,1]])\n",
    "cov = vol.reshape(-1,1) * vol.reshape(1,-1) * corr\n",
    "PF_vol = np.sqrt(w.dot(cov).dot(w.T))\n",
    "#############################"
   ]
  },
  {
   "cell_type": "code",
   "execution_count": 84,
   "metadata": {},
   "outputs": [],
   "source": [
    "PF_vol = np.sqrt(w.dot(cov).dot(w.T))"
   ]
  },
  {
   "cell_type": "markdown",
   "metadata": {},
   "source": [
    "## ■■■■■■■■■■■■■■■■■■■■■■■■■■■■■■■■■■■■■ "
   ]
  },
  {
   "cell_type": "markdown",
   "metadata": {},
   "source": [
    " ## 2. Random Number Generate (Advanced)"
   ]
  },
  {
   "cell_type": "markdown",
   "metadata": {},
   "source": [
    " ### 2-1. random normal, multivariate normal"
   ]
  },
  {
   "cell_type": "code",
   "execution_count": 85,
   "metadata": {},
   "outputs": [
    {
     "data": {
      "text/plain": [
       "array([[ 0.13884849,  1.09659911,  0.92384085],\n",
       "       [-0.62630261,  1.77011464, -0.3564407 ],\n",
       "       [-0.01745862, -0.14143684,  2.05402914],\n",
       "       [-0.42663326, -1.33416987, -1.74441548],\n",
       "       [ 1.19741085, -0.43008998, -0.78660803],\n",
       "       [-0.1180458 ,  0.28193637, -1.65698222],\n",
       "       [ 0.65631646, -0.33891374,  0.18891822],\n",
       "       [ 0.27080367,  1.3558025 , -0.14575846],\n",
       "       [ 1.43499784,  1.13620419, -0.56374695],\n",
       "       [-0.69872356, -1.08523847,  0.89439222]])"
      ]
     },
     "execution_count": 85,
     "metadata": {},
     "output_type": "execute_result"
    }
   ],
   "source": [
    "np.random.normal(0,1,size = (10,3))"
   ]
  },
  {
   "cell_type": "code",
   "execution_count": 86,
   "metadata": {},
   "outputs": [
    {
     "data": {
      "text/plain": [
       "array([[ 0.00765709,  0.04615165,  0.00251622],\n",
       "       [ 0.00028706,  0.07628888,  0.02097974],\n",
       "       [ 0.00669458, -0.0027291 ,  0.00964694],\n",
       "       [ 0.01250824,  0.01537175, -0.00177632],\n",
       "       [-0.00976366,  0.04458966,  0.00903826],\n",
       "       [-0.00815892,  0.02587118,  0.00645942],\n",
       "       [ 0.00426363, -0.05213867, -0.00820987],\n",
       "       [ 0.00040945,  0.06096725,  0.00597287],\n",
       "       [-0.0159589 , -0.07752668, -0.00966943],\n",
       "       [ 0.01785685,  0.05394227, -0.00127937]])"
      ]
     },
     "execution_count": 86,
     "metadata": {},
     "output_type": "execute_result"
    }
   ],
   "source": [
    "STD = np.array([0.015, 0.06, 0.01])\n",
    "np.random.normal([0,0,0], STD, size = (10,3))"
   ]
  },
  {
   "cell_type": "code",
   "execution_count": 87,
   "metadata": {},
   "outputs": [
    {
     "data": {
      "text/plain": [
       "array([[-1.37850200e+00, -2.40006593e-01, -5.52859577e-02],\n",
       "       [-2.22915110e+00,  3.70733473e-02,  1.22880997e-01],\n",
       "       [ 7.88882797e-02, -5.39279760e-01,  2.32191639e-03],\n",
       "       [ 1.83345746e-01, -1.08428110e+00, -4.73180924e-03],\n",
       "       [ 3.98101700e-01,  1.75448767e+00,  1.89746350e+00],\n",
       "       [-6.48574049e-01,  7.49842673e-01,  8.85442319e-01],\n",
       "       [ 8.48475195e-01,  2.49207754e+00,  2.01937673e+00],\n",
       "       [ 1.95163259e+00, -8.21146197e-01, -1.42470929e+00],\n",
       "       [ 4.78086106e-01, -1.05889151e+00, -8.01143710e-01],\n",
       "       [-9.93251531e-01,  1.02855633e-01, -1.59948443e-01]])"
      ]
     },
     "execution_count": 87,
     "metadata": {},
     "output_type": "execute_result"
    }
   ],
   "source": [
    "corr = np.array([[1,0.14,0.09],[0.14,1,0.55],[0.09,0.55,1]])\n",
    "mvrn = np.random.multivariate_normal([0,0,0], corr, 10)\n",
    "mvrn"
   ]
  },
  {
   "cell_type": "code",
   "execution_count": 88,
   "metadata": {},
   "outputs": [
    {
     "data": {
      "text/plain": [
       "array([[-2.06775300e-02, -1.44003956e-02, -5.52859577e-04],\n",
       "       [-3.34372665e-02,  2.22440084e-03,  1.22880997e-03],\n",
       "       [ 1.18332420e-03, -3.23567856e-02,  2.32191639e-05],\n",
       "       [ 2.75018619e-03, -6.50568662e-02, -4.73180924e-05],\n",
       "       [ 5.97152550e-03,  1.05269260e-01,  1.89746350e-02],\n",
       "       [-9.72861073e-03,  4.49905604e-02,  8.85442319e-03],\n",
       "       [ 1.27271279e-02,  1.49524652e-01,  2.01937673e-02],\n",
       "       [ 2.92744889e-02, -4.92687718e-02, -1.42470929e-02],\n",
       "       [ 7.17129159e-03, -6.35334904e-02, -8.01143710e-03],\n",
       "       [-1.48987730e-02,  6.17133799e-03, -1.59948443e-03]])"
      ]
     },
     "execution_count": 88,
     "metadata": {},
     "output_type": "execute_result"
    }
   ],
   "source": [
    "STD * mvrn # Multivariate random normal return"
   ]
  },
  {
   "cell_type": "markdown",
   "metadata": {},
   "source": [
    " ### 2-2. np.arange, np.linspace"
   ]
  },
  {
   "cell_type": "code",
   "execution_count": 89,
   "metadata": {},
   "outputs": [
    {
     "data": {
      "text/plain": [
       "array([0. , 0.1, 0.2, 0.3, 0.4, 0.5, 0.6, 0.7, 0.8, 0.9, 1. , 1.1, 1.2,\n",
       "       1.3, 1.4, 1.5, 1.6, 1.7, 1.8, 1.9, 2. , 2.1, 2.2, 2.3, 2.4, 2.5,\n",
       "       2.6, 2.7, 2.8, 2.9, 3. , 3.1, 3.2, 3.3, 3.4, 3.5, 3.6, 3.7, 3.8,\n",
       "       3.9, 4. , 4.1, 4.2, 4.3, 4.4, 4.5, 4.6, 4.7, 4.8, 4.9, 5. , 5.1,\n",
       "       5.2, 5.3, 5.4, 5.5, 5.6, 5.7, 5.8, 5.9, 6. , 6.1, 6.2, 6.3, 6.4,\n",
       "       6.5, 6.6, 6.7, 6.8, 6.9, 7. , 7.1, 7.2, 7.3, 7.4, 7.5, 7.6, 7.7,\n",
       "       7.8, 7.9, 8. , 8.1, 8.2, 8.3, 8.4, 8.5, 8.6, 8.7, 8.8, 8.9, 9. ,\n",
       "       9.1, 9.2, 9.3, 9.4, 9.5, 9.6, 9.7, 9.8, 9.9])"
      ]
     },
     "execution_count": 89,
     "metadata": {},
     "output_type": "execute_result"
    }
   ],
   "source": [
    "np.arange(0,10,0.1)"
   ]
  },
  {
   "cell_type": "code",
   "execution_count": 90,
   "metadata": {},
   "outputs": [
    {
     "data": {
      "text/plain": [
       "array([ 0. ,  0.1,  0.2,  0.3,  0.4,  0.5,  0.6,  0.7,  0.8,  0.9,  1. ,\n",
       "        1.1,  1.2,  1.3,  1.4,  1.5,  1.6,  1.7,  1.8,  1.9,  2. ,  2.1,\n",
       "        2.2,  2.3,  2.4,  2.5,  2.6,  2.7,  2.8,  2.9,  3. ,  3.1,  3.2,\n",
       "        3.3,  3.4,  3.5,  3.6,  3.7,  3.8,  3.9,  4. ,  4.1,  4.2,  4.3,\n",
       "        4.4,  4.5,  4.6,  4.7,  4.8,  4.9,  5. ,  5.1,  5.2,  5.3,  5.4,\n",
       "        5.5,  5.6,  5.7,  5.8,  5.9,  6. ,  6.1,  6.2,  6.3,  6.4,  6.5,\n",
       "        6.6,  6.7,  6.8,  6.9,  7. ,  7.1,  7.2,  7.3,  7.4,  7.5,  7.6,\n",
       "        7.7,  7.8,  7.9,  8. ,  8.1,  8.2,  8.3,  8.4,  8.5,  8.6,  8.7,\n",
       "        8.8,  8.9,  9. ,  9.1,  9.2,  9.3,  9.4,  9.5,  9.6,  9.7,  9.8,\n",
       "        9.9, 10. ])"
      ]
     },
     "execution_count": 90,
     "metadata": {},
     "output_type": "execute_result"
    }
   ],
   "source": [
    "np.linspace(0,10,101)"
   ]
  },
  {
   "cell_type": "markdown",
   "metadata": {},
   "source": [
    " ### 2-3. Stock Price Simulation without loop (중요도 높음)\n",
    "\n",
    "$$\n",
    "\\begin{array}{c}\n",
    " dS = r S dt + \\sigma S d\\hat{W} \\\\\n",
    " S_{1} = S_{0} e^{(r-\\frac{\\sigma^2}{2})dt + \\sigma \\sqrt{dt} \\bullet \\epsilon} \\\\\n",
    " S_{2} = S_{1} e^{(r-\\frac{\\sigma^2}{2})dt + \\sigma \\sqrt{dt} \\bullet \\epsilon} \\\\\n",
    " ... \\\\\n",
    " S_{T} = S_{T-1} e^{(r-\\frac{\\sigma^2}{2})dt + \\sigma \\sqrt{dt} \\bullet \\epsilon} \\\\\n",
    "\\end{array}\n",
    "$$\n",
    " ### Generalize\n",
    "$$\n",
    "\\begin{array}{c}\n",
    " S_{t} = S_{0} e^{(r-\\frac{\\sigma^2}{2})t + \\sigma \\sqrt{dt} \\sum_{1}^{t} \\epsilon_i}\n",
    "\\end{array}\n",
    "$$\n"
   ]
  },
  {
   "cell_type": "markdown",
   "metadata": {},
   "source": [
    " ##### 1년동안 1종목 주가시뮬레이션 1회 ( 1년 252bdays)"
   ]
  },
  {
   "cell_type": "code",
   "execution_count": 91,
   "metadata": {},
   "outputs": [],
   "source": [
    "import matplotlib.pyplot as plt"
   ]
  },
  {
   "cell_type": "code",
   "execution_count": 92,
   "metadata": {},
   "outputs": [],
   "source": [
    "r = 0.05\n",
    "sigma = 0.2\n",
    "t = 1\n",
    "dt = 1/252\n",
    "S0 = 1000\n",
    "trange= np.arange(dt, t+dt, dt)\n",
    "e = np.random.normal(0,1,len(trange))\n",
    "drift = (r-0.5*sigma**2) * trange\n",
    "diffusion = sigma * np.sqrt(dt) * e.cumsum()\n",
    "St = S0 * np.exp(drift + diffusion)"
   ]
  },
  {
   "cell_type": "code",
   "execution_count": 93,
   "metadata": {},
   "outputs": [
    {
     "data": {
      "image/png": "[encoded data removed]",
      "text/plain": [
       "<Figure size 432x288 with 1 Axes>"
      ]
     },
     "metadata": {
      "needs_background": "light"
     },
     "output_type": "display_data"
    }
   ],
   "source": [
    "plt.plot(St)\n",
    "plt.show()"
   ]
  },
  {
   "cell_type": "markdown",
   "metadata": {},
   "source": [
    " ##### 1년동안 1종목 주가시뮬레이션 10회"
   ]
  },
  {
   "cell_type": "code",
   "execution_count": 94,
   "metadata": {},
   "outputs": [],
   "source": [
    "r, sigma = 0.05, 0.2\n",
    "t = 1\n",
    "simul_num = 10\n",
    "dt = 1/252\n",
    "S0 = 1000\n",
    "trange = np.arange(dt,t+dt,dt).reshape(-1,1)\n",
    "e = np.random.normal(0,1,(trange.shape[0],simul_num))\n",
    "drift = (r-0.5 * sigma**2) * trange\n",
    "diffusion  = sigma * np.sqrt(dt) * e.cumsum(0)\n",
    "St = S0 * np.exp(drift + diffusion)"
   ]
  },
  {
   "cell_type": "code",
   "execution_count": 95,
   "metadata": {},
   "outputs": [
    {
     "data": {
      "image/png": "[encoded data removed]",
      "text/plain": [
       "<Figure size 432x288 with 1 Axes>"
      ]
     },
     "metadata": {
      "needs_background": "light"
     },
     "output_type": "display_data"
    }
   ],
   "source": [
    "plt.plot(St)\n",
    "plt.show()"
   ]
  },
  {
   "cell_type": "markdown",
   "metadata": {},
   "source": [
    "## ■■■■■■■■■■■■■■■■■■■■■■■■■■■■■■■■■■■■■ \n",
    "## 2-1~2-3. 실습\n"
   ]
  },
  {
   "cell_type": "markdown",
   "metadata": {},
   "source": [
    "### 문제 2.\n",
    "T시점의 주가를 몬테카를로 시뮬레이션 1000회 시도하여 구하고, 이를 통해 콜옵션가격을 계산하시오. (반복문,for loop를 사용하지 마시오.)\n",
    "\n",
    "\\begin{align}\n",
    "S_0 = 100, \\ K = 90, \\  \\sigma = 0.2, \\  T = 1, \\ r = 0.02 \\\\\n",
    "\\\\\n",
    "S(T) = S_0 e^{ (r-\\frac{\\sigma^2}{2})T + \\sigma \\sqrt{T} \\epsilon} \\\\\n",
    "\\epsilon \\sim N(0,1)\n",
    "\\\\\n",
    "\\\\\n",
    "C_0^{path(n)} = e^{-rT} \\times  Payoff(T)\n",
    "\\\\\n",
    "\\\\\n",
    "Payoff(T) = max(S(T) - K, 0)\n",
    "\\\\\n",
    "\\\\\n",
    "C_0 = average \\ of \\ [ C_0^{path1} , C_0^{path2} , C_0^{path3},...,  C_0^{path1000}]\n",
    "\\end{align}"
   ]
  },
  {
   "cell_type": "code",
   "execution_count": 96,
   "metadata": {},
   "outputs": [
    {
     "data": {
      "text/plain": [
       "15.060072443585126"
      ]
     },
     "execution_count": 96,
     "metadata": {},
     "output_type": "execute_result"
    }
   ],
   "source": [
    "#############################\n",
    "##풀이과정을 여기에 쓰세요 ##\n",
    "#############################\n",
    "r, sigma, T  = 0.02, 0.2, 1\n",
    "S0, K= 100, 90\n",
    "simul_num = 1000\n",
    "dt = 1/252\n",
    "trange = np.arange(dt,T+dt,dt).reshape(-1,1)\n",
    "e = np.random.normal(0,1,(trange.shape[0],simul_num))\n",
    "drift = (r-0.5 * sigma**2) * trange\n",
    "diffusion  = sigma * np.sqrt(dt) * e.cumsum(0)\n",
    "St = S0 * np.exp(drift + diffusion)\n",
    "C = (np.exp(-r * T) * np.maximum(St[-1] - K, 0)).mean()\n",
    "C\n",
    "#############################"
   ]
  },
  {
   "cell_type": "markdown",
   "metadata": {},
   "source": [
    " ### 문제 3.\n",
    "T시점의 주가를 몬테카를로 시뮬레이션 1500회 시도하여 구하고, 이를 통해 Binary 콜옵션가격을 계산하시오. Binary 콜옵션은 만기 주가가 행사가격보다 높으면 1원을 주고 그렇지 않으면 0원을 준다. (반복문,for loop를 사용하지 마시오.)\n",
    "\n",
    "\\begin{align}\n",
    "S_0 = 100, \\ K = 90, \\  \\sigma = 0.2, \\  T = 1, \\ r = 0.02 \\\\\n",
    "\\\\\n",
    "S(T) = S_0 e^{ (r-\\frac{\\sigma^2}{2})T + \\sigma \\sqrt{T} \\epsilon} \\\\\n",
    "\\epsilon \\sim N(0,1)\n",
    "\\\\\n",
    "\\\\\n",
    "C_0^{path(n)} = e^{-rT} \\times ( Payoff(T))\n",
    "\\\\\n",
    "\\\\\n",
    "Payoff(T) = 1 \\ \\ if \\ \\ S(T) >= K \\ ,\\ \\  else : \\ 0\n",
    "\\\\\n",
    "\\\\\n",
    "C_0 = average \\ of \\ [ C_0^{path1} , C_0^{path2} , C_0^{path3},...,  C_0^{path1000}]\n",
    "\\end{align}"
   ]
  },
  {
   "cell_type": "code",
   "execution_count": 97,
   "metadata": {},
   "outputs": [
    {
     "data": {
      "text/plain": [
       "0.6756836187994566"
      ]
     },
     "execution_count": 97,
     "metadata": {},
     "output_type": "execute_result"
    }
   ],
   "source": [
    "#############################\n",
    "##풀이과정을 여기에 쓰세요 ##\n",
    "#############################\n",
    "r, sigma, T  = 0.02, 0.2, 1\n",
    "S0, K= 100, 90\n",
    "simul_num = 1500\n",
    "dt = 1/252\n",
    "trange = np.arange(dt,T+dt,dt).reshape(-1,1)\n",
    "e = np.random.normal(0,1,(trange.shape[0],simul_num))\n",
    "drift = (r-0.5 * sigma**2) * trange\n",
    "diffusion  = sigma * np.sqrt(dt) * e.cumsum(0)\n",
    "St = S0 * np.exp(drift + diffusion)\n",
    "(np.exp(-r*T)*(St[-1]>=K)).mean()\n",
    "#############################"
   ]
  },
  {
   "cell_type": "markdown",
   "metadata": {},
   "source": [
    " ## 3. Ordinary Least Square\n",
    " $$\n",
    "    \\beta = (X'X)^{-1}X'y\n",
    "$$"
   ]
  },
  {
   "cell_type": "code",
   "execution_count": 98,
   "metadata": {},
   "outputs": [],
   "source": [
    "X = np.array([[1, 2, 1],\n",
    "              [3, 4, 2],\n",
    "              [1, 2, 3],\n",
    "              [4, 0, 5]])\n",
    "y = np.array([2, 4, 1, 2])"
   ]
  },
  {
   "cell_type": "code",
   "execution_count": 99,
   "metadata": {
    "scrolled": true
   },
   "outputs": [
    {
     "data": {
      "text/plain": [
       "array([ 0.84269663,  0.54213483, -0.28089888])"
      ]
     },
     "execution_count": 99,
     "metadata": {},
     "output_type": "execute_result"
    }
   ],
   "source": [
    "beta= np.linalg.inv(X.T.dot(X)).dot(X.T.dot(y))\n",
    "beta"
   ]
  },
  {
   "cell_type": "markdown",
   "metadata": {},
   "source": [
    " ### 문제 4. Geometric Brownian Motion and Volatility Drag\n",
    "브라운운동의 성질은 다음과 같다 $$ W_t \\sim N(0,t) $$\n",
    "$$ \\begin{array}{c} \\ W_t - W_s \\sim N(0,t-s)  \\end{array} $$\n",
    "주가가 다음과 같이 움직인다고 가정하자.\n",
    "$$\n",
    "\\begin{array}{c}\n",
    "dS = \\mu S dt + \\sigma S dW \\ \\ \\ \\  (\\mu = arithmetical\\ average\\ return ) \n",
    "\\end{array} \n",
    "$$\n",
    "확률미분방정식을 풀면 S(T)는 다음과 같이 나온다.\n",
    "$$\n",
    "\\begin{array}{c}\n",
    "    S_T = S_0 \\bullet e^{(\\mu - \\frac{\\sigma^2}{2})T+\\sigma \\sqrt{T} \\epsilon_{(T)} } \\  (\\epsilon_{(T)} \\sim N(0,T) \\ )\n",
    "    \\\\ \\\\ \n",
    "\\end{array} \n",
    "$$ \n",
    "즉, \n",
    "$$ \n",
    "\\begin{array}{c}\n",
    "     E(\\frac{1}{T}log \\frac{S_T}{S_0}) = \\mu - \\frac{\\sigma^2}{2}\n",
    "\\end{array}\n",
    "$$ \n",
    "     \n",
    "복리수익률은 산술평균수익률보다 sigma^2 /2 만큼 작다.\n",
    "\n",
    " \n",
    " 실제로 그런지 알아보자.\n",
    " \n",
    " 주식A는 100원이고 산술평균 기대수익률이 15%이다. 변동성은 50%이다.  \n",
    " \n",
    " 주식B는 100원이고 산술평균 기대수익률이 10%이고 변동성은 10%이다.\n",
    " \n",
    " (A와 B 주식은 독립이다.)\n",
    " \n",
    " 주식A의 1년동안 주가시뮬레이션, 주식B의 1년동안 주가시뮬레이션을 30000회 하고 각각의 로그수익률을 계산해보세요.\n",
    " \n",
    " 실제로 시뮬레이션의 로그수익률이 $$ \\mu_A - \\frac{\\sigma_A^2}{2}  , \\ \\mu_B - \\frac{\\sigma_B^2}{2}$$ 와 같은지 확인해보시오."
   ]
  },
  {
   "cell_type": "code",
   "execution_count": 100,
   "metadata": {},
   "outputs": [],
   "source": [
    "S_A_0 ,S_B_0= 100,100\n",
    "mu_A , mu_B = 0.15, 0.1\n",
    "sigma_A , sigma_B = 0.5, 0.1\n",
    "T = 1\n",
    "simul_num = 30000\n",
    "epsilon_T_A = np.random.normal(size = simul_num)\n",
    "epsilon_T_B = np.random.normal(size = simul_num)\n",
    "S_T_A = S_A_0 * np.exp((mu_A-0.5*sigma_A**2)*T+sigma_A*np.sqrt(T)*epsilon_T_A)\n",
    "S_T_B = S_B_0 * np.exp((mu_B-0.5*sigma_B**2)*T+sigma_B*np.sqrt(T)*epsilon_T_B)\n",
    "logmu_A = np.log(S_T_A/S_A_0).mean()\n",
    "logmu_B = np.log(S_T_B/S_B_0).mean()"
   ]
  },
  {
   "cell_type": "code",
   "execution_count": 101,
   "metadata": {},
   "outputs": [
    {
     "data": {
      "text/plain": [
       "0.02228675387064627"
      ]
     },
     "execution_count": 101,
     "metadata": {},
     "output_type": "execute_result"
    }
   ],
   "source": [
    "logmu_A"
   ]
  },
  {
   "cell_type": "code",
   "execution_count": 102,
   "metadata": {},
   "outputs": [
    {
     "data": {
      "text/plain": [
       "0.024999999999999994"
      ]
     },
     "execution_count": 102,
     "metadata": {},
     "output_type": "execute_result"
    }
   ],
   "source": [
    "mu_A - 0.5*sigma_A**2"
   ]
  },
  {
   "cell_type": "code",
   "execution_count": 103,
   "metadata": {},
   "outputs": [
    {
     "data": {
      "text/plain": [
       "0.09494638044154075"
      ]
     },
     "execution_count": 103,
     "metadata": {},
     "output_type": "execute_result"
    }
   ],
   "source": [
    "logmu_B"
   ]
  },
  {
   "cell_type": "code",
   "execution_count": 104,
   "metadata": {
    "scrolled": false
   },
   "outputs": [
    {
     "data": {
      "text/plain": [
       "0.095"
      ]
     },
     "execution_count": 104,
     "metadata": {},
     "output_type": "execute_result"
    }
   ],
   "source": [
    "mu_B - 0.5*sigma_B**2"
   ]
  },
  {
   "cell_type": "code",
   "execution_count": null,
   "metadata": {},
   "outputs": [],
   "source": []
  }
 ],
 "metadata": {
  "kernelspec": {
   "display_name": "Python 3",
   "language": "python",
   "name": "python3"
  },
  "language_info": {
   "codemirror_mode": {
    "name": "ipython",
    "version": 3
   },
   "file_extension": ".py",
   "mimetype": "text/x-python",
   "name": "python",
   "nbconvert_exporter": "python",
   "pygments_lexer": "ipython3",
   "version": "3.8.5"
  }
 },
 "nbformat": 4,
 "nbformat_minor": 4
}
