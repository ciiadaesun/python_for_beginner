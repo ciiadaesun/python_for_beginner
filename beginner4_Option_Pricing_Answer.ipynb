{
 "cells": [
  {
   "cell_type": "code",
   "execution_count": 1,
   "metadata": {},
   "outputs": [],
   "source": [
    "import numpy as np\n",
    "import pandas as pd\n",
    "import matplotlib.pyplot as plt\n",
    "import datetime as dt\n",
    "import scipy.stats as sts\n",
    "from scipy.optimize import root"
   ]
  },
  {
   "cell_type": "markdown",
   "metadata": {},
   "source": [
    " ### Variables Setting"
   ]
  },
  {
   "cell_type": "code",
   "execution_count": 2,
   "metadata": {},
   "outputs": [],
   "source": [
    "S = 100\n",
    "K = 95\n",
    "T = 0.5\n",
    "div = 0\n",
    "sigma = 0.2\n",
    "r = 0.03\n",
    "N = 5 ## Binomial Tree Node Number\n",
    "Sim_num = 10000 ## Monte Carlo Simulation Number"
   ]
  },
  {
   "cell_type": "markdown",
   "metadata": {},
   "source": [
    " # Plain Vanila"
   ]
  },
  {
   "cell_type": "markdown",
   "metadata": {},
   "source": [
    " ## 1. Black Scholes Model"
   ]
  },
  {
   "cell_type": "code",
   "execution_count": 3,
   "metadata": {},
   "outputs": [],
   "source": [
    "def BS_call(S, K, T, r, sigma, div = 0):\n",
    "    d1 = (np.log(S / K) + (r -div + 0.5 * sigma ** 2) * T) / (sigma * np.sqrt(T))\n",
    "    d2 = d1 - sigma * np.sqrt(T)\n",
    "    call = (S * np.exp(-div * T) * sts.norm.cdf(d1, 0.0, 1.0) - K * np.exp(-r * T) * sts.norm.cdf(d2, 0.0, 1.0))\n",
    "    return call\n",
    "\n",
    "def BS_put(S, K, T, r, sigma, div = 0):\n",
    "    d1 = (np.log(S / K) + (r -div + 0.5 * sigma ** 2) * T) / (sigma * np.sqrt(T))\n",
    "    d2 = d1 - sigma*np.sqrt(T)\n",
    "    put = (K * np.exp(-r * T) * sts.norm.cdf(-d2, 0.0, 1.0) - S * np.exp(-div * T ) *sts.norm.cdf(-d1, 0.0, 1.0))\n",
    "    return put"
   ]
  },
  {
   "cell_type": "code",
   "execution_count": 4,
   "metadata": {},
   "outputs": [
    {
     "data": {
      "text/plain": [
       "9.251090315022012"
      ]
     },
     "execution_count": 4,
     "metadata": {},
     "output_type": "execute_result"
    }
   ],
   "source": [
    "call = BS_call( S, K, T, r , sigma,div)\n",
    "call"
   ]
  },
  {
   "cell_type": "code",
   "execution_count": 5,
   "metadata": {},
   "outputs": [
    {
     "data": {
      "text/plain": [
       "2.836724577312957"
      ]
     },
     "execution_count": 5,
     "metadata": {},
     "output_type": "execute_result"
    }
   ],
   "source": [
    "put = BS_put(S,K,T,r,sigma,div)\n",
    "put"
   ]
  },
  {
   "cell_type": "markdown",
   "metadata": {},
   "source": [
    " ## 2. Monte Carlo Simulation"
   ]
  },
  {
   "cell_type": "markdown",
   "metadata": {},
   "source": [
    "$$\n",
    "\\begin{array}{c}\n",
    " S_{T} = S_{0} e^{(r-\\frac{\\sigma^2}{2})T + \\sigma \\sqrt{T} \\epsilon}\n",
    "\\end{array}\n",
    "$$\n",
    "\\\n",
    "$$\n",
    "\\begin{array}{c}\n",
    " C = e^{-rT} \\hat{E}[ \\ max(S_T - K , 0 )]\n",
    "\\end{array}\n",
    "$$"
   ]
  },
  {
   "cell_type": "code",
   "execution_count": 6,
   "metadata": {},
   "outputs": [],
   "source": [
    "def MC_call(S, K, T, r, sigma , div = 0, Sim_num = 10000) :\n",
    "    e = np.random.normal(0,1,size = Sim_num)\n",
    "    simul_S = S * np.exp((r-div-0.5*sigma**2)*T + sigma * np.sqrt(T) * e)\n",
    "    Payoff = np.maximum(simul_S - K ,0)\n",
    "    Discount_Payoff = np.exp(-r * T) * Payoff\n",
    "    C = Discount_Payoff.mean()\n",
    "    return C\n",
    "\n",
    "def MC_put(S, K, T, r, sigma , div = 0, Sim_num = 10000) :\n",
    "    e = np.random.normal(0,1,size = Sim_num)\n",
    "    simul_S = S * np.exp((r-div-0.5*sigma**2)*T + sigma * np.sqrt(T) * e)\n",
    "    Payoff = np.maximum( K-simul_S ,0)\n",
    "    Discount_Payoff = np.exp(-r * T) * Payoff\n",
    "    P = Discount_Payoff.mean()\n",
    "    return P\n"
   ]
  },
  {
   "cell_type": "code",
   "execution_count": 7,
   "metadata": {},
   "outputs": [
    {
     "data": {
      "text/plain": [
       "9.34654819087245"
      ]
     },
     "execution_count": 7,
     "metadata": {},
     "output_type": "execute_result"
    }
   ],
   "source": [
    "call2 = MC_call(S , K, T, r , sigma, div, Sim_num)\n",
    "call2"
   ]
  },
  {
   "cell_type": "code",
   "execution_count": 8,
   "metadata": {},
   "outputs": [
    {
     "data": {
      "text/plain": [
       "2.9601349560081465"
      ]
     },
     "execution_count": 8,
     "metadata": {},
     "output_type": "execute_result"
    }
   ],
   "source": [
    "put2 = MC_put(S , K, T, r , sigma, div, Sim_num)\n",
    "put2"
   ]
  },
  {
   "cell_type": "markdown",
   "metadata": {},
   "source": [
    " ## 3. Binomial Option Pricing"
   ]
  },
  {
   "cell_type": "markdown",
   "metadata": {},
   "source": [
    "$$\n",
    "\\begin{array}{c}\n",
    " u = e^{\\sigma \\sqrt{\\Delta t}} \\ , \\ d = \\frac{1}{u} , \\ p = \\frac{e^{(r-\\delta ) \\Delta t} - d}{u-d}\n",
    "\\end{array}\n",
    "$$\n"
   ]
  },
  {
   "cell_type": "code",
   "execution_count": 9,
   "metadata": {},
   "outputs": [],
   "source": [
    "def UDP(r,div,sigma, T, N) :\n",
    "    DeltaT = T/N\n",
    "    u = np.exp(sigma * np.sqrt(DeltaT))\n",
    "    d = 1/u\n",
    "    p = (np.exp((r-div) * DeltaT) - d)/(u-d)\n",
    "    return u, d, p"
   ]
  },
  {
   "cell_type": "code",
   "execution_count": 10,
   "metadata": {},
   "outputs": [],
   "source": [
    "u,  d, p = UDP(r, div, sigma, T, N)"
   ]
  },
  {
   "cell_type": "code",
   "execution_count": 11,
   "metadata": {},
   "outputs": [],
   "source": [
    "def S_Tree(S, N, u, d) :\n",
    "    Temp = np.ones((N+1,N+1))\n",
    "    Temp[:,0] = 0\n",
    "    Temp1 = Temp.cumsum(1)\n",
    "    Te = Temp.copy()\n",
    "    Te[0,:] = 0\n",
    "    num_u = np.triu(Temp1 - Te.cumsum(0))\n",
    "    num_d = np.triu(Temp1 - num_u)\n",
    "    Tree = (S * np.triu(u**num_u * d ** num_d))\n",
    "    return Tree"
   ]
  },
  {
   "cell_type": "markdown",
   "metadata": {},
   "source": [
    " ### Make Underlying Tree"
   ]
  },
  {
   "cell_type": "code",
   "execution_count": 12,
   "metadata": {
    "scrolled": true
   },
   "outputs": [
    {
     "data": {
      "text/html": [
       "<div>\n",
       "<style scoped>\n",
       "    .dataframe tbody tr th:only-of-type {\n",
       "        vertical-align: middle;\n",
       "    }\n",
       "\n",
       "    .dataframe tbody tr th {\n",
       "        vertical-align: top;\n",
       "    }\n",
       "\n",
       "    .dataframe thead th {\n",
       "        text-align: right;\n",
       "    }\n",
       "</style>\n",
       "<table border=\"1\" class=\"dataframe\">\n",
       "  <thead>\n",
       "    <tr style=\"text-align: right;\">\n",
       "      <th></th>\n",
       "      <th>0</th>\n",
       "      <th>1</th>\n",
       "      <th>2</th>\n",
       "      <th>3</th>\n",
       "      <th>4</th>\n",
       "      <th>5</th>\n",
       "    </tr>\n",
       "  </thead>\n",
       "  <tbody>\n",
       "    <tr>\n",
       "      <th>0</th>\n",
       "      <td>100.0</td>\n",
       "      <td>106.528839</td>\n",
       "      <td>113.483936</td>\n",
       "      <td>120.893120</td>\n",
       "      <td>128.786037</td>\n",
       "      <td>137.194270</td>\n",
       "    </tr>\n",
       "    <tr>\n",
       "      <th>1</th>\n",
       "      <td>0.0</td>\n",
       "      <td>93.871294</td>\n",
       "      <td>100.000000</td>\n",
       "      <td>106.528839</td>\n",
       "      <td>113.483936</td>\n",
       "      <td>120.893120</td>\n",
       "    </tr>\n",
       "    <tr>\n",
       "      <th>2</th>\n",
       "      <td>0.0</td>\n",
       "      <td>0.000000</td>\n",
       "      <td>88.118199</td>\n",
       "      <td>93.871294</td>\n",
       "      <td>100.000000</td>\n",
       "      <td>106.528839</td>\n",
       "    </tr>\n",
       "    <tr>\n",
       "      <th>3</th>\n",
       "      <td>0.0</td>\n",
       "      <td>0.000000</td>\n",
       "      <td>0.000000</td>\n",
       "      <td>82.717693</td>\n",
       "      <td>88.118199</td>\n",
       "      <td>93.871294</td>\n",
       "    </tr>\n",
       "    <tr>\n",
       "      <th>4</th>\n",
       "      <td>0.0</td>\n",
       "      <td>0.000000</td>\n",
       "      <td>0.000000</td>\n",
       "      <td>0.000000</td>\n",
       "      <td>77.648169</td>\n",
       "      <td>82.717693</td>\n",
       "    </tr>\n",
       "    <tr>\n",
       "      <th>5</th>\n",
       "      <td>0.0</td>\n",
       "      <td>0.000000</td>\n",
       "      <td>0.000000</td>\n",
       "      <td>0.000000</td>\n",
       "      <td>0.000000</td>\n",
       "      <td>72.889341</td>\n",
       "    </tr>\n",
       "  </tbody>\n",
       "</table>\n",
       "</div>"
      ],
      "text/plain": [
       "       0           1           2           3           4           5\n",
       "0  100.0  106.528839  113.483936  120.893120  128.786037  137.194270\n",
       "1    0.0   93.871294  100.000000  106.528839  113.483936  120.893120\n",
       "2    0.0    0.000000   88.118199   93.871294  100.000000  106.528839\n",
       "3    0.0    0.000000    0.000000   82.717693   88.118199   93.871294\n",
       "4    0.0    0.000000    0.000000    0.000000   77.648169   82.717693\n",
       "5    0.0    0.000000    0.000000    0.000000    0.000000   72.889341"
      ]
     },
     "execution_count": 12,
     "metadata": {},
     "output_type": "execute_result"
    }
   ],
   "source": [
    "pd.DataFrame(S_Tree(S,N, u, d))"
   ]
  },
  {
   "cell_type": "markdown",
   "metadata": {},
   "source": [
    " ### Make Payoff Tree"
   ]
  },
  {
   "cell_type": "code",
   "execution_count": 13,
   "metadata": {},
   "outputs": [
    {
     "data": {
      "text/html": [
       "<div>\n",
       "<style scoped>\n",
       "    .dataframe tbody tr th:only-of-type {\n",
       "        vertical-align: middle;\n",
       "    }\n",
       "\n",
       "    .dataframe tbody tr th {\n",
       "        vertical-align: top;\n",
       "    }\n",
       "\n",
       "    .dataframe thead th {\n",
       "        text-align: right;\n",
       "    }\n",
       "</style>\n",
       "<table border=\"1\" class=\"dataframe\">\n",
       "  <thead>\n",
       "    <tr style=\"text-align: right;\">\n",
       "      <th></th>\n",
       "      <th>Call_Payoff</th>\n",
       "    </tr>\n",
       "  </thead>\n",
       "  <tbody>\n",
       "    <tr>\n",
       "      <th>0</th>\n",
       "      <td>42.194270</td>\n",
       "    </tr>\n",
       "    <tr>\n",
       "      <th>1</th>\n",
       "      <td>25.893120</td>\n",
       "    </tr>\n",
       "    <tr>\n",
       "      <th>2</th>\n",
       "      <td>11.528839</td>\n",
       "    </tr>\n",
       "    <tr>\n",
       "      <th>3</th>\n",
       "      <td>0.000000</td>\n",
       "    </tr>\n",
       "    <tr>\n",
       "      <th>4</th>\n",
       "      <td>0.000000</td>\n",
       "    </tr>\n",
       "    <tr>\n",
       "      <th>5</th>\n",
       "      <td>0.000000</td>\n",
       "    </tr>\n",
       "  </tbody>\n",
       "</table>\n",
       "</div>"
      ],
      "text/plain": [
       "   Call_Payoff\n",
       "0    42.194270\n",
       "1    25.893120\n",
       "2    11.528839\n",
       "3     0.000000\n",
       "4     0.000000\n",
       "5     0.000000"
      ]
     },
     "execution_count": 13,
     "metadata": {},
     "output_type": "execute_result"
    }
   ],
   "source": [
    "Payoff_Tree = np.maximum(S_Tree(S,N,u,d) - K, 0)[:,-1:]\n",
    "pd.DataFrame(Payoff_Tree, columns = ['Call_Payoff'])"
   ]
  },
  {
   "cell_type": "code",
   "execution_count": 14,
   "metadata": {},
   "outputs": [],
   "source": [
    "def BN_call(S ,K ,T, r, sigma , div, N) :\n",
    "    u,  d, p = UDP(r, div, sigma, T, N)\n",
    "    Payoff_Tree = np.maximum(S_Tree(S,N,u,d) - K, 0)[:,-1:]\n",
    "    Temp = np.ones((N+1,1))\n",
    "    Temp[0] = 0\n",
    "    Number_of_u = Temp.cumsum(0).astype(np.int64)[::-1]\n",
    "    Weighted_Discount_Payoff = np.exp(-r*T) * ( Payoff_Tree * sts.binom.pmf(Number_of_u,N,p) )\n",
    "    C = Weighted_Discount_Payoff.sum()    \n",
    "    return C\n",
    "\n",
    "def BN_put(S, K, T, r, sigma, div, N) :\n",
    "    u,  d, p = UDP(r, div, sigma, T, N)\n",
    "    Payoff_Tree = np.maximum( K - S_Tree(S,N,u,d), 0)[:,-1:]\n",
    "    Temp = np.ones((N+1,1))\n",
    "    Temp[0] = 0\n",
    "    Number_of_u = Temp.cumsum(0).astype(np.int64)[::-1]\n",
    "    Weighted_Discount_Payoff = np.exp(-r*T) * ( Payoff_Tree * sts.binom.pmf(Number_of_u,N,p) )\n",
    "    P = Weighted_Discount_Payoff.sum()    \n",
    "    return P"
   ]
  },
  {
   "cell_type": "code",
   "execution_count": 15,
   "metadata": {},
   "outputs": [
    {
     "data": {
      "text/plain": [
       "9.186070147270566"
      ]
     },
     "execution_count": 15,
     "metadata": {},
     "output_type": "execute_result"
    }
   ],
   "source": [
    "call3 = BN_call(S,K,T,r,sigma,div,N)\n",
    "call3"
   ]
  },
  {
   "cell_type": "code",
   "execution_count": 16,
   "metadata": {
    "scrolled": false
   },
   "outputs": [
    {
     "data": {
      "text/plain": [
       "2.7717044095614995"
      ]
     },
     "execution_count": 16,
     "metadata": {},
     "output_type": "execute_result"
    }
   ],
   "source": [
    "put3 = BN_put(S,K,T,r,sigma,div,N)\n",
    "put3"
   ]
  },
  {
   "cell_type": "markdown",
   "metadata": {},
   "source": [
    " # Implied Volatility "
   ]
  },
  {
   "cell_type": "markdown",
   "metadata": {},
   "source": [
    " ## 1. Black Scholes"
   ]
  },
  {
   "cell_type": "code",
   "execution_count": 17,
   "metadata": {},
   "outputs": [],
   "source": [
    "def BS_call_IV(S,K,T,r,div,C) :\n",
    "    def fun(x , S, K , T, r, div , P) :\n",
    "        return BS_call(S,K,T,r,x,div)- P\n",
    "    x0 = 0.5\n",
    "    x = root(fun, x0, args = (S, K, T, r, div, C))\n",
    "    return x.x\n",
    "\n",
    "def BS_put_IV(S,K,T,r,div,P) :\n",
    "    def fun(x,S,K,T,r,div,Price) :\n",
    "        return BS_put(S,K,T,r,x,div) - Price\n",
    "    x0 = 0.5\n",
    "    x = root(fun, x0, args = (S, K, T, r, div, P))\n",
    "    return x.x"
   ]
  },
  {
   "cell_type": "code",
   "execution_count": 18,
   "metadata": {},
   "outputs": [
    {
     "data": {
      "text/plain": [
       "array([0.2])"
      ]
     },
     "execution_count": 18,
     "metadata": {},
     "output_type": "execute_result"
    }
   ],
   "source": [
    "BS_call_IV(S ,K,T,r,div, C = call)"
   ]
  },
  {
   "cell_type": "code",
   "execution_count": 19,
   "metadata": {
    "scrolled": true
   },
   "outputs": [
    {
     "data": {
      "text/plain": [
       "array([0.2])"
      ]
     },
     "execution_count": 19,
     "metadata": {},
     "output_type": "execute_result"
    }
   ],
   "source": [
    "BS_put_IV(S ,K,T,r,div, P = put)"
   ]
  },
  {
   "cell_type": "markdown",
   "metadata": {},
   "source": [
    " ## 2. Binomial"
   ]
  },
  {
   "cell_type": "code",
   "execution_count": 20,
   "metadata": {},
   "outputs": [],
   "source": [
    "def BN_call_IV(S,K,T,r,div,C,N) :\n",
    "    def fun(x , S, K , T, r, div , N,P) :\n",
    "        return BN_call(S,K,T,r,x,div,N)- P\n",
    "    x0 = 0.5\n",
    "    x = root(fun, x0, args = (S, K, T, r, div,N, C))\n",
    "    return x.x\n",
    "\n",
    "def BN_put_IV(S,K,T,r,div,P,N) :\n",
    "    def fun(x,S,K,T,r,div,N,Price) :\n",
    "        return BN_put(S,K,T,r,x,div,N) - Price\n",
    "    x0 = 0.5\n",
    "    x = root(fun, x0, args = (S, K, T, r, div,N, P))\n",
    "    return x.x"
   ]
  },
  {
   "cell_type": "code",
   "execution_count": 21,
   "metadata": {},
   "outputs": [
    {
     "data": {
      "text/plain": [
       "array([0.2])"
      ]
     },
     "execution_count": 21,
     "metadata": {},
     "output_type": "execute_result"
    }
   ],
   "source": [
    "BN_call_IV(S ,K,T,r,div, C = call3, N = N)"
   ]
  },
  {
   "cell_type": "code",
   "execution_count": 22,
   "metadata": {},
   "outputs": [
    {
     "data": {
      "text/plain": [
       "array([0.2])"
      ]
     },
     "execution_count": 22,
     "metadata": {},
     "output_type": "execute_result"
    }
   ],
   "source": [
    "BN_put_IV(S ,K,T,r,div, P = put3, N = N)"
   ]
  },
  {
   "cell_type": "markdown",
   "metadata": {},
   "source": [
    " # 연습문제\n",
    " \n",
    " ### 문제 1-1. 만기의 주가가 K 보다 큰 경우 1을 주고 그렇지 않은 경우 0을 주는 binary 콜옵션의 Black Scholes 가격을 구하는 함수를 만드시오.\n",
    " \n",
    " ### 문제 1-2. 만기의 주가가 K 보다 작은 경우 1을 주고 그렇지 않은 경우 0을 주는 binary 풋옵션의 Black Scholes 가격을 구하는 함수를 만드시오."
   ]
  },
  {
   "cell_type": "code",
   "execution_count": 23,
   "metadata": {},
   "outputs": [],
   "source": [
    "def BS_binary_call(S,K,T,r,sigma,div) :\n",
    "    #############################\n",
    "    ##풀이과정을 여기에 쓰세요 ##\n",
    "    #############################\n",
    "\n",
    "\n",
    "    #############################\n",
    "    return \n",
    "\n",
    "def BS_binary_put(S,K,T,r,sigma,div) :\n",
    "    #############################\n",
    "    ##풀이과정을 여기에 쓰세요 ##\n",
    "    #############################\n",
    "\n",
    "\n",
    "    #############################\n",
    "    return "
   ]
  },
  {
   "cell_type": "code",
   "execution_count": 24,
   "metadata": {},
   "outputs": [],
   "source": [
    "def BS_binary_call(S,K,T,r,sigma,div) :\n",
    "    d1 = (np.log(S / K) + (r -div + 0.5 * sigma ** 2) * T) / (sigma * np.sqrt(T))\n",
    "    d2 = d1 - sigma * np.sqrt(T)\n",
    "    c = np.exp(-r * T) * sts.norm.cdf(d2, 0.0, 1.0)\n",
    "    return c \n",
    "\n",
    "def BS_binary_put(S,K,T,r,sigma,div) :\n",
    "    d1 = (np.log(S / K) + (r -div + 0.5 * sigma ** 2) * T) / (sigma * np.sqrt(T))\n",
    "    d2 = d1 - sigma * np.sqrt(T)\n",
    "    p = np.exp(-r * T) * sts.norm.cdf(-d2, 0.0, 1.0)\n",
    "    return p\n"
   ]
  },
  {
   "cell_type": "code",
   "execution_count": 25,
   "metadata": {},
   "outputs": [
    {
     "data": {
      "text/plain": [
       "0.6449574164253773"
      ]
     },
     "execution_count": 25,
     "metadata": {},
     "output_type": "execute_result"
    }
   ],
   "source": [
    "bs_binary_c  = BS_binary_call(S,K,T,r,sigma,div) \n",
    "bs_binary_c"
   ]
  },
  {
   "cell_type": "code",
   "execution_count": 26,
   "metadata": {},
   "outputs": [
    {
     "data": {
      "text/plain": [
       "0.3401545231776853"
      ]
     },
     "execution_count": 26,
     "metadata": {},
     "output_type": "execute_result"
    }
   ],
   "source": [
    "bs_binary_p = BS_binary_put(S,K,T,r,sigma,div)\n",
    "bs_binary_p"
   ]
  },
  {
   "cell_type": "markdown",
   "metadata": {},
   "source": [
    " ### 문제 2-1. 만기의 주가가 K 보다 큰 경우 1을 주고 그렇지 않은 경우 0을 주는 binary 콜옵션의 이항모형 가격을 구하는 함수를 만드시오.\n",
    " \n",
    " ### 문제 2-2. 만기의 주가가 K 보다 작은 경우 1을 주고 그렇지 않은 경우 0을 주는 binary 풋옵션의 이항모형 가격을 구하는 함수를 만드시오."
   ]
  },
  {
   "cell_type": "code",
   "execution_count": 27,
   "metadata": {},
   "outputs": [],
   "source": [
    "def BN_binary_call(S,K,T,r,sigma,div) :\n",
    "    #############################\n",
    "    ##풀이과정을 여기에 쓰세요 ##\n",
    "    #############################\n",
    "\n",
    "\n",
    "    #############################\n",
    "    return \n",
    "\n",
    "def BN_binary_put(S,K,T,r,sigma,div) :\n",
    "    #############################\n",
    "    ##풀이과정을 여기에 쓰세요 ##\n",
    "    #############################\n",
    "\n",
    "\n",
    "    #############################\n",
    "    return "
   ]
  },
  {
   "cell_type": "code",
   "execution_count": 28,
   "metadata": {},
   "outputs": [],
   "source": [
    "def BN_binary_call(S ,K ,T, r, sigma , div, N) :\n",
    "    u,  d, p = UDP(r, div, sigma, T, N)\n",
    "    Payoff_Tree = S_Tree(S,N,u,d)[:,-1:]>=K\n",
    "    Temp = np.ones((N+1,1))\n",
    "    Temp[0] = 0\n",
    "    Number_of_u = Temp.cumsum(0).astype(np.int64)[::-1]\n",
    "    Weighted_Discount_Payoff = np.exp(-r*T) * ( Payoff_Tree * sts.binom.pmf(Number_of_u,N,p) )\n",
    "    C = Weighted_Discount_Payoff.sum()    \n",
    "    return C\n",
    "\n",
    "def BN_binary_put(S, K, T, r, sigma, div, N) :\n",
    "    u,  d, p = UDP(r, div, sigma, T, N)\n",
    "    Payoff_Tree = S_Tree(S,N,u,d)[:,-1:]<=K\n",
    "    Temp = np.ones((N+1,1))\n",
    "    Temp[0] = 0\n",
    "    Number_of_u = Temp.cumsum(0).astype(np.int64)[::-1]\n",
    "    Weighted_Discount_Payoff = np.exp(-r*T) * ( Payoff_Tree * sts.binom.pmf(Number_of_u,N,p) )\n",
    "    P = Weighted_Discount_Payoff.sum()    \n",
    "    return P"
   ]
  },
  {
   "cell_type": "code",
   "execution_count": 29,
   "metadata": {},
   "outputs": [
    {
     "data": {
      "text/plain": [
       "0.6416003497701392"
      ]
     },
     "execution_count": 29,
     "metadata": {},
     "output_type": "execute_result"
    }
   ],
   "source": [
    "bn_binary_call = BN_binary_call(S,K,T,r,sigma,div,N = 200)\n",
    "bn_binary_call"
   ]
  },
  {
   "cell_type": "code",
   "execution_count": 30,
   "metadata": {},
   "outputs": [
    {
     "data": {
      "text/plain": [
       "0.34351158983292696"
      ]
     },
     "execution_count": 30,
     "metadata": {},
     "output_type": "execute_result"
    }
   ],
   "source": [
    "bn_binary_put = BN_binary_put(S,K,T,r,sigma,div,N = 200)\n",
    "bn_binary_put"
   ]
  },
  {
   "cell_type": "markdown",
   "metadata": {},
   "source": [
    "  ### 문제 3. 유러피안 배리어 콜옵션(down-and-out, B> K)의 closed form 가격은 다음과 같다. 이를 계산해주는 함수를 만드시오.\n",
    "  \\\n",
    "$$\n",
    "\\begin{array}{c}\n",
    "C_{down-and-out} = S e^{-\\delta T} N(d_1 ) - K e^{-rT} N(d_2) - (\\frac{B}{S})^{1+2(r-\\delta)/\\sigma^2}  S e^{-\\delta T} N(h_1 ) + (\\frac{B}{S})^{-1+2(r-\\delta )/\\sigma^2} Ke^{-rT} N(h_2 )\n",
    "\\\\\n",
    "h_1 = \\frac{ ln(\\frac{B^2}{KS})+(r-\\delta + 0.5 \\sigma^2)T }{\\sigma \\sqrt{T} }\n",
    "\\\\\n",
    "h_2 = h_1 - \\sigma \\sqrt{T}\n",
    "\\end{array}\n",
    "$$  "
   ]
  },
  {
   "cell_type": "code",
   "execution_count": 31,
   "metadata": {},
   "outputs": [],
   "source": [
    "def BS_call_down_and_out(S,K,T,r,sigma,div,Barrier = 0.97) :\n",
    "    #############################\n",
    "    ##풀이과정을 여기에 쓰세요 ##\n",
    "    #############################\n",
    "\n",
    "\n",
    "    #############################\n",
    "    return "
   ]
  },
  {
   "cell_type": "code",
   "execution_count": 36,
   "metadata": {},
   "outputs": [],
   "source": [
    "def BS_call_down_and_out(S,K,T,r,sigma,div,Barrier = 0.97) :\n",
    "    B = Barrier * S\n",
    "    if B>K : \n",
    "        h1 = (np.log(B**2/(K*S)) + (r-div+0.5*sigma**2)*T)/(sigma*np.sqrt(T))\n",
    "        h2 = h1 - sigma * np.sqrt(T)\n",
    "        h1_term  = (B/S)**(1+2*(r-div)/sigma**2) * S * np.exp(-div*T) * sts.norm.cdf(h1)\n",
    "        h2_term  = (B/S)**(-1+2*(r-div)/sigma**2) * K * np.exp(-r*T) * sts.norm.cdf(h2)\n",
    "        return BS_call( S, K, T, r , sigma,div) - h1_term + h2_term    \n",
    "    else :\n",
    "        return BS_call( S, K, T, r , sigma,div)"
   ]
  },
  {
   "cell_type": "code",
   "execution_count": 49,
   "metadata": {
    "scrolled": true
   },
   "outputs": [
    {
     "data": {
      "text/plain": [
       "9.251090315022012"
      ]
     },
     "execution_count": 49,
     "metadata": {},
     "output_type": "execute_result"
    }
   ],
   "source": [
    "BS_call( S, K, T, r , sigma,div)"
   ]
  },
  {
   "cell_type": "code",
   "execution_count": 50,
   "metadata": {
    "scrolled": true
   },
   "outputs": [
    {
     "data": {
      "text/plain": [
       "3.7890911904708773"
      ]
     },
     "execution_count": 50,
     "metadata": {},
     "output_type": "execute_result"
    }
   ],
   "source": [
    "BS_call_down_and_out(S,K,T,r,sigma,div,Barrier = 0.97)"
   ]
  },
  {
   "cell_type": "markdown",
   "metadata": {},
   "source": [
    " ### 문제 4. A 주식과 B 주식은 모두 100원에 거래되며 변동성은 각각 20%, 30% 이며, 수익률의 상관계수는 0.57이다. 만기에 다음과 같은 Payoff를 지급하는 옵션의 가치를 계산하는 함수를 만드시오. 변수는 S1, S2, K, T, r, sigma1, sigma2, corr,div1, div2, simul_num을 받으시오. \\begin{array}{c} (S_A ,\\ S_B 는 \\ 각각 \\ 만기의 \\ A주식과 \\ B주식의 \\ 가치이다.) \\end{array}\n",
    " \n",
    "$$\n",
    "\\begin{array}{c}\n",
    "Payoff = max(\\sqrt{S_A\\bullet S_B} - K , 0)\n",
    "\\end{array}\n",
    "$$  "
   ]
  },
  {
   "cell_type": "code",
   "execution_count": 34,
   "metadata": {},
   "outputs": [],
   "source": [
    "def customized_option(S1,S2,K,T,r,sigma1,sigma2,corr,div1,div2,Sim_num = 10000) :    \n",
    "    #############################\n",
    "    ##풀이과정을 여기에 쓰세요 ##\n",
    "    #############################\n",
    "\n",
    "\n",
    "    #############################    \n",
    "    return "
   ]
  },
  {
   "cell_type": "code",
   "execution_count": 35,
   "metadata": {},
   "outputs": [],
   "source": [
    "def customized_option(S1,S2,K,T,r,sigma1,sigma2,corr,div1,div2,Sim_num = 10000) :    \n",
    "    e12 = np.random.multivariate_normal([0,0], np.array([[1,corr],[corr,1]]), Sim_num)\n",
    "    e1 = e12[:,0]\n",
    "    e2 = e12[:,1]\n",
    "    simul_S1 = S1 * np.exp((r-div1-0.5*sigma1**2)*T + sigma1 * np.sqrt(T) * e1)\n",
    "    simul_S2 = S2 * np.exp((r-div2-0.5*sigma2**2)*T + sigma2 * np.sqrt(T) * e2)\n",
    "    return np.exp(-r*T)*np.maximum(np.sqrt(simul_S1 * simul_S2)-K,0).mean()"
   ]
  },
  {
   "cell_type": "code",
   "execution_count": 36,
   "metadata": {
    "scrolled": false
   },
   "outputs": [
    {
     "data": {
      "text/plain": [
       "9.63600532124204"
      ]
     },
     "execution_count": 36,
     "metadata": {},
     "output_type": "execute_result"
    }
   ],
   "source": [
    "customized_option(100,100,95,T,sigma1 = 0.2, sigma2 = 0.3, div1 = 0, div2 = 0, r = r , corr = 0.57)"
   ]
  },
  {
   "cell_type": "code",
   "execution_count": null,
   "metadata": {},
   "outputs": [],
   "source": []
  }
 ],
 "metadata": {
  "kernelspec": {
   "display_name": "Python 3",
   "language": "python",
   "name": "python3"
  },
  "language_info": {
   "codemirror_mode": {
    "name": "ipython",
    "version": 3
   },
   "file_extension": ".py",
   "mimetype": "text/x-python",
   "name": "python",
   "nbconvert_exporter": "python",
   "pygments_lexer": "ipython3",
   "version": "3.8.5"
  }
 },
 "nbformat": 4,
 "nbformat_minor": 4
}
