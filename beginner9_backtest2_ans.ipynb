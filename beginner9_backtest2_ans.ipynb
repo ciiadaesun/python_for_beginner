{
 "cells": [
  {
   "cell_type": "code",
   "execution_count": 23,
   "metadata": {
    "scrolled": true
   },
   "outputs": [
    {
     "name": "stdout",
     "output_type": "stream",
     "text": [
      "C:\\Users\\USER\\Quant\n"
     ]
    }
   ],
   "source": [
    "cd C:\\Users\\USER\\Quant"
   ]
  },
  {
   "cell_type": "code",
   "execution_count": 24,
   "metadata": {},
   "outputs": [],
   "source": [
    "import Quant as Quant\n",
    "import numpy as np\n",
    "import pandas as pd\n",
    "import matplotlib.pyplot as plt\n",
    "from dateutil.relativedelta import relativedelta\n",
    "import warnings\n",
    "warnings.filterwarnings(action='ignore')"
   ]
  },
  {
   "cell_type": "code",
   "execution_count": 25,
   "metadata": {},
   "outputs": [],
   "source": [
    "path = '재무데이터.xlsx'\n",
    "path_price = '수정주가.csv'\n",
    "path_mkt = '시총데이터.csv'\n",
    "path_endmonth = '결산월.csv'\n",
    "path_kospiyn = '거래소데이터.csv'\n",
    "path_delist_and_stop = '상장폐지데이터.csv'"
   ]
  },
  {
   "cell_type": "code",
   "execution_count": 26,
   "metadata": {},
   "outputs": [],
   "source": [
    "cleaned_data = Quant.preprocessing_path(path)\n",
    "cleaned_price = Quant.preprocessing_price(path_price)\n",
    "cleaned_kospiyn = Quant.preprocessing_kospiyn(path_kospiyn)\n",
    "cleaned_mkt = Quant.preprocessing_mktdata(path_mkt)\n",
    "delist_data, stop_data = Quant.preprocessing_stop_and_delist(path_delist_and_stop)\n",
    "cleaned_endmonth = Quant.preprocessing_period(path_endmonth)"
   ]
  },
  {
   "cell_type": "code",
   "execution_count": 27,
   "metadata": {},
   "outputs": [],
   "source": [
    "def price_after_delist(cleaned_price, delist_data) :\n",
    "    cleaned_price2 = cleaned_price.copy()\n",
    "    x1_list = delist_data.index\n",
    "    x2_list = list(delist_data[delist_data.columns[0]])    \n",
    "    \n",
    "    lst = []\n",
    "    for i in range(len(x1_list)) :\n",
    "        x1, x2 = x1_list[i], x2_list[i]\n",
    "        cleaned_price2[x1][x2:] = np.zeros(len(cleaned_price2[x1][x2:]))\n",
    "        lst.append(cleaned_price2[x1])\n",
    "    p1 = cleaned_price2[cleaned_price2.columns.difference(x1_list)]\n",
    "    p2 = pd.concat(lst,axis = 1)\n",
    "    p = pd.concat([p1,p2],axis = 1)\n",
    "    return p[cleaned_price2.columns]"
   ]
  },
  {
   "cell_type": "code",
   "execution_count": 28,
   "metadata": {},
   "outputs": [],
   "source": [
    "def preprocessing_backtest(cleaned_data, cleaned_price, cleaned_mkt, \n",
    "                           delist_data, stop_data) :\n",
    "    extreme_return = (cleaned_price.pct_change() > 3).max(0)\n",
    "    not_extreme = extreme_return[extreme_return == False].index\n",
    "    P = cleaned_price[not_extreme].resample('M').last()\n",
    "    STOP = stop_data['거래정지여부'].loc[not_extreme].T.resample('M').last()\n",
    "    DELIST = delist_data.loc[delist_data.index.intersection(not_extreme)]\n",
    "    FINANCE = cleaned_data.loc[not_extreme]\n",
    "    P = price_after_delist(P, DELIST)\n",
    "    MKT = cleaned_mkt[not_extreme].resample('M').last()\n",
    "    return FINANCE, P, MKT, DELIST, STOP"
   ]
  },
  {
   "cell_type": "code",
   "execution_count": 29,
   "metadata": {},
   "outputs": [],
   "source": [
    "def calculate_data_Q_before_2001(rebalance_day):\n",
    "    if rebalance_day.month <= 5 :\n",
    "        data_Q = str(rebalance_day.year - 2) + '-12-31'\n",
    "    else :\n",
    "        data_Q = str(rebalance_day.year - 1) + '-12-31'\n",
    "    return pd.to_datetime(data_Q)"
   ]
  },
  {
   "cell_type": "code",
   "execution_count": 30,
   "metadata": {},
   "outputs": [],
   "source": [
    "def calculate_data_Q_after_2001(rebalance_day):\n",
    "    year = rebalance_day.year\n",
    "    bQ3 = pd.to_datetime(str(year-1) + '-09-30')\n",
    "    bQ4 = pd.to_datetime(str(year-1)+'-12-31')\n",
    "    Q1 = pd.to_datetime(str(year)+'-03-31')\n",
    "    Q2 = pd.to_datetime(str(year)+'-06-30')\n",
    "    Q3 = pd.to_datetime(str(year)+'-09-30')\n",
    "    bQ4_report_day = bQ4 + relativedelta(days = 121)\n",
    "    Q1_report_day = Q1 + relativedelta(days = 76)\n",
    "    Q2_report_day = Q2 + relativedelta(days = 76)\n",
    "    Q3_report_day = Q3 + relativedelta(days = 76)\n",
    "    if rebalance_day <= bQ4_report_day :\n",
    "        data_Q = bQ3\n",
    "    elif rebalance_day > bQ4_report_day and rebalance_day <= Q1_report_day :\n",
    "        data_Q = bQ4\n",
    "    elif rebalance_day > Q1_report_day and rebalance_day <= Q2_report_day :\n",
    "        data_Q = Q1\n",
    "    elif rebalance_day > Q2_report_day and rebalance_day <= Q3_report_day :\n",
    "        data_Q = Q2\n",
    "    else :        \n",
    "        data_Q = Q3\n",
    "    return data_Q"
   ]
  },
  {
   "cell_type": "code",
   "execution_count": 31,
   "metadata": {},
   "outputs": [],
   "source": [
    "def calculate_data_Q(rebalance_day) :\n",
    "    rebalance_day = pd.to_datetime(rebalance_day)\n",
    "    if rebalance_day < pd.to_datetime('2001-05-01') :\n",
    "        data_Q = calculate_data_Q_before_2001(rebalance_day)\n",
    "    else :\n",
    "        data_Q = calculate_data_Q_after_2001(rebalance_day)\n",
    "    return data_Q"
   ]
  },
  {
   "cell_type": "markdown",
   "metadata": {},
   "source": [
    "### 문제 6.\n",
    "\n",
    " 문제 2에서 만든 함수를 기반으로, 다음과 같은 변수를 지정한다.  \n",
    " FINANCE, PRICE, MKT, DELIST, STOP = preprocessing_backtest(cleaned_data, cleaned_price, cleaned_mkt, delist_data, stop_data)\n",
    " \n",
    " 다음 함수는 아래 기준에 따라 today에 매매 가능한 종목들을 스크리닝하는 함수이다.\n",
    " \n",
    " def available_stock(today, FINANCE, DELIST, cleaned_kospiyn , STOP) :\n",
    " \n",
    "     1. today를 기준으로 과거에 상장폐지된 종목들을 제외한 종목들을 뽑음\n",
    "     \n",
    "     2. today를 기준으로 코스피 시장에 거래되는 종목들\n",
    "     \n",
    "     3. today를 기준으로 거래정지되지 않는 종목들\n",
    "     \n",
    "     4. 1,2,3을 intersection\n",
    "     \n",
    "     return stock_index # today기준으로 투자가능한 종목들을 인덱스로 출력\n",
    "     \n",
    " 현재 1,2까지는 진행되었다.  3,4번을 진행하시오. my_index.difference(index2) , my_index.intersection(index2)를 활용하시오"
   ]
  },
  {
   "cell_type": "code",
   "execution_count": 32,
   "metadata": {},
   "outputs": [],
   "source": [
    "#FINANCE, PRICE, MKT, DELIST, STOP = preprocessing_backtest(cleaned_data, cleaned_price, cleaned_mkt, delist_data, stop_data)"
   ]
  },
  {
   "cell_type": "code",
   "execution_count": 33,
   "metadata": {},
   "outputs": [],
   "source": [
    "def available_stock(today, FINANCE, DELIST, cleaned_kospiyn,STOP) :\n",
    "    ##########################################################################\n",
    "    ################ 1.이미 상장폐지된 종목들 제거하기 #######################    \n",
    "    before_DELIST = DELIST[DELIST['상장폐지일자']<today].index\n",
    "    not_delist = FINANCE.index.difference(before_DELIST)\n",
    "    ##########################################################################\n",
    "    ################ 2.오늘 KOSPI 시장에 상장된 종목만 꺼내기 ################    \n",
    "    KYN = cleaned_kospiyn.resample('M').last().fillna(method = 'ffill',limit = 7)\n",
    "    one_before = pd.to_datetime(today) - relativedelta(years = 1)\n",
    "    today_kospiyn = KYN[one_before:today].iloc[-1]\n",
    "    kospi_index = today_kospiyn[today_kospiyn == 1].index\n",
    "    ##########################################################################\n",
    "    ################ 3.오늘 거래정지되지 않은 종목만 꺼내기   ################   \n",
    "    not_stopped = STOP[one_before:today].iloc[-1][STOP[one_before:today].iloc[-1] !=1].index\n",
    "    stock_index = not_delist.intersection(kospi_index).intersection(not_stopped)\n",
    "    return stock_index"
   ]
  },
  {
   "cell_type": "markdown",
   "metadata": {},
   "source": [
    " ### 문제 7.\n",
    " \n",
    " 아래의 함수는 Choose_Str를 vectorize하는 과정이다. \n",
    "  \n",
    " 여러 개의 날짜리스트와 data_Q_list를 넣으면 자동으로 그 날짜에 해당되는 종목이 추출되는 논리이다.\n",
    " \n",
    " rebalance_day_list = pd.to_datetime(['2005-09-30','2005-12-31','2006-03-31','2006-06-30','2006-09-30'])\n",
    "\n",
    "data_Q_list = pd.to_datetime(['2005-06-30','2005-09-30','2005-09-30','2006-03-31','2006-06-30'])\n",
    "\n",
    "Strategy = Quant.Value (본인이 만든 모듈명.함수)\n",
    "\n",
    "위의 세 개의 변수와 n = 50을 넣고 vectorized_choose_str 함수를 실행해보고 왜 결과가 그렇게 나오는지 이해하시오."
   ]
  },
  {
   "cell_type": "code",
   "execution_count": 34,
   "metadata": {
    "scrolled": true
   },
   "outputs": [],
   "source": [
    "def vectorized_choose_str(Strategy, FINANCE, MKT, PRICE, STOP, rebalance_day_list,data_Q_list,cleaned_kospiyn, DELIST, n) :\n",
    "\n",
    "    def Choose_Str( today, data_Q , Strategy = Strategy, FINANCE = FINANCE, \n",
    "                    PRICE = PRICE, MKT = MKT,DELIST = DELIST,STOP = STOP,\n",
    "                   cleaned_kospiyn =cleaned_kospiyn, n=n ) :\n",
    "        \n",
    "        stock_index = available_stock(today, FINANCE, DELIST, cleaned_kospiyn,STOP)\n",
    "        Str_data = Strategy(cleaned_data = FINANCE.loc[stock_index] , cleaned_mkt = MKT[stock_index],\n",
    "                            data_date = data_Q, today = today, \n",
    "                            n = n, cleaned_price = PRICE[stock_index])\n",
    "        my_index = Str_data.index\n",
    "        return my_index    \n",
    "    \n",
    "    return np.vectorize(Choose_Str)(rebalance_day_list, data_Q_list)"
   ]
  },
  {
   "cell_type": "markdown",
   "metadata": {},
   "source": [
    " #### 결과창"
   ]
  },
  {
   "cell_type": "code",
   "execution_count": 35,
   "metadata": {},
   "outputs": [
    {
     "data": {
      "text/plain": [
       "array([Index(['A024890', 'A024100', 'A010960', 'A009070', 'A014590', 'A000490',\n",
       "       'A003830', 'A002820', 'A005090', 'A004890', 'A025860', 'A021820',\n",
       "       'A002720', 'A007980', 'A001340', 'A007280', 'A016380', 'A004820',\n",
       "       'A014990', 'A006650', 'A012800', 'A003010', 'A014530', 'A002900',\n",
       "       'A000500', 'A015230', 'A003070', 'A003280', 'A071090', 'A021050',\n",
       "       'A004430', 'A018500', 'A001020', 'A018470', 'A006060', 'A012320',\n",
       "       'A003030', 'A005800', 'A008020', 'A000850', 'A000990', 'A010660',\n",
       "       'A004800', 'A008500', 'A003610', 'A005880', 'A015260', 'A000910',\n",
       "       'A013360', 'A001550'],\n",
       "      dtype='object'),\n",
       "       Index(['A007980', 'A000490', 'A014590', 'A004060', 'A007280', 'A003490',\n",
       "       'A010960', 'A021050', 'A009470', 'A018470', 'A017940', 'A004700',\n",
       "       'A002200', 'A064420', 'A005030', 'A001790', 'A000700', 'A011020',\n",
       "       'A002720', 'A008870', 'A023450', 'A000590', 'A005820', 'A005090',\n",
       "       'A006650', 'A027740', 'A008500', 'A004090', 'A007700', 'A000850',\n",
       "       'A014300', 'A001460', 'A009270', 'A009690', 'A009830', 'A004970',\n",
       "       'A007540', 'A009450', 'A012800', 'A000360', 'A004820', 'A000480',\n",
       "       'A011200', 'A019300', 'A015110', 'A011170', 'A004430', 'A001340',\n",
       "       'A005430', 'A069260'],\n",
       "      dtype='object'),\n",
       "       Index(['A007980', 'A000490', 'A014590', 'A007280', 'A010960', 'A009470',\n",
       "       'A017940', 'A018470', 'A006650', 'A021050', 'A004060', 'A002200',\n",
       "       'A008500', 'A001790', 'A004700', 'A000590', 'A002720', 'A011020',\n",
       "       'A003490', 'A000850', 'A064420', 'A005820', 'A000360', 'A021820',\n",
       "       'A004090', 'A014300', 'A008870', 'A006740', 'A004430', 'A001460',\n",
       "       'A009690', 'A000700', 'A003280', 'A012800', 'A005090', 'A001340',\n",
       "       'A008700', 'A005430', 'A002900', 'A005030', 'A009450', 'A004970',\n",
       "       'A003650', 'A004820', 'A010660', 'A011280', 'A015110', 'A000480',\n",
       "       'A017900', 'A004890'],\n",
       "      dtype='object')], dtype=object)"
      ]
     },
     "execution_count": 35,
     "metadata": {},
     "output_type": "execute_result"
    }
   ],
   "source": [
    "rebalance_day_list = pd.to_datetime(['2005-09-30','2005-12-31','2006-03-31'])\n",
    "data_Q_list = pd.to_datetime(['2005-06-30','2005-09-30','2005-09-30'])\n",
    "Strategy= Quant.Value\n",
    "n = 50\n",
    "FINANCE, PRICE, MKT, DELIST, STOP = preprocessing_backtest(cleaned_data, cleaned_price, cleaned_mkt, delist_data, stop_data)\n",
    "vectorized_choose_str(Strategy, FINANCE, MKT, PRICE, STOP, rebalance_day_list,data_Q_list,cleaned_kospiyn, DELIST, n)"
   ]
  },
  {
   "cell_type": "markdown",
   "metadata": {},
   "source": [
    " ### 다음은 백테스트를 위한 변수들의 기본 셋팅이다. 변수들을 확인하고 물음에 답하라."
   ]
  },
  {
   "cell_type": "code",
   "execution_count": 36,
   "metadata": {},
   "outputs": [],
   "source": [
    "start_day = '2004-12-31'\n",
    "end_day = '2005-09-30'\n",
    "number_of_stock = 200\n",
    "initial_money = 10000\n",
    "rebalance_freq = 3\n",
    "Strategy = Quant.F_score\n",
    "####################\n",
    "## 함수 기본 셋팅 ##\n",
    "##########################\n",
    "n = number_of_stock    ### 뽑을 종목 숫자 ########    \n",
    "today , end_day = pd.to_datetime(start_day), pd.to_datetime(end_day)               ##\n",
    "PF_Value = pd.DataFrame([])             ## 포트폴리오 총가치를 표시할 DataFrame    ##  \n",
    "#####################################################################################\n",
    "\n",
    "KOSPIYN = cleaned_kospiyn.resample('M').last().fillna(method = 'ffill', limit = 1) \n",
    "############################################\n",
    "## 리벨런스 날짜 and 재무데이터 기준 날짜 ##\n",
    "##########################################################################################\n",
    "rebalance_day_list = list(pd.date_range(start_day ,end_day, freq = 'M')[::rebalance_freq]) \n",
    "data_Q_list = np.vectorize(calculate_data_Q)(rebalance_day_list)\n",
    "##########################################################################################\n",
    "FINANCE, PRICE, MKT, DELIST, STOP = preprocessing_backtest(cleaned_data, cleaned_price, cleaned_mkt, \n",
    "                                                   delist_data, stop_data)\n",
    "######################################################\n",
    "## 리벨런스 날짜와 재무데이터 날짜에 맞게 종목 선택 ##\n",
    "######################################################\n",
    "choosed_stock_list = list(vectorized_choose_str(Strategy, FINANCE, MKT, PRICE, STOP, \n",
    "                                                rebalance_day_list,data_Q_list,KOSPIYN,DELIST, n))"
   ]
  },
  {
   "cell_type": "markdown",
   "metadata": {},
   "source": [
    "문제 8. 이전 기 포트폴리오의 거래정지된 종목들의 총가치는 다음과 같다.\n",
    "\n",
    "| |A013890|A000110|\n",
    "|------|---|---|\n",
    "| 2004-09-30|100 |50 |\n",
    "| 2004-10-31|100 |50 |\n",
    "| 2004-11-30|100 |50 |\n",
    "| 2004-12-31|100 |50 |\n",
    "\n",
    "리벨런싱 날짜의 총자산은 10000원이고 거래정지된 종목을 제외하면 투자가능한 금액은 9850원이다.\n",
    "\n",
    "리벨런싱 주기는 3개월이고, 이번기에는 Quant.F_score를 통해 200종목을 뽑고 포트폴리오 가치를 구하려고 한다.\n",
    "\n",
    "(위의 choosed_stock_list에 기본 셋팅에 되어있음)\n",
    "\n",
    "다음 리벨런싱날짜까지의 포트폴리오 가치를 계산해주는 my_port_value 함수를 만드세요.\n",
    "\n",
    "리벨런싱day가 2004-12-31이면 다음 리벨런싱날짜는 2005년 3월 31일 입니다.\n",
    "\n",
    "거래정지 데이터를 모두 감안하시오.\n",
    "\n",
    "(거래정지가 되는경우 해당 종목은 매도할 수 없습니다. 따라서 initial_value_except_stop 계산)\n",
    "\n",
    "\n",
    "def my_port_value(choosed_stock_index,start_day , Before_STOP_VALUE, \n",
    "                  rebalance_freq , PRICE, initial_money,\n",
    "                  initial_money_except_stop,STOP):\n",
    "                  \n",
    "    ############### 전략을 실행했을 때 한 기간동안 포트폴리오의 가치를 구해줍니다. ##########\n",
    "    \n",
    "    return Total_VALUE, Before_STOP_VALUE,initial_money , initial_money_except_stop"
   ]
  },
  {
   "cell_type": "code",
   "execution_count": 37,
   "metadata": {},
   "outputs": [],
   "source": [
    "initial_money = 10000\n",
    "Before_STOP_VALUE = pd.DataFrame(np.array([[100]*4,[50]*4]).T ,\n",
    "                                 columns = ['A013890','A000110'],\n",
    "                                 index = pd.date_range('2004-09-30','2004-12-31',freq = 'M'))\n",
    "Before_STOP_VALUE.index.name =cleaned_price.index.name\n",
    "initial_money_except_stop = initial_money - Before_STOP_VALUE.iloc[-1].sum()\n",
    "i = 0\n",
    "choosed_stock_index = choosed_stock_list[i]\n",
    "start_day = rebalance_day_list[i]"
   ]
  },
  {
   "cell_type": "code",
   "execution_count": 16,
   "metadata": {},
   "outputs": [],
   "source": [
    "def my_port_value(choosed_stock_index,start_day , Before_STOP_VALUE, \n",
    "                  rebalance_freq , PRICE, initial_money,\n",
    "                  initial_money_except_stop,STOP):\n",
    "    ##################################################################################\n",
    "    ## choosed_name = 전략으로 선택된 종목중에 이전기에 거래정지된 종목이 아닌 종목 ##\n",
    "    ##################################################################################\n",
    "    choosed_name = choosed_stock_index.difference(Before_STOP_VALUE.columns)\n",
    "    start = start_day\n",
    "    end = start + pd.DateOffset(months = rebalance_freq, day = 31)\n",
    "    choosed_name = PRICE[choosed_name][start:end].iloc[0].dropna().index\n",
    "    #######################################################\n",
    "    ## STOP_P = 이전기에 정지된 종목들의 이번기 가격     ##\n",
    "    ## P = 전략으로 선택된 종목들의 가격 (0인경우 제외)  ##\n",
    "    ## N = 선택된 나머지 종목 수                         ##\n",
    "    #######################################################    \n",
    "    STOP_P = PRICE[Before_STOP_VALUE.columns][start:end]\n",
    "    P = PRICE[choosed_name][start:end]\n",
    "    P_is_not_0 = P.iloc[0] != 0\n",
    "    not_0 = P_is_not_0[P_is_not_0 == True].index\n",
    "    P = P[not_0]\n",
    "    N = len(P.columns)\n",
    "    #########################################################################\n",
    "    ## PF = 거래정지 안된 포트폴리오 종목들의 가치                         ##\n",
    "    ## STOP_PF = 기존에 포트폴리오의 거래정지된 종목들의 시간에 따른 가치  ##\n",
    "    ## Total_PF = PF, STOP_PF를 합친 포트폴리오 종목들의 가치              ##\n",
    "    #########################################################################    \n",
    "    PF = initial_money_except_stop * 1/N * P/P.iloc[0]\n",
    "    STOP_PF = Before_STOP_VALUE.iloc[-1] * STOP_P/STOP_P.iloc[0]\n",
    "    Total_PF = pd.concat([PF,STOP_PF],axis = 1)    \n",
    "    #######################################################\n",
    "    ## NEW_STOP_INDEX = 이번기에 새롭게 거래정지된 종목  ##\n",
    "    ## Total_Value = 전체 포트폴리오 총가치              ##\n",
    "    #######################################################\n",
    "    S = STOP[Total_PF.columns][start: end].iloc[-1] == 1  ### Total_PF에서 end날짜에 거래 정지된 종목이 있는지 확인한다.\n",
    "    NEW_STOP_INDEX = S[S == True].index                   ### Total_PF에서 end날짜에 거래정지된 항목들을 새로 저장한다.\n",
    "    Total_Value = pd.Series(Total_PF.sum(1))               \n",
    "    \n",
    "    Before_STOP_VALUE = Total_PF[NEW_STOP_INDEX]\n",
    "    \n",
    "    initial_money = Total_Value.iloc[-1]\n",
    "    initial_money_except_stop = initial_money - Before_STOP_VALUE.iloc[-1].sum()    \n",
    "    \n",
    "    return Total_Value, Before_STOP_VALUE,initial_money , initial_money_except_stop"
   ]
  },
  {
   "cell_type": "markdown",
   "metadata": {},
   "source": [
    " ### 결과창"
   ]
  },
  {
   "cell_type": "code",
   "execution_count": 17,
   "metadata": {
    "scrolled": true
   },
   "outputs": [],
   "source": [
    "Total_Value, Before_STOP_VALUE,initial_money , initial_money_except_stop = my_port_value(choosed_stock_index,start_day , Before_STOP_VALUE, \n",
    "                  rebalance_freq , PRICE, initial_money,\n",
    "                  initial_money_except_stop,STOP)"
   ]
  },
  {
   "cell_type": "markdown",
   "metadata": {},
   "source": [
    " ### 문제 9.\n",
    " \n",
    " 다음 기본 셋팅과 my_port_value 함수를 이용해서 start_day부터 end_day까지 전략을 백테스트하는 모형을 만드시오."
   ]
  },
  {
   "cell_type": "code",
   "execution_count": 22,
   "metadata": {},
   "outputs": [],
   "source": [
    "def backtest(Strategy , start_day, end_day, cleaned_data, cleaned_price, cleaned_mkt, delist_data, stop_data,cleaned_kospiyn,\n",
    "             rebalance_freq = 6, number_of_stock = 50, initial_money = 10000) :\n",
    "    ###############\n",
    "    ## 기본 셋팅 ##\n",
    "    ##########################\n",
    "    n = number_of_stock    ### 뽑을 종목 숫자 ########\n",
    "    today , end_day = pd.to_datetime(start_day), pd.to_datetime(end_day)               ##\n",
    "    PF_Value = pd.DataFrame([])             ## 포트폴리오 총가치를 표시할 DataFrame    ##  \n",
    "    #####################################################################################\n",
    "    \n",
    "    KOSPIYN = cleaned_kospiyn.resample('M').last().fillna(method = 'ffill', limit = 1) \n",
    "    ############################################\n",
    "    ## 리벨런스 날짜 and 재무데이터 기준 날짜 ##\n",
    "    ##########################################################################################\n",
    "    rebalance_day_list = list(pd.date_range(start_day ,end_day, freq = 'M')[::rebalance_freq]) \n",
    "    data_Q_list = np.vectorize(calculate_data_Q)(rebalance_day_list)\n",
    "    ##########################################################################################\n",
    "    FINANCE, PRICE, MKT, DELIST, STOP = preprocessing_backtest(cleaned_data, cleaned_price, cleaned_mkt, \n",
    "                                                       delist_data, stop_data)\n",
    "    ######################################################\n",
    "    ## 리벨런스 날짜와 재무데이터 날짜에 맞게 종목 선택 ##\n",
    "    ######################################################\n",
    "    choosed_stock_list = list(vectorized_choose_str(Strategy, FINANCE, MKT, PRICE, STOP, \n",
    "                                                    rebalance_day_list,data_Q_list,KOSPIYN,DELIST, n))\n",
    "    \n",
    "    Before_STOP_VALUE = pd.DataFrame([], index = [today]) ## 거래정지 종목을 표시할 DataFrame ########################\n",
    "    initial_money_except_stop = initial_money -Before_STOP_VALUE.iloc[-1].sum()  ## 거래정지 제외하고 투자가치의 합 ##     \n",
    "    \n",
    "    for i in range(len(rebalance_day_list)) :\n",
    "        choosed_stock_index = choosed_stock_list[i]\n",
    "        start_day = rebalance_day_list[i]\n",
    "        Total_Value, Before_STOP_VALUE,initial_money , initial_money_except_stop = my_port_value(choosed_stock_index, start_day,\n",
    "                                                                                           Before_STOP_VALUE,\n",
    "                                                                                           rebalance_freq, PRICE, \n",
    "                                                                                           initial_money,\n",
    "                                                                                           initial_money_except_stop, STOP)\n",
    "        PF_Value = pd.concat([PF_Value, Total_Value.iloc[:-1]],axis = 0)\n",
    "    PF_Value.columns = ['Port_Value']\n",
    "    return PF_Value.astype(np.int64)"
   ]
  },
  {
   "cell_type": "code",
   "execution_count": 21,
   "metadata": {
    "scrolled": true
   },
   "outputs": [],
   "source": [
    "start_day = '2000-06-30'\n",
    "end_day = '2021-01-31'\n",
    "PF = backtest(Quant.F_score , start_day, end_day, cleaned_data, cleaned_price, cleaned_mkt, delist_data, stop_data,cleaned_kospiyn,\n",
    "              rebalance_freq = 3, number_of_stock = 50, initial_money = 10000)"
   ]
  },
  {
   "cell_type": "code",
   "execution_count": 16,
   "metadata": {
    "scrolled": true
   },
   "outputs": [
    {
     "data": {
      "text/plain": [
       "<BarContainer object of 21 artists>"
      ]
     },
     "execution_count": 16,
     "metadata": {},
     "output_type": "execute_result"
    },
    {
     "data": {
      "image/png": "[encoded data removed]",
      "text/plain": [
       "<Figure size 432x288 with 1 Axes>"
      ]
     },
     "metadata": {
      "needs_background": "light"
     },
     "output_type": "display_data"
    }
   ],
   "source": [
    "ind= np.arange(len(PF.resample('Y').last().pct_change()))\n",
    "real_index = list(pd.Series(PF.resample('Y').last().pct_change().index).apply(lambda x : x.year))\n",
    "plt.xticks(ind, real_index, rotation='vertical')\n",
    "plt.bar(ind,PF.resample('Y').last().pct_change()['Port_Value'], color = 'blue')"
   ]
  },
  {
   "cell_type": "code",
   "execution_count": null,
   "metadata": {},
   "outputs": [],
   "source": []
  }
 ],
 "metadata": {
  "kernelspec": {
   "display_name": "Python 3",
   "language": "python",
   "name": "python3"
  },
  "language_info": {
   "codemirror_mode": {
    "name": "ipython",
    "version": 3
   },
   "file_extension": ".py",
   "mimetype": "text/x-python",
   "name": "python",
   "nbconvert_exporter": "python",
   "pygments_lexer": "ipython3",
   "version": "3.8.5"
  }
 },
 "nbformat": 4,
 "nbformat_minor": 4
}
