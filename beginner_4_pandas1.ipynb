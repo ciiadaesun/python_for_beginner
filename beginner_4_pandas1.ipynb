{
 "cells": [
  {
   "cell_type": "code",
   "execution_count": null,
   "metadata": {},
   "outputs": [],
   "source": [
    "import pandas as pd\n",
    "import numpy as np\n",
    "import matplotlib.pyplot as plt"
   ]
  },
  {
   "cell_type": "code",
   "execution_count": null,
   "metadata": {
    "scrolled": false
   },
   "outputs": [],
   "source": [
    "x = pd.Series(np.arange(5,10)) # array >> Series\n",
    "x"
   ]
  },
  {
   "cell_type": "code",
   "execution_count": null,
   "metadata": {},
   "outputs": [],
   "source": [
    "xx = pd.Series([5,6,7,8,9]) # list >> Series\n",
    "xx"
   ]
  },
  {
   "cell_type": "markdown",
   "metadata": {},
   "source": [
    " #### Operator"
   ]
  },
  {
   "cell_type": "code",
   "execution_count": null,
   "metadata": {},
   "outputs": [],
   "source": [
    "x.sum()"
   ]
  },
  {
   "cell_type": "code",
   "execution_count": null,
   "metadata": {},
   "outputs": [],
   "source": [
    "x.cumsum()"
   ]
  },
  {
   "cell_type": "code",
   "execution_count": null,
   "metadata": {},
   "outputs": [],
   "source": [
    "xx.diff()"
   ]
  },
  {
   "cell_type": "code",
   "execution_count": null,
   "metadata": {},
   "outputs": [],
   "source": [
    "y = pd.Series(np.arange(15,20),\n",
    "              index = np.vectorize(chr)(np.arange(65,70)))\n",
    "y"
   ]
  },
  {
   "cell_type": "code",
   "execution_count": null,
   "metadata": {},
   "outputs": [],
   "source": [
    "x+y"
   ]
  },
  {
   "cell_type": "code",
   "execution_count": null,
   "metadata": {},
   "outputs": [],
   "source": [
    "samsung = {'name' : 'samsung', 'beta' : 1.35 , 'realized_return' : 0.09}\n",
    "s1 = pd.Series(samsung)\n",
    "s1"
   ]
  },
  {
   "cell_type": "markdown",
   "metadata": {},
   "source": [
    " #### apply : 원소들에게 각각 함수를 적용해서 return한다."
   ]
  },
  {
   "cell_type": "code",
   "execution_count": null,
   "metadata": {},
   "outputs": [],
   "source": [
    "def isnumber(x) :\n",
    "    if type(x) == int or type(x) ==float :\n",
    "        return 1\n",
    "    else :\n",
    "        return 0"
   ]
  },
  {
   "cell_type": "code",
   "execution_count": null,
   "metadata": {},
   "outputs": [],
   "source": [
    "s1.apply(isnumber)"
   ]
  },
  {
   "cell_type": "markdown",
   "metadata": {},
   "source": [
    " #### Series는 iloc이나 숫자 인덱싱 모두 가능합니다.\n"
   ]
  },
  {
   "cell_type": "code",
   "execution_count": null,
   "metadata": {
    "scrolled": true
   },
   "outputs": [],
   "source": [
    "s1.iloc[1:]"
   ]
  },
  {
   "cell_type": "code",
   "execution_count": null,
   "metadata": {},
   "outputs": [],
   "source": [
    "s1[1:]"
   ]
  },
  {
   "cell_type": "code",
   "execution_count": null,
   "metadata": {},
   "outputs": [],
   "source": [
    "Z = pd.Series(np.random.normal(0,5,size = 5).round(3), \n",
    "              index = np.vectorize(chr)(np.arange(65,70)))\n",
    "Z"
   ]
  },
  {
   "cell_type": "markdown",
   "metadata": {},
   "source": [
    " #### pd.concat 두 시리즈 합치기"
   ]
  },
  {
   "cell_type": "code",
   "execution_count": null,
   "metadata": {},
   "outputs": [],
   "source": [
    "temp = pd.Series(np.repeat([np.nan],3), index = np.arange(3))\n",
    "temp2 = pd.Series(temp,index = np.arange(4,8))\n",
    "temp3 = pd.concat([temp,Z,temp2],axis =0)\n",
    "temp3"
   ]
  },
  {
   "cell_type": "markdown",
   "metadata": {},
   "source": [
    " #### isna"
   ]
  },
  {
   "cell_type": "code",
   "execution_count": null,
   "metadata": {},
   "outputs": [],
   "source": [
    "temp3.isna()"
   ]
  },
  {
   "cell_type": "markdown",
   "metadata": {},
   "source": [
    " #### conditioning"
   ]
  },
  {
   "cell_type": "code",
   "execution_count": null,
   "metadata": {},
   "outputs": [],
   "source": [
    "temp3[temp3.isna() == False]"
   ]
  },
  {
   "cell_type": "markdown",
   "metadata": {},
   "source": [
    " #### fillna method"
   ]
  },
  {
   "cell_type": "code",
   "execution_count": null,
   "metadata": {
    "scrolled": false
   },
   "outputs": [],
   "source": [
    "X1 = temp3.fillna(0)\n",
    "X2 = temp3.fillna(method = 'ffill')\n",
    "X3 = temp3.fillna(method = 'bfill')\n",
    "pd.concat([X1,X2,X3],axis=1)"
   ]
  },
  {
   "cell_type": "code",
   "execution_count": null,
   "metadata": {},
   "outputs": [],
   "source": [
    "XX1 = temp3.fillna(0, limit = 2)\n",
    "XX2 = temp3.fillna(method  = 'ffill', limit = 2)\n",
    "XX3 = temp3.fillna(method = 'bfill', limit = 2)\n",
    "pd.concat([XX1,XX2,XX3],axis = 1)"
   ]
  },
  {
   "cell_type": "markdown",
   "metadata": {},
   "source": [
    "  #### Indexing with condition"
   ]
  },
  {
   "cell_type": "code",
   "execution_count": null,
   "metadata": {},
   "outputs": [],
   "source": [
    "temp3[temp3>2]"
   ]
  },
  {
   "cell_type": "code",
   "execution_count": null,
   "metadata": {},
   "outputs": [],
   "source": [
    "temp3[['A','B','C']]"
   ]
  },
  {
   "cell_type": "markdown",
   "metadata": {},
   "source": [
    " #### pd.to_datetime"
   ]
  },
  {
   "cell_type": "code",
   "execution_count": null,
   "metadata": {},
   "outputs": [],
   "source": [
    "dr = ['2020-01-01','2020-02-01','2020-03-01']\n",
    "pd.to_datetime(dr)"
   ]
  },
  {
   "cell_type": "markdown",
   "metadata": {},
   "source": [
    " #### pd.date_range"
   ]
  },
  {
   "cell_type": "code",
   "execution_count": null,
   "metadata": {},
   "outputs": [],
   "source": [
    "dr = pd.date_range('2010-01-01','2010-12-31',freq = 'M')\n",
    "pd.Series(dr).head()"
   ]
  },
  {
   "cell_type": "code",
   "execution_count": null,
   "metadata": {},
   "outputs": [],
   "source": [
    "start_day = pd.to_datetime('2010-01-01')\n",
    "pd.Series(dr).apply(lambda x : (x - start_day).days ).head()"
   ]
  },
  {
   "cell_type": "code",
   "execution_count": null,
   "metadata": {},
   "outputs": [],
   "source": [
    "pd.Series(dr).diff().head()"
   ]
  },
  {
   "cell_type": "code",
   "execution_count": null,
   "metadata": {},
   "outputs": [],
   "source": [
    "pd.Series(dr).diff().apply(lambda x : x.days).head()"
   ]
  },
  {
   "cell_type": "markdown",
   "metadata": {},
   "source": [
    " 문제 1. 현재 시점은 2010년 12월 31일이다. 만기 1년 채권의 쿠폰 이자율이 연 5%로 쿠폰이자는 매 월 말에 지급할 때, 액면가가 10,000인 쿠폰채의 매 월의 이자지급금액을 계산하시오. 매 월의 엄밀한 Day 숫자를 감안하여 가치를 계산하세요. (1년은 365일로 가정한다. 매 월의 기간을 1/12로 계산하지 말고 엄밀하게 계산하시오.)"
   ]
  },
  {
   "cell_type": "code",
   "execution_count": null,
   "metadata": {},
   "outputs": [],
   "source": [
    "c , FV = 0.05 , 10000\n",
    "days_of_year =365 \n",
    "\n",
    "#############################\n",
    "##풀이과정을 여기에 쓰세요 ##\n",
    "#############################\n",
    "\n",
    "\n",
    "\n",
    "\n",
    "\n",
    "#############################"
   ]
  },
  {
   "cell_type": "markdown",
   "metadata": {},
   "source": [
    " #### interpolate method"
   ]
  },
  {
   "cell_type": "code",
   "execution_count": null,
   "metadata": {},
   "outputs": [],
   "source": [
    "data1 = np.random.uniform(0,30,5).round(2)\n",
    "data2 = np.repeat([np.nan],3)\n",
    "data3 = np.random.uniform(15,30,5).round(2)\n",
    "data = np.concatenate([data1,data2,data3])\n",
    "DF = pd.DataFrame(data,\n",
    "                  index = pd.date_range('2010-01-01','2010-01-13', freq = 'D'))"
   ]
  },
  {
   "cell_type": "code",
   "execution_count": null,
   "metadata": {},
   "outputs": [],
   "source": [
    "lin_polate = DF.interpolate(method = 'linear')\n",
    "cub_polate = DF.interpolate(method = 'cubic')\n",
    "pd.concat([DF.rename(columns = {0 : 'before'}),\n",
    "           lin_polate.rename(columns = {0 : 'after(linear)'})],\n",
    "           axis = 1).iloc[3:10]"
   ]
  },
  {
   "cell_type": "code",
   "execution_count": null,
   "metadata": {},
   "outputs": [],
   "source": [
    "pd.concat([DF.rename(columns = {0 : 'before'}),\n",
    "           cub_polate.rename(columns = {0 : 'after(cubic)'})],\n",
    "           axis = 1).iloc[3:10]"
   ]
  },
  {
   "cell_type": "markdown",
   "metadata": {},
   "source": [
    " #### Resample"
   ]
  },
  {
   "cell_type": "code",
   "execution_count": null,
   "metadata": {},
   "outputs": [],
   "source": [
    "dateindex = pd.date_range('2010-01-01','2010-09-30',freq= 'Q')\n",
    "r = pd.Series(np.linspace(0.02,0.05,len(dateindex)) , index = dateindex)\n",
    "r.resample('M').last()"
   ]
  },
  {
   "cell_type": "code",
   "execution_count": null,
   "metadata": {},
   "outputs": [],
   "source": [
    "r.resample('M').last().interpolate(method = 'linear')"
   ]
  },
  {
   "cell_type": "markdown",
   "metadata": {},
   "source": [
    " 문제 2-1. 연속복리의 제로금리와 만기가 다음과 같이 주어진다.제로금리를 월별로 Cubic Interpolation하시오. (2020-05-31, 2020-06-30, .......등)\n",
    " \n",
    " 문제 2-2. 현재시점은 2020년 5월 11일이다. 매 월 말의 제로금리를 사용하여, 2020년 5월 31일부터 2028년 1월 31일까지 한 달 간격으로 (2020-05-31, 2020-06-30, 2020-07-31 .... 2028-01-31)해당 만기에 해당하는 제로쿠폰채의 현재가치를 계산하시오. 매 월의 Day count는 엄밀하게 계산하며 1년은 365일로 가정하시오.\n",
    "\n",
    "|만기|제로금리|\n",
    "|------|---|\n",
    "| '2020-05-12'|1.713 |\n",
    "| '2020-06-17'|1.673 |\n",
    "| '2020-09-16'|1.622 |\n",
    "| '2020-12-16'|1.567 |\n",
    "| '2021-03-17'|1.522 |\n",
    "| '2021-06-16'|1.481 |\n",
    "| '2021-09-15'|1.448 |\n",
    "| '2022-02-14'|1.430 |\n",
    "| '2023-02-13'|1.383 |\n",
    "| '2024-02-12'|1.376 |\n",
    "| '2025-02-12'|1.388 |\n",
    "| '2026-02-12'|1.409 |\n",
    "| '2027-02-12'|1.434 |\n",
    "| '2028-02-14'|1.46 |\n"
   ]
  },
  {
   "cell_type": "code",
   "execution_count": null,
   "metadata": {},
   "outputs": [],
   "source": [
    "start_day = pd.to_datetime('2020-05-11')\n",
    "Zero_Rate = [1.713,1.673,1.622,1.567,1.522, 1.481,1.448,1.430,1.383,1.376,1.388,\n",
    "            1.409,1.434,1.46]\n",
    "Mat_Date = ['2020-05-12','2020-06-17','2020-09-16','2020-12-16','2021-03-17',\n",
    "           '2021-06-16','2021-09-15','2022-02-14','2023-02-13','2024-02-12',\n",
    "           '2025-02-12','2026-02-12','2027-02-12','2028-02-14']\n",
    "\n",
    "#############################\n",
    "##풀이과정을 여기에 쓰세요 ##\n",
    "#############################\n",
    "\n",
    "\n",
    "\n",
    "\n",
    "\n",
    "\n",
    "#############################"
   ]
  },
  {
   "cell_type": "code",
   "execution_count": null,
   "metadata": {},
   "outputs": [],
   "source": [
    "PV"
   ]
  },
  {
   "cell_type": "markdown",
   "metadata": {},
   "source": [
    "  #### Indexing with condition"
   ]
  },
  {
   "cell_type": "code",
   "execution_count": null,
   "metadata": {},
   "outputs": [],
   "source": [
    "temp3[temp3>2]"
   ]
  },
  {
   "cell_type": "code",
   "execution_count": null,
   "metadata": {
    "scrolled": true
   },
   "outputs": [],
   "source": [
    "temp3[['A','B','C']]"
   ]
  },
  {
   "cell_type": "code",
   "execution_count": null,
   "metadata": {
    "scrolled": true
   },
   "outputs": [],
   "source": [
    "np.exp(temp3 * 0.5) + np.maximum( np.log(np.abs(temp3)) , 1)"
   ]
  },
  {
   "cell_type": "code",
   "execution_count": null,
   "metadata": {
    "scrolled": true
   },
   "outputs": [],
   "source": [
    "np.minimum(temp3,0)"
   ]
  },
  {
   "cell_type": "markdown",
   "metadata": {},
   "source": [
    " ### DataFrame"
   ]
  },
  {
   "cell_type": "markdown",
   "metadata": {},
   "source": [
    " #### head"
   ]
  },
  {
   "cell_type": "code",
   "execution_count": null,
   "metadata": {},
   "outputs": [],
   "source": [
    "days , number_of_stock= 250 ,5\n",
    "name = np.vectorize(chr)(np.arange(65,65+number_of_stock))\n",
    "S0 = 100\n",
    "ret = np.random.normal(0.005,0.02,size = (days , number_of_stock)).round(3)\n",
    "DF_ret = pd.DataFrame(ret, index = np.arange(1,len(ret)+1), columns = name)\n",
    "DF_ret.head()"
   ]
  },
  {
   "cell_type": "markdown",
   "metadata": {},
   "source": [
    " #### columns name change and transpose"
   ]
  },
  {
   "cell_type": "code",
   "execution_count": null,
   "metadata": {},
   "outputs": [],
   "source": [
    "r0 = pd.DataFrame([0]*number_of_stock).T\n",
    "r0.columns = name\n",
    "simul_r = pd.concat([r0,DF_ret],axis = 0)"
   ]
  },
  {
   "cell_type": "markdown",
   "metadata": {},
   "source": [
    " #### Operator"
   ]
  },
  {
   "cell_type": "code",
   "execution_count": null,
   "metadata": {
    "scrolled": true
   },
   "outputs": [],
   "source": [
    "S_path = S0 * (1+simul_r).cumprod(0)\n",
    "S_path.head()"
   ]
  },
  {
   "cell_type": "markdown",
   "metadata": {},
   "source": [
    " #### Percent Change"
   ]
  },
  {
   "cell_type": "code",
   "execution_count": null,
   "metadata": {},
   "outputs": [],
   "source": [
    "S_path.pct_change().head()"
   ]
  },
  {
   "cell_type": "code",
   "execution_count": null,
   "metadata": {
    "scrolled": true
   },
   "outputs": [],
   "source": [
    "S_path.plot()\n",
    "plt.show()"
   ]
  },
  {
   "cell_type": "code",
   "execution_count": null,
   "metadata": {},
   "outputs": [],
   "source": [
    "w = np.array([0.2, 0.3, 0.1, 0.3,0.1]).reshape(1,-1)\n",
    "Port_Value = (S_path * w)\n",
    "Port_Value['Total_Value'] = Port_Value.sum(axis = 1)\n",
    "Port_Value.plot()\n",
    "plt.show()"
   ]
  },
  {
   "cell_type": "code",
   "execution_count": null,
   "metadata": {
    "scrolled": true
   },
   "outputs": [],
   "source": [
    "df = pd.DataFrame([[4.0, 'economics', 22],[4.1, 'economics', 23],\n",
    "                  [4.2, 'economics', 24],[3.0, 'accounting', 24],\n",
    "                  [3.1, 'accounting', 25],[4.3, 'mathematics', 27]],\n",
    "                  columns = ['GPA', 'Major', 'Age'])\n",
    "df"
   ]
  },
  {
   "cell_type": "code",
   "execution_count": null,
   "metadata": {},
   "outputs": [],
   "source": [
    "df['Major'] # 열 보기"
   ]
  },
  {
   "cell_type": "code",
   "execution_count": null,
   "metadata": {
    "scrolled": true
   },
   "outputs": [],
   "source": [
    "df.iloc[0] # 행 보기"
   ]
  },
  {
   "cell_type": "markdown",
   "metadata": {},
   "source": [
    " #### Column 추가"
   ]
  },
  {
   "cell_type": "code",
   "execution_count": null,
   "metadata": {
    "scrolled": false
   },
   "outputs": [],
   "source": [
    "df['license'] = [5,0,2,2,4,1]\n",
    "df"
   ]
  },
  {
   "cell_type": "markdown",
   "metadata": {},
   "source": [
    " #### 새로운 Index 추가"
   ]
  },
  {
   "cell_type": "code",
   "execution_count": null,
   "metadata": {},
   "outputs": [],
   "source": [
    "df.append({df.columns[0] : 3.2, df.columns[1] : 'mathematics',\n",
    "          df.columns[2] : 22, df.columns[3] : 6}, ignore_index = True)"
   ]
  },
  {
   "cell_type": "markdown",
   "metadata": {},
   "source": [
    " #### Transpose를 통해서 추가하여도 됩니다."
   ]
  },
  {
   "cell_type": "code",
   "execution_count": null,
   "metadata": {
    "scrolled": false
   },
   "outputs": [],
   "source": [
    "df_T = df.T\n",
    "df_T"
   ]
  },
  {
   "cell_type": "code",
   "execution_count": null,
   "metadata": {
    "scrolled": true
   },
   "outputs": [],
   "source": [
    "df_T[6] = [3.7,'economics',21,3]\n",
    "df_T"
   ]
  },
  {
   "cell_type": "code",
   "execution_count": null,
   "metadata": {
    "scrolled": true
   },
   "outputs": [],
   "source": [
    "DF = df_T.T\n",
    "DF"
   ]
  },
  {
   "cell_type": "markdown",
   "metadata": {},
   "source": [
    " #### Conditioning"
   ]
  },
  {
   "cell_type": "code",
   "execution_count": null,
   "metadata": {
    "scrolled": true
   },
   "outputs": [],
   "source": [
    "DF[DF['Major'] == 'economics']"
   ]
  },
  {
   "cell_type": "code",
   "execution_count": null,
   "metadata": {
    "scrolled": true
   },
   "outputs": [],
   "source": [
    "DF[DF['Major'] == 'economics'].mean(0)"
   ]
  },
  {
   "cell_type": "markdown",
   "metadata": {},
   "source": [
    " #### Rank"
   ]
  },
  {
   "cell_type": "code",
   "execution_count": null,
   "metadata": {
    "scrolled": true
   },
   "outputs": [],
   "source": [
    "DF['GPA'].rank(ascending = False)"
   ]
  },
  {
   "cell_type": "code",
   "execution_count": null,
   "metadata": {
    "scrolled": false
   },
   "outputs": [],
   "source": [
    "DF['Rank_Sum'] = DF['GPA'].rank(ascending = False) + DF['Age'].rank() + DF['license'].rank(ascending = False)\n",
    "DF"
   ]
  },
  {
   "cell_type": "markdown",
   "metadata": {},
   "source": [
    " #### Drop"
   ]
  },
  {
   "cell_type": "code",
   "execution_count": null,
   "metadata": {},
   "outputs": [],
   "source": [
    "DF2 = DF.drop('Major', axis = 1)\n",
    "DF2"
   ]
  },
  {
   "cell_type": "code",
   "execution_count": null,
   "metadata": {},
   "outputs": [],
   "source": [
    "DF3 = DF2.drop(1, axis = 0)\n",
    "DF3"
   ]
  },
  {
   "cell_type": "markdown",
   "metadata": {},
   "source": [
    " #### Statistic"
   ]
  },
  {
   "cell_type": "code",
   "execution_count": null,
   "metadata": {
    "scrolled": true
   },
   "outputs": [],
   "source": [
    "DF3.mean()"
   ]
  },
  {
   "cell_type": "code",
   "execution_count": null,
   "metadata": {
    "scrolled": true
   },
   "outputs": [],
   "source": [
    "DF3.std()"
   ]
  },
  {
   "cell_type": "code",
   "execution_count": null,
   "metadata": {
    "scrolled": true
   },
   "outputs": [],
   "source": [
    "DF3['GPA'].quantile(q = 0.2) , DF3['Rank_Sum'].quantile(q = 0.8)"
   ]
  },
  {
   "cell_type": "markdown",
   "metadata": {},
   "source": [
    "문제 3-1. 현재 가격이 100원인 A주식과 B주식의 변동성은 각각 20%, 30%이고 상관계수는 -0.65이다.  무위험 수익률 5%를 가정하고 252일(1년) 동안 위험중립 주가 시뮬레이션 1회 실시하시오. \n",
    "  A, B의 주가 Path를 하나의 데이터 프레임으로 나타내고 그래프를 나타내시오.\n",
    "\n",
    "문제 3-2. 500원을 가지고 A 주식에 30%, B 주식에 70% 투자할 때 포트폴리오의 총 가치를 계산하고. 포트폴리오 총 가치 1회 시뮬레이션 결과에 있어서 252일동안 95%신뢰수준, 1day기준 Value at Risk와 Expected Shortfall을 계산하시오."
   ]
  },
  {
   "cell_type": "markdown",
   "metadata": {},
   "source": [
    " ##### 3-1."
   ]
  },
  {
   "cell_type": "code",
   "execution_count": null,
   "metadata": {},
   "outputs": [],
   "source": [
    "#############################\n",
    "##풀이과정을 여기에 쓰세요 ##\n",
    "#############################\n",
    "\n",
    "\n",
    "\n",
    "\n",
    "\n",
    "\n",
    "#############################"
   ]
  },
  {
   "cell_type": "markdown",
   "metadata": {},
   "source": [
    " ##### 3-2"
   ]
  },
  {
   "cell_type": "code",
   "execution_count": null,
   "metadata": {},
   "outputs": [],
   "source": [
    "#############################\n",
    "##풀이과정을 여기에 쓰세요 ##\n",
    "#############################\n",
    "\n",
    "\n",
    "\n",
    "\n",
    "\n",
    "#############################"
   ]
  },
  {
   "cell_type": "code",
   "execution_count": null,
   "metadata": {},
   "outputs": [],
   "source": []
  },
  {
   "cell_type": "code",
   "execution_count": null,
   "metadata": {},
   "outputs": [],
   "source": []
  }
 ],
 "metadata": {
  "kernelspec": {
   "display_name": "Python 3",
   "language": "python",
   "name": "python3"
  },
  "language_info": {
   "codemirror_mode": {
    "name": "ipython",
    "version": 3
   },
   "file_extension": ".py",
   "mimetype": "text/x-python",
   "name": "python",
   "nbconvert_exporter": "python",
   "pygments_lexer": "ipython3",
   "version": "3.8.5"
  }
 },
 "nbformat": 4,
 "nbformat_minor": 4
}
