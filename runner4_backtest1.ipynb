{
 "cells": [
  {
   "cell_type": "markdown",
   "metadata": {},
   "source": [
    " # 데이터는 Data.zip에서 받으세요.\n",
    " \n",
    " # Quant.py는 beginner8 알집파일"
   ]
  },
  {
   "cell_type": "code",
   "execution_count": 1,
   "metadata": {
    "scrolled": true
   },
   "outputs": [
    {
     "name": "stdout",
     "output_type": "stream",
     "text": [
      "C:\\Users\\USER\\Quant\n"
     ]
    }
   ],
   "source": [
    "cd C:\\Users\\USER\\Quant"
   ]
  },
  {
   "cell_type": "code",
   "execution_count": 2,
   "metadata": {},
   "outputs": [],
   "source": [
    "import Quant as Quant\n",
    "import numpy as np\n",
    "import pandas as pd\n",
    "import matplotlib.pyplot as plt\n",
    "from dateutil.relativedelta import relativedelta\n",
    "import warnings\n",
    "warnings.filterwarnings(action='ignore')"
   ]
  },
  {
   "cell_type": "code",
   "execution_count": 3,
   "metadata": {},
   "outputs": [],
   "source": [
    "path = '재무데이터.xlsx'\n",
    "path_price = '수정주가.csv'\n",
    "path_mkt = '시총데이터.csv'\n",
    "path_endmonth = '결산월.csv'\n",
    "path_kospiyn = '거래소데이터.csv'\n",
    "path_delist_and_stop = '상장폐지데이터.csv'"
   ]
  },
  {
   "cell_type": "code",
   "execution_count": 4,
   "metadata": {},
   "outputs": [],
   "source": [
    "cleaned_data = Quant.preprocessing_path(path)\n",
    "cleaned_price = Quant.preprocessing_price(path_price)\n",
    "cleaned_kospiyn = Quant.preprocessing_kospiyn(path_kospiyn)\n",
    "cleaned_mkt = Quant.preprocessing_mktdata(path_mkt)\n",
    "delist_data, stop_data = Quant.preprocessing_stop_and_delist(path_delist_and_stop)\n",
    "cleaned_endmonth = Quant.preprocessing_period(path_endmonth)"
   ]
  },
  {
   "cell_type": "markdown",
   "metadata": {},
   "source": [
    " ### 문제 1. 전처리 수정주가데이터와 상장폐지 데이터를 사용하여 다음 조건에 맞는 함수를 만드시오.\n",
    " \n",
    " ##### 지금 수정주가의 경우 상장폐지 이후 가격이 NaN으로 나타나고 있습니다. \n",
    " ##### 상장폐지된 종목들의 상장폐지 이후 가격을 0으로 만들어주는 함수를 만드시오.\n",
    " price_after_delist(cleaned_price, delist_data) 함수를 실행할 경우 \n",
    " 상장폐지 이후가격이 0으로 처리된 수정주가 데이터가 나오도록 함수를 만드세요.\n",
    "\n",
    "반복문을 사용해도 됩니다.\n",
    "\n",
    "def price_after_delist(cleaned_price , delist_data) :\n",
    "\n",
    "    #################################\n",
    "    ## 상장폐지 이후 가격이 0이 됨 ##\n",
    "    #################################\n",
    "    \n",
    "    return p"
   ]
  },
  {
   "cell_type": "code",
   "execution_count": 1,
   "metadata": {},
   "outputs": [],
   "source": [
    "def price_after_delist(cleaned_price, delist_data) :\n",
    "    cleaned_price2 = cleaned_price.copy()\n",
    "    x1_list = delist_data.index\n",
    "    x2_list = list(delist_data[delist_data.columns[0]])        \n",
    "    ##################################\n",
    "    ###    풀이과정을 쓰시오      ####\n",
    "    ##################################\n",
    "    return "
   ]
  },
  {
   "cell_type": "code",
   "execution_count": 6,
   "metadata": {},
   "outputs": [
    {
     "data": {
      "text/html": [
       "<div>\n",
       "<style scoped>\n",
       "    .dataframe tbody tr th:only-of-type {\n",
       "        vertical-align: middle;\n",
       "    }\n",
       "\n",
       "    .dataframe tbody tr th {\n",
       "        vertical-align: top;\n",
       "    }\n",
       "\n",
       "    .dataframe thead th {\n",
       "        text-align: right;\n",
       "    }\n",
       "</style>\n",
       "<table border=\"1\" class=\"dataframe\">\n",
       "  <thead>\n",
       "    <tr style=\"text-align: right;\">\n",
       "      <th></th>\n",
       "      <th>A005930</th>\n",
       "      <th>A000660</th>\n",
       "      <th>A207940</th>\n",
       "      <th>A035420</th>\n",
       "      <th>A068270</th>\n",
       "      <th>A051910</th>\n",
       "      <th>A035720</th>\n",
       "      <th>A006400</th>\n",
       "      <th>A005380</th>\n",
       "      <th>A036570</th>\n",
       "      <th>...</th>\n",
       "      <th>A192520</th>\n",
       "      <th>A192530</th>\n",
       "      <th>A334890</th>\n",
       "      <th>A350520</th>\n",
       "      <th>A357250</th>\n",
       "      <th>A900030</th>\n",
       "      <th>A900050</th>\n",
       "      <th>A950010</th>\n",
       "      <th>A950070</th>\n",
       "      <th>A950100</th>\n",
       "    </tr>\n",
       "    <tr>\n",
       "      <th>Symbol</th>\n",
       "      <th></th>\n",
       "      <th></th>\n",
       "      <th></th>\n",
       "      <th></th>\n",
       "      <th></th>\n",
       "      <th></th>\n",
       "      <th></th>\n",
       "      <th></th>\n",
       "      <th></th>\n",
       "      <th></th>\n",
       "      <th></th>\n",
       "      <th></th>\n",
       "      <th></th>\n",
       "      <th></th>\n",
       "      <th></th>\n",
       "      <th></th>\n",
       "      <th></th>\n",
       "      <th></th>\n",
       "      <th></th>\n",
       "      <th></th>\n",
       "      <th></th>\n",
       "    </tr>\n",
       "  </thead>\n",
       "  <tbody>\n",
       "    <tr>\n",
       "      <th>2021-01-18</th>\n",
       "      <td>85000.0</td>\n",
       "      <td>130000.0</td>\n",
       "      <td>788000.0</td>\n",
       "      <td>300500.0</td>\n",
       "      <td>314000.0</td>\n",
       "      <td>964000.0</td>\n",
       "      <td>427500.0</td>\n",
       "      <td>706000.0</td>\n",
       "      <td>241000.0</td>\n",
       "      <td>938000.0</td>\n",
       "      <td>...</td>\n",
       "      <td>0.0</td>\n",
       "      <td>0.0</td>\n",
       "      <td>4715.0</td>\n",
       "      <td>4845.0</td>\n",
       "      <td>4705.0</td>\n",
       "      <td>0.0</td>\n",
       "      <td>0.0</td>\n",
       "      <td>0.0</td>\n",
       "      <td>0.0</td>\n",
       "      <td>0.0</td>\n",
       "    </tr>\n",
       "    <tr>\n",
       "      <th>2021-01-19</th>\n",
       "      <td>87000.0</td>\n",
       "      <td>130500.0</td>\n",
       "      <td>796000.0</td>\n",
       "      <td>308000.0</td>\n",
       "      <td>312500.0</td>\n",
       "      <td>997000.0</td>\n",
       "      <td>440000.0</td>\n",
       "      <td>732000.0</td>\n",
       "      <td>261500.0</td>\n",
       "      <td>957000.0</td>\n",
       "      <td>...</td>\n",
       "      <td>0.0</td>\n",
       "      <td>0.0</td>\n",
       "      <td>4715.0</td>\n",
       "      <td>4800.0</td>\n",
       "      <td>4700.0</td>\n",
       "      <td>0.0</td>\n",
       "      <td>0.0</td>\n",
       "      <td>0.0</td>\n",
       "      <td>0.0</td>\n",
       "      <td>0.0</td>\n",
       "    </tr>\n",
       "    <tr>\n",
       "      <th>2021-01-20</th>\n",
       "      <td>87200.0</td>\n",
       "      <td>130500.0</td>\n",
       "      <td>795000.0</td>\n",
       "      <td>308000.0</td>\n",
       "      <td>311000.0</td>\n",
       "      <td>1000000.0</td>\n",
       "      <td>444000.0</td>\n",
       "      <td>744000.0</td>\n",
       "      <td>259000.0</td>\n",
       "      <td>965000.0</td>\n",
       "      <td>...</td>\n",
       "      <td>0.0</td>\n",
       "      <td>0.0</td>\n",
       "      <td>4725.0</td>\n",
       "      <td>4840.0</td>\n",
       "      <td>4715.0</td>\n",
       "      <td>0.0</td>\n",
       "      <td>0.0</td>\n",
       "      <td>0.0</td>\n",
       "      <td>0.0</td>\n",
       "      <td>0.0</td>\n",
       "    </tr>\n",
       "    <tr>\n",
       "      <th>2021-01-21</th>\n",
       "      <td>87200.0</td>\n",
       "      <td>130500.0</td>\n",
       "      <td>795000.0</td>\n",
       "      <td>308000.0</td>\n",
       "      <td>311000.0</td>\n",
       "      <td>1000000.0</td>\n",
       "      <td>444000.0</td>\n",
       "      <td>744000.0</td>\n",
       "      <td>259000.0</td>\n",
       "      <td>965000.0</td>\n",
       "      <td>...</td>\n",
       "      <td>0.0</td>\n",
       "      <td>0.0</td>\n",
       "      <td>4725.0</td>\n",
       "      <td>4840.0</td>\n",
       "      <td>4715.0</td>\n",
       "      <td>0.0</td>\n",
       "      <td>0.0</td>\n",
       "      <td>0.0</td>\n",
       "      <td>0.0</td>\n",
       "      <td>0.0</td>\n",
       "    </tr>\n",
       "  </tbody>\n",
       "</table>\n",
       "<p>4 rows × 1159 columns</p>\n",
       "</div>"
      ],
      "text/plain": [
       "            A005930   A000660   A207940   A035420   A068270    A051910  \\\n",
       "Symbol                                                                   \n",
       "2021-01-18  85000.0  130000.0  788000.0  300500.0  314000.0   964000.0   \n",
       "2021-01-19  87000.0  130500.0  796000.0  308000.0  312500.0   997000.0   \n",
       "2021-01-20  87200.0  130500.0  795000.0  308000.0  311000.0  1000000.0   \n",
       "2021-01-21  87200.0  130500.0  795000.0  308000.0  311000.0  1000000.0   \n",
       "\n",
       "             A035720   A006400   A005380   A036570  ...  A192520  A192530  \\\n",
       "Symbol                                              ...                     \n",
       "2021-01-18  427500.0  706000.0  241000.0  938000.0  ...      0.0      0.0   \n",
       "2021-01-19  440000.0  732000.0  261500.0  957000.0  ...      0.0      0.0   \n",
       "2021-01-20  444000.0  744000.0  259000.0  965000.0  ...      0.0      0.0   \n",
       "2021-01-21  444000.0  744000.0  259000.0  965000.0  ...      0.0      0.0   \n",
       "\n",
       "            A334890  A350520  A357250  A900030  A900050  A950010  A950070  \\\n",
       "Symbol                                                                      \n",
       "2021-01-18   4715.0   4845.0   4705.0      0.0      0.0      0.0      0.0   \n",
       "2021-01-19   4715.0   4800.0   4700.0      0.0      0.0      0.0      0.0   \n",
       "2021-01-20   4725.0   4840.0   4715.0      0.0      0.0      0.0      0.0   \n",
       "2021-01-21   4725.0   4840.0   4715.0      0.0      0.0      0.0      0.0   \n",
       "\n",
       "            A950100  \n",
       "Symbol               \n",
       "2021-01-18      0.0  \n",
       "2021-01-19      0.0  \n",
       "2021-01-20      0.0  \n",
       "2021-01-21      0.0  \n",
       "\n",
       "[4 rows x 1159 columns]"
      ]
     },
     "execution_count": 6,
     "metadata": {},
     "output_type": "execute_result"
    }
   ],
   "source": [
    "price_after_delist(cleaned_price, delist_data).tail(4)"
   ]
  },
  {
   "cell_type": "markdown",
   "metadata": {},
   "source": [
    " ### 문제 2. 현재 수정주가 일 수익률이 300%인 극단적 종목들을 제외하려고한다. \n",
    " #### 다음 가이드라인에 따라 함수를 만드세요.\n",
    " \n",
    "def preprocessing_backtest(cleaned_data, cleaned_price, cleaned_mkt, delist_data, stop_data) :\n",
    "\n",
    "     1. extreme = 전체 종목중에 1일동안 주식 수익률이 300%가 넘어가는 극단적 종목 인덱스\n",
    "     2. not_extreme = 전체 종목중 extreme종목을 제외한 종목명(인덱스형식)\n",
    "     3. STOP = not_extreme에 해당되는 종목들의 거래정지 데이터를 Monthly resample로 나타낸 데이터프레임.\n",
    "         STOP 데이터의 경우 이중컬럼을 제거하고 cleaned_price처럼 index 는 날짜 column는 종목 구성의 데이터프레임으로 나타내시오.\n",
    "     4. P = not_extreme에 해당되는 종목들의 수정주가 데이터를 Monthly resample로 나타낸 데이터프레임.\n",
    "     5. DELIST = 상장폐지 데이터에서 not_extreme에 해당하는 종목만 존재하는 상장폐지데이터\n",
    "     6. PRICE = 4번 과정을 처리하고, 문제 1의 함수를 실행한 데이터 : 즉, PRICE = price_after_delist(P,DELIST) \n",
    "     7. MKT = not_extreme에 해당되는 종목들의 시가총액 데이터를 Monthly resample로 나타낸 데이터프레임.\n",
    "     8. FINANCE = 재무데이터에서 extreme_index 제외\n",
    "     return FINANCE, PRICE, MKT, DELIST, STOP"
   ]
  },
  {
   "cell_type": "code",
   "execution_count": 11,
   "metadata": {},
   "outputs": [],
   "source": [
    "def preprocessing_backtest(cleaned_data, cleaned_price, cleaned_mkt, \n",
    "                           delist_data, stop_data) :\n",
    "    extreme_return = (cleaned_price.pct_change() > 3).max(0)\n",
    "    not_extreme = extreme_return[extreme_return == False].index\n",
    "    ##################################\n",
    "    ###    풀이과정을 쓰시오      ####\n",
    "    ##################################    \n",
    "    # return FINANCE, PRICE, MKT, DELIST, STOP"
   ]
  },
  {
   "cell_type": "code",
   "execution_count": 13,
   "metadata": {},
   "outputs": [],
   "source": [
    "FINANCE, PRICE, MKT, DELIST, STOP = preprocessing_backtest(cleaned_data, cleaned_price, cleaned_mkt, \n",
    "                           delist_data, stop_data)"
   ]
  },
  {
   "cell_type": "markdown",
   "metadata": {},
   "source": [
    "### 문제 3. \n",
    "\n",
    "어떤 Timestamp데이터의 month가 5보다 작거나같으면(<=) data_Q = 제작년 12월 31일을 리턴하고, \n",
    "\n",
    "그 이외의 경우에는 data_Q = 작년 12월 31일을 리턴하는 함수를 만드시오.\n",
    "\n",
    "(2001년 이전에는 6월은 돼야지 작년 재무데이터가 나옴)\n",
    "\n",
    "def calculate_data_Q_before_2001(rebalance_day) :\n",
    "\n",
    "    ##################################################################\n",
    "    ### rebalance_day.month가 5보다 작으면 제작년 12월 31일 리턴   ###\n",
    "    ### 그렇지 않으면 작년 12월 31일을 리턴                        ###\n",
    "    ##################################################################\n",
    "\n",
    "    return pd.to_datetime(data_Q)\n",
    "   \n",
    "calculate_data_Q_before_2001(pd.to_datetime('1998-06-10')) 결과 >> pd.Timestamp(1997년 12월 31일)\n",
    "calculate_data_Q_before_2001(pd.to_datetime('1998-04-15')) 결과 >> pd.Timestamp(1996년 12월 31일)"
   ]
  },
  {
   "cell_type": "code",
   "execution_count": 21,
   "metadata": {},
   "outputs": [],
   "source": [
    "def calculate_data_Q_before_2001(rebalance_day):\n",
    "    ####################################\n",
    "    ### 위의 보기의 조건문           ###\n",
    "    ####################################\n",
    "    return pd.to_datetime(data_Q)"
   ]
  },
  {
   "cell_type": "code",
   "execution_count": 23,
   "metadata": {},
   "outputs": [
    {
     "data": {
      "text/plain": [
       "Timestamp('1997-12-31 00:00:00')"
      ]
     },
     "execution_count": 23,
     "metadata": {},
     "output_type": "execute_result"
    }
   ],
   "source": [
    "calculate_data_Q_before_2001(pd.to_datetime('1998-06-01'))"
   ]
  },
  {
   "cell_type": "code",
   "execution_count": 24,
   "metadata": {},
   "outputs": [
    {
     "data": {
      "text/plain": [
       "Timestamp('1996-12-31 00:00:00')"
      ]
     },
     "execution_count": 24,
     "metadata": {},
     "output_type": "execute_result"
    }
   ],
   "source": [
    "calculate_data_Q_before_2001(pd.to_datetime('1998-03-01'))"
   ]
  },
  {
   "cell_type": "markdown",
   "metadata": {},
   "source": [
    "### 문제 4. \n",
    "\n",
    "4분기 재무데이터는 직전 12월 31일로부터 121일 뒤에 모두 이용가능하다, \n",
    "\n",
    "1분기,2분기,3분기 재무데이터는 각각 3월 31일/ 6월 30일/ 9월 30일로부터 76일 뒤에 이용가능하다\n",
    "\n",
    "특정 날짜를 rebalance_day라고 가정하자. \n",
    "\n",
    "다음 조건에 따라 이용가능한 최근분기 날짜를 계산하는 함수를 만드시오. \n",
    "\n",
    "if rebalance_day <= 직전4분기 데이터 공시날짜:\n",
    "\n",
    "    return data_Q = 이전년도 09월 30일\n",
    "\n",
    "elif rebalance_day <= 1분기 데이터 공시날짜 and rebalance_day >= 직전4분기 데이터 공시날짜 :\n",
    "\n",
    "    return data_Q = 이전년도 12월 31일\n",
    "\n",
    "elif rebalance_day <= 2분기 데이터 공시날짜 and rebalance_day >= 당해1분기 데이터 공시날짜 :\n",
    "\n",
    "    return data_Q = 당해 3월 31일\n",
    "\n",
    "elif rebalance_day <= 3분기 데이터 공시날짜 and rebalance_day >= 당해 2분기 데이터 공시날짜 :\n",
    "\n",
    "    return data_Q = 당해 6월 30일\n",
    "\n",
    "else :\n",
    "\n",
    "    return data_Q = 당해 9월 30일\n",
    "\n",
    "def calculate_data_Q_after_2001(rebalance_day) :\n",
    "\n",
    "    ##################################################################\n",
    "    ### 위의 조건에 따라 data_Q를 리턴하는 함수를 만드시오         ###\n",
    "    ###                                                            ###\n",
    "    ##################################################################\n",
    "\n",
    "    return pd.to_datetime(data_Q)\n",
    "    \n",
    "calculate_date_Q_after_2001(pd.to_datetime('2005-01-25')) >>> 결과로 2004년 9월 30일\n",
    "\n",
    "calculate_date_Q_after_2001(pd.to_datetime('2005-05-25')) >>> 결과로 2004년 12월 31일\n",
    "\n",
    "calculate_date_Q_after_2001(pd.to_datetime('2005-06-25')) >>> 결과로 2005년 3월 31일\n",
    "\n",
    "calculate_date_Q_after_2001(pd.to_datetime('2005-09-25')) >>> 결과로 2005년 6월 30일\n",
    "\n",
    "calculate_date_Q_after_2001(pd.to_datetime('2005-12-23')) >>> 결과로 2005년 9월 30일\n"
   ]
  },
  {
   "cell_type": "code",
   "execution_count": 25,
   "metadata": {},
   "outputs": [],
   "source": [
    "def calculate_data_Q_after_2001(rebalance_day):\n",
    "    year = rebalance_day.year\n",
    "    bQ3 = pd.to_datetime(str(year-1) + '-09-30')\n",
    "    bQ4 = pd.to_datetime(str(year-1)+'-12-31')\n",
    "    Q1 = pd.to_datetime(str(year)+'-03-31')\n",
    "    Q2 = pd.to_datetime(str(year)+'-06-30')\n",
    "    Q3 = pd.to_datetime(str(year)+'-09-30')\n",
    "    bQ4_report_day = bQ4 + relativedelta(days = 121)\n",
    "    Q1_report_day = Q1 + relativedelta(days = 76)\n",
    "    Q2_report_day = Q2 + relativedelta(days = 76)\n",
    "    Q3_report_day = Q3 + relativedelta(days = 76)\n",
    "    ####################################\n",
    "    ### 위의 보기의 조건문           ###\n",
    "    ####################################\n",
    "    #return data_Q"
   ]
  },
  {
   "cell_type": "code",
   "execution_count": 27,
   "metadata": {},
   "outputs": [
    {
     "data": {
      "text/plain": [
       "Timestamp('2004-09-30 00:00:00')"
      ]
     },
     "execution_count": 27,
     "metadata": {},
     "output_type": "execute_result"
    }
   ],
   "source": [
    "calculate_data_Q_after_2001(rebalance_day = pd.to_datetime('2005-02-01'))"
   ]
  },
  {
   "cell_type": "code",
   "execution_count": 32,
   "metadata": {},
   "outputs": [
    {
     "data": {
      "text/plain": [
       "Timestamp('2004-12-31 00:00:00')"
      ]
     },
     "execution_count": 32,
     "metadata": {},
     "output_type": "execute_result"
    }
   ],
   "source": [
    "calculate_data_Q_after_2001(rebalance_day = pd.to_datetime('2005-05-08'))"
   ]
  },
  {
   "cell_type": "code",
   "execution_count": 31,
   "metadata": {},
   "outputs": [
    {
     "data": {
      "text/plain": [
       "Timestamp('2005-03-31 00:00:00')"
      ]
     },
     "execution_count": 31,
     "metadata": {},
     "output_type": "execute_result"
    }
   ],
   "source": [
    "calculate_data_Q_after_2001(rebalance_day = pd.to_datetime('2005-08-04'))"
   ]
  },
  {
   "cell_type": "markdown",
   "metadata": {},
   "source": [
    " ### 문제 5. \n",
    " \n",
    " rebalance_day의 날짜가 2001년 5월 1일 이전이라면 \n",
    " \n",
    " data_Q = calculate_data_Q_before_2001(rebalance_day)\n",
    " \n",
    " 그렇지 않으면\n",
    " \n",
    " data_Q = calculate_data_Q_after_2001(rebalance_day)를 리턴하는 함수를 만드세요."
   ]
  },
  {
   "cell_type": "code",
   "execution_count": 19,
   "metadata": {},
   "outputs": [],
   "source": [
    "def calculate_data_Q(rebalance_day) :\n",
    "    rebalance_day = pd.to_datetime(rebalance_day)\n",
    "    ####################################\n",
    "    ### 위의 보기의 조건문           ###\n",
    "    ####################################\n",
    "    return data_Q"
   ]
  },
  {
   "cell_type": "code",
   "execution_count": 33,
   "metadata": {},
   "outputs": [
    {
     "data": {
      "text/plain": [
       "Timestamp('2005-03-31 00:00:00')"
      ]
     },
     "execution_count": 33,
     "metadata": {},
     "output_type": "execute_result"
    }
   ],
   "source": [
    "calculate_data_Q(rebalance_day = pd.to_datetime('2005-08-04'))"
   ]
  },
  {
   "cell_type": "code",
   "execution_count": 34,
   "metadata": {},
   "outputs": [
    {
     "data": {
      "text/plain": [
       "Timestamp('1997-12-31 00:00:00')"
      ]
     },
     "execution_count": 34,
     "metadata": {},
     "output_type": "execute_result"
    }
   ],
   "source": [
    "calculate_data_Q(rebalance_day = pd.to_datetime('1998-08-04'))"
   ]
  },
  {
   "cell_type": "code",
   "execution_count": null,
   "metadata": {},
   "outputs": [],
   "source": []
  }
 ],
 "metadata": {
  "kernelspec": {
   "display_name": "Python 3",
   "language": "python",
   "name": "python3"
  },
  "language_info": {
   "codemirror_mode": {
    "name": "ipython",
    "version": 3
   },
   "file_extension": ".py",
   "mimetype": "text/x-python",
   "name": "python",
   "nbconvert_exporter": "python",
   "pygments_lexer": "ipython3",
   "version": "3.8.5"
  }
 },
 "nbformat": 4,
 "nbformat_minor": 4
}
