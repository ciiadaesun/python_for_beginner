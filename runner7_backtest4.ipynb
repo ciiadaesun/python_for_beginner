{
 "cells": [
  {
   "cell_type": "markdown",
   "metadata": {},
   "source": [
    " ## 데이터는 Data.zip을 참고하시오."
   ]
  },
  {
   "cell_type": "code",
   "execution_count": 1,
   "metadata": {},
   "outputs": [
    {
     "name": "stdout",
     "output_type": "stream",
     "text": [
      "C:\\Users\\USER\\Quant\n"
     ]
    }
   ],
   "source": [
    "cd C:\\Users\\USER\\Quant"
   ]
  },
  {
   "cell_type": "code",
   "execution_count": 2,
   "metadata": {},
   "outputs": [],
   "source": [
    "import Quant_Strategy as Quant_Strategy\n",
    "import numpy as np\n",
    "import pandas as pd\n",
    "import matplotlib.pyplot as plt\n",
    "from dateutil.relativedelta import relativedelta\n",
    "import warnings\n",
    "import matplotlib.pyplot as plt\n",
    "warnings.filterwarnings(action='ignore')"
   ]
  },
  {
   "cell_type": "code",
   "execution_count": 3,
   "metadata": {},
   "outputs": [],
   "source": [
    "path = '재무데이터.xlsx'\n",
    "path_price = '수정주가.csv'\n",
    "path_mkt = '시총데이터.csv'\n",
    "path_endmonth = '결산월.csv'\n",
    "path_kospiyn = '거래소데이터.csv'\n",
    "path_delist_and_stop = '상장폐지데이터.csv'\n",
    "### 추가된 데이터 ###\n",
    "path_kospi_and_interest = 'kospi_interest_data.xlsx'\n",
    "path_hedgeasset = '미국채데이터.xlsx'"
   ]
  },
  {
   "cell_type": "code",
   "execution_count": 4,
   "metadata": {},
   "outputs": [],
   "source": [
    "cleaned_data = Quant_Strategy.preprocessing_path(path)\n",
    "cleaned_price = Quant_Strategy.preprocessing_price(path_price)\n",
    "cleaned_kospiyn = Quant_Strategy.preprocessing_kospiyn(path_kospiyn)\n",
    "cleaned_mkt = Quant_Strategy.preprocessing_mktdata(path_mkt)\n",
    "delist_data, stop_data = Quant_Strategy.preprocessing_stop_and_delist(path_delist_and_stop)\n",
    "cleaned_endmonth = Quant_Strategy.preprocessing_period(path_endmonth)\n",
    "cleaned_kospi_rf = Quant_Strategy.preprocessing_kospi_and_rf(path_kospi_and_interest)\n"
   ]
  },
  {
   "cell_type": "markdown",
   "metadata": {},
   "source": [
    " ### 문제 1. path_hedgeasset에는 헤지자산의 자산 가격이 존재한다.\n",
    " \n",
    " 채권과 금 모두 달러가치이므로 이를 원화가치로 바꿔야한다. (채권, 골드, 현금의 인덱스 첫 날짜의 가치를 모두 10000으로 맞추시오.)\n",
    " \n",
    " preprocessing_hedgeasset(path_hedgeasset) 을 실행한 경우 다음과 같이 결과가 나온다. \n",
    " \n",
    " | |mid_treasury|long_treasury|gold|cash|\n",
    "|------|---|---|---|---|\n",
    "| 1995-01-31|10000 |10000 |10000|10000|\n",
    "| 1995-02-28|10322 |10264 |10031|10000|\n",
    "| 1995-03-31|10207 |10148 |10254|10000|\n",
    "| 1995-04-30|10846 |10927 |10068|10000|\n"
   ]
  },
  {
   "cell_type": "code",
   "execution_count": null,
   "metadata": {},
   "outputs": [],
   "source": [
    "def preprocessing_hedgeasset(path_hedgeasset) :\n",
    "    hedge_asset = pd.read_excel(path_hedgeasset,index_col = 0)\n",
    "    #####################\n",
    "    # 풀이과정          #\n",
    "    #####################\n",
    "    return hedge_value"
   ]
  },
  {
   "cell_type": "code",
   "execution_count": 6,
   "metadata": {},
   "outputs": [
    {
     "data": {
      "text/html": [
       "<div>\n",
       "<style scoped>\n",
       "    .dataframe tbody tr th:only-of-type {\n",
       "        vertical-align: middle;\n",
       "    }\n",
       "\n",
       "    .dataframe tbody tr th {\n",
       "        vertical-align: top;\n",
       "    }\n",
       "\n",
       "    .dataframe thead th {\n",
       "        text-align: right;\n",
       "    }\n",
       "</style>\n",
       "<table border=\"1\" class=\"dataframe\">\n",
       "  <thead>\n",
       "    <tr style=\"text-align: right;\">\n",
       "      <th></th>\n",
       "      <th>mid_treasury</th>\n",
       "      <th>long_treasury</th>\n",
       "      <th>gold</th>\n",
       "      <th>cash</th>\n",
       "    </tr>\n",
       "  </thead>\n",
       "  <tbody>\n",
       "    <tr>\n",
       "      <th>1995-01-31</th>\n",
       "      <td>10000.00</td>\n",
       "      <td>10000.00</td>\n",
       "      <td>10000.00</td>\n",
       "      <td>10000</td>\n",
       "    </tr>\n",
       "    <tr>\n",
       "      <th>1995-02-28</th>\n",
       "      <td>10322.15</td>\n",
       "      <td>10263.71</td>\n",
       "      <td>10030.94</td>\n",
       "      <td>10000</td>\n",
       "    </tr>\n",
       "    <tr>\n",
       "      <th>1995-03-31</th>\n",
       "      <td>10206.50</td>\n",
       "      <td>10147.95</td>\n",
       "      <td>10253.92</td>\n",
       "      <td>10000</td>\n",
       "    </tr>\n",
       "    <tr>\n",
       "      <th>1995-04-30</th>\n",
       "      <td>10231.50</td>\n",
       "      <td>10185.50</td>\n",
       "      <td>10067.58</td>\n",
       "      <td>10000</td>\n",
       "    </tr>\n",
       "    <tr>\n",
       "      <th>1995-05-31</th>\n",
       "      <td>10846.12</td>\n",
       "      <td>10927.28</td>\n",
       "      <td>9903.87</td>\n",
       "      <td>10000</td>\n",
       "    </tr>\n",
       "    <tr>\n",
       "      <th>...</th>\n",
       "      <td>...</td>\n",
       "      <td>...</td>\n",
       "      <td>...</td>\n",
       "      <td>...</td>\n",
       "    </tr>\n",
       "    <tr>\n",
       "      <th>2020-09-30</th>\n",
       "      <td>67479.99</td>\n",
       "      <td>104989.78</td>\n",
       "      <td>70090.94</td>\n",
       "      <td>10000</td>\n",
       "    </tr>\n",
       "    <tr>\n",
       "      <th>2020-10-31</th>\n",
       "      <td>64274.22</td>\n",
       "      <td>98163.11</td>\n",
       "      <td>67343.92</td>\n",
       "      <td>10000</td>\n",
       "    </tr>\n",
       "    <tr>\n",
       "      <th>2020-11-30</th>\n",
       "      <td>62841.55</td>\n",
       "      <td>97118.80</td>\n",
       "      <td>62071.31</td>\n",
       "      <td>10000</td>\n",
       "    </tr>\n",
       "    <tr>\n",
       "      <th>2020-12-31</th>\n",
       "      <td>61760.72</td>\n",
       "      <td>94764.26</td>\n",
       "      <td>65439.17</td>\n",
       "      <td>10000</td>\n",
       "    </tr>\n",
       "    <tr>\n",
       "      <th>2021-01-31</th>\n",
       "      <td>62580.44</td>\n",
       "      <td>93695.38</td>\n",
       "      <td>64877.41</td>\n",
       "      <td>10000</td>\n",
       "    </tr>\n",
       "  </tbody>\n",
       "</table>\n",
       "<p>313 rows × 4 columns</p>\n",
       "</div>"
      ],
      "text/plain": [
       "            mid_treasury  long_treasury      gold   cash\n",
       "1995-01-31      10000.00       10000.00  10000.00  10000\n",
       "1995-02-28      10322.15       10263.71  10030.94  10000\n",
       "1995-03-31      10206.50       10147.95  10253.92  10000\n",
       "1995-04-30      10231.50       10185.50  10067.58  10000\n",
       "1995-05-31      10846.12       10927.28   9903.87  10000\n",
       "...                  ...            ...       ...    ...\n",
       "2020-09-30      67479.99      104989.78  70090.94  10000\n",
       "2020-10-31      64274.22       98163.11  67343.92  10000\n",
       "2020-11-30      62841.55       97118.80  62071.31  10000\n",
       "2020-12-31      61760.72       94764.26  65439.17  10000\n",
       "2021-01-31      62580.44       93695.38  64877.41  10000\n",
       "\n",
       "[313 rows x 4 columns]"
      ]
     },
     "execution_count": 6,
     "metadata": {},
     "output_type": "execute_result"
    }
   ],
   "source": [
    "preprocessing_hedgeasset(path_hedgeasset)"
   ]
  },
  {
   "cell_type": "markdown",
   "metadata": {},
   "source": [
    " ### 문제 2. 위에서 전처리한 헤지자산들을 사용하여 자산배분된 포트폴리오의 가치를 계산하시오. \n",
    " \n",
    " 기본 백테스트 변수 , weight_stock , weight_cash 를 더 추가하시오. 나머지 중기채, 장기채, 골드는 잔여비중을 동일가중한다. \n",
    " \n",
    " 채권과 골드는 리벨런싱할 때 가치가 (1-fee)만큼 감소합니다. \n",
    " \n",
    " 주식 포트폴리오는 이미 fee가 반영되어있습니다.\n",
    " \n",
    " 기본적인 변수 셋팅은 다음과 같습니다."
   ]
  },
  {
   "cell_type": "code",
   "execution_count": 17,
   "metadata": {},
   "outputs": [],
   "source": [
    "##########################\n",
    "## 함수에 들어갈 변수들 ##\n",
    "##########################\n",
    "start_day = '2000-01-31'\n",
    "end_day = '2020-12-31'\n",
    "Strategy = Quant_Strategy.F_score\n",
    "rebalance_freq = 6\n",
    "number_of_stock = 50\n",
    "initial_money = 10000\n",
    "fee = 0.007\n",
    "w_stock = 0.3\n",
    "w_cash = 0.1\n",
    "cleaned_hedge_value = preprocessing_hedgeasset(path_hedgeasset)"
   ]
  },
  {
   "cell_type": "code",
   "execution_count": 14,
   "metadata": {},
   "outputs": [],
   "source": [
    "################################\n",
    "## 함수 본문에 들어가야할 내용 #\n",
    "################################\n",
    "PF  = Quant_Strategy.backtest(Strategy , start_day, end_day, cleaned_data, cleaned_price,\n",
    "                              cleaned_mkt, delist_data, stop_data,cleaned_kospiyn,\n",
    "                              rebalance_freq = rebalance_freq, number_of_stock = number_of_stock,\n",
    "                              initial_money = initial_money, fee =fee)    \n",
    "w_left = 1-w_stock - w_cash\n",
    "w_each = np.round(w_left/3,4)\n",
    "w = np.array([w_each,w_each,w_each,w_cash,w_stock]).reshape(1,-1)\n",
    "rebalance_day_list = list(pd.date_range(start_day ,end_day, freq = 'M')[::rebalance_freq])\n",
    "Port_DF = pd.DataFrame([])\n",
    "\n",
    "all_assets = pd.concat([cleaned_hedge_value[PF.index[0]:PF.index[-1]],PF],axis = 1)\n",
    "assets = all_assets/all_assets.iloc[0]    \n",
    "    \n",
    "adj_fee = np.array([1-fee, 1-fee, 1-fee, 1, 1])\n",
    "\n",
    "\n",
    "#################################\n",
    "## 여기서부터 직접 풀이하시오  ##\n",
    "#################################"
   ]
  },
  {
   "cell_type": "code",
   "execution_count": 16,
   "metadata": {},
   "outputs": [
    {
     "data": {
      "text/html": [
       "<div>\n",
       "<style scoped>\n",
       "    .dataframe tbody tr th:only-of-type {\n",
       "        vertical-align: middle;\n",
       "    }\n",
       "\n",
       "    .dataframe tbody tr th {\n",
       "        vertical-align: top;\n",
       "    }\n",
       "\n",
       "    .dataframe thead th {\n",
       "        text-align: right;\n",
       "    }\n",
       "</style>\n",
       "<table border=\"1\" class=\"dataframe\">\n",
       "  <thead>\n",
       "    <tr style=\"text-align: right;\">\n",
       "      <th></th>\n",
       "      <th>mid_treasury</th>\n",
       "      <th>long_treasury</th>\n",
       "      <th>gold</th>\n",
       "      <th>cash</th>\n",
       "      <th>Port_Value</th>\n",
       "    </tr>\n",
       "  </thead>\n",
       "  <tbody>\n",
       "    <tr>\n",
       "      <th>2000-01-31</th>\n",
       "      <td>1.000000</td>\n",
       "      <td>1.000000</td>\n",
       "      <td>1.000000</td>\n",
       "      <td>1.0</td>\n",
       "      <td>1.0000</td>\n",
       "    </tr>\n",
       "    <tr>\n",
       "      <th>2000-02-29</th>\n",
       "      <td>1.033391</td>\n",
       "      <td>1.038542</td>\n",
       "      <td>1.045587</td>\n",
       "      <td>1.0</td>\n",
       "      <td>1.0862</td>\n",
       "    </tr>\n",
       "    <tr>\n",
       "      <th>2000-03-31</th>\n",
       "      <td>1.046721</td>\n",
       "      <td>1.048827</td>\n",
       "      <td>0.964914</td>\n",
       "      <td>1.0</td>\n",
       "      <td>1.1864</td>\n",
       "    </tr>\n",
       "    <tr>\n",
       "      <th>2000-04-30</th>\n",
       "      <td>1.038459</td>\n",
       "      <td>1.043740</td>\n",
       "      <td>0.960722</td>\n",
       "      <td>1.0</td>\n",
       "      <td>1.0437</td>\n",
       "    </tr>\n",
       "    <tr>\n",
       "      <th>2000-05-31</th>\n",
       "      <td>1.061216</td>\n",
       "      <td>1.060995</td>\n",
       "      <td>0.971048</td>\n",
       "      <td>1.0</td>\n",
       "      <td>0.8964</td>\n",
       "    </tr>\n",
       "  </tbody>\n",
       "</table>\n",
       "</div>"
      ],
      "text/plain": [
       "            mid_treasury  long_treasury      gold  cash  Port_Value\n",
       "2000-01-31      1.000000       1.000000  1.000000   1.0      1.0000\n",
       "2000-02-29      1.033391       1.038542  1.045587   1.0      1.0862\n",
       "2000-03-31      1.046721       1.048827  0.964914   1.0      1.1864\n",
       "2000-04-30      1.038459       1.043740  0.960722   1.0      1.0437\n",
       "2000-05-31      1.061216       1.060995  0.971048   1.0      0.8964"
      ]
     },
     "execution_count": 16,
     "metadata": {},
     "output_type": "execute_result"
    }
   ],
   "source": [
    "assets.head()"
   ]
  },
  {
   "cell_type": "code",
   "execution_count": 18,
   "metadata": {},
   "outputs": [],
   "source": [
    "def asset_allocation_backtest(Strategy, start_day, end_day , cleaned_data, cleaned_price,\n",
    "                              cleaned_mkt, delist_data, stop_data, cleaned_kospiyn, \n",
    "                              cleaned_hedge_value,w_stock = 0.3, w_cash = 0.1 , \n",
    "                              rebalance_freq = 3, number_of_stock = 50, initial_money = 10000, fee = 0.007) :\n",
    "    \n",
    "    ################################\n",
    "    ## 함수 본문에 들어가야할 내용 #\n",
    "    ################################\n",
    "    \n",
    "    #################################\n",
    "    ## 여기서부터 직접 풀이하시오  ##\n",
    "    #################################\n",
    "    return Port_DF.reset_index().drop_duplicates(['index']).set_index('index')"
   ]
  },
  {
   "cell_type": "markdown",
   "metadata": {},
   "source": [
    " ### 문제 3. 지금까지 만든 함수들을 .py에 추가하시오."
   ]
  },
  {
   "cell_type": "code",
   "execution_count": null,
   "metadata": {},
   "outputs": [],
   "source": []
  }
 ],
 "metadata": {
  "kernelspec": {
   "display_name": "Python 3",
   "language": "python",
   "name": "python3"
  },
  "language_info": {
   "codemirror_mode": {
    "name": "ipython",
    "version": 3
   },
   "file_extension": ".py",
   "mimetype": "text/x-python",
   "name": "python",
   "nbconvert_exporter": "python",
   "pygments_lexer": "ipython3",
   "version": "3.8.5"
  }
 },
 "nbformat": 4,
 "nbformat_minor": 4
}
